{
 "cells": [
  {
   "cell_type": "markdown",
   "id": "e2744e37",
   "metadata": {},
   "source": [
    "# Numpy"
   ]
  },
  {
   "cell_type": "code",
   "execution_count": 1,
   "id": "eab60726",
   "metadata": {},
   "outputs": [],
   "source": [
    "import numpy as np"
   ]
  },
  {
   "cell_type": "code",
   "execution_count": 2,
   "id": "27ae1ef8",
   "metadata": {},
   "outputs": [],
   "source": [
    "a=np.array([43,32,43,55,56,23])"
   ]
  },
  {
   "cell_type": "code",
   "execution_count": 4,
   "id": "136d90b2",
   "metadata": {},
   "outputs": [
    {
     "data": {
      "text/plain": [
       "(6,)"
      ]
     },
     "execution_count": 4,
     "metadata": {},
     "output_type": "execute_result"
    }
   ],
   "source": [
    "a.shape"
   ]
  },
  {
   "cell_type": "code",
   "execution_count": 5,
   "id": "890221a9",
   "metadata": {},
   "outputs": [
    {
     "data": {
      "text/plain": [
       "4"
      ]
     },
     "execution_count": 5,
     "metadata": {},
     "output_type": "execute_result"
    }
   ],
   "source": [
    "a.itemsize"
   ]
  },
  {
   "cell_type": "code",
   "execution_count": 6,
   "id": "a2c2a9e5",
   "metadata": {},
   "outputs": [
    {
     "data": {
      "text/plain": [
       "1"
      ]
     },
     "execution_count": 6,
     "metadata": {},
     "output_type": "execute_result"
    }
   ],
   "source": [
    "a.ndim"
   ]
  },
  {
   "cell_type": "code",
   "execution_count": 7,
   "id": "a12348f7",
   "metadata": {},
   "outputs": [
    {
     "data": {
      "text/plain": [
       "6"
      ]
     },
     "execution_count": 7,
     "metadata": {},
     "output_type": "execute_result"
    }
   ],
   "source": [
    "a.size"
   ]
  },
  {
   "cell_type": "markdown",
   "id": "b355b8e3",
   "metadata": {},
   "source": [
    "# #Array creation"
   ]
  },
  {
   "cell_type": "code",
   "execution_count": 12,
   "id": "4c51c6d0",
   "metadata": {},
   "outputs": [
    {
     "data": {
      "text/plain": [
       "array([[1, 1],\n",
       "       [1, 1]], dtype=int8)"
      ]
     },
     "execution_count": 12,
     "metadata": {},
     "output_type": "execute_result"
    }
   ],
   "source": [
    "np.empty([2,2],dtype='i1')"
   ]
  },
  {
   "cell_type": "code",
   "execution_count": 15,
   "id": "1a1a6ad4",
   "metadata": {},
   "outputs": [
    {
     "data": {
      "text/plain": [
       "array([[0, 0],\n",
       "       [0, 0]], dtype=int8)"
      ]
     },
     "execution_count": 15,
     "metadata": {},
     "output_type": "execute_result"
    }
   ],
   "source": [
    "np.zeros([2,2],dtype='i1')"
   ]
  },
  {
   "cell_type": "code",
   "execution_count": 16,
   "id": "78c3e630",
   "metadata": {},
   "outputs": [
    {
     "data": {
      "text/plain": [
       "array([[1, 1],\n",
       "       [1, 1]], dtype=int8)"
      ]
     },
     "execution_count": 16,
     "metadata": {},
     "output_type": "execute_result"
    }
   ],
   "source": [
    "np.ones([2,2],dtype='i1')"
   ]
  },
  {
   "cell_type": "code",
   "execution_count": 19,
   "id": "95de0fef",
   "metadata": {},
   "outputs": [
    {
     "data": {
      "text/plain": [
       "array([[ 1,  2],\n",
       "       [ 3,  4],\n",
       "       [ 5,  6],\n",
       "       [ 7,  8],\n",
       "       [ 9, 10]])"
      ]
     },
     "execution_count": 19,
     "metadata": {},
     "output_type": "execute_result"
    }
   ],
   "source": [
    "np.arange(1,11).reshape(5,2)"
   ]
  },
  {
   "cell_type": "markdown",
   "id": "5aaaa8b9",
   "metadata": {},
   "source": [
    "# #Generating Random Values And Array"
   ]
  },
  {
   "cell_type": "code",
   "execution_count": 21,
   "id": "4b1ac2fb",
   "metadata": {},
   "outputs": [
    {
     "name": "stdout",
     "output_type": "stream",
     "text": [
      "0.9292678019725082\n"
     ]
    }
   ],
   "source": [
    "arr=np.random.rand()\n",
    "print(arr)"
   ]
  },
  {
   "cell_type": "code",
   "execution_count": 22,
   "id": "8fe9921d",
   "metadata": {},
   "outputs": [],
   "source": [
    "arr1=np.random.randn(10)"
   ]
  },
  {
   "cell_type": "code",
   "execution_count": 23,
   "id": "42be11b7",
   "metadata": {},
   "outputs": [
    {
     "name": "stdout",
     "output_type": "stream",
     "text": [
      "[-0.48911155 -0.11040001  0.75629178 -0.37395523 -1.73849866  0.91720023\n",
      " -2.91257928  0.04651899  1.58157658  1.60525376]\n"
     ]
    }
   ],
   "source": [
    "print(arr1)"
   ]
  },
  {
   "cell_type": "code",
   "execution_count": 25,
   "id": "d7ca7a57",
   "metadata": {},
   "outputs": [
    {
     "name": "stdout",
     "output_type": "stream",
     "text": [
      "[27  3 73 48 16 12 63  1 16 10  6 57 75 54  5 82 28  1 84  9 81 61 23 37\n",
      " 76 44 41 68 57 40  0 63 51 17 19 22 63 66 51 47  0  0 23 58 55 22 15 45\n",
      " 56 62 86 69  4 21 46 77 85 38 85 62 11 63 72 66 16 37 45 43 52 74 62 30\n",
      " 10 28 83 83 39 53 71 44 69  3 54 88 35 82  3 67 32 84 81  2  4 47 21 70\n",
      " 48 34 46 42]\n"
     ]
    }
   ],
   "source": [
    "arr2=np.random.randint(90,size=100)\n",
    "print(arr2)"
   ]
  },
  {
   "cell_type": "markdown",
   "id": "a02a089c",
   "metadata": {},
   "source": [
    "# #Important Methods"
   ]
  },
  {
   "cell_type": "code",
   "execution_count": 26,
   "id": "eb4b73eb",
   "metadata": {},
   "outputs": [
    {
     "name": "stdout",
     "output_type": "stream",
     "text": [
      "0\n"
     ]
    }
   ],
   "source": [
    "print(arr2.min())"
   ]
  },
  {
   "cell_type": "code",
   "execution_count": 28,
   "id": "7d160091",
   "metadata": {},
   "outputs": [
    {
     "name": "stdout",
     "output_type": "stream",
     "text": [
      "88\n"
     ]
    }
   ],
   "source": [
    "print(arr2.max())"
   ]
  },
  {
   "cell_type": "code",
   "execution_count": 31,
   "id": "5068428c",
   "metadata": {},
   "outputs": [
    {
     "data": {
      "text/plain": [
       "array([ 0,  0,  0,  1,  1,  2,  3,  3,  3,  4,  4,  5,  6,  9, 10, 10, 11,\n",
       "       12, 15, 16, 16, 16, 17, 19, 21, 21, 22, 22, 23, 23, 27, 28, 28, 30,\n",
       "       32, 34, 35, 37, 37, 38, 39, 40, 41, 42, 43, 44, 44, 45, 45, 46, 46,\n",
       "       47, 47, 48, 48, 51, 51, 52, 53, 54, 54, 55, 56, 57, 57, 58, 61, 62,\n",
       "       62, 62, 63, 63, 63, 63, 66, 66, 67, 68, 69, 69, 70, 71, 72, 73, 74,\n",
       "       75, 76, 77, 81, 81, 82, 82, 83, 83, 84, 84, 85, 85, 86, 88])"
      ]
     },
     "execution_count": 31,
     "metadata": {},
     "output_type": "execute_result"
    }
   ],
   "source": [
    "arr2.sort()\n",
    "arr2"
   ]
  },
  {
   "cell_type": "code",
   "execution_count": 32,
   "id": "3049e11e",
   "metadata": {},
   "outputs": [
    {
     "data": {
      "text/plain": [
       "99"
      ]
     },
     "execution_count": 32,
     "metadata": {},
     "output_type": "execute_result"
    }
   ],
   "source": [
    "arr2.argmax()"
   ]
  },
  {
   "cell_type": "code",
   "execution_count": 33,
   "id": "9a9bbda2",
   "metadata": {},
   "outputs": [
    {
     "data": {
      "text/plain": [
       "0"
      ]
     },
     "execution_count": 33,
     "metadata": {},
     "output_type": "execute_result"
    }
   ],
   "source": [
    "arr2.argmin()"
   ]
  },
  {
   "cell_type": "code",
   "execution_count": 36,
   "id": "ae59c855",
   "metadata": {},
   "outputs": [
    {
     "data": {
      "text/plain": [
       "array([ 0,  1,  2,  3,  4,  5,  6,  9, 10, 11, 12, 15, 16, 17, 19, 21, 22,\n",
       "       23, 27, 28, 30, 32, 34, 35, 37, 38, 39, 40, 41, 42, 43, 44, 45, 46,\n",
       "       47, 48, 51, 52, 53, 54, 55, 56, 57, 58, 61, 62, 63, 66, 67, 68, 69,\n",
       "       70, 71, 72, 73, 74, 75, 76, 77, 81, 82, 83, 84, 85, 86, 88])"
      ]
     },
     "execution_count": 36,
     "metadata": {},
     "output_type": "execute_result"
    }
   ],
   "source": [
    "np.unique(arr2)"
   ]
  },
  {
   "cell_type": "code",
   "execution_count": 37,
   "id": "654326c4",
   "metadata": {},
   "outputs": [
    {
     "data": {
      "text/plain": [
       "44.0"
      ]
     },
     "execution_count": 37,
     "metadata": {},
     "output_type": "execute_result"
    }
   ],
   "source": [
    "arr2.mean()"
   ]
  },
  {
   "cell_type": "code",
   "execution_count": 38,
   "id": "40c6c3f4",
   "metadata": {},
   "outputs": [
    {
     "data": {
      "text/plain": [
       "26.525082469240317"
      ]
     },
     "execution_count": 38,
     "metadata": {},
     "output_type": "execute_result"
    }
   ],
   "source": [
    "arr2.std()"
   ]
  },
  {
   "cell_type": "code",
   "execution_count": 39,
   "id": "8af22e19",
   "metadata": {},
   "outputs": [
    {
     "data": {
      "text/plain": [
       "703.58"
      ]
     },
     "execution_count": 39,
     "metadata": {},
     "output_type": "execute_result"
    }
   ],
   "source": [
    "arr2.var()"
   ]
  },
  {
   "cell_type": "code",
   "execution_count": 43,
   "id": "2fa405ef",
   "metadata": {},
   "outputs": [
    {
     "data": {
      "text/plain": [
       "array(710.68686869)"
      ]
     },
     "execution_count": 43,
     "metadata": {},
     "output_type": "execute_result"
    }
   ],
   "source": [
    "np.cov(arr2)"
   ]
  },
  {
   "cell_type": "code",
   "execution_count": 44,
   "id": "6459aebc",
   "metadata": {},
   "outputs": [
    {
     "data": {
      "text/plain": [
       "1.0"
      ]
     },
     "execution_count": 44,
     "metadata": {},
     "output_type": "execute_result"
    }
   ],
   "source": [
    "np.corrcoef(arr2)"
   ]
  },
  {
   "cell_type": "code",
   "execution_count": null,
   "id": "0098d000",
   "metadata": {},
   "outputs": [],
   "source": []
  }
 ],
 "metadata": {
  "kernelspec": {
   "display_name": "Python 3 (ipykernel)",
   "language": "python",
   "name": "python3"
  },
  "language_info": {
   "codemirror_mode": {
    "name": "ipython",
    "version": 3
   },
   "file_extension": ".py",
   "mimetype": "text/x-python",
   "name": "python",
   "nbconvert_exporter": "python",
   "pygments_lexer": "ipython3",
   "version": "3.9.12"
  }
 },
 "nbformat": 4,
 "nbformat_minor": 5
}
