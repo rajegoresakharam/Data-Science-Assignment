{
 "cells": [
  {
   "cell_type": "code",
   "execution_count": 37,
   "id": "12d1ff9f",
   "metadata": {},
   "outputs": [],
   "source": [
    "import pandas as pd\n",
    "import numpy as np"
   ]
  },
  {
   "cell_type": "markdown",
   "id": "4cc7a8e4",
   "metadata": {},
   "source": [
    "# #Series"
   ]
  },
  {
   "cell_type": "code",
   "execution_count": 8,
   "id": "b9ed1b1e",
   "metadata": {},
   "outputs": [
    {
     "data": {
      "text/plain": [
       "0    23\n",
       "1    45\n",
       "2    64\n",
       "3    34\n",
       "4    76\n",
       "5    64\n",
       "Name: Marks, dtype: int64"
      ]
     },
     "execution_count": 8,
     "metadata": {},
     "output_type": "execute_result"
    }
   ],
   "source": [
    "ser=pd.Series(data=[23,45,64,34,76,64],name='Marks')\n",
    "ser"
   ]
  },
  {
   "cell_type": "code",
   "execution_count": 22,
   "id": "0e653173",
   "metadata": {},
   "outputs": [
    {
     "name": "stdout",
     "output_type": "stream",
     "text": [
      "max:- 76\n",
      "min:- 23\n",
      "avg:- 51.0\n",
      "max    76\n",
      "min    23\n",
      "Name: Marks, dtype: int64\n"
     ]
    }
   ],
   "source": [
    "#Methods\n",
    "print(\"max:-\",ser.max())\n",
    "print(\"min:-\",ser.min())\n",
    "print(\"avg:-\",ser.mean())\n",
    "print(ser.agg([max,min]))\n"
   ]
  },
  {
   "cell_type": "code",
   "execution_count": 26,
   "id": "c4453c97",
   "metadata": {},
   "outputs": [
    {
     "data": {
      "text/plain": [
       "RangeIndex(start=0, stop=6, step=1)"
      ]
     },
     "execution_count": 26,
     "metadata": {},
     "output_type": "execute_result"
    }
   ],
   "source": [
    "ser.keys()"
   ]
  },
  {
   "cell_type": "code",
   "execution_count": 32,
   "id": "556fdcba",
   "metadata": {},
   "outputs": [
    {
     "data": {
      "text/plain": [
       "0    43\n",
       "1    45\n",
       "2    64\n",
       "3    34\n",
       "4    76\n",
       "5    64\n",
       "Name: Marks, dtype: int64"
      ]
     },
     "execution_count": 32,
     "metadata": {},
     "output_type": "execute_result"
    }
   ],
   "source": [
    "ser.replace(23,43)"
   ]
  },
  {
   "cell_type": "code",
   "execution_count": 36,
   "id": "ee1a0d7e",
   "metadata": {},
   "outputs": [
    {
     "name": "stdout",
     "output_type": "stream",
     "text": [
      "Help on method apply in module pandas.core.series:\n",
      "\n",
      "apply(func: 'AggFuncType', convert_dtype: 'bool' = True, args: 'tuple[Any, ...]' = (), **kwargs) -> 'DataFrame | Series' method of pandas.core.series.Series instance\n",
      "    Invoke function on values of Series.\n",
      "    \n",
      "    Can be ufunc (a NumPy function that applies to the entire Series)\n",
      "    or a Python function that only works on single values.\n",
      "    \n",
      "    Parameters\n",
      "    ----------\n",
      "    func : function\n",
      "        Python function or NumPy ufunc to apply.\n",
      "    convert_dtype : bool, default True\n",
      "        Try to find better dtype for elementwise function results. If\n",
      "        False, leave as dtype=object. Note that the dtype is always\n",
      "        preserved for some extension array dtypes, such as Categorical.\n",
      "    args : tuple\n",
      "        Positional arguments passed to func after the series value.\n",
      "    **kwargs\n",
      "        Additional keyword arguments passed to func.\n",
      "    \n",
      "    Returns\n",
      "    -------\n",
      "    Series or DataFrame\n",
      "        If func returns a Series object the result will be a DataFrame.\n",
      "    \n",
      "    See Also\n",
      "    --------\n",
      "    Series.map: For element-wise operations.\n",
      "    Series.agg: Only perform aggregating type operations.\n",
      "    Series.transform: Only perform transforming type operations.\n",
      "    \n",
      "    Notes\n",
      "    -----\n",
      "    Functions that mutate the passed object can produce unexpected\n",
      "    behavior or errors and are not supported. See :ref:`gotchas.udf-mutation`\n",
      "    for more details.\n",
      "    \n",
      "    Examples\n",
      "    --------\n",
      "    Create a series with typical summer temperatures for each city.\n",
      "    \n",
      "    >>> s = pd.Series([20, 21, 12],\n",
      "    ...               index=['London', 'New York', 'Helsinki'])\n",
      "    >>> s\n",
      "    London      20\n",
      "    New York    21\n",
      "    Helsinki    12\n",
      "    dtype: int64\n",
      "    \n",
      "    Square the values by defining a function and passing it as an\n",
      "    argument to ``apply()``.\n",
      "    \n",
      "    >>> def square(x):\n",
      "    ...     return x ** 2\n",
      "    >>> s.apply(square)\n",
      "    London      400\n",
      "    New York    441\n",
      "    Helsinki    144\n",
      "    dtype: int64\n",
      "    \n",
      "    Square the values by passing an anonymous function as an\n",
      "    argument to ``apply()``.\n",
      "    \n",
      "    >>> s.apply(lambda x: x ** 2)\n",
      "    London      400\n",
      "    New York    441\n",
      "    Helsinki    144\n",
      "    dtype: int64\n",
      "    \n",
      "    Define a custom function that needs additional positional\n",
      "    arguments and pass these additional arguments using the\n",
      "    ``args`` keyword.\n",
      "    \n",
      "    >>> def subtract_custom_value(x, custom_value):\n",
      "    ...     return x - custom_value\n",
      "    \n",
      "    >>> s.apply(subtract_custom_value, args=(5,))\n",
      "    London      15\n",
      "    New York    16\n",
      "    Helsinki     7\n",
      "    dtype: int64\n",
      "    \n",
      "    Define a custom function that takes keyword arguments\n",
      "    and pass these arguments to ``apply``.\n",
      "    \n",
      "    >>> def add_custom_values(x, **kwargs):\n",
      "    ...     for month in kwargs:\n",
      "    ...         x += kwargs[month]\n",
      "    ...     return x\n",
      "    \n",
      "    >>> s.apply(add_custom_values, june=30, july=20, august=25)\n",
      "    London      95\n",
      "    New York    96\n",
      "    Helsinki    87\n",
      "    dtype: int64\n",
      "    \n",
      "    Use a function from the Numpy library.\n",
      "    \n",
      "    >>> s.apply(np.log)\n",
      "    London      2.995732\n",
      "    New York    3.044522\n",
      "    Helsinki    2.484907\n",
      "    dtype: float64\n",
      "\n"
     ]
    }
   ],
   "source": [
    "help(ser.apply)"
   ]
  },
  {
   "cell_type": "code",
   "execution_count": 38,
   "id": "39a04909",
   "metadata": {},
   "outputs": [
    {
     "data": {
      "text/plain": [
       "0    3.135494\n",
       "1    3.806662\n",
       "2    4.158883\n",
       "3    3.526361\n",
       "4    4.330733\n",
       "5    4.158883\n",
       "Name: Marks, dtype: float64"
      ]
     },
     "execution_count": 38,
     "metadata": {},
     "output_type": "execute_result"
    }
   ],
   "source": [
    "ser.apply(np.log)"
   ]
  },
  {
   "cell_type": "code",
   "execution_count": 45,
   "id": "a3fa85c5",
   "metadata": {},
   "outputs": [
    {
     "data": {
      "text/plain": [
       "0    23\n",
       "1    45\n",
       "2    64\n",
       "3    34\n",
       "4    76\n",
       "5    64\n",
       "Name: Marks, dtype: int64"
      ]
     },
     "execution_count": 45,
     "metadata": {},
     "output_type": "execute_result"
    }
   ],
   "source": [
    "ser.transpose()"
   ]
  },
  {
   "cell_type": "code",
   "execution_count": 46,
   "id": "d5e76934",
   "metadata": {},
   "outputs": [
    {
     "data": {
      "text/plain": [
       "306"
      ]
     },
     "execution_count": 46,
     "metadata": {},
     "output_type": "execute_result"
    }
   ],
   "source": [
    "ser.sum()"
   ]
  },
  {
   "cell_type": "code",
   "execution_count": 48,
   "id": "abae9124",
   "metadata": {},
   "outputs": [
    {
     "data": {
      "text/plain": [
       "False"
      ]
     },
     "execution_count": 48,
     "metadata": {},
     "output_type": "execute_result"
    }
   ],
   "source": [
    "ser.empty"
   ]
  },
  {
   "cell_type": "code",
   "execution_count": null,
   "id": "d6ca9dcc",
   "metadata": {},
   "outputs": [],
   "source": []
  }
 ],
 "metadata": {
  "kernelspec": {
   "display_name": "Python 3 (ipykernel)",
   "language": "python",
   "name": "python3"
  },
  "language_info": {
   "codemirror_mode": {
    "name": "ipython",
    "version": 3
   },
   "file_extension": ".py",
   "mimetype": "text/x-python",
   "name": "python",
   "nbconvert_exporter": "python",
   "pygments_lexer": "ipython3",
   "version": "3.9.12"
  }
 },
 "nbformat": 4,
 "nbformat_minor": 5
}
