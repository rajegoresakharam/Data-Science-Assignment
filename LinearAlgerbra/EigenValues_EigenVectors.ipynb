{
 "cells": [
  {
   "cell_type": "code",
   "execution_count": 1,
   "id": "0c632bc7",
   "metadata": {},
   "outputs": [
    {
     "name": "stdout",
     "output_type": "stream",
     "text": [
      "[[ 2 -2  3]\n",
      " [ 1  1  1]\n",
      " [ 1  3 -1]]\n"
     ]
    }
   ],
   "source": [
    "import numpy as np\n",
    "A=np.array([[2,-2,3],[1,1,1],[1,3,-1]])\n",
    "print(A)"
   ]
  },
  {
   "cell_type": "code",
   "execution_count": 2,
   "id": "a902e117",
   "metadata": {},
   "outputs": [],
   "source": [
    "#calculate Eigen values and Eigen vectors.\n",
    "values,vector=np.linalg.eig(A)"
   ]
  },
  {
   "cell_type": "code",
   "execution_count": 3,
   "id": "58ec19f7",
   "metadata": {},
   "outputs": [
    {
     "name": "stdout",
     "output_type": "stream",
     "text": [
      "[ 3.  1. -2.]\n"
     ]
    }
   ],
   "source": [
    "print(values)"
   ]
  },
  {
   "cell_type": "code",
   "execution_count": 4,
   "id": "fb2f1e58",
   "metadata": {},
   "outputs": [
    {
     "name": "stdout",
     "output_type": "stream",
     "text": [
      "[[ 0.57735027  0.57735027 -0.61684937]\n",
      " [ 0.57735027 -0.57735027 -0.05607722]\n",
      " [ 0.57735027 -0.57735027  0.78508102]]\n"
     ]
    }
   ],
   "source": [
    "print(vector)"
   ]
  },
  {
   "cell_type": "code",
   "execution_count": 6,
   "id": "0fc14f7a",
   "metadata": {},
   "outputs": [
    {
     "name": "stdout",
     "output_type": "stream",
     "text": [
      "[[ 2  0  0]\n",
      " [ 0  1  0]\n",
      " [ 0  0 -1]]\n"
     ]
    }
   ],
   "source": [
    "#eigen values of digonal matrix is diagonal elements itself. And eigen vector is diagonal matrix.\n",
    "#e.g\n",
    "import numpy as np\n",
    "B=np.array([[2,0,0],[0,1,0],[0,0,-1]])\n",
    "print(B)"
   ]
  },
  {
   "cell_type": "code",
   "execution_count": 9,
   "id": "ed9764be",
   "metadata": {},
   "outputs": [
    {
     "name": "stdout",
     "output_type": "stream",
     "text": [
      "[ 2.  1. -1.]\n",
      "[[1. 0. 0.]\n",
      " [0. 1. 0.]\n",
      " [0. 0. 1.]]\n"
     ]
    }
   ],
   "source": [
    "egn_val,egn_vect=np.linalg.eig(B)\n",
    "print(egn_val)\n",
    "print(egn_vect)"
   ]
  },
  {
   "cell_type": "code",
   "execution_count": null,
   "id": "fa9c5ac8",
   "metadata": {},
   "outputs": [],
   "source": []
  }
 ],
 "metadata": {
  "kernelspec": {
   "display_name": "Python 3 (ipykernel)",
   "language": "python",
   "name": "python3"
  },
  "language_info": {
   "codemirror_mode": {
    "name": "ipython",
    "version": 3
   },
   "file_extension": ".py",
   "mimetype": "text/x-python",
   "name": "python",
   "nbconvert_exporter": "python",
   "pygments_lexer": "ipython3",
   "version": "3.9.12"
  }
 },
 "nbformat": 4,
 "nbformat_minor": 5
}
