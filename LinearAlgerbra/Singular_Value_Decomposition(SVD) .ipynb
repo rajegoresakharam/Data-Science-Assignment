{
 "cells": [
  {
   "cell_type": "markdown",
   "id": "bb8b0588",
   "metadata": {},
   "source": [
    "# What is SVD:-\n",
    "    A=USV^T\n",
    "    U-m*m orthogonal matrix (m-rows)\n",
    "    S-m*n diagoanl some matrix\n",
    "    Vn*n^T- orthogonal matrix (n-rows)"
   ]
  },
  {
   "cell_type": "code",
   "execution_count": 16,
   "id": "c9d41add",
   "metadata": {},
   "outputs": [],
   "source": [
    "import numpy as np\n",
    "np.set_printoptions(precision=4,suppress=True)"
   ]
  },
  {
   "cell_type": "code",
   "execution_count": 17,
   "id": "670c6f35",
   "metadata": {},
   "outputs": [
    {
     "data": {
      "text/plain": [
       "array([[1, 2, 3, 4],\n",
       "       [1, 1, 2, 3],\n",
       "       [0, 1, 1, 0]])"
      ]
     },
     "execution_count": 17,
     "metadata": {},
     "output_type": "execute_result"
    }
   ],
   "source": [
    "a=np.array([[1,2,3,4],[1,1,2,3],[0,1,1,0]])\n",
    "a"
   ]
  },
  {
   "cell_type": "markdown",
   "id": "cba2b091",
   "metadata": {},
   "source": [
    "# THE SVD of A3*4=[3*3][S][4*4]"
   ]
  },
  {
   "cell_type": "code",
   "execution_count": 20,
   "id": "6e1bf1bd",
   "metadata": {},
   "outputs": [
    {
     "data": {
      "text/plain": [
       "array([[ 0.8109, -0.0934,  0.5776],\n",
       "       [ 0.57  ,  0.3493, -0.7437],\n",
       "       [ 0.1323, -0.9324, -0.3365]])"
      ]
     },
     "execution_count": 20,
     "metadata": {},
     "output_type": "execute_result"
    }
   ],
   "source": [
    "u,s,vh=np.linalg.svd(a,full_matrices=True)\n",
    "u"
   ]
  },
  {
   "cell_type": "markdown",
   "id": "c2a1af74",
   "metadata": {},
   "source": [
    "# To check whether the matrix is orthogonal or not!. Its dot product and transpose of matrix result should be Identity matrix."
   ]
  },
  {
   "cell_type": "code",
   "execution_count": 19,
   "id": "3541c3a3",
   "metadata": {},
   "outputs": [
    {
     "data": {
      "text/plain": [
       "array([[ 1.,  0.,  0., -0.],\n",
       "       [ 0.,  1.,  0., -0.],\n",
       "       [ 0.,  0.,  1., -0.],\n",
       "       [-0., -0., -0.,  1.]])"
      ]
     },
     "execution_count": 19,
     "metadata": {},
     "output_type": "execute_result"
    }
   ],
   "source": [
    "vh\n",
    "vh.dot(vh.T)"
   ]
  },
  {
   "cell_type": "code",
   "execution_count": 22,
   "id": "3e319de8",
   "metadata": {},
   "outputs": [
    {
     "data": {
      "text/plain": [
       "array([[6.7509, 0.    , 0.    ],\n",
       "       [0.    , 1.1734, 0.    ],\n",
       "       [0.    , 0.    , 0.2186]])"
      ]
     },
     "execution_count": 22,
     "metadata": {},
     "output_type": "execute_result"
    }
   ],
   "source": [
    "#Sd diagoanl matrix\n",
    "sd=np.diag(s)\n",
    "sd"
   ]
  },
  {
   "cell_type": "code",
   "execution_count": 26,
   "id": "94fa5f03",
   "metadata": {},
   "outputs": [
    {
     "data": {
      "text/plain": [
       "array([[0., 0., 0., 0.],\n",
       "       [0., 0., 0., 0.],\n",
       "       [0., 0., 0., 0.]])"
      ]
     },
     "execution_count": 26,
     "metadata": {},
     "output_type": "execute_result"
    }
   ],
   "source": [
    "b=np.zeros((3,4))\n",
    "b"
   ]
  },
  {
   "cell_type": "code",
   "execution_count": 31,
   "id": "a41dc1bb",
   "metadata": {},
   "outputs": [
    {
     "data": {
      "text/plain": [
       "array([[6.7509, 0.    , 0.    , 0.    ],\n",
       "       [0.    , 1.1734, 0.    , 0.    ],\n",
       "       [0.    , 0.    , 0.2186, 0.    ]])"
      ]
     },
     "execution_count": 31,
     "metadata": {},
     "output_type": "execute_result"
    }
   ],
   "source": [
    "b[:,:-1]=sd\n",
    "sigma=b\n",
    "sigma"
   ]
  },
  {
   "cell_type": "markdown",
   "id": "1209c2e3",
   "metadata": {},
   "source": [
    "# reconstruct matrix A having product of U,S,Vh"
   ]
  },
  {
   "cell_type": "code",
   "execution_count": 33,
   "id": "04352825",
   "metadata": {},
   "outputs": [
    {
     "data": {
      "text/plain": [
       "array([[1., 2., 3., 4.],\n",
       "       [1., 1., 2., 3.],\n",
       "       [0., 1., 1., 0.]])"
      ]
     },
     "execution_count": 33,
     "metadata": {},
     "output_type": "execute_result"
    }
   ],
   "source": [
    "a1=np.dot((np.dot(u,sigma)),vh)\n",
    "a1"
   ]
  },
  {
   "cell_type": "code",
   "execution_count": null,
   "id": "9a046270",
   "metadata": {},
   "outputs": [],
   "source": []
  }
 ],
 "metadata": {
  "kernelspec": {
   "display_name": "Python 3 (ipykernel)",
   "language": "python",
   "name": "python3"
  },
  "language_info": {
   "codemirror_mode": {
    "name": "ipython",
    "version": 3
   },
   "file_extension": ".py",
   "mimetype": "text/x-python",
   "name": "python",
   "nbconvert_exporter": "python",
   "pygments_lexer": "ipython3",
   "version": "3.9.12"
  }
 },
 "nbformat": 4,
 "nbformat_minor": 5
}
