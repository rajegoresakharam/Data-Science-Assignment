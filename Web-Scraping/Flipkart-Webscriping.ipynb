{
 "cells": [
  {
   "cell_type": "code",
   "execution_count": 1,
   "id": "51e47b8d",
   "metadata": {},
   "outputs": [],
   "source": [
    "import requests\n",
    "from bs4 import BeautifulSoup\n",
    "import pandas as pd\n",
    "import numpy as np\n",
    "import matplotlib.pyplot as plt"
   ]
  },
  {
   "cell_type": "code",
   "execution_count": 2,
   "id": "44e221f8",
   "metadata": {},
   "outputs": [],
   "source": [
    "productName = []\n",
    "Ram = []\n",
    "Rom = []\n",
    "productPrice = []\n",
    "rating = []\n",
    "for i in range(2,15):\n",
    "    url = 'https://www.flipkart.com/search?q=mobiles&amp;as=on&amp;as-show=on&amp;otracker=AS_Query_TrendingAutoSuggest_1_0_na_na_na&amp;otracker1=AS_Query_TrendingAutoSuggest_1_0&amp;page='+str(i)\n",
    "    page = requests.get(url,'html.parser')\n",
    "    soup = BeautifulSoup(page.content, 'html.parser')\n",
    "    #reviews = []\n",
    "    box = soup.find('div',class_='_1YokD2 _3Mn1Gg')\n",
    "    #columns\n",
    "    names = box.find_all('div',class_ = '_4rR01T')\n",
    "    storage = box.find_all('ul',class_= '_1xgFaf')\n",
    "    price_ = box.find_all('div',class_='_30jeq3 _1_WHN1')\n",
    "    review = box.find_all('div',class_='_3LWZlK')\n",
    "    #rev = box.find_all('span',class_='_13vcmD')\n",
    "    for name in names:\n",
    "        productName.append(name.text)\n",
    "    for ram in storage:\n",
    "        Ram.append(ram.text.split('|')[0])\n",
    "    for rom in storage:\n",
    "        Rom.append(rom.text.split('|')[1])\n",
    "    for price in price_:\n",
    "        productPrice.append(price.text)\n",
    "    for rat in review:\n",
    "        rating.append(rat.text)"
   ]
  },
  {
   "cell_type": "code",
   "execution_count": 3,
   "id": "cf85fe15",
   "metadata": {},
   "outputs": [
    {
     "data": {
      "text/plain": [
       "312"
      ]
     },
     "execution_count": 3,
     "metadata": {},
     "output_type": "execute_result"
    }
   ],
   "source": [
    "len(productName)"
   ]
  },
  {
   "cell_type": "code",
   "execution_count": 4,
   "id": "0fa1de57",
   "metadata": {},
   "outputs": [
    {
     "data": {
      "text/plain": [
       "312"
      ]
     },
     "execution_count": 4,
     "metadata": {},
     "output_type": "execute_result"
    }
   ],
   "source": [
    "len(Ram)"
   ]
  },
  {
   "cell_type": "code",
   "execution_count": 5,
   "id": "fa0cc168",
   "metadata": {},
   "outputs": [
    {
     "data": {
      "text/plain": [
       "312"
      ]
     },
     "execution_count": 5,
     "metadata": {},
     "output_type": "execute_result"
    }
   ],
   "source": [
    "len(Rom)"
   ]
  },
  {
   "cell_type": "code",
   "execution_count": 6,
   "id": "235b5904",
   "metadata": {},
   "outputs": [
    {
     "data": {
      "text/plain": [
       "312"
      ]
     },
     "execution_count": 6,
     "metadata": {},
     "output_type": "execute_result"
    }
   ],
   "source": [
    "len(productPrice)"
   ]
  },
  {
   "cell_type": "code",
   "execution_count": 7,
   "id": "51545571",
   "metadata": {},
   "outputs": [
    {
     "data": {
      "text/plain": [
       "288"
      ]
     },
     "execution_count": 7,
     "metadata": {},
     "output_type": "execute_result"
    }
   ],
   "source": [
    "len(rating)"
   ]
  },
  {
   "cell_type": "markdown",
   "id": "91a35d78",
   "metadata": {},
   "source": [
    "# Createing DataFrame"
   ]
  },
  {
   "cell_type": "code",
   "execution_count": 8,
   "id": "b13552de",
   "metadata": {},
   "outputs": [],
   "source": [
    "phone = pd.DataFrame({'ProductName':productName,'Ram':Ram,'Rom':Rom,'productPrice':productPrice},)"
   ]
  },
  {
   "cell_type": "code",
   "execution_count": 9,
   "id": "f8470b1b",
   "metadata": {},
   "outputs": [],
   "source": [
    "phone['rating'] = pd.Series(rating)"
   ]
  },
  {
   "cell_type": "code",
   "execution_count": 10,
   "id": "601dcc76",
   "metadata": {},
   "outputs": [
    {
     "name": "stdout",
     "output_type": "stream",
     "text": [
      "<class 'pandas.core.frame.DataFrame'>\n",
      "RangeIndex: 312 entries, 0 to 311\n",
      "Data columns (total 5 columns):\n",
      " #   Column        Non-Null Count  Dtype \n",
      "---  ------        --------------  ----- \n",
      " 0   ProductName   312 non-null    object\n",
      " 1   Ram           312 non-null    object\n",
      " 2   Rom           312 non-null    object\n",
      " 3   productPrice  312 non-null    object\n",
      " 4   rating        288 non-null    object\n",
      "dtypes: object(5)\n",
      "memory usage: 12.3+ KB\n"
     ]
    }
   ],
   "source": [
    "phone.info()"
   ]
  },
  {
   "cell_type": "code",
   "execution_count": 11,
   "id": "e9979bce",
   "metadata": {},
   "outputs": [
    {
     "data": {
      "text/html": [
       "<div>\n",
       "<style scoped>\n",
       "    .dataframe tbody tr th:only-of-type {\n",
       "        vertical-align: middle;\n",
       "    }\n",
       "\n",
       "    .dataframe tbody tr th {\n",
       "        vertical-align: top;\n",
       "    }\n",
       "\n",
       "    .dataframe thead th {\n",
       "        text-align: right;\n",
       "    }\n",
       "</style>\n",
       "<table border=\"1\" class=\"dataframe\">\n",
       "  <thead>\n",
       "    <tr style=\"text-align: right;\">\n",
       "      <th></th>\n",
       "      <th>ProductName</th>\n",
       "      <th>Ram</th>\n",
       "      <th>Rom</th>\n",
       "      <th>productPrice</th>\n",
       "      <th>rating</th>\n",
       "    </tr>\n",
       "  </thead>\n",
       "  <tbody>\n",
       "    <tr>\n",
       "      <th>0</th>\n",
       "      <td>realme C30 (Denim Black, 32 GB)</td>\n",
       "      <td>2 GB RAM</td>\n",
       "      <td>32 GB ROM</td>\n",
       "      <td>₹5,749</td>\n",
       "      <td>4.3</td>\n",
       "    </tr>\n",
       "    <tr>\n",
       "      <th>1</th>\n",
       "      <td>realme C30 (Bamboo Green, 32 GB)</td>\n",
       "      <td>2 GB RAM</td>\n",
       "      <td>32 GB ROM</td>\n",
       "      <td>₹5,749</td>\n",
       "      <td>4.3</td>\n",
       "    </tr>\n",
       "    <tr>\n",
       "      <th>2</th>\n",
       "      <td>realme C30 (Lake Blue, 32 GB)</td>\n",
       "      <td>2 GB RAM</td>\n",
       "      <td>32 GB ROM</td>\n",
       "      <td>₹5,749</td>\n",
       "      <td>4.3</td>\n",
       "    </tr>\n",
       "    <tr>\n",
       "      <th>3</th>\n",
       "      <td>realme C30 (Denim Black, 32 GB)</td>\n",
       "      <td>3 GB RAM</td>\n",
       "      <td>32 GB ROM</td>\n",
       "      <td>₹6,749</td>\n",
       "      <td>4.1</td>\n",
       "    </tr>\n",
       "    <tr>\n",
       "      <th>4</th>\n",
       "      <td>POCO M4 5G (Cool Blue, 64 GB)</td>\n",
       "      <td>4 GB RAM</td>\n",
       "      <td>64 GB ROM</td>\n",
       "      <td>₹12,999</td>\n",
       "      <td>4.2</td>\n",
       "    </tr>\n",
       "  </tbody>\n",
       "</table>\n",
       "</div>"
      ],
      "text/plain": [
       "                        ProductName        Ram          Rom productPrice  \\\n",
       "0   realme C30 (Denim Black, 32 GB)  2 GB RAM    32 GB ROM        ₹5,749   \n",
       "1  realme C30 (Bamboo Green, 32 GB)  2 GB RAM    32 GB ROM        ₹5,749   \n",
       "2     realme C30 (Lake Blue, 32 GB)  2 GB RAM    32 GB ROM        ₹5,749   \n",
       "3   realme C30 (Denim Black, 32 GB)  3 GB RAM    32 GB ROM        ₹6,749   \n",
       "4     POCO M4 5G (Cool Blue, 64 GB)  4 GB RAM    64 GB ROM       ₹12,999   \n",
       "\n",
       "  rating  \n",
       "0    4.3  \n",
       "1    4.3  \n",
       "2    4.3  \n",
       "3    4.1  \n",
       "4    4.2  "
      ]
     },
     "execution_count": 11,
     "metadata": {},
     "output_type": "execute_result"
    }
   ],
   "source": [
    "phone.head()"
   ]
  },
  {
   "cell_type": "code",
   "execution_count": 12,
   "id": "0e0503be",
   "metadata": {},
   "outputs": [],
   "source": [
    "phone['rating'].fillna(0.0,inplace=True)"
   ]
  },
  {
   "cell_type": "code",
   "execution_count": 13,
   "id": "c7dcfc76",
   "metadata": {},
   "outputs": [
    {
     "name": "stdout",
     "output_type": "stream",
     "text": [
      "<class 'pandas.core.frame.DataFrame'>\n",
      "RangeIndex: 312 entries, 0 to 311\n",
      "Data columns (total 5 columns):\n",
      " #   Column        Non-Null Count  Dtype \n",
      "---  ------        --------------  ----- \n",
      " 0   ProductName   312 non-null    object\n",
      " 1   Ram           312 non-null    object\n",
      " 2   Rom           312 non-null    object\n",
      " 3   productPrice  312 non-null    object\n",
      " 4   rating        312 non-null    object\n",
      "dtypes: object(5)\n",
      "memory usage: 12.3+ KB\n"
     ]
    }
   ],
   "source": [
    "phone.info()"
   ]
  },
  {
   "cell_type": "code",
   "execution_count": 14,
   "id": "9cca6186",
   "metadata": {},
   "outputs": [],
   "source": [
    "phone['rating']=phone['rating'].astype(float)"
   ]
  },
  {
   "cell_type": "code",
   "execution_count": 15,
   "id": "eb674109",
   "metadata": {},
   "outputs": [
    {
     "name": "stdout",
     "output_type": "stream",
     "text": [
      "<class 'pandas.core.frame.DataFrame'>\n",
      "RangeIndex: 312 entries, 0 to 311\n",
      "Data columns (total 5 columns):\n",
      " #   Column        Non-Null Count  Dtype  \n",
      "---  ------        --------------  -----  \n",
      " 0   ProductName   312 non-null    object \n",
      " 1   Ram           312 non-null    object \n",
      " 2   Rom           312 non-null    object \n",
      " 3   productPrice  312 non-null    object \n",
      " 4   rating        312 non-null    float64\n",
      "dtypes: float64(1), object(4)\n",
      "memory usage: 12.3+ KB\n"
     ]
    }
   ],
   "source": [
    "phone.info()"
   ]
  },
  {
   "cell_type": "code",
   "execution_count": 16,
   "id": "e2423754",
   "metadata": {},
   "outputs": [
    {
     "name": "stderr",
     "output_type": "stream",
     "text": [
      "C:\\Users\\lenovo\\AppData\\Local\\Temp\\ipykernel_11752\\1590966778.py:4: SettingWithCopyWarning: \n",
      "A value is trying to be set on a copy of a slice from a DataFrame\n",
      "\n",
      "See the caveats in the documentation: https://pandas.pydata.org/pandas-docs/stable/user_guide/indexing.html#returning-a-view-versus-a-copy\n",
      "  phone['productPrice'][i] = price_\n"
     ]
    }
   ],
   "source": [
    "for i in range(0,len(phone['productPrice'])):\n",
    "    price = phone['productPrice'][i].replace(',','')\n",
    "    price_ = price.replace('₹','')\n",
    "    phone['productPrice'][i] = price_"
   ]
  },
  {
   "cell_type": "code",
   "execution_count": 17,
   "id": "4fefe6a9",
   "metadata": {},
   "outputs": [],
   "source": [
    "phone['productPrice']=phone['productPrice'].astype('int')"
   ]
  },
  {
   "cell_type": "code",
   "execution_count": 18,
   "id": "7b33c391",
   "metadata": {},
   "outputs": [
    {
     "data": {
      "text/html": [
       "<div>\n",
       "<style scoped>\n",
       "    .dataframe tbody tr th:only-of-type {\n",
       "        vertical-align: middle;\n",
       "    }\n",
       "\n",
       "    .dataframe tbody tr th {\n",
       "        vertical-align: top;\n",
       "    }\n",
       "\n",
       "    .dataframe thead th {\n",
       "        text-align: right;\n",
       "    }\n",
       "</style>\n",
       "<table border=\"1\" class=\"dataframe\">\n",
       "  <thead>\n",
       "    <tr style=\"text-align: right;\">\n",
       "      <th></th>\n",
       "      <th>ProductName</th>\n",
       "      <th>Ram</th>\n",
       "      <th>Rom</th>\n",
       "      <th>productPrice</th>\n",
       "      <th>rating</th>\n",
       "    </tr>\n",
       "  </thead>\n",
       "  <tbody>\n",
       "    <tr>\n",
       "      <th>307</th>\n",
       "      <td>POCO C55 (Cool Blue, 64 GB)</td>\n",
       "      <td>4 GB RAM</td>\n",
       "      <td>64 GB ROM</td>\n",
       "      <td>8499</td>\n",
       "      <td>0.0</td>\n",
       "    </tr>\n",
       "    <tr>\n",
       "      <th>308</th>\n",
       "      <td>POCO C55 (Power Black, 128 GB)</td>\n",
       "      <td>6 GB RAM</td>\n",
       "      <td>128 GB ROM</td>\n",
       "      <td>9999</td>\n",
       "      <td>0.0</td>\n",
       "    </tr>\n",
       "    <tr>\n",
       "      <th>309</th>\n",
       "      <td>APPLE iPhone 14 Plus (Midnight, 128 GB)</td>\n",
       "      <td>128 GB ROM17.02 cm (6.7 inch) Super Retina XDR...</td>\n",
       "      <td>12MP Front CameraA15 Bionic Chip, 6 Core Proc...</td>\n",
       "      <td>76999</td>\n",
       "      <td>0.0</td>\n",
       "    </tr>\n",
       "    <tr>\n",
       "      <th>310</th>\n",
       "      <td>POCO C31 (Royal Blue, 64 GB)</td>\n",
       "      <td>4 GB RAM</td>\n",
       "      <td>64 GB ROM</td>\n",
       "      <td>7499</td>\n",
       "      <td>0.0</td>\n",
       "    </tr>\n",
       "    <tr>\n",
       "      <th>311</th>\n",
       "      <td>realme C55 (Rainy Night, 64 GB)</td>\n",
       "      <td>4 GB RAM</td>\n",
       "      <td>64 GB ROM</td>\n",
       "      <td>10999</td>\n",
       "      <td>0.0</td>\n",
       "    </tr>\n",
       "  </tbody>\n",
       "</table>\n",
       "</div>"
      ],
      "text/plain": [
       "                                 ProductName  \\\n",
       "307              POCO C55 (Cool Blue, 64 GB)   \n",
       "308           POCO C55 (Power Black, 128 GB)   \n",
       "309  APPLE iPhone 14 Plus (Midnight, 128 GB)   \n",
       "310             POCO C31 (Royal Blue, 64 GB)   \n",
       "311          realme C55 (Rainy Night, 64 GB)   \n",
       "\n",
       "                                                   Ram  \\\n",
       "307                                          4 GB RAM    \n",
       "308                                          6 GB RAM    \n",
       "309  128 GB ROM17.02 cm (6.7 inch) Super Retina XDR...   \n",
       "310                                          4 GB RAM    \n",
       "311                                          4 GB RAM    \n",
       "\n",
       "                                                   Rom  productPrice  rating  \n",
       "307                                         64 GB ROM           8499     0.0  \n",
       "308                                        128 GB ROM           9999     0.0  \n",
       "309   12MP Front CameraA15 Bionic Chip, 6 Core Proc...         76999     0.0  \n",
       "310                                         64 GB ROM           7499     0.0  \n",
       "311                                         64 GB ROM          10999     0.0  "
      ]
     },
     "execution_count": 18,
     "metadata": {},
     "output_type": "execute_result"
    }
   ],
   "source": [
    "phone.tail()"
   ]
  },
  {
   "cell_type": "code",
   "execution_count": 19,
   "id": "5dcef7b5",
   "metadata": {},
   "outputs": [],
   "source": [
    "import seaborn as sns"
   ]
  },
  {
   "cell_type": "code",
   "execution_count": 20,
   "id": "658e3983",
   "metadata": {},
   "outputs": [
    {
     "data": {
      "text/plain": [
       "<AxesSubplot:xlabel='rating', ylabel='count'>"
      ]
     },
     "execution_count": 20,
     "metadata": {},
     "output_type": "execute_result"
    },
    {
     "data": {
      "image/png": "[encoded data removed]",
      "text/plain": [
       "<Figure size 432x288 with 1 Axes>"
      ]
     },
     "metadata": {
      "needs_background": "light"
     },
     "output_type": "display_data"
    }
   ],
   "source": [
    "sns.countplot(data=phone,x='rating')"
   ]
  },
  {
   "cell_type": "code",
   "execution_count": 244,
   "id": "e4eed29c",
   "metadata": {},
   "outputs": [
    {
     "data": {
      "image/png": "[encoded data removed]",
      "text/plain": [
       "<Figure size 432x288 with 1 Axes>"
      ]
     },
     "metadata": {
      "needs_background": "light"
     },
     "output_type": "display_data"
    }
   ],
   "source": [
    "sns.countplot(data=phone,x='productPrice')\n",
    "plt.xticks(rotation=90);"
   ]
  },
  {
   "cell_type": "code",
   "execution_count": 250,
   "id": "0f9ca171",
   "metadata": {},
   "outputs": [
    {
     "data": {
      "text/plain": [
       "<AxesSubplot:xlabel='Ram', ylabel='productPrice'>"
      ]
     },
     "execution_count": 250,
     "metadata": {},
     "output_type": "execute_result"
    },
    {
     "data": {
      "image/png": "[encoded data removed]",
      "text/plain": [
       "<Figure size 432x288 with 1 Axes>"
      ]
     },
     "metadata": {
      "needs_background": "light"
     },
     "output_type": "display_data"
    }
   ],
   "source": [
    "sns.barplot(data=phone,x='Ram',y='productPrice')"
   ]
  },
  {
   "cell_type": "code",
   "execution_count": 24,
   "id": "4ca13234",
   "metadata": {},
   "outputs": [],
   "source": [
    "# sns.barplot(data=phone,x='Rom',y='productPrice')\n",
    "# plt.xticks(rotation=90);"
   ]
  },
  {
   "cell_type": "code",
   "execution_count": 256,
   "id": "c6bb4479",
   "metadata": {},
   "outputs": [
    {
     "data": {
      "text/plain": [
       "<AxesSubplot:xlabel='Ram', ylabel='productPrice'>"
      ]
     },
     "execution_count": 256,
     "metadata": {},
     "output_type": "execute_result"
    },
    {
     "data": {
      "image/png": "[encoded data removed]",
      "text/plain": [
       "<Figure size 432x288 with 1 Axes>"
      ]
     },
     "metadata": {
      "needs_background": "light"
     },
     "output_type": "display_data"
    }
   ],
   "source": [
    "sns.boxplot(data=phone,y='productPrice',x='Ram')"
   ]
  },
  {
   "cell_type": "code",
   "execution_count": 257,
   "id": "b6c2b76e",
   "metadata": {},
   "outputs": [
    {
     "data": {
      "text/plain": [
       "<AxesSubplot:xlabel='Rom', ylabel='productPrice'>"
      ]
     },
     "execution_count": 257,
     "metadata": {},
     "output_type": "execute_result"
    },
    {
     "data": {
      "image/png": "[encoded data removed]",
      "text/plain": [
       "<Figure size 432x288 with 1 Axes>"
      ]
     },
     "metadata": {
      "needs_background": "light"
     },
     "output_type": "display_data"
    }
   ],
   "source": [
    "sns.boxplot(data=phone,y='productPrice',x='Rom')"
   ]
  },
  {
   "cell_type": "code",
   "execution_count": 265,
   "id": "039e8d77",
   "metadata": {},
   "outputs": [
    {
     "data": {
      "text/plain": [
       "<seaborn.axisgrid.FacetGrid at 0x1d92f481880>"
      ]
     },
     "execution_count": 265,
     "metadata": {},
     "output_type": "execute_result"
    },
    {
     "data": {
      "image/png": "[encoded data removed]",
      "text/plain": [
       "<Figure size 360x360 with 1 Axes>"
      ]
     },
     "metadata": {
      "needs_background": "light"
     },
     "output_type": "display_data"
    }
   ],
   "source": [
    "sns.displot(data=phone,x='productPrice')"
   ]
  },
  {
   "cell_type": "code",
   "execution_count": 267,
   "id": "52d115fc",
   "metadata": {},
   "outputs": [
    {
     "data": {
      "text/plain": [
       "<AxesSubplot:xlabel='productPrice', ylabel='Density'>"
      ]
     },
     "execution_count": 267,
     "metadata": {},
     "output_type": "execute_result"
    },
    {
     "data": {
      "image/png": "[encoded data removed]",
      "text/plain": [
       "<Figure size 432x288 with 1 Axes>"
      ]
     },
     "metadata": {
      "needs_background": "light"
     },
     "output_type": "display_data"
    }
   ],
   "source": [
    "sns.kdeplot(data=phone,x='productPrice')"
   ]
  },
  {
   "cell_type": "code",
   "execution_count": 30,
   "id": "8786c77a",
   "metadata": {},
   "outputs": [
    {
     "data": {
      "text/plain": [
       "<AxesSubplot:ylabel='rating'>"
      ]
     },
     "execution_count": 30,
     "metadata": {},
     "output_type": "execute_result"
    },
    {
     "data": {
      "image/png": "[encoded data removed]",
      "text/plain": [
       "<Figure size 432x288 with 2 Axes>"
      ]
     },
     "metadata": {
      "needs_background": "light"
     },
     "output_type": "display_data"
    }
   ],
   "source": [
    "sns.heatmap(phone.groupby('rating').count())"
   ]
  },
  {
   "cell_type": "code",
   "execution_count": null,
   "id": "cc4cf7e1",
   "metadata": {},
   "outputs": [],
   "source": []
  },
  {
   "cell_type": "code",
   "execution_count": null,
   "id": "79b76d20",
   "metadata": {},
   "outputs": [],
   "source": []
  }
 ],
 "metadata": {
  "kernelspec": {
   "display_name": "Python 3",
   "language": "python",
   "name": "python3"
  },
  "language_info": {
   "codemirror_mode": {
    "name": "ipython",
    "version": 3
   },
   "file_extension": ".py",
   "mimetype": "text/x-python",
   "name": "python",
   "nbconvert_exporter": "python",
   "pygments_lexer": "ipython3",
   "version": "3.9.12"
  }
 },
 "nbformat": 4,
 "nbformat_minor": 5
}
