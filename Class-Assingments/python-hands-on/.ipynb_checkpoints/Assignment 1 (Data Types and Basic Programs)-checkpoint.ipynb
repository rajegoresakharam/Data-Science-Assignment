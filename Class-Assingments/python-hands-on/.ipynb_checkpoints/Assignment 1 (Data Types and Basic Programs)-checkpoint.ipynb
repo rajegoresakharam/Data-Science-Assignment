{
 "cells": [
  {
   "cell_type": "markdown",
   "id": "9cacd9e4",
   "metadata": {
    "id": "9cacd9e4"
   },
   "source": [
    "# Data Types\n",
    "- Write solution of each question in the cell given below the corresponsing question."
   ]
  },
  {
   "cell_type": "markdown",
   "id": "a36a3683",
   "metadata": {
    "id": "a36a3683"
   },
   "source": [
    "#### 1. Write a program to take principal amount, rate and interest as input and calculate simple interest."
   ]
  },
  {
   "cell_type": "code",
   "execution_count": 3,
   "id": "892fc899",
   "metadata": {
    "id": "892fc899"
   },
   "outputs": [
    {
     "name": "stdout",
     "output_type": "stream",
     "text": [
      "enter a principal amount:-200\n",
      "enter a interest rate :-10\n",
      "enter a time in yr:- 1\n",
      "Simple Interest: 20.0\n"
     ]
    }
   ],
   "source": [
    "# calculate simple Interest\n",
    "def simpleInterest(p,r,t):\n",
    "    return p*r*t/100\n",
    "\n",
    "\n",
    "p= int(input('enter a principal amount:-'))\n",
    "r= int(input('enter a interest rate :-'))\n",
    "t= int(input('enter a time in yr:- '))\n",
    "print('Simple Interest:', simpleInterest(p,r,t))"
   ]
  },
  {
   "cell_type": "markdown",
   "id": "3a9994e0",
   "metadata": {
    "id": "3a9994e0"
   },
   "source": [
    "#### 2. Write a program that takes a string as input and prints the number of words in the string."
   ]
  },
  {
   "cell_type": "code",
   "execution_count": 30,
   "id": "e0de429b",
   "metadata": {
    "colab": {
     "base_uri": "https://localhost:8080/"
    },
    "executionInfo": {
     "elapsed": 32368,
     "status": "ok",
     "timestamp": 1674492899033,
     "user": {
      "displayName": "Tina Kabra",
      "userId": "04032222112233945185"
     },
     "user_tz": -330
    },
    "id": "e0de429b",
    "outputId": "713ebab2-eec2-42e5-b227-0867579043ea"
   },
   "outputs": [
    {
     "name": "stdout",
     "output_type": "stream",
     "text": [
      "Enter the sentance:-sakha ram fa er\n"
     ]
    },
    {
     "data": {
      "text/plain": [
       "4"
      ]
     },
     "execution_count": 30,
     "metadata": {},
     "output_type": "execute_result"
    }
   ],
   "source": [
    "def countWords(sentance):\n",
    "    count=0\n",
    "    list1 = sentance.split(' ')\n",
    "    for a in list1:\n",
    "        count +=1\n",
    "    return count\n",
    "sentance=input(\"Enter the sentance:-\")\n",
    "countWords(sentance)"
   ]
  },
  {
   "cell_type": "markdown",
   "id": "8a8d5e27",
   "metadata": {
    "id": "8a8d5e27"
   },
   "source": [
    "#### 3. Write a program to take a list of numbers as input (in a single line) and print the sum, avg, max and min elements."
   ]
  },
  {
   "cell_type": "code",
   "execution_count": 39,
   "id": "2ddf851a",
   "metadata": {},
   "outputs": [
    {
     "name": "stdout",
     "output_type": "stream",
     "text": [
      "Enter the number:-w54\n"
     ]
    },
    {
     "data": {
      "text/plain": [
       "['w54']"
      ]
     },
     "execution_count": 39,
     "metadata": {},
     "output_type": "execute_result"
    }
   ],
   "source": [
    "list1=input(\"Enter the number:-\" )\n",
    "list1.split(' ')\n",
    "\n"
   ]
  },
  {
   "cell_type": "code",
   "execution_count": 49,
   "id": "4263c3c9",
   "metadata": {
    "id": "c3238f04"
   },
   "outputs": [
    {
     "name": "stdout",
     "output_type": "stream",
     "text": [
      "Enter the number separated by ',' :- 23,34,65,76\n"
     ]
    },
    {
     "data": {
      "text/plain": [
       "' Sum is:- 198 , avg is:- 49.5 , min:- 23 , max:- 76'"
      ]
     },
     "execution_count": 49,
     "metadata": {},
     "output_type": "execute_result"
    }
   ],
   "source": [
    "def mathCalculation(list1):\n",
    "    sum=0\n",
    "    avg=0\n",
    "    for a in list1:\n",
    "        sum +=a\n",
    "    minval=min(list1)\n",
    "    maxval=max(list1)\n",
    "    avg=sum/len(list1)\n",
    "    return f''' Sum is:- {sum} , avg is:- {avg} , min:- {minval} , max:- {maxval}'''\n",
    "\n",
    "numbers=input(\"Enter the number separated by ',' :- \")\n",
    "list1=numbers.split(',')\n",
    "list2=[]\n",
    "for a in list1:\n",
    "    list2.append(int(a))\n",
    "mathCalculation(list2)"
   ]
  },
  {
   "cell_type": "markdown",
   "id": "17dbd6e8",
   "metadata": {
    "id": "17dbd6e8"
   },
   "source": [
    "#### 4. Write a program to take the marks of 3 students in five subjects each as a list (one list for each input) as input and print the average score of each student.."
   ]
  },
  {
   "cell_type": "code",
   "execution_count": 72,
   "id": "bd0813d2",
   "metadata": {
    "id": "bd0813d2"
   },
   "outputs": [
    {
     "name": "stdout",
     "output_type": "stream",
     "text": [
      "Enter the First Students marks of five Subjects ',' seperated':- 23,34,54,56,76\n",
      "Enter the Second Students marks of five Subjects ',' seperated':-34,56,76,87,97\n",
      "Enter the Third Students marks of five Subjects ',' seperated':- 43,54,56,7,8\n"
     ]
    },
    {
     "data": {
      "text/plain": [
       "' Avg of First Student marks:- 48.6 , Second Student:- 70.0, Third Student:- 33.6'"
      ]
     },
     "execution_count": 72,
     "metadata": {},
     "output_type": "execute_result"
    }
   ],
   "source": [
    "def avgMarks(stud1,stud2,stud3):\n",
    "    sum1,sum2,sum3 = 0,0,0\n",
    "    for a in range(0,len(stud1)):\n",
    "        sum1 +=int(stud1[a])\n",
    "        sum2 +=int(stud2[a])\n",
    "        sum3 +=int(stud3[a])\n",
    "    return f\" Avg of First Student marks:- {sum1/len(stud1)} , Second Student:- {sum2/len(stud2)}, Third Student:- {sum3/len(stud3)}\"\n",
    "stud1=[input(\"Enter the First Students marks of five Subjects ',' seperated':- \")]\n",
    "stud1=stud1[0].split(',')\n",
    "stud2=[input(\"Enter the Second Students marks of five Subjects ',' seperated':-\")]\n",
    "stud2=stud2[0].split(',')\n",
    "stud3=[input(\"Enter the Third Students marks of five Subjects ',' seperated':- \")]\n",
    "stud3=stud3[0].split(',')\n",
    "\n",
    "avgMarks(stud1,stud2,stud3)"
   ]
  },
  {
   "cell_type": "markdown",
   "id": "39fb8526",
   "metadata": {
    "id": "39fb8526"
   },
   "source": [
    "#### 5. Write a program to take a list as input containing results of 10 coin tosses as 'H' or 'T'. Jon gets a point for each 'T' and Tom gets a point for each 'H'. print the points recieved by both."
   ]
  },
  {
   "cell_type": "code",
   "execution_count": 76,
   "id": "83ad7dc6",
   "metadata": {
    "id": "83ad7dc6"
   },
   "outputs": [
    {
     "name": "stdout",
     "output_type": "stream",
     "text": [
      "Enter the results of 10 coin tosses as H or T separeted by ',':- T,T,H,T,T,H,H,T,T\n"
     ]
    },
    {
     "data": {
      "text/plain": [
       "'Tom points:- 3 , Jon points:-6'"
      ]
     },
     "execution_count": 76,
     "metadata": {},
     "output_type": "execute_result"
    }
   ],
   "source": [
    "def headTail(list1):\n",
    "    tom,jon=0,0\n",
    "    for a in list1:\n",
    "        if a=='T':\n",
    "            jon +=1\n",
    "        else:\n",
    "            tom +=1\n",
    "    return \"Tom points:- {0} , Jon points:-{1}\".format(tom,jon)\n",
    "l1=[input(\"Enter the results of 10 coin tosses as H or T separeted by ',':- \")]\n",
    "l1=l1[0].split(',')\n",
    "headTail(l1)\n",
    "        "
   ]
  },
  {
   "cell_type": "markdown",
   "id": "4a6dc391",
   "metadata": {
    "id": "4a6dc391"
   },
   "source": [
    "#### 6. Take two numbers as input and print the result after swapping them. (Without using multiple assignment and any extra variable)."
   ]
  },
  {
   "cell_type": "code",
   "execution_count": 77,
   "id": "1bcd0fe3",
   "metadata": {
    "id": "1bcd0fe3"
   },
   "outputs": [
    {
     "name": "stdout",
     "output_type": "stream",
     "text": [
      "Enter value of first variable: 4\n",
      "Enter value of second variable: 6\n",
      "a is: 6  b is: 4\n"
     ]
    }
   ],
   "source": [
    "a=int(input(\"Enter value of first variable: \"))\n",
    "b=int(input(\"Enter value of second variable: \"))\n",
    "a=a+b\n",
    "b=a-b\n",
    "a=a-b\n",
    "print(\"a is:\",a,\" b is:\",b)"
   ]
  },
  {
   "cell_type": "markdown",
   "id": "b0059e36",
   "metadata": {
    "id": "b0059e36"
   },
   "source": [
    "#### 7. Take a list as input in a single line containing 10 numbers as marks out of 100. The even positions in the list are marks of Tom and the odd positions are the marks of Jon. Calculate the average marks of both."
   ]
  },
  {
   "cell_type": "code",
   "execution_count": 83,
   "id": "e0180c1f",
   "metadata": {},
   "outputs": [
    {
     "name": "stdout",
     "output_type": "stream",
     "text": [
      "1\n",
      "2\n",
      "3\n",
      "4\n",
      "5\n",
      "6\n",
      "7\n",
      "8\n",
      "9\n"
     ]
    }
   ],
   "source": [
    "l1=[1,2,3,4,5,6,7,8,9,10]\n",
    "for a in range(1,len(l1)):\n",
    "    print(a)"
   ]
  },
  {
   "cell_type": "code",
   "execution_count": 84,
   "id": "ef40ed32",
   "metadata": {
    "id": "ef40ed32"
   },
   "outputs": [
    {
     "name": "stdout",
     "output_type": "stream",
     "text": [
      "Enter the 10 number separated by ',' :- 1,2,3,4,5,6,7,8,9,10\n"
     ]
    },
    {
     "data": {
      "text/plain": [
       "' avgTom is:- 6.0 , avgJon:- 6.0 '"
      ]
     },
     "execution_count": 84,
     "metadata": {},
     "output_type": "execute_result"
    }
   ],
   "source": [
    "def mathCalculation(list1):\n",
    "    Tom,Jon=0,0\n",
    "    avgTom,avgJon=0,0\n",
    "    tom=0\n",
    "    jon=0\n",
    "    for a in range(1,len(list1)):\n",
    "        if a%2==0:\n",
    "            Tom +=list1[a]\n",
    "            tom +=1\n",
    "        else:\n",
    "            Jon +=list1[a]\n",
    "            jon +=1\n",
    "    \n",
    "    avgTom=Tom/tom\n",
    "    avgJon=Jon/jon\n",
    "    return f''' avgTom is:- {avgTom} , avgJon:- {avgJon} '''\n",
    "\n",
    "numbers=input(\"Enter the 10 number separated by ',' :- \")\n",
    "list1=numbers.split(',')\n",
    "list2=[]\n",
    "for a in list1:\n",
    "    list2.append(int(a))\n",
    "mathCalculation(list2)"
   ]
  },
  {
   "cell_type": "markdown",
   "id": "f07dab7c",
   "metadata": {
    "id": "f07dab7c"
   },
   "source": [
    "#### 8. Take a string and a character as input. Print the result having the character between each word of the given string."
   ]
  },
  {
   "cell_type": "code",
   "execution_count": null,
   "id": "2a00deee",
   "metadata": {},
   "outputs": [],
   "source": []
  },
  {
   "cell_type": "code",
   "execution_count": 91,
   "id": "a85ca910",
   "metadata": {
    "id": "a85ca910"
   },
   "outputs": [
    {
     "name": "stdout",
     "output_type": "stream",
     "text": [
      "Enter the Strings in one line:- sakha rgr sda\n",
      "Enter the Char (e.g 'a') :- a\n"
     ]
    },
    {
     "data": {
      "text/plain": [
       "[]"
      ]
     },
     "execution_count": 91,
     "metadata": {},
     "output_type": "execute_result"
    }
   ],
   "source": [
    "def findCharInSrting(list1,char):\n",
    "    li=[]\n",
    "    for a in list1:\n",
    "        if char in a:\n",
    "            li.append(a)\n",
    "            print(a)\n",
    "    return li\n",
    "            \n",
    "str1=input(\"Enter the Strings in one line:- \")\n",
    "str1=str1[0].split(' ')\n",
    "char=input(\"Enter the Char (e.g 'a') :- \")\n",
    "\n",
    "\n",
    "findCharInSrting(str1,char)"
   ]
  },
  {
   "cell_type": "markdown",
   "id": "a45320b7",
   "metadata": {
    "id": "a45320b7"
   },
   "source": [
    "#### 9. Create a dictionary having three items. Key of each item is the name of a student, value associated with each key is a list of marks in five subjects. Given this dictionary print the average score of each student."
   ]
  },
  {
   "cell_type": "code",
   "execution_count": null,
   "id": "2f2cf1d7",
   "metadata": {
    "id": "2f2cf1d7"
   },
   "outputs": [],
   "source": []
  },
  {
   "cell_type": "markdown",
   "id": "aba63bd1",
   "metadata": {
    "id": "aba63bd1"
   },
   "source": [
    "#### 10. Take a string as input(may contain repetitive words), print a list consisting of unique words from the given string."
   ]
  },
  {
   "cell_type": "code",
   "execution_count": null,
   "id": "790ae83b",
   "metadata": {
    "id": "790ae83b"
   },
   "outputs": [],
   "source": []
  }
 ],
 "metadata": {
  "colab": {
   "provenance": []
  },
  "kernelspec": {
   "display_name": "Python 3 (ipykernel)",
   "language": "python",
   "name": "python3"
  },
  "language_info": {
   "codemirror_mode": {
    "name": "ipython",
    "version": 3
   },
   "file_extension": ".py",
   "mimetype": "text/x-python",
   "name": "python",
   "nbconvert_exporter": "python",
   "pygments_lexer": "ipython3",
   "version": "3.9.12"
  }
 },
 "nbformat": 4,
 "nbformat_minor": 5
}
