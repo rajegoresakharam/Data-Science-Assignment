{
 "cells": [
  {
   "cell_type": "markdown",
   "id": "4f1596de",
   "metadata": {
    "id": "4f1596de"
   },
   "source": [
    "# Functions\n",
    "- Write solution of each question in the cell given below the corresponsing question.\n",
    "- Function taking input refers to input as a parameter / argument being passed."
   ]
  },
  {
   "cell_type": "markdown",
   "id": "6f0d9ac3",
   "metadata": {
    "id": "6f0d9ac3"
   },
   "source": [
    "#### 1. Create a function that takes a list of numbers as input and returns the median."
   ]
  },
  {
   "cell_type": "code",
   "execution_count": 17,
   "id": "0a090145",
   "metadata": {
    "id": "0a090145"
   },
   "outputs": [
    {
     "name": "stdout",
     "output_type": "stream",
     "text": [
      "enter the number:-23 54 75 87 86\n"
     ]
    },
    {
     "data": {
      "text/plain": [
       "75.0"
      ]
     },
     "execution_count": 17,
     "metadata": {},
     "output_type": "execute_result"
    }
   ],
   "source": [
    "import numpy as np\n",
    "import pandas as pd\n",
    "\n",
    "def mode(list1):\n",
    "    return np.median(list1)\n",
    "    \n",
    "    \n",
    "\n",
    "l1=list(map(int,input(\"enter the number:-\").split()))\n",
    "mode(l1)"
   ]
  },
  {
   "cell_type": "code",
   "execution_count": 16,
   "id": "682b45b5",
   "metadata": {},
   "outputs": [
    {
     "name": "stdout",
     "output_type": "stream",
     "text": [
      "enter the number:-65 34 65 87 45 765\n",
      "[65, 34, 65, 87, 45, 765]\n"
     ]
    }
   ],
   "source": [
    "l1=list(map(int,input(\"enter the number:-\").split()))\n",
    "print(l1)"
   ]
  },
  {
   "cell_type": "markdown",
   "id": "18a107c4",
   "metadata": {
    "id": "18a107c4"
   },
   "source": [
    "#### 2. Create a function that takes a list of numbers as input and returns the mean."
   ]
  },
  {
   "cell_type": "code",
   "execution_count": 20,
   "id": "9533b14a",
   "metadata": {
    "id": "9533b14a"
   },
   "outputs": [
    {
     "name": "stdout",
     "output_type": "stream",
     "text": [
      "enter the number separted by space:-45 67 54 76 23\n"
     ]
    },
    {
     "data": {
      "text/plain": [
       "53.0"
      ]
     },
     "execution_count": 20,
     "metadata": {},
     "output_type": "execute_result"
    }
   ],
   "source": [
    "import numpy as np\n",
    "import pandas as pd\n",
    "\n",
    "def Mean(list1):\n",
    "    return round(np.mean(list1),2)\n",
    "    \n",
    "    \n",
    "\n",
    "l1=list(map(int,input(\"enter the number separted by space:-\").split()))\n",
    "Mean(l1)"
   ]
  },
  {
   "cell_type": "markdown",
   "id": "34df49cf",
   "metadata": {
    "id": "34df49cf"
   },
   "source": [
    "#### 3. Create a function that takes a list of numbers as input and returns the standard deviation."
   ]
  },
  {
   "cell_type": "code",
   "execution_count": 21,
   "id": "5a089785",
   "metadata": {
    "id": "5a089785"
   },
   "outputs": [
    {
     "name": "stdout",
     "output_type": "stream",
     "text": [
      "enter the number separted by space:-45 76 87 34 64\n"
     ]
    },
    {
     "data": {
      "text/plain": [
       "19.47"
      ]
     },
     "execution_count": 21,
     "metadata": {},
     "output_type": "execute_result"
    }
   ],
   "source": [
    "import numpy as np\n",
    "import pandas as pd\n",
    "\n",
    "def Std(list1):\n",
    "    return round(np.std(list1),2)\n",
    "    \n",
    "    \n",
    "\n",
    "l1=list(map(int,input(\"enter the number separted by space:-\").split()))\n",
    "Std(l1)"
   ]
  },
  {
   "cell_type": "markdown",
   "id": "9cc39352",
   "metadata": {
    "id": "9cc39352"
   },
   "source": [
    "#### 4. Create a function that takes a number as input and return True if the number is prime , False if not."
   ]
  },
  {
   "cell_type": "code",
   "execution_count": 31,
   "id": "722fc2fa",
   "metadata": {
    "id": "722fc2fa"
   },
   "outputs": [
    {
     "name": "stdout",
     "output_type": "stream",
     "text": [
      "Enter a number: 19\n",
      "True\n"
     ]
    }
   ],
   "source": [
    "def is_prime(num):\n",
    "    if num <= 1:\n",
    "        return False\n",
    "    for i in range(2, num):\n",
    "        if num % i == 0:\n",
    "            return False\n",
    "    return True\n",
    "\n",
    "num = int(input(\"Enter a number: \"))\n",
    "if is_prime(num):\n",
    "    print(\"True\")\n",
    "else:\n",
    "    print(\"False\")"
   ]
  },
  {
   "cell_type": "markdown",
   "id": "4029f3a8",
   "metadata": {
    "id": "4029f3a8"
   },
   "source": [
    "#### 5. Create a function that takes a list of numbers as input and returns the variance."
   ]
  },
  {
   "cell_type": "code",
   "execution_count": 32,
   "id": "83d19248",
   "metadata": {
    "id": "83d19248"
   },
   "outputs": [
    {
     "name": "stdout",
     "output_type": "stream",
     "text": [
      "enter the number separted by space:-45 54 76 87 98\n"
     ]
    },
    {
     "data": {
      "text/plain": [
       "394.0"
      ]
     },
     "execution_count": 32,
     "metadata": {},
     "output_type": "execute_result"
    }
   ],
   "source": [
    "import numpy as np\n",
    "import pandas as pd\n",
    "\n",
    "def Variance(list1):\n",
    "    return round(np.var(list1),2)\n",
    "    \n",
    "    \n",
    "\n",
    "l1=list(map(int,input(\"enter the number separted by space:-\").split()))\n",
    "Variance(l1)"
   ]
  },
  {
   "cell_type": "markdown",
   "id": "7acad1bf",
   "metadata": {
    "id": "7acad1bf"
   },
   "source": [
    "#### 6. Create a function that takes a number as input and returns the factorial."
   ]
  },
  {
   "cell_type": "code",
   "execution_count": 35,
   "id": "f7c0877a",
   "metadata": {
    "id": "f7c0877a"
   },
   "outputs": [
    {
     "name": "stdout",
     "output_type": "stream",
     "text": [
      "Enter a number: 3\n"
     ]
    },
    {
     "data": {
      "text/plain": [
       "6"
      ]
     },
     "execution_count": 35,
     "metadata": {},
     "output_type": "execute_result"
    }
   ],
   "source": [
    "def factorial(num):\n",
    "  if num < 0:\n",
    "    print(\"factorial can not calculate bcz of negative number.\")\n",
    "  elif num==0:\n",
    "    return 1\n",
    "  else:\n",
    "    fact=1\n",
    "    for i in range(1,num+1):\n",
    "      fact = fact*i\n",
    "  return fact\n",
    "\n",
    "num=int(input(\"Enter a number: \"))\n",
    "factorial(num)"
   ]
  },
  {
   "cell_type": "markdown",
   "id": "b1e46b1f",
   "metadata": {
    "id": "b1e46b1f"
   },
   "source": [
    "#### 7. Create a function that takes two lists of same length as input and returns a list consisting of larger element at each position after comparing the corresponding elements in the given lists."
   ]
  },
  {
   "cell_type": "code",
   "execution_count": 39,
   "id": "bc428d22",
   "metadata": {
    "id": "bc428d22"
   },
   "outputs": [
    {
     "name": "stdout",
     "output_type": "stream",
     "text": [
      "Enter the First strings:-patil ahe chan mulga\n",
      "Enter the Second strings:-Pan tayla ka barnahi\n"
     ]
    },
    {
     "data": {
      "text/plain": [
       "['patil', 'tayla', 'chan', 'barnahi']"
      ]
     },
     "execution_count": 39,
     "metadata": {},
     "output_type": "execute_result"
    }
   ],
   "source": [
    "def comapation(list1,list2):\n",
    "    maxList=[]\n",
    "    for i in range(0,len(list1)):\n",
    "        if len(list1[i]) > len(list2[i]):\n",
    "            maxList.append(list1[i])\n",
    "        else:\n",
    "            maxList.append(list2[i])\n",
    "    return maxList         \n",
    "list1=input(\"Enter the First strings:-\").split()\n",
    "list2=input(\"Enter the Second strings:-\").split()\n",
    "\n",
    "comapation(list1,list2)"
   ]
  },
  {
   "cell_type": "markdown",
   "id": "f397889f",
   "metadata": {
    "id": "f397889f"
   },
   "source": [
    "#### 8. Create a function that takes a string and returns a string after joining the words that are having even lengths."
   ]
  },
  {
   "cell_type": "code",
   "execution_count": 55,
   "id": "ebf96e1c",
   "metadata": {
    "id": "ebf96e1c"
   },
   "outputs": [
    {
     "name": "stdout",
     "output_type": "stream",
     "text": [
      "Enter the First strings:-Star agile please be on your words\n",
      "['Star', 'agile', 'please', 'be', 'on', 'your', 'words']\n"
     ]
    },
    {
     "data": {
      "text/plain": [
       "'Star please on words '"
      ]
     },
     "execution_count": 55,
     "metadata": {},
     "output_type": "execute_result"
    }
   ],
   "source": [
    "def evenPosition(list1):\n",
    "    maxList=[]\n",
    "    str1=''\n",
    "    for i in range(0,len(list1)):\n",
    "        if i%2==0:\n",
    "            str1 +=list1[i]+ ' '\n",
    "            \n",
    "        else:\n",
    "            pass\n",
    "    \n",
    "    return str1         \n",
    "list1=input(\"Enter the First strings:-\").split()\n",
    "#list2=input(\"Enter the Second strings:-\").split()\n",
    "print(list1)\n",
    "\n",
    "evenPosition(list1)"
   ]
  },
  {
   "cell_type": "markdown",
   "id": "36c6aae1",
   "metadata": {
    "id": "36c6aae1"
   },
   "source": [
    "#### 9. Create a function that takes a string and a character as input and returns a list after splitting the string based on the given character. By Default split based on whitespace. (Create a function similar to the inbuilt split function without using it)."
   ]
  },
  {
   "cell_type": "code",
   "execution_count": 4,
   "id": "869d7244",
   "metadata": {
    "id": "869d7244"
   },
   "outputs": [
    {
     "name": "stdout",
     "output_type": "stream",
     "text": [
      "Enter the string1:-patil hay bhai bahot marega\n",
      "Enter the char:-a\n"
     ]
    },
    {
     "data": {
      "text/plain": [
       "['p', 'til h', 'y bh', 'i b', 'hot m', 'reg', '']"
      ]
     },
     "execution_count": 4,
     "metadata": {},
     "output_type": "execute_result"
    }
   ],
   "source": [
    "def splitByChar(str1,char):\n",
    "    str1=str1.split(char)\n",
    "    return str1\n",
    "    \n",
    "str1=input(\"Enter the string1:-\")\n",
    "char=input(\"Enter the char:-\")\n",
    "\n",
    "splitByChar(str1,char)"
   ]
  },
  {
   "cell_type": "markdown",
   "id": "b8c01afd",
   "metadata": {
    "id": "b8c01afd"
   },
   "source": [
    "#### 10. Create a function which takes a 2-D list of shape m * n where m is number of elements in the original list and where each element is a list having n integers (A list of m lists having n numbers each, a matrix). The function returns the largest element in the given list."
   ]
  },
  {
   "cell_type": "code",
   "execution_count": null,
   "id": "adda1366",
   "metadata": {
    "id": "adda1366"
   },
   "outputs": [],
   "source": []
  },
  {
   "cell_type": "markdown",
   "id": "d2a2a668",
   "metadata": {
    "id": "d2a2a668"
   },
   "source": [
    "#### 11. Create a function which takes a 2-D list of shape m * n where m is number of elements in the original list and where each element is a list having n integers (A list of m lists having n numbers each). The function also takes a number x as input and returns True is x is in the given 2D list."
   ]
  },
  {
   "cell_type": "code",
   "execution_count": 10,
   "id": "585d5e4b",
   "metadata": {
    "id": "585d5e4b"
   },
   "outputs": [
    {
     "name": "stdout",
     "output_type": "stream",
     "text": [
      "Enter the number of columns:-2\n",
      "Enter the number of rows:-4\n",
      "enter the col*rows number of elements(separeted by space)2 3 4 5 6 7 8 5\n",
      "[[2 3]\n",
      " [4 5]\n",
      " [6 7]\n",
      " [8 5]]\n"
     ]
    }
   ],
   "source": [
    "import numpy as np\n",
    "col=int(input(\"Enter the number of columns:-\"))\n",
    "rows=int(input(\"Enter the number of rows:-\"))\n",
    "list1=list(map(int,input(\"enter the col*rows number of elements(separeted by space)\").split()))\n",
    "arr=np.array(list1).reshape(rows,col)\n",
    "print(arr)"
   ]
  },
  {
   "cell_type": "code",
   "execution_count": 23,
   "id": "ca98fb52",
   "metadata": {},
   "outputs": [
    {
     "name": "stdout",
     "output_type": "stream",
     "text": [
      "[[4 5 3]\n",
      " [5 6 7]\n",
      " [3 5 7]]\n"
     ]
    }
   ],
   "source": []
  },
  {
   "cell_type": "markdown",
   "id": "0d889f51",
   "metadata": {
    "id": "0d889f51"
   },
   "source": [
    "#### 12. Create a function which takes a 2-D list of shape m * n where m is number of elements in the original list and where each element is a list having n integers (A list of m lists having n numbers each). The function returns the sum of all rows in the matrix (2 D list)."
   ]
  },
  {
   "cell_type": "code",
   "execution_count": 15,
   "id": "56d82617",
   "metadata": {
    "id": "56d82617"
   },
   "outputs": [
    {
     "name": "stdout",
     "output_type": "stream",
     "text": [
      "Enter the number of columns:-3\n",
      "Enter the number of rows:-3\n",
      "enter the col*rows number of elements(separeted by space)4 5 3 5 6 7 3 5 7\n"
     ]
    },
    {
     "data": {
      "text/plain": [
       "45"
      ]
     },
     "execution_count": 15,
     "metadata": {},
     "output_type": "execute_result"
    }
   ],
   "source": [
    "import numpy as np\n",
    "\n",
    "def sumOfArray(arr):\n",
    "    return arr.sum()\n",
    "col=int(input(\"Enter the number of columns:-\"))\n",
    "rows=int(input(\"Enter the number of rows:-\"))\n",
    "list1=list(map(int,input(\"enter the col*rows number of elements(separeted by space)\").split()))\n",
    "arr=np.array(list1).reshape(rows,col)\n",
    "\n",
    "sumOfArray(arr)"
   ]
  },
  {
   "cell_type": "markdown",
   "id": "f89438e1",
   "metadata": {
    "id": "f89438e1"
   },
   "source": [
    "#### 13. Create a function which takes a 2-D list of shape m * n where m is number of elements in the original list and where each element is a list having n integers (A list of m lists having n numbers each). The function also a takes a number x as input and returns a list of all consecutive pairs having sum eaqqual to x."
   ]
  },
  {
   "cell_type": "code",
   "execution_count": 31,
   "id": "c857dfcd",
   "metadata": {
    "id": "c857dfcd"
   },
   "outputs": [
    {
     "name": "stdout",
     "output_type": "stream",
     "text": [
      "Enter the number of columns:-3\n",
      "Enter the number of rows:-3\n",
      "Enter the number X:-20\n",
      "enter the col*rows number of elements(separeted by space)12 32 32 5 10 5 15 3 2\n",
      "[[12 32 32]\n",
      " [ 5 10  5]\n",
      " [15  3  2]]\n",
      "List:- [ 5 10  5]\n",
      "List:- [15  3  2]\n"
     ]
    }
   ],
   "source": [
    "import numpy as np\n",
    "\n",
    "def sumOfArray(arr,x):\n",
    "    for i in arr:\n",
    "        if i.sum()==x:\n",
    "            print(\"List:-\",i)\n",
    "col=int(input(\"Enter the number of columns:-\"))\n",
    "rows=int(input(\"Enter the number of rows:-\"))\n",
    "x=int(input(\"Enter the number X:-\"))\n",
    "list1=list(map(int,input(\"enter the col*rows number of elements(separeted by space)\").split()))\n",
    "arr=np.array(list1).reshape(rows,col)\n",
    "print(arr)\n",
    "sumOfArray(arr,x)"
   ]
  },
  {
   "cell_type": "markdown",
   "id": "976248d9",
   "metadata": {
    "id": "976248d9"
   },
   "source": [
    "#### 14. Create a function that takes a list and a number as input and returns True ifthe number is present in the list otherwise false using Binary search algorithm. (Read about Binary Search)."
   ]
  },
  {
   "cell_type": "code",
   "execution_count": 32,
   "id": "ef73c7cb",
   "metadata": {
    "id": "ef73c7cb"
   },
   "outputs": [
    {
     "name": "stdout",
     "output_type": "stream",
     "text": [
      "True\n"
     ]
    }
   ],
   "source": [
    "\n",
    "def binary_search(arr, low, high, x):\n",
    "    if high >= low:\n",
    "\n",
    "        mid = (high + low) // 2\n",
    "        if arr[mid] == x:\n",
    "            return mid\n",
    "\n",
    "        elif arr[mid] > x:\n",
    "            return binary_search(arr, low, mid - 1, x)\n",
    "\n",
    "        else:\n",
    "            return binary_search(arr, mid + 1, high, x)\n",
    "    else:\n",
    "        return -1\n",
    "\n",
    "# Test array\n",
    "arr = [ 2, 3, 4, 10, 40 ]\n",
    "x = 10\n",
    "\n",
    "\n",
    "result = binary_search(arr, 0, len(arr)-1, x)\n",
    "\n",
    "if result != -1:\n",
    "    print(\"True\")\n",
    "else:\n",
    "    print(\"False\")\n"
   ]
  },
  {
   "cell_type": "markdown",
   "id": "f12cc8c9",
   "metadata": {
    "id": "f12cc8c9"
   },
   "source": [
    "#### 15. Create a function which takes a txt filename as input and returns the number of words in that file."
   ]
  },
  {
   "cell_type": "code",
   "execution_count": 38,
   "id": "46492494",
   "metadata": {
    "id": "46492494"
   },
   "outputs": [
    {
     "name": "stdout",
     "output_type": "stream",
     "text": [
      "enter the file namewords.txt\n"
     ]
    },
    {
     "data": {
      "text/plain": [
       "7"
      ]
     },
     "execution_count": 38,
     "metadata": {},
     "output_type": "execute_result"
    }
   ],
   "source": [
    "def countWords(filename):\n",
    "    \n",
    "    numWords=0\n",
    "    with open(filename,'r') as f:\n",
    "        for line in f:\n",
    "            words=line.split()\n",
    "            numWords +=len(words)\n",
    "\n",
    "    return numWords\n",
    "\n",
    "filename=input(\"enter the file name\")\n",
    "countWords(filename)"
   ]
  },
  {
   "cell_type": "markdown",
   "id": "b2666c95",
   "metadata": {
    "id": "b2666c95"
   },
   "source": [
    "#### 16. Create a function which takes a txt filename as input and returns the number of line in the file."
   ]
  },
  {
   "cell_type": "code",
   "execution_count": 39,
   "id": "5ff27d42",
   "metadata": {
    "id": "5ff27d42"
   },
   "outputs": [
    {
     "name": "stdout",
     "output_type": "stream",
     "text": [
      "enter the file namewords.txt\n"
     ]
    },
    {
     "data": {
      "text/plain": [
       "4"
      ]
     },
     "execution_count": 39,
     "metadata": {},
     "output_type": "execute_result"
    }
   ],
   "source": [
    "def countLines(filename):\n",
    "    \n",
    "    lines=0\n",
    "    with open(filename,'r') as f:\n",
    "        for line in f:\n",
    "            \n",
    "            lines +=1\n",
    "\n",
    "    return lines\n",
    "\n",
    "filename=input(\"enter the file name:- \")\n",
    "countLines(filename)"
   ]
  },
  {
   "cell_type": "markdown",
   "id": "6722fb75",
   "metadata": {
    "id": "6722fb75"
   },
   "source": [
    "#### 17. Create a function that takes two txt filenames and returns a file after merging the cintents of two given files. (Print the merged content and then return the filename, content of original files should be unchanged)."
   ]
  },
  {
   "cell_type": "code",
   "execution_count": 40,
   "id": "86a4b436",
   "metadata": {
    "collapsed": true,
    "id": "86a4b436"
   },
   "outputs": [
    {
     "name": "stdout",
     "output_type": "stream",
     "text": [
      "Enter the name of FirstFile:-First.txt\n",
      "Enter the name of SecondFile:-Second.txt\n",
      "Enter the name of the new file: concat.txt\n",
      "\n",
      "The merged content of the 2 files will be in concat.txt\n",
      "\n",
      "The content is merged successfully.!\n",
      "Do you want to view it ? (y / n): \n",
      "y\n",
      "\n",
      "Artificial intelligence leverages computers and machines to mimic the problem-solving \n",
      "and decision-making capabilities of the human mind.the use and development of computer systems that are able to learn and adapt without following explicit instructions, by using algorithms and statistical models to analyse and draw inferences from patterns in data\n"
     ]
    }
   ],
   "source": [
    "import shutil\n",
    "from pathlib import Path\n",
    "\n",
    "firstFile=input(\"Enter the name of FirstFile:-\")\n",
    "secondFile=input(\"Enter the name of SecondFile:-\")\n",
    "newfile = input(\"Enter the name of the new file: \")\n",
    "print()\n",
    "print(\"The merged content of the 2 files will be in\", newfile)\n",
    "\n",
    "with open(newfile, \"wb\") as wfd:\n",
    "\n",
    "    for f in [firstFile, secondFile]:\n",
    "        with open(f, \"rb\") as fd:\n",
    "            shutil.copyfileobj(fd, wfd, 1024 * 1024 * 10)\n",
    "\n",
    "print(\"\\nThe content is merged successfully.!\")\n",
    "print(\"Do you want to view it ? (y / n): \")\n",
    "\n",
    "check = input()\n",
    "if check == 'n':\n",
    "    exit()\n",
    "else:\n",
    "    print()\n",
    "    c = open(newfile, \"r\")\n",
    "    print(c.read())\n",
    "    c.close()\n"
   ]
  },
  {
   "cell_type": "markdown",
   "id": "faf26668",
   "metadata": {
    "id": "faf26668"
   },
   "source": [
    "#### 18. Write a program that takes a string as input and returns a list of all words having even length in that string (Using Map/Filter and Lambda expression)."
   ]
  },
  {
   "cell_type": "code",
   "execution_count": 68,
   "id": "955cd692",
   "metadata": {
    "id": "955cd692"
   },
   "outputs": [
    {
     "data": {
      "text/plain": [
       "['brandt']"
      ]
     },
     "execution_count": 68,
     "metadata": {},
     "output_type": "execute_result"
    }
   ],
   "source": [
    "list1=['patil','are','the','brandt']\n",
    "\n",
    "def str1(list1):\n",
    "    l1=[]\n",
    "    for i in list1:\n",
    "        if len(i)%2==0:\n",
    "            l1.append(i)\n",
    "    return l1\n",
    "\n",
    "str1(list1)"
   ]
  },
  {
   "cell_type": "code",
   "execution_count": null,
   "id": "0cba0a9f",
   "metadata": {},
   "outputs": [],
   "source": []
  }
 ],
 "metadata": {
  "colab": {
   "provenance": []
  },
  "kernelspec": {
   "display_name": "Python 3 (ipykernel)",
   "language": "python",
   "name": "python3"
  },
  "language_info": {
   "codemirror_mode": {
    "name": "ipython",
    "version": 3
   },
   "file_extension": ".py",
   "mimetype": "text/x-python",
   "name": "python",
   "nbconvert_exporter": "python",
   "pygments_lexer": "ipython3",
   "version": "3.9.12"
  }
 },
 "nbformat": 4,
 "nbformat_minor": 5
}
