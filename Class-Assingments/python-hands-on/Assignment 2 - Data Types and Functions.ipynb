{
 "cells": [
  {
   "cell_type": "markdown",
   "id": "5fad3b2a",
   "metadata": {
    "id": "5fad3b2a"
   },
   "source": [
    "# Assessment - 2 Gradable\n",
    "\n",
    "- Each question carries 3 marks\n",
    "- Marks will be assigned in terms of:\n",
    "    \n",
    "    **1. Expected output**\n",
    "    \n",
    "    **2. Quality and Explainability of code**\n",
    "\n",
    "    ***Go back through the script and type a comment above each line explaining in English what it does.***\n",
    "\n",
    "    **3. Copied code, if found, will result in 0 marks for that question. To avoid this make as much comments in the code to explain the approach**"
   ]
  },
  {
   "cell_type": "markdown",
   "id": "03363a58",
   "metadata": {
    "id": "03363a58"
   },
   "source": [
    "### 1.\n",
    "\n",
    "Write a Python program to get a list, sorted in increasing order by the last element in each tuple from a given list of non-empty tuples.\n",
    "\n",
    "Sample List : [(2, 5), (1, 2), (4, 4), (2, 3), (2, 1)]\n",
    "Expected Result : [(2, 1), (1, 2), (2, 3), (4, 4), (2, 5)]"
   ]
  },
  {
   "cell_type": "code",
   "execution_count": 100,
   "id": "dc128cb6",
   "metadata": {},
   "outputs": [
    {
     "data": {
      "text/plain": [
       "[(2, 1), (1, 2), (2, 3), (4, 4), (2, 5)]"
      ]
     },
     "execution_count": 100,
     "metadata": {},
     "output_type": "execute_result"
    }
   ],
   "source": [
    "l1=[(2, 5), (1, 2), (4, 4), (2, 3), (2, 1)]\n",
    "l2=[(x[1],x[0]) for x in l1]\n",
    "l2.sort()\n",
    "l4=[(x[1],x[0]) for x in l2]\n",
    "l4"
   ]
  },
  {
   "cell_type": "markdown",
   "id": "3d5efe73",
   "metadata": {
    "id": "3d5efe73"
   },
   "source": [
    "### 2. \n",
    "\n",
    "Grab ``StarAgile`` from the following Dictionaries\n",
    "\n",
    "d_difficult = {'k1':[{'nest_key':['this is deep',['StarAgile']]}]}\n",
    "\n",
    "d_irritating = {'k1':[1,2,{'k2':['this is not easy',{'VeryIrriating':[1,2,['StarAgile']]}]}]}"
   ]
  },
  {
   "cell_type": "code",
   "execution_count": 19,
   "id": "9fb35ce9",
   "metadata": {
    "id": "9fb35ce9"
   },
   "outputs": [
    {
     "data": {
      "text/plain": [
       "'StarAgile'"
      ]
     },
     "execution_count": 19,
     "metadata": {},
     "output_type": "execute_result"
    }
   ],
   "source": [
    "d_difficult = {'k1':[{'nest_key':['this is deep',['StarAgile']]}]}\n",
    "d_difficult['k1'][0]['nest_key'][1][0]"
   ]
  },
  {
   "cell_type": "code",
   "execution_count": 26,
   "id": "0c986f37",
   "metadata": {},
   "outputs": [
    {
     "data": {
      "text/plain": [
       "'StarAgile'"
      ]
     },
     "execution_count": 26,
     "metadata": {},
     "output_type": "execute_result"
    }
   ],
   "source": [
    "d_irritating = {'k1':[1,2,{'k2':['this is not easy',{'VeryIrriating':[1,2,['StarAgile']]}]}]}\n",
    "d_irritating['k1'][2]['k2'][1]['VeryIrriating'][2][0]"
   ]
  },
  {
   "cell_type": "markdown",
   "id": "0540a188",
   "metadata": {
    "id": "0540a188"
   },
   "source": [
    "### 3.\n",
    "\n",
    "Write a program to accept a string from the user and display characters that are present at an even index number.\n",
    "\n",
    "For example, str = \"judgemental\" so you should display ‘j’, ‘d’, ‘e’, ‘e’, ‘t’, ‘l’."
   ]
  },
  {
   "cell_type": "code",
   "execution_count": 33,
   "id": "21f5b9dd",
   "metadata": {
    "id": "21f5b9dd"
   },
   "outputs": [
    {
     "name": "stdout",
     "output_type": "stream",
     "text": [
      "Enter the string:- judgemental\n"
     ]
    },
    {
     "data": {
      "text/plain": [
       "['j', 'd', 'e', 'e', 't', 'l']"
      ]
     },
     "execution_count": 33,
     "metadata": {},
     "output_type": "execute_result"
    }
   ],
   "source": [
    "def evenChar(str1):\n",
    "    l1=[]\n",
    "    for i in str1:\n",
    "        l1.append(i)\n",
    "    l2=l1[::2]\n",
    "    return l2\n",
    "strr=input(\"Enter the string:- \")\n",
    "evenChar(strr)\n",
    "        "
   ]
  },
  {
   "cell_type": "markdown",
   "id": "e0884cde",
   "metadata": {
    "id": "e0884cde"
   },
   "source": [
    "### 4. \n",
    "\n",
    "Convert the Float Value of '3.8' into Integer, Complex, Binary and Hexidecimal format"
   ]
  },
  {
   "cell_type": "markdown",
   "id": "c9efa0ea",
   "metadata": {},
   "source": [
    "# Float to  Integer,Complex,Hex"
   ]
  },
  {
   "cell_type": "code",
   "execution_count": 3,
   "id": "99555c16",
   "metadata": {
    "id": "99555c16"
   },
   "outputs": [
    {
     "data": {
      "text/plain": [
       "'3 is Integer and (3.8+0j) is complex and 0x1.e666666666666p+1 is a hex number of 3.8'"
      ]
     },
     "execution_count": 3,
     "metadata": {},
     "output_type": "execute_result"
    }
   ],
   "source": [
    "def convert(n):\n",
    "    return \"{0} is Integer and {1} is complex and {2} is a hex number of {3}\".format(int(n),complex(n),float.hex(n),n)\n",
    "convert(3.8)"
   ]
  },
  {
   "cell_type": "markdown",
   "id": "50308d15",
   "metadata": {},
   "source": [
    "# Float to Binary"
   ]
  },
  {
   "cell_type": "code",
   "execution_count": 24,
   "id": "2e8a39e4",
   "metadata": {},
   "outputs": [
    {
     "name": "stdout",
     "output_type": "stream",
     "text": [
      "Enter floating point value for to convert into Binary : \n",
      "3.8\n",
      "Enter the number of decimal places of the result : \n",
      "2\n",
      "11.11\n"
     ]
    }
   ],
   "source": [
    "def floatoctal_convert(my_number, places = 3):\n",
    "    my_whole, my_dec = str(my_number).split(\".\")\n",
    "    my_whole = int(my_whole)\n",
    "    my_dec = int (my_dec)\n",
    "    res = bin(my_whole).lstrip(\"0b\") + \".\"\n",
    "    for x in range(places):\n",
    "        my_whole, my_dec = str((my_decimal_converter(my_dec)) * 2).split(\".\")\n",
    "        my_dec = int(my_dec)\n",
    "        res += my_whole\n",
    "    return res\n",
    "def my_decimal_converter(num):\n",
    "    while num > 1:\n",
    "        num /= 10\n",
    "    return num\n",
    "\n",
    "# Driver Code\n",
    "n = input(\"Enter floating point value for to convert into Binary : \\n\")\n",
    "p = int(input(\"Enter the number of decimal places of the result : \\n\"))\n",
    "print(floatoctal_convert(n, places = p))"
   ]
  },
  {
   "cell_type": "markdown",
   "id": "25187f2c",
   "metadata": {
    "id": "25187f2c"
   },
   "source": [
    "### 5. \n",
    "\n",
    "Write a program to accept five names from the user and store it in a Tuple 'T1'"
   ]
  },
  {
   "cell_type": "code",
   "execution_count": 51,
   "id": "7e9e98e3",
   "metadata": {
    "id": "7e9e98e3"
   },
   "outputs": [
    {
     "name": "stdout",
     "output_type": "stream",
     "text": [
      "Enter the NO of users:- 5\n",
      "Enter the Name of users:- sakha\n",
      "Enter the Name of users:- ram\n",
      "Enter the Name of users:- sham\n",
      "Enter the Name of users:- dsmf\n",
      "Enter the Name of users:- dcvfe\n"
     ]
    },
    {
     "data": {
      "text/plain": [
       "('sakha', 'ram', 'sham', 'dsmf', 'dcvfe')"
      ]
     },
     "execution_count": 51,
     "metadata": {},
     "output_type": "execute_result"
    }
   ],
   "source": [
    "def tupleDemo(tup):\n",
    "    return tuple(tup)\n",
    "n=int(input(\"Enter the NO of users:- \"))\n",
    "list1=[]\n",
    "for i in range(n):\n",
    "    n=input(\"Enter the Name of users:- \")\n",
    "    list1.append(n)\n",
    "tupleDemo(list1) "
   ]
  },
  {
   "cell_type": "code",
   "execution_count": null,
   "id": "8ad26ea0",
   "metadata": {},
   "outputs": [],
   "source": []
  }
 ],
 "metadata": {
  "colab": {
   "provenance": []
  },
  "kernelspec": {
   "display_name": "Python 3 (ipykernel)",
   "language": "python",
   "name": "python3"
  },
  "language_info": {
   "codemirror_mode": {
    "name": "ipython",
    "version": 3
   },
   "file_extension": ".py",
   "mimetype": "text/x-python",
   "name": "python",
   "nbconvert_exporter": "python",
   "pygments_lexer": "ipython3",
   "version": "3.9.12"
  }
 },
 "nbformat": 4,
 "nbformat_minor": 5
}
