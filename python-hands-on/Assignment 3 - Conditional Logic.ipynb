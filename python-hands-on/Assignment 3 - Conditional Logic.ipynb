{
 "cells": [
  {
   "cell_type": "markdown",
   "id": "c6ec5c42",
   "metadata": {},
   "source": [
    "# Assessment - 3 Gradable\n",
    "\n",
    "- Each question carries 3 or 4 marks\n",
    "- Marks will be assigned in terms of:\n",
    "    \n",
    "    **1. Expected output**\n",
    "    \n",
    "    **2. Quality and Explainability of code**\n",
    "\n",
    "    ***Go back through the script and type a comment above each line explaining in English what it does.***\n",
    "\n",
    "    **3. Copied code, if found, will result in 0 marks for that question. To avoid this make as much comments in the code to explain the approach**"
   ]
  },
  {
   "cell_type": "markdown",
   "id": "8698053e",
   "metadata": {},
   "source": [
    "### 1.\n",
    "\n",
    "Go through the string below and if the length of a word is even print \"even!\"\n",
    "\n",
    "string = 'I know how to print every word in this sentence that has an even number of letters'"
   ]
  },
  {
   "cell_type": "code",
   "execution_count": 10,
   "id": "4dec28a9",
   "metadata": {},
   "outputs": [
    {
     "name": "stdout",
     "output_type": "stream",
     "text": [
      "even!\n",
      "even!\n",
      "even!\n",
      "even!\n",
      "even!\n",
      "even!\n",
      "even!\n",
      "even!\n",
      "even!\n",
      "even!\n",
      "even!\n"
     ]
    }
   ],
   "source": [
    "string1 = 'I know how to print every word in this sentence that has an even number of letters'\n",
    "def evenCheck(l1):\n",
    "    list1=l1.split(' ')\n",
    "    for word in list1:\n",
    "        if len(word)%2==0:\n",
    "            print(\"even!\")\n",
    "evenCheck(string1)\n",
    "\n",
    "    \n"
   ]
  },
  {
   "cell_type": "markdown",
   "id": "8569bc4e",
   "metadata": {},
   "source": [
    "### 2. \n",
    "\n",
    "Create a function ``lets_find_88`` Given a list of ints, return True if the array contains a 8 next to a 8 somewhere.\n",
    "- lets_find_88([1, 8, 8]) → True\n",
    "- lets_find_88([1, 8, 1, 8]) → False\n",
    "- lets_find_88([8, 1, 8]) → False"
   ]
  },
  {
   "cell_type": "code",
   "execution_count": 44,
   "id": "9ccfca15",
   "metadata": {},
   "outputs": [
    {
     "name": "stdout",
     "output_type": "stream",
     "text": [
      "Enter the number of element you want to insert into a list3\n",
      "Enter the number 1:- 2\n",
      "Enter the number 2:- 4\n",
      "Enter the number 3:- 8\n"
     ]
    },
    {
     "data": {
      "text/plain": [
       "False"
      ]
     },
     "execution_count": 44,
     "metadata": {},
     "output_type": "execute_result"
    }
   ],
   "source": [
    "def lets_find_88(l1):\n",
    "    count=0\n",
    "    for i in range(0,len(l1)-1):\n",
    "        \n",
    "        if l1[i]==8 and l1[i+1]==8:\n",
    "            count+=1\n",
    "        else:\n",
    "            pass\n",
    "    if count>0:\n",
    "        return True\n",
    "    else:\n",
    "        return False\n",
    "#lets_find_88([1,8,8])\n",
    "#lets_find_88([1,8,9,8,8])\n",
    "#lets_find_88([1,8,1,8,1])\n",
    "#lets_find_88([1,2,3,4,5,6,7,8,9,8])\n",
    "list_88=[]\n",
    "num=int(input(\"Enter the number of element you want to insert into a list\"))\n",
    "for i in range(0,num):\n",
    "    list_88.append(int(input(\"Enter the number {0}:- \".format(i+1))))\n",
    "lets_find_88(list_88)\n"
   ]
  },
  {
   "cell_type": "markdown",
   "id": "40759409",
   "metadata": {},
   "source": [
    "### 3.\n",
    "\n",
    " Calculate and display the sum of all the numbers divisible by 7 between 18 and 534.\n",
    " \n",
    " Hint: One way to do this is to loop over a 'range' using 'for' loop and use an 'if' statement inside it."
   ]
  },
  {
   "cell_type": "code",
   "execution_count": 48,
   "id": "f7409469",
   "metadata": {},
   "outputs": [
    {
     "name": "stdout",
     "output_type": "stream",
     "text": [
      "Enter the First Number:- 18\n",
      "Enter the Second Number:- 534\n"
     ]
    },
    {
     "data": {
      "text/plain": [
       "20461"
      ]
     },
     "execution_count": 48,
     "metadata": {},
     "output_type": "execute_result"
    }
   ],
   "source": [
    "def divisibleBy7(num1,num2):\n",
    "    sum=0\n",
    "    for i in range(num1,num2+1):\n",
    "        if i%7==0:\n",
    "            sum+=i\n",
    "    return sum\n",
    "num1=int(input(\"Enter the First Number:- \"))\n",
    "num2=int(input(\"Enter the Second Number:- \"))\n",
    "divisibleBy7(num1,num2)\n"
   ]
  },
  {
   "cell_type": "markdown",
   "id": "0dd3847a",
   "metadata": {},
   "source": [
    "### 4. \n",
    "\n",
    "Create a list containing the following 3 elements:\n",
    "\n",
    "- Subject person had taken\n",
    "- Marks Achieved\n",
    "- a boolean value showing previous programming experience\n",
    "\n",
    "and Complete the following 'print' and 'if' statements by accessing the appropriate elements from my_list."
   ]
  },
  {
   "cell_type": "code",
   "execution_count": 30,
   "id": "5c87efcb",
   "metadata": {},
   "outputs": [
    {
     "name": "stdout",
     "output_type": "stream",
     "text": [
      "Enter name:- sakha\n",
      "Marks:-78\n",
      "Enter experience True/False:- True\n",
      "['sakha', 78, True]\n"
     ]
    }
   ],
   "source": [
    "name,marks=input(\"Enter name:- \"),int(input(\"Marks:-\"))\n",
    "Exp=input(\"Enter experience True/False:- \")\n",
    "if Exp=='True':\n",
    "    Exp=True\n",
    "else:\n",
    "    Exp=False\n",
    "l1=[name,marks,Exp]   \n",
    "if l1[2]==True:\n",
    "    print(l1)"
   ]
  },
  {
   "cell_type": "markdown",
   "id": "a54510f0",
   "metadata": {},
   "source": [
    "### 5.\n",
    "\n",
    "Write a function to return True if the first and last number of a given list is same. If numbers are different then return False.\n",
    "\n",
    "- [11, 13, 17, 19, 11] --> True\n",
    "- [24, 36, 12, 31, 42] --> False"
   ]
  },
  {
   "cell_type": "code",
   "execution_count": 129,
   "id": "5d53ba1f",
   "metadata": {},
   "outputs": [
    {
     "name": "stdout",
     "output_type": "stream",
     "text": [
      "Enter the number of element:-5\n",
      "Enter the number:-1\n",
      "Enter the number:-3\n",
      "Enter the number:-4\n",
      "Enter the number:-5\n",
      "Enter the number:-1\n",
      "[1, 3, 4, 5, 1]\n"
     ]
    },
    {
     "data": {
      "text/plain": [
       "True"
      ]
     },
     "execution_count": 129,
     "metadata": {},
     "output_type": "execute_result"
    }
   ],
   "source": [
    "def FirstAndLast(l1):\n",
    "    print(l1)\n",
    "    if l1[0]==l1[-1]:\n",
    "        return True\n",
    "    else:\n",
    "        return False\n",
    "num=int(input(\"Enter the number of element:-\"))\n",
    "list_=[]\n",
    "\n",
    "for i in range(num):\n",
    "    list_.append(int(input(\"Enter the number:-\")))\n",
    "    \n",
    "FirstAndLast(list_)"
   ]
  }
 ],
 "metadata": {
  "kernelspec": {
   "display_name": "Python 3 (ipykernel)",
   "language": "python",
   "name": "python3"
  },
  "language_info": {
   "codemirror_mode": {
    "name": "ipython",
    "version": 3
   },
   "file_extension": ".py",
   "mimetype": "text/x-python",
   "name": "python",
   "nbconvert_exporter": "python",
   "pygments_lexer": "ipython3",
   "version": "3.9.12"
  }
 },
 "nbformat": 4,
 "nbformat_minor": 5
}
