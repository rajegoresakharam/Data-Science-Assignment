{
 "cells": [
  {
   "cell_type": "markdown",
   "id": "fd8a397e",
   "metadata": {
    "id": "fd8a397e"
   },
   "source": [
    "# Assessment - 1 Gradable\n",
    "\n",
    "- Each question carries 2 marks\n",
    "- Marks will be assigned in terms of:\n",
    "    \n",
    "    **1. Expected output**\n",
    "    \n",
    "    **2. Quality and Explainability of code**\n",
    "\n",
    "    ***Go back through the script and type a comment above each line explaining in English what it does.***\n",
    "\n",
    "    **3. Copied code, if found, will result in 0 marks for that question. To avoid this make as much comments in the code to explain the approach**"
   ]
  },
  {
   "cell_type": "markdown",
   "id": "b71e4d6e",
   "metadata": {
    "id": "b71e4d6e"
   },
   "source": [
    "### 1.\n",
    "\n",
    "Write a program to Find the Factorial of a given input Number"
   ]
  },
  {
   "cell_type": "code",
   "execution_count": null,
   "id": "5fdfd2dd",
   "metadata": {
    "colab": {
     "base_uri": "https://localhost:8080/"
    },
    "id": "5fdfd2dd",
    "outputId": "8e3e4602-3a41-4c2b-943f-99e6b61687ee"
   },
   "outputs": [
    {
     "name": "stdout",
     "output_type": "stream",
     "text": [
      "Enter a number: 0\n"
     ]
    },
    {
     "data": {
      "text/plain": [
       "1"
      ]
     },
     "execution_count": 27,
     "metadata": {},
     "output_type": "execute_result"
    }
   ],
   "source": [
    "def factorial(num):\n",
    "  if num < 0:\n",
    "    print(\"factorial can not calculate bcz of negative number.\")\n",
    "  elif num==0:\n",
    "    return 1\n",
    "  else:\n",
    "    fact=1\n",
    "    for i in range(1,num+1):\n",
    "      fact = fact*i\n",
    "  return fact\n",
    "\n",
    "num=int(input(\"Enter a number: \"))\n",
    "factorial(num)"
   ]
  },
  {
   "cell_type": "markdown",
   "id": "19219461",
   "metadata": {
    "id": "19219461"
   },
   "source": [
    "### 2. \n",
    "\n",
    "Write a program to check if the given year is a Leap Year or not"
   ]
  },
  {
   "cell_type": "code",
   "execution_count": null,
   "id": "ea1f3f35",
   "metadata": {
    "colab": {
     "base_uri": "https://localhost:8080/"
    },
    "id": "ea1f3f35",
    "outputId": "4293f9a1-da41-45cc-d77d-7f5d2916a611"
   },
   "outputs": [
    {
     "name": "stdout",
     "output_type": "stream",
     "text": [
      "Enter the year 200\n",
      "200 is not a leap year\n"
     ]
    }
   ],
   "source": [
    "def leapYr(year):\n",
    "  if (year%400==0) and (year%100==0):\n",
    "    print(\"{0} is a leap year\".format(year))\n",
    "  elif(year%400==0)  and (year%100 !=0):\n",
    "    print(\"{0} is a leap year\".format(year))\n",
    "  else:\n",
    "    print(\"{0} is not a leap year\".format(year))\n",
    "\n",
    "year=int(input(\"Enter the year \"))\n",
    "leapYr(year)\n"
   ]
  },
  {
   "cell_type": "markdown",
   "id": "58bb969b",
   "metadata": {
    "id": "58bb969b"
   },
   "source": [
    "### 3.\n",
    "\n",
    "Write a program to convert from Celsius To Fahrenheit"
   ]
  },
  {
   "cell_type": "code",
   "execution_count": null,
   "id": "d09b33c6",
   "metadata": {
    "colab": {
     "base_uri": "https://localhost:8080/"
    },
    "id": "d09b33c6",
    "outputId": "7adced82-d78a-40bd-bc0b-8f5cd69a005e"
   },
   "outputs": [
    {
     "name": "stdout",
     "output_type": "stream",
     "text": [
      "Enter the temperature 23\n",
      "23'C is equal to 73.4 Fahrenheit \n"
     ]
    }
   ],
   "source": [
    "def tempConvert(Cel):\n",
    "  Farad = (Cel*9/5) + 32\n",
    "  print(\"{0}'C is equal to {1} Fahrenheit \".format(Cel,Farad))\n",
    "fard=int(input(\"Enter the temperature \"))\n",
    "tempConvert(fard)"
   ]
  },
  {
   "cell_type": "markdown",
   "id": "8658a415",
   "metadata": {
    "id": "8658a415"
   },
   "source": [
    "### 4.\n",
    "\n",
    "Write a program to check if the given number is a palindrome number.\n",
    "\n",
    "A palindrome number is a number that is same after reverse. For example, 121 is a palindrome number."
   ]
  },
  {
   "cell_type": "code",
   "execution_count": null,
   "id": "a0974be7",
   "metadata": {
    "colab": {
     "base_uri": "https://localhost:8080/"
    },
    "id": "a0974be7",
    "outputId": "6adf47f0-0e7b-418f-c228-25d4a51ebd65"
   },
   "outputs": [
    {
     "name": "stdout",
     "output_type": "stream",
     "text": [
      "Enter a number:123\n",
      "123 Not a palindrome\n"
     ]
    }
   ],
   "source": [
    "def palindrome(num):\n",
    "  temp=num\n",
    "  rev=0\n",
    "  while(num>0):\n",
    "    dig=num%10\n",
    "    rev=rev*10+dig\n",
    "    num=num//10\n",
    "  if(temp==rev):\n",
    "    print(\" {0} number is palindrome\".format(temp))\n",
    "  else:\n",
    "    print(\"{} is not a palindrome\".format(temp))\n",
    "\n",
    "num=int(input(\"Enter a number:\"))\n",
    "palindrome(num)"
   ]
  },
  {
   "cell_type": "markdown",
   "id": "0b487dc1",
   "metadata": {
    "id": "0b487dc1"
   },
   "source": [
    "### 5. \n",
    "\n",
    "Write a program to Generate a Random Number from 1 to 100 and check if it's even or odd number"
   ]
  },
  {
   "cell_type": "code",
   "execution_count": null,
   "id": "32d2205e",
   "metadata": {
    "colab": {
     "base_uri": "https://localhost:8080/"
    },
    "id": "32d2205e",
    "outputId": "1c025ad1-83cf-4e9c-b6a3-0411512cfc7f"
   },
   "outputs": [
    {
     "name": "stdout",
     "output_type": "stream",
     "text": [
      "92 is a even number\n"
     ]
    }
   ],
   "source": [
    "import numpy as np\n",
    "randn=np.random.randint(1,100)\n",
    "if randn%2==0:\n",
    "  print(\"{0} is a even number\".format(randn))\n",
    "elif randn%2!=0:\n",
    "  print(\"{0} is a odd number\".format(randn))\n",
    "\n",
    "\n",
    "\n"
   ]
  },
  {
   "cell_type": "code",
   "execution_count": null,
   "id": "Bs-eGDuB8gMl",
   "metadata": {
    "id": "Bs-eGDuB8gMl"
   },
   "outputs": [],
   "source": []
  }
 ],
 "metadata": {
  "colab": {
   "provenance": [],
   "toc_visible": true
  },
  "kernelspec": {
   "display_name": "Python 3 (ipykernel)",
   "language": "python",
   "name": "python3"
  },
  "language_info": {
   "codemirror_mode": {
    "name": "ipython",
    "version": 3
   },
   "file_extension": ".py",
   "mimetype": "text/x-python",
   "name": "python",
   "nbconvert_exporter": "python",
   "pygments_lexer": "ipython3",
   "version": "3.9.12"
  }
 },
 "nbformat": 4,
 "nbformat_minor": 5
}
