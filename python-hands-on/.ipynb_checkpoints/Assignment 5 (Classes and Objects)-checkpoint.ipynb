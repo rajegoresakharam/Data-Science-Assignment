{
 "cells": [
  {
   "cell_type": "markdown",
   "id": "8bcc8778",
   "metadata": {
    "id": "8bcc8778"
   },
   "source": [
    "#### Create the classes and functions as per following description: \n",
    "- Create a class Person : \n",
    "   - The attributes of the class are name, age, city\n",
    "   - The functions of the class are :\n",
    "       - __init__(self, name, age, city)\n",
    "       - show_details(self)\n",
    "       - update_city(self, new_city)\n",
    "       \n",
    "- Create a class Employee which inherits the class Person:\n",
    "    - The attributes of the class are name , age, city, salary, position, dept\n",
    "    - The functions of the class are : \n",
    "        - __init__(self, name , age, city, salary, position, dept)\n",
    "        - show_details(self)\n",
    "        - update_salary(self, new_salary)\n",
    "        - update_dept(self, new_dept)\n",
    "        - update_position(self, new_pos)\n",
    "        - inc_salary(self)\n",
    "        - dec_salary\n",
    "        \n",
    "- Make use of the super function when necessary\n",
    "- Create objects and Demonstrate working of all the functions"
   ]
  },
  {
   "cell_type": "code",
   "execution_count": null,
   "id": "ef839681",
   "metadata": {
    "id": "ef839681"
   },
   "outputs": [],
   "source": []
  }
 ],
 "metadata": {
  "colab": {
   "provenance": []
  },
  "kernelspec": {
   "display_name": "Python 3",
   "language": "python",
   "name": "python3"
  },
  "language_info": {
   "codemirror_mode": {
    "name": "ipython",
    "version": 3
   },
   "file_extension": ".py",
   "mimetype": "text/x-python",
   "name": "python",
   "nbconvert_exporter": "python",
   "pygments_lexer": "ipython3",
   "version": "3.8.5"
  }
 },
 "nbformat": 4,
 "nbformat_minor": 5
}
