{
 "cells": [
  {
   "cell_type": "markdown",
   "id": "8a30d880",
   "metadata": {
    "id": "8a30d880"
   },
   "source": [
    "# Assessment - 6 Gradable\n",
    "\n",
    "- Each question carries 5 or 4 marks\n",
    "- Marks will be assigned in terms of:\n",
    "    \n",
    "    **1. Expected output**\n",
    "    \n",
    "    **2. Quality and Explainability of code**\n",
    "\n",
    "    ***Go back through the script and type a comment above each line explaining in English what it does.***\n",
    "\n",
    "    **3. Copied code, if found, will result in 0 marks for that question. To avoid this make as much comments in the code to explain the approach**"
   ]
  },
  {
   "cell_type": "markdown",
   "id": "86255064",
   "metadata": {
    "id": "86255064"
   },
   "source": [
    "### 1. \n",
    "\n",
    "Write a Program to create a class 'Company' and using the class instance and print all the writable attributes of that object such as age, gender, salary, profession and designation. We take atleast 5 employees of an organization"
   ]
  },
  {
   "cell_type": "code",
   "execution_count": 5,
   "id": "4a098962",
   "metadata": {
    "id": "4a098962"
   },
   "outputs": [
    {
     "name": "stdout",
     "output_type": "stream",
     "text": [
      "Enter the number of Employees:- 2\n",
      "Enter the Age Of Employees:- 23\n",
      "Enter the Gender Of the Employee (M or F):- M\n",
      "Enter the salary of Employee:- 30000\n",
      "Enther the profession Of Employee:- Engineer\n",
      "Enter the designation of the Employee:- Data Engineer\n",
      "***************************************************** Employee Details **************************************************\n",
      "Age:-  23\n",
      "Gender:-  M\n",
      "Salary:-  30000\n",
      "Profession:-  Engineer\n",
      "Designation:-  Data Engineer\n",
      "***************************************************** Thank You!. ********************************************************\n",
      "Enter the Age Of Employees:- 23\n",
      "Enter the Gender Of the Employee (M or F):- F\n",
      "Enter the salary of Employee:- 40000\n",
      "Enther the profession Of Employee:- Engineer\n",
      "Enter the designation of the Employee:- junior Data Engineer\n",
      "***************************************************** Employee Details **************************************************\n",
      "Age:-  23\n",
      "Gender:-  F\n",
      "Salary:-  40000\n",
      "Profession:-  Engineer\n",
      "Designation:-  junior Data Engineer\n",
      "***************************************************** Thank You!. ********************************************************\n"
     ]
    }
   ],
   "source": [
    "class Company(object):\n",
    "    age=None\n",
    "    gender=None\n",
    "    salary=None\n",
    "    profession=None\n",
    "    designation=None\n",
    "    def __init__(self,age,gender,salary,profession,designation):\n",
    "        self.age=age\n",
    "        self.gender=gender\n",
    "        self.salary=salary\n",
    "        self.profession=profession\n",
    "        self.designation=designation\n",
    "    def show_details(self):\n",
    "        print(\"Age:- \",self.age)\n",
    "        print(\"Gender:- \",self.gender)\n",
    "        print(\"Salary:- \",self.salary)\n",
    "        print(\"Profession:- \",self.profession)\n",
    "        print(\"Designation:- \",self.designation)\n",
    "\n",
    "n=int(input(\"Enter the number of Employees:- \"))\n",
    "for emp in range(1,n+1):\n",
    "    \n",
    "    age=int(input(\"Enter the Age Of Employees:- \"))\n",
    "    gender=input(\"Enter the Gender Of the Employee (M or F):- \")\n",
    "    salary=int(input(\"Enter the salary of Employee:- \"))\n",
    "    profession=input(\"Enther the profession Of Employee:- \")\n",
    "    desig=input(\"Enter the designation of the Employee:- \")\n",
    "\n",
    "    comp=Company(age,gender,salary,profession,desig)\n",
    "    print(\"***************************************************** Employee Details **************************************************\")\n",
    "    comp.show_details()\n",
    "    print(\"***************************************************** Thank You!. ********************************************************\")"
   ]
  },
  {
   "cell_type": "markdown",
   "id": "df5c6917",
   "metadata": {
    "id": "df5c6917"
   },
   "source": [
    "### 2. \n",
    "\n",
    "Write a program to store details of 6 customers in a text file with features of Unique Customer Id, Name, Location, Phone Number, Last Purchase Date for an ecommerce website that canbe considered for future records\n"
   ]
  },
  {
   "cell_type": "code",
   "execution_count": 5,
   "id": "6aaac08a",
   "metadata": {
    "id": "6aaac08a"
   },
   "outputs": [
    {
     "ename": "NameError",
     "evalue": "name 'ID' is not defined",
     "output_type": "error",
     "traceback": [
      "\u001b[1;31m---------------------------------------------------------------------------\u001b[0m",
      "\u001b[1;31mNameError\u001b[0m                                 Traceback (most recent call last)",
      "Input \u001b[1;32mIn [5]\u001b[0m, in \u001b[0;36m<cell line: 22>\u001b[1;34m()\u001b[0m\n\u001b[0;32m     18\u001b[0m             f\u001b[38;5;241m.\u001b[39mclose()\n\u001b[0;32m     21\u001b[0m cust\u001b[38;5;241m=\u001b[39mCustomer(\u001b[38;5;124m'\u001b[39m\u001b[38;5;124m2342\u001b[39m\u001b[38;5;124m'\u001b[39m,\u001b[38;5;124m'\u001b[39m\u001b[38;5;124mSakharam\u001b[39m\u001b[38;5;124m'\u001b[39m,\u001b[38;5;124m'\u001b[39m\u001b[38;5;124mNanded\u001b[39m\u001b[38;5;124m'\u001b[39m,\u001b[38;5;124m'\u001b[39m\u001b[38;5;124m902343535\u001b[39m\u001b[38;5;124m'\u001b[39m,\u001b[38;5;124m'\u001b[39m\u001b[38;5;124m2023/02/10\u001b[39m\u001b[38;5;124m'\u001b[39m)\n\u001b[1;32m---> 22\u001b[0m \u001b[43mcust\u001b[49m\u001b[38;5;241;43m.\u001b[39;49m\u001b[43mSaveDetails\u001b[49m\u001b[43m(\u001b[49m\u001b[43m)\u001b[49m\n",
      "Input \u001b[1;32mIn [5]\u001b[0m, in \u001b[0;36mCustomer.SaveDetails\u001b[1;34m(self)\u001b[0m\n\u001b[0;32m     15\u001b[0m \u001b[38;5;28;01mdef\u001b[39;00m \u001b[38;5;21mSaveDetails\u001b[39m(\u001b[38;5;28mself\u001b[39m):\n\u001b[0;32m     16\u001b[0m     \u001b[38;5;28;01mwith\u001b[39;00m \u001b[38;5;28mopen\u001b[39m(\u001b[38;5;124m\"\u001b[39m\u001b[38;5;124mcustomersDetails.txt\u001b[39m\u001b[38;5;124m\"\u001b[39m,\u001b[38;5;124m'\u001b[39m\u001b[38;5;124ma\u001b[39m\u001b[38;5;124m'\u001b[39m) \u001b[38;5;28;01mas\u001b[39;00m f:\n\u001b[1;32m---> 17\u001b[0m         f\u001b[38;5;241m.\u001b[39mwrite(\u001b[38;5;124mf\u001b[39m\u001b[38;5;124m\"\u001b[39m\u001b[38;5;124m ID=\u001b[39m\u001b[38;5;132;01m{\u001b[39;00mID\u001b[38;5;132;01m}\u001b[39;00m\u001b[38;5;124m \u001b[39m\u001b[38;5;130;01m\\n\u001b[39;00m\u001b[38;5;124mName=\u001b[39m\u001b[38;5;132;01m{\u001b[39;00mName\u001b[38;5;132;01m}\u001b[39;00m\u001b[38;5;130;01m\\n\u001b[39;00m\u001b[38;5;124m Location=\u001b[39m\u001b[38;5;132;01m{\u001b[39;00mLocation\u001b[38;5;132;01m}\u001b[39;00m\u001b[38;5;130;01m\\n\u001b[39;00m\u001b[38;5;124m PhoneNumber=\u001b[39m\u001b[38;5;132;01m{\u001b[39;00mPhoneNumber\u001b[38;5;132;01m}\u001b[39;00m\u001b[38;5;130;01m\\n\u001b[39;00m\u001b[38;5;124m LastpurchaseData=\u001b[39m\u001b[38;5;132;01m{\u001b[39;00mLastpurchaseData\u001b[38;5;132;01m}\u001b[39;00m\u001b[38;5;124m\"\u001b[39m\u001b[38;5;241m.\u001b[39mformat(ID\u001b[38;5;241m=\u001b[39m\u001b[38;5;28mself\u001b[39m\u001b[38;5;241m.\u001b[39mId,Name\u001b[38;5;241m=\u001b[39m\u001b[38;5;28mself\u001b[39m\u001b[38;5;241m.\u001b[39mName,Location\u001b[38;5;241m=\u001b[39m\u001b[38;5;28mself\u001b[39m\u001b[38;5;241m.\u001b[39mLocation,PhoneNumber\u001b[38;5;241m=\u001b[39m\u001b[38;5;28mself\u001b[39m\u001b[38;5;241m.\u001b[39mPhoneNumber,LastpurchaseData\u001b[38;5;241m=\u001b[39m\u001b[38;5;28mself\u001b[39m\u001b[38;5;241m.\u001b[39mLastPurchaseDate))\n\u001b[0;32m     18\u001b[0m         f\u001b[38;5;241m.\u001b[39mclose()\n",
      "\u001b[1;31mNameError\u001b[0m: name 'ID' is not defined"
     ]
    }
   ],
   "source": [
    "class Customer(object):\n",
    "    Id=None\n",
    "    Name=None\n",
    "    Location=None\n",
    "    PhoneNumber=None\n",
    "    LastPurchaseDate=None\n",
    "    \n",
    "    def __init__(self,Id,Name,Location,PhoneNumber,LastPurchaseDate):\n",
    "        self.Id=Id\n",
    "        self.Name=Name\n",
    "        self.Location=Location\n",
    "        self.PhoneNumber=PhoneNumber\n",
    "        self.LastPurchaseDate=LastPurchaseDate\n",
    "    \n",
    "    def SaveDetails(self):\n",
    "        with open(\"customersDetails.txt\",'a') as f:\n",
    "            f.write(f\" ID={ID} \\nName={Name}\\n Location={Location}\\n PhoneNumber={PhoneNumber}\\n LastpurchaseData={LastpurchaseData}\".format(ID= elf.Id,Name=self.Name,Location=self.Location,PhoneNumber=self.PhoneNumber,LastpurchaseData=self.LastPurchaseDate))\n",
    "            f.close()\n",
    "            \n",
    "            \n",
    "cust=Customer('2342','Sakharam','Nanded','902343535','2023/02/10')\n",
    "cust.SaveDetails()\n",
    "            "
   ]
  },
  {
   "cell_type": "markdown",
   "id": "51f22264",
   "metadata": {
    "id": "51f22264"
   },
   "source": [
    "### 3. \n",
    "\n",
    "Build a Simple Calculator using Exception Handling (try, except) that solves 4 arithmetic operations like Addition, Subtraction, Multiplication and Division.\n"
   ]
  },
  {
   "cell_type": "code",
   "execution_count": null,
   "id": "5b52eb5c",
   "metadata": {
    "id": "5b52eb5c"
   },
   "outputs": [],
   "source": []
  }
 ],
 "metadata": {
  "colab": {
   "provenance": []
  },
  "kernelspec": {
   "display_name": "Python 3 (ipykernel)",
   "language": "python",
   "name": "python3"
  },
  "language_info": {
   "codemirror_mode": {
    "name": "ipython",
    "version": 3
   },
   "file_extension": ".py",
   "mimetype": "text/x-python",
   "name": "python",
   "nbconvert_exporter": "python",
   "pygments_lexer": "ipython3",
   "version": "3.9.12"
  }
 },
 "nbformat": 4,
 "nbformat_minor": 5
}
