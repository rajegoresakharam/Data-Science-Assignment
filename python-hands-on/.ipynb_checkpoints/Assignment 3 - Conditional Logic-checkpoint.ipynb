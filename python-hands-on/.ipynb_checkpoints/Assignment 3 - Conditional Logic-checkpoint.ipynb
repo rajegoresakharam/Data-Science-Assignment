{
 "cells": [
  {
   "cell_type": "markdown",
   "id": "c6ec5c42",
   "metadata": {},
   "source": [
    "# Assessment - 3 Gradable\n",
    "\n",
    "- Each question carries 3 or 4 marks\n",
    "- Marks will be assigned in terms of:\n",
    "    \n",
    "    **1. Expected output**\n",
    "    \n",
    "    **2. Quality and Explainability of code**\n",
    "\n",
    "    ***Go back through the script and type a comment above each line explaining in English what it does.***\n",
    "\n",
    "    **3. Copied code, if found, will result in 0 marks for that question. To avoid this make as much comments in the code to explain the approach**"
   ]
  },
  {
   "cell_type": "markdown",
   "id": "8698053e",
   "metadata": {},
   "source": [
    "### 1.\n",
    "\n",
    "Go through the string below and if the length of a word is even print \"even!\"\n",
    "\n",
    "string = 'I know how to print every word in this sentence that has an even number of letters'"
   ]
  },
  {
   "cell_type": "code",
   "execution_count": null,
   "id": "4dec28a9",
   "metadata": {},
   "outputs": [],
   "source": []
  },
  {
   "cell_type": "markdown",
   "id": "8569bc4e",
   "metadata": {},
   "source": [
    "### 2. \n",
    "\n",
    "Create a function ``lets_find_88`` Given a list of ints, return True if the array contains a 8 next to a 8 somewhere.\n",
    "- lets_find_88([1, 8, 8]) → True\n",
    "- lets_find_88([1, 8, 1, 8]) → False\n",
    "- lets_find_88([8, 1, 8]) → False"
   ]
  },
  {
   "cell_type": "code",
   "execution_count": null,
   "id": "9ccfca15",
   "metadata": {},
   "outputs": [],
   "source": []
  },
  {
   "cell_type": "markdown",
   "id": "40759409",
   "metadata": {},
   "source": [
    "### 3.\n",
    "\n",
    " Calculate and display the sum of all the numbers divisible by 7 between 18 and 534.\n",
    " \n",
    " Hint: One way to do this is to loop over a 'range' using 'for' loop and use an 'if' statement inside it."
   ]
  },
  {
   "cell_type": "code",
   "execution_count": null,
   "id": "f7409469",
   "metadata": {},
   "outputs": [],
   "source": []
  },
  {
   "cell_type": "markdown",
   "id": "0dd3847a",
   "metadata": {},
   "source": [
    "### 4. \n",
    "\n",
    "Create a list containing the following 3 elements:\n",
    "\n",
    "- Subject person had taken\n",
    "- Marks Achieved\n",
    "- a boolean value showing previous programming experience\n",
    "\n",
    "and Complete the following 'print' and 'if' statements by accessing the appropriate elements from my_list."
   ]
  },
  {
   "cell_type": "code",
   "execution_count": null,
   "id": "5c87efcb",
   "metadata": {},
   "outputs": [],
   "source": []
  },
  {
   "cell_type": "markdown",
   "id": "a54510f0",
   "metadata": {},
   "source": [
    "### 5.\n",
    "\n",
    "Write a function to return True if the first and last number of a given list is same. If numbers are different then return False.\n",
    "\n",
    "- [11, 13, 17, 19, 11] --> True\n",
    "- [24, 36, 12, 31, 42] --> False"
   ]
  },
  {
   "cell_type": "code",
   "execution_count": null,
   "id": "5d53ba1f",
   "metadata": {},
   "outputs": [],
   "source": []
  }
 ],
 "metadata": {
  "kernelspec": {
   "display_name": "Python 3 (ipykernel)",
   "language": "python",
   "name": "python3"
  },
  "language_info": {
   "codemirror_mode": {
    "name": "ipython",
    "version": 3
   },
   "file_extension": ".py",
   "mimetype": "text/x-python",
   "name": "python",
   "nbconvert_exporter": "python",
   "pygments_lexer": "ipython3",
   "version": "3.9.12"
  }
 },
 "nbformat": 4,
 "nbformat_minor": 5
}
