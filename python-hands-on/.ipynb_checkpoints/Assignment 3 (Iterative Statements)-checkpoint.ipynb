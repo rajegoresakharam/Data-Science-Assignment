{
 "cells": [
  {
   "cell_type": "markdown",
   "id": "b462dadb",
   "metadata": {
    "id": "b462dadb"
   },
   "source": [
    "# Iterative Statements\n",
    "- Write solution of each question in the cell given below the corresponsing question."
   ]
  },
  {
   "cell_type": "markdown",
   "id": "f5aefe41",
   "metadata": {
    "id": "f5aefe41"
   },
   "source": [
    "#### 1. Tom and Bob are playing a game of dice. Each time a multiple of two comes up Tom gets a point and if a multiple of 3 comes up bob gets a point. If a multiple of both comes up then a point is deducted from both. Write a program to take a list as input consisting of 10 outcomes of the dice throw. Print the scores of both Tom and bob and the winner."
   ]
  },
  {
   "cell_type": "code",
   "execution_count": null,
   "id": "62bf16f1",
   "metadata": {
    "id": "62bf16f1"
   },
   "outputs": [],
   "source": [
    "def game_of_dice(outcomes):\n",
    "    tom_score = 0\n",
    "    bob_score = 0\n",
    "    for outcome in outcomes:\n",
    "        if outcome % 2 == 0:\n",
    "            tom_score += 1\n",
    "        if outcome % 3 == 0:\n",
    "            bob_score += 1\n",
    "        if outcome % 2 == 0 and outcome % 3 == 0:\n",
    "            tom_score -= 1\n",
    "            bob_score -= 1\n",
    "    if tom_score > bob_score:\n",
    "        print(\"Tom wins with score\", tom_score)\n",
    "    elif bob_score > tom_score:\n",
    "        print(\"Bob wins with score\", bob_score)\n",
    "    else:\n",
    "        print(\"It's a tie with score\", tom_score)"
   ]
  },
  {
   "cell_type": "markdown",
   "id": "57ec6a53",
   "metadata": {
    "id": "57ec6a53"
   },
   "source": [
    "#### 2. Write a program to take a list of 10 numbers as input in single line and find out the largest element."
   ]
  },
  {
   "cell_type": "code",
   "execution_count": null,
   "id": "6ebea151",
   "metadata": {
    "id": "6ebea151"
   },
   "outputs": [],
   "source": [
    "def find_largest_element(numbers):\n",
    "    largest = numbers[0]\n",
    "    for num in numbers:\n",
    "        if num > largest:\n",
    "            largest = num\n",
    "    return largest\n",
    "\n",
    "numbers = list(map(int, input(\"Enter 10 numbers separated by space: \").split()))\n",
    "print(\"Largest element is:\", find_largest_element(numbers))"
   ]
  },
  {
   "cell_type": "markdown",
   "id": "ee2cce37",
   "metadata": {
    "id": "ee2cce37"
   },
   "source": [
    "#### 3. Write a program to take a number as input and find out whether it is prime or not."
   ]
  },
  {
   "cell_type": "code",
   "execution_count": null,
   "id": "b9d9d6d8",
   "metadata": {
    "id": "b9d9d6d8"
   },
   "outputs": [],
   "source": [
    "def is_prime(num):\n",
    "    if num <= 1:\n",
    "        return False\n",
    "    for i in range(2, num):\n",
    "        if num % i == 0:\n",
    "            return False\n",
    "    return True\n",
    "\n",
    "num = int(input(\"Enter a number: \"))\n",
    "if is_prime(num):\n",
    "    print(num, \"is a prime number\")\n",
    "else:\n",
    "    print(num, \"is not a prime number\")"
   ]
  },
  {
   "cell_type": "markdown",
   "id": "07d5a484",
   "metadata": {
    "id": "07d5a484"
   },
   "source": [
    "#### 4. Take a list and a number as input, print all consecutive pairs of two numbers from the list having sum equal to the given number."
   ]
  },
  {
   "cell_type": "code",
   "execution_count": null,
   "id": "e3acd75f",
   "metadata": {
    "id": "e3acd75f"
   },
   "outputs": [],
   "source": [
    "def find_pairs(numbers, target_sum):\n",
    "    for i in range(len(numbers) - 1):\n",
    "        for j in range(i + 1, len(numbers)):\n",
    "            if numbers[i] + numbers[j] == target_sum:\n",
    "                print(numbers[i], numbers[j])\n",
    "\n",
    "numbers = list(map(int, input(\"Enter a list of numbers separated by space: \").split()))\n",
    "target_sum = int(input(\"Enter the target sum: \"))\n",
    "find_pairs(numbers, target_sum)\n",
    "\n"
   ]
  },
  {
   "cell_type": "markdown",
   "id": "d2bc68d1",
   "metadata": {
    "id": "d2bc68d1"
   },
   "source": [
    "#### 5. Take a string as input and find out the number of words with even length and number of words with odd length."
   ]
  },
  {
   "cell_type": "code",
   "execution_count": null,
   "id": "f273ca05",
   "metadata": {
    "id": "f273ca05"
   },
   "outputs": [],
   "source": []
  },
  {
   "cell_type": "markdown",
   "id": "41da36a0",
   "metadata": {
    "id": "41da36a0"
   },
   "source": [
    "#### 6. Take a string as input and find out the most frequently occuring word."
   ]
  },
  {
   "cell_type": "code",
   "execution_count": null,
   "id": "ac575a12",
   "metadata": {
    "id": "ac575a12"
   },
   "outputs": [],
   "source": []
  },
  {
   "cell_type": "markdown",
   "id": "9bc04f36",
   "metadata": {
    "id": "9bc04f36"
   },
   "source": [
    "#### 7. Write a program to sort a given list using selection sort algorithm. (study selection sort and implement)"
   ]
  },
  {
   "cell_type": "code",
   "execution_count": null,
   "id": "3abb8c1e",
   "metadata": {
    "id": "3abb8c1e"
   },
   "outputs": [],
   "source": []
  },
  {
   "cell_type": "markdown",
   "id": "d2cf1bab",
   "metadata": {
    "id": "d2cf1bab"
   },
   "source": [
    "#### 8. Write a program to sort a given list using bubble sort algorithm. (Study bubble sort and implement)"
   ]
  },
  {
   "cell_type": "code",
   "execution_count": null,
   "id": "4869309e",
   "metadata": {
    "id": "4869309e"
   },
   "outputs": [],
   "source": []
  },
  {
   "cell_type": "markdown",
   "id": "1910df79",
   "metadata": {
    "id": "1910df79"
   },
   "source": [
    "#### 9. Take a string and a word and input. Find the frequenecy of occurrence of the word in the given string. (Without using any inbuilt function)"
   ]
  },
  {
   "cell_type": "code",
   "execution_count": null,
   "id": "c50d4a3c",
   "metadata": {
    "id": "c50d4a3c"
   },
   "outputs": [],
   "source": []
  },
  {
   "cell_type": "markdown",
   "id": "66ca0348",
   "metadata": {
    "id": "66ca0348"
   },
   "source": [
    "#### 10. Write a program (nested loops) to print the pyramid pattern."
   ]
  },
  {
   "cell_type": "code",
   "execution_count": null,
   "id": "472bf64d",
   "metadata": {
    "id": "472bf64d"
   },
   "outputs": [],
   "source": []
  },
  {
   "cell_type": "markdown",
   "id": "ed75cc00",
   "metadata": {
    "id": "ed75cc00"
   },
   "source": [
    "#### 11. Write a program (nested loops) to print the inverted pyramid."
   ]
  },
  {
   "cell_type": "code",
   "execution_count": null,
   "id": "ca974535",
   "metadata": {
    "id": "ca974535"
   },
   "outputs": [],
   "source": []
  },
  {
   "cell_type": "markdown",
   "id": "919d1026",
   "metadata": {
    "id": "919d1026"
   },
   "source": [
    "#### 12. Write a program (nested loops) to print the diamond pattern."
   ]
  },
  {
   "cell_type": "code",
   "execution_count": null,
   "id": "7d2aa21d",
   "metadata": {
    "id": "7d2aa21d"
   },
   "outputs": [],
   "source": []
  },
  {
   "cell_type": "markdown",
   "id": "b05f15de",
   "metadata": {
    "id": "b05f15de"
   },
   "source": [
    "#### 13. Write a program to print the following pattern: "
   ]
  },
  {
   "cell_type": "code",
   "execution_count": null,
   "id": "5113af76",
   "metadata": {
    "id": "5113af76",
    "outputId": "73ab8e9b-8ee8-4194-b330-d4668c15e64e"
   },
   "outputs": [
    {
     "name": "stdout",
     "output_type": "stream",
     "text": [
      "\n"
     ]
    }
   ],
   "source": [
    "'''\n",
    "5 4 3 2 1\n",
    "4 3 2 1\n",
    "3 2 1\n",
    "2 1\n",
    "1\n",
    "'''\n",
    "print()"
   ]
  },
  {
   "cell_type": "markdown",
   "id": "279b94c8",
   "metadata": {
    "id": "279b94c8"
   },
   "source": [
    "#### 14. Write a program to print the following pattern:"
   ]
  },
  {
   "cell_type": "code",
   "execution_count": null,
   "id": "af2c05e5",
   "metadata": {
    "id": "af2c05e5",
    "outputId": "fae17fdc-3a4c-43a0-8546-9ff23b9effaa"
   },
   "outputs": [
    {
     "name": "stdout",
     "output_type": "stream",
     "text": [
      "\n"
     ]
    }
   ],
   "source": [
    "'''\n",
    "5 4 3 2 1\n",
    "  4 3 2 1\n",
    "    3 2 1\n",
    "      2 1\n",
    "        1\n",
    "'''\n",
    "print()"
   ]
  },
  {
   "cell_type": "code",
   "execution_count": null,
   "id": "a6502c4f",
   "metadata": {
    "id": "a6502c4f"
   },
   "outputs": [],
   "source": []
  }
 ],
 "metadata": {
  "colab": {
   "provenance": []
  },
  "kernelspec": {
   "display_name": "Python 3",
   "language": "python",
   "name": "python3"
  },
  "language_info": {
   "codemirror_mode": {
    "name": "ipython",
    "version": 3
   },
   "file_extension": ".py",
   "mimetype": "text/x-python",
   "name": "python",
   "nbconvert_exporter": "python",
   "pygments_lexer": "ipython3",
   "version": "3.8.5"
  }
 },
 "nbformat": 4,
 "nbformat_minor": 5
}
