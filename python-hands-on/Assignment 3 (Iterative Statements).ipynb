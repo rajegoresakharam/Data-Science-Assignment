{
 "cells": [
  {
   "cell_type": "markdown",
   "id": "b462dadb",
   "metadata": {
    "id": "b462dadb"
   },
   "source": [
    "# Iterative Statements\n",
    "- Write solution of each question in the cell given below the corresponsing question."
   ]
  },
  {
   "cell_type": "markdown",
   "id": "f5aefe41",
   "metadata": {
    "id": "f5aefe41"
   },
   "source": [
    "#### 1. Tom and Bob are playing a game of dice. Each time a multiple of two comes up Tom gets a point and if a multiple of 3 comes up bob gets a point. If a multiple of both comes up then a point is deducted from both. Write a program to take a list as input consisting of 10 outcomes of the dice throw. Print the scores of both Tom and bob and the winner."
   ]
  },
  {
   "cell_type": "code",
   "execution_count": 11,
   "id": "62bf16f1",
   "metadata": {
    "id": "62bf16f1"
   },
   "outputs": [
    {
     "name": "stdout",
     "output_type": "stream",
     "text": [
      "Enter the number1,2,3,4,5,6,6,4,3,2,1\n",
      "Tom wins with score 4\n"
     ]
    }
   ],
   "source": [
    "def game_of_dice(outcomes):\n",
    "    tom_score = 0\n",
    "    bob_score = 0\n",
    "    for outcome in outcomes:\n",
    "        if outcome % 2 == 0:\n",
    "            tom_score += 1\n",
    "        if outcome % 3 == 0:\n",
    "            bob_score += 1\n",
    "        if outcome % 2 == 0 and outcome % 3 == 0:\n",
    "            tom_score -= 1\n",
    "            bob_score -= 1\n",
    "    if tom_score > bob_score:\n",
    "        print(\"Tom wins with score\", tom_score)\n",
    "    elif bob_score > tom_score:\n",
    "        print(\"Bob wins with score\", bob_score)\n",
    "    else:\n",
    "        print(\"It's a tie with score\", tom_score)\n",
    "        \n",
    "list1=input(\"Enter the number separated by ','\").split(',')\n",
    "l1=[]\n",
    "for i in list1:\n",
    "    l1.append(int(i))\n",
    "    \n",
    "game_of_dice(l1)"
   ]
  },
  {
   "cell_type": "markdown",
   "id": "57ec6a53",
   "metadata": {
    "id": "57ec6a53"
   },
   "source": [
    "#### 2. Write a program to take a list of 10 numbers as input in single line and find out the largest element."
   ]
  },
  {
   "cell_type": "code",
   "execution_count": 13,
   "id": "6ebea151",
   "metadata": {
    "id": "6ebea151"
   },
   "outputs": [
    {
     "name": "stdout",
     "output_type": "stream",
     "text": [
      "Enter 10 numbers separated by space: 12 24 52 52 52 56 65 56 66 95\n",
      "Largest element is: 95\n"
     ]
    }
   ],
   "source": [
    "def find_largest_element(numbers):\n",
    "    largest = numbers[0]\n",
    "    for num in numbers:\n",
    "        if num > largest:\n",
    "            largest = num\n",
    "    return largest\n",
    "\n",
    "numbers = list(map(int, input(\"Enter 10 numbers separated by space: \").split()))\n",
    "print(\"Largest element is:\", find_largest_element(numbers))"
   ]
  },
  {
   "cell_type": "markdown",
   "id": "ee2cce37",
   "metadata": {
    "id": "ee2cce37"
   },
   "source": [
    "#### 3. Write a program to take a number as input and find out whether it is prime or not."
   ]
  },
  {
   "cell_type": "code",
   "execution_count": 14,
   "id": "b9d9d6d8",
   "metadata": {
    "id": "b9d9d6d8"
   },
   "outputs": [
    {
     "name": "stdout",
     "output_type": "stream",
     "text": [
      "Enter a number: 34\n",
      "34 is not a prime number\n"
     ]
    }
   ],
   "source": [
    "def is_prime(num):\n",
    "    if num <= 1:\n",
    "        return False\n",
    "    for i in range(2, num):\n",
    "        if num % i == 0:\n",
    "            return False\n",
    "    return True\n",
    "\n",
    "num = int(input(\"Enter a number: \"))\n",
    "if is_prime(num):\n",
    "    print(num, \"is a prime number\")\n",
    "else:\n",
    "    print(num, \"is not a prime number\")"
   ]
  },
  {
   "cell_type": "markdown",
   "id": "07d5a484",
   "metadata": {
    "id": "07d5a484"
   },
   "source": [
    "#### 4. Take a list and a number as input, print all consecutive pairs of two numbers from the list having sum equal to the given number."
   ]
  },
  {
   "cell_type": "code",
   "execution_count": 16,
   "id": "e3acd75f",
   "metadata": {
    "id": "e3acd75f"
   },
   "outputs": [
    {
     "name": "stdout",
     "output_type": "stream",
     "text": [
      "Enter a list of numbers separated by space: 12 21 4\n",
      "Enter the target sum: 25\n",
      "21 4\n"
     ]
    }
   ],
   "source": [
    "def find_pairs(numbers, target_sum):\n",
    "    for i in range(len(numbers) - 1):\n",
    "        for j in range(i + 1, len(numbers)):\n",
    "            if numbers[i] + numbers[j] == target_sum:\n",
    "                print(numbers[i], numbers[j])\n",
    "\n",
    "numbers = list(map(int, input(\"Enter a list of numbers separated by space: \").split()))\n",
    "target_sum = int(input(\"Enter the target sum: \"))\n",
    "find_pairs(numbers, target_sum)\n",
    "\n"
   ]
  },
  {
   "cell_type": "markdown",
   "id": "d2bc68d1",
   "metadata": {
    "id": "d2bc68d1"
   },
   "source": [
    "#### 5. Take a string as input and find out the number of words with even length and number of words with odd length."
   ]
  },
  {
   "cell_type": "code",
   "execution_count": 9,
   "id": "f273ca05",
   "metadata": {
    "id": "f273ca05"
   },
   "outputs": [
    {
     "name": "stdout",
     "output_type": "stream",
     "text": [
      "Enter the string: -words with even length and number of words with odd length. def lenOfString(list1)\n",
      "['words', 'with', 'even', 'length', 'and', 'number', 'of', 'words', 'with', 'odd', 'length.', 'def', 'lenOfString(list1)']\n",
      "5\n",
      "4\n",
      "4\n",
      "6\n",
      "3\n",
      "6\n",
      "2\n",
      "5\n",
      "4\n",
      "3\n",
      "7\n",
      "3\n",
      "18\n",
      "Number of words with even length and number of words with odd length.:- (7, 6)\n"
     ]
    }
   ],
   "source": [
    "def lenOfString(list1):\n",
    "    count1,count2=0,0\n",
    "    for i in range(0,len(list1)):\n",
    "        \n",
    "        if len(list1[i])%2==0:\n",
    "            count1 += 1\n",
    "        else:\n",
    "            count2 += 1\n",
    "    return count1,count2\n",
    "string=input(\"Enter the string: -\").split()\n",
    "print(string)\n",
    "\n",
    "print(\"Number of words with even length and number of words with odd length.:-\",lenOfString(string))"
   ]
  },
  {
   "cell_type": "markdown",
   "id": "41da36a0",
   "metadata": {
    "id": "41da36a0"
   },
   "source": [
    "#### 6. Take a string as input and find out the most frequently occuring word."
   ]
  },
  {
   "cell_type": "code",
   "execution_count": 60,
   "id": "ac575a12",
   "metadata": {
    "id": "ac575a12"
   },
   "outputs": [
    {
     "name": "stdout",
     "output_type": "stream",
     "text": [
      "Enter the string:- saa fge saa patil re\n",
      "saa\n"
     ]
    }
   ],
   "source": [
    "def most_frequent_(List):\n",
    "    counter = 0\n",
    "    String = List[0]\n",
    "     \n",
    "    for i in List:\n",
    "        curr_frequency = List.count(i)\n",
    "        if(curr_frequency> counter):\n",
    "            counter = curr_frequency\n",
    "            String = i\n",
    " \n",
    "    return String\n",
    " \n",
    "List=input(\"Enter the string:- \").split()\n",
    "print(most_frequent(List))"
   ]
  },
  {
   "cell_type": "markdown",
   "id": "9bc04f36",
   "metadata": {
    "id": "9bc04f36"
   },
   "source": [
    "#### 7. Write a program to sort a given list using selection sort algorithm. (study selection sort and implement)"
   ]
  },
  {
   "cell_type": "code",
   "execution_count": 151,
   "id": "3abb8c1e",
   "metadata": {
    "id": "3abb8c1e"
   },
   "outputs": [
    {
     "name": "stdout",
     "output_type": "stream",
     "text": [
      "[12, 23, 43, 44, 54, 56]\n"
     ]
    }
   ],
   "source": [
    "def selectionSort(num):\n",
    "    for i in range(len(num)-1):\n",
    "        min1=i\n",
    "        for j in range(i,len(num)):\n",
    "            if num[j] < num[min1]:\n",
    "                min1=j\n",
    "        temp=num[i]\n",
    "        num[i]=num[min1]\n",
    "        num[min1]=temp\n",
    "num=[23,43,54,12,44,56]\n",
    "selectionSort(num)\n",
    "print(num)"
   ]
  },
  {
   "cell_type": "markdown",
   "id": "d2cf1bab",
   "metadata": {
    "id": "d2cf1bab"
   },
   "source": [
    "#### 8. Write a program to sort a given list using bubble sort algorithm. (Study bubble sort and implement)"
   ]
  },
  {
   "cell_type": "code",
   "execution_count": 148,
   "id": "4869309e",
   "metadata": {
    "id": "4869309e"
   },
   "outputs": [
    {
     "name": "stdout",
     "output_type": "stream",
     "text": [
      "[12, 23, 43, 44, 54, 56]\n"
     ]
    }
   ],
   "source": [
    "def bubbleSort(num):\n",
    "    for i in range(len(num)-1,0,-1):\n",
    "        for j in range(i):\n",
    "            if num[j]>num[j+1]:\n",
    "                temp=num[j]\n",
    "                num[j]=num[j+1]\n",
    "                num[j+1]=temp\n",
    "num=[23,43,54,12,44,56]\n",
    "bubbleSort(num)\n",
    "\n",
    "print(num)"
   ]
  },
  {
   "cell_type": "markdown",
   "id": "1910df79",
   "metadata": {
    "id": "1910df79"
   },
   "source": [
    "#### 9. Take a string and a word and input. Find the frequenecy of occurrence of the word in the given string. (Without using any inbuilt function)"
   ]
  },
  {
   "cell_type": "code",
   "execution_count": 177,
   "id": "c50d4a3c",
   "metadata": {
    "id": "c50d4a3c"
   },
   "outputs": [
    {
     "name": "stdout",
     "output_type": "stream",
     "text": [
      "Enter a string:-sa hri ihre hir  edwi we djw dfi hri\n",
      "Enter a word:-hri\n",
      "2\n"
     ]
    }
   ],
   "source": [
    "def countOccurrences(str, word):\n",
    "    a = str.split(\" \")\n",
    "    \n",
    "    count = 0\n",
    "    for i in range(0, len(a)):\n",
    "        if (word == a[i]):\n",
    "            count = count + 1\n",
    "    return count\n",
    "\n",
    "\n",
    "str1 =input(\"Enter a string:-\")\n",
    "word =input(\"Enter a word:-\").split()[0]\n",
    "print(countOccurrences(str1, word))\n"
   ]
  },
  {
   "cell_type": "markdown",
   "id": "66ca0348",
   "metadata": {
    "id": "66ca0348"
   },
   "source": [
    "#### 10. Write a program (nested loops) to print the pyramid pattern."
   ]
  },
  {
   "cell_type": "code",
   "execution_count": 31,
   "id": "472bf64d",
   "metadata": {
    "id": "472bf64d"
   },
   "outputs": [
    {
     "name": "stdout",
     "output_type": "stream",
     "text": [
      "Enter number of rows: 5\n",
      "        * \n",
      "      * * * \n",
      "    * * * * * \n",
      "  * * * * * * * \n",
      "* * * * * * * * * \n"
     ]
    }
   ],
   "source": [
    "rows = int(input(\"Enter number of rows: \"))\n",
    "\n",
    "k = 0\n",
    "\n",
    "for i in range(1, rows+1):\n",
    "    for space in range(1, (rows-i)+1):\n",
    "        print(end=\"  \")\n",
    "   \n",
    "    while k!=(2*i-1):\n",
    "        print(\"* \", end=\"\")\n",
    "        k += 1\n",
    "   \n",
    "    k = 0\n",
    "    print()"
   ]
  },
  {
   "cell_type": "markdown",
   "id": "ed75cc00",
   "metadata": {
    "id": "ed75cc00"
   },
   "source": [
    "#### 11. Write a program (nested loops) to print the inverted pyramid."
   ]
  },
  {
   "cell_type": "code",
   "execution_count": 37,
   "id": "ca974535",
   "metadata": {
    "id": "ca974535"
   },
   "outputs": [
    {
     "name": "stdout",
     "output_type": "stream",
     "text": [
      "Enter number of rows: 4\n",
      "* * * * * \n",
      "  * * * \n",
      "    * \n"
     ]
    }
   ],
   "source": [
    "rows = int(input(\"Enter number of rows: \"))\n",
    "\n",
    "for i in range(rows, 1, -1):\n",
    "    for space in range(0, rows-i):\n",
    "        print(\"  \", end=\"\")\n",
    "    for j in range(i, 2*i-1):\n",
    "        print(\"* \", end=\"\")\n",
    "    for j in range(1, i-1):\n",
    "        print(\"* \", end=\"\")\n",
    "    print()"
   ]
  },
  {
   "cell_type": "markdown",
   "id": "919d1026",
   "metadata": {
    "id": "919d1026"
   },
   "source": [
    "#### 12. Write a program (nested loops) to print the diamond pattern."
   ]
  },
  {
   "cell_type": "code",
   "execution_count": 45,
   "id": "7d2aa21d",
   "metadata": {
    "id": "7d2aa21d"
   },
   "outputs": [
    {
     "name": "stdout",
     "output_type": "stream",
     "text": [
      "Enter diamond's height: 4\n",
      "     *\n",
      "    ***\n",
      "   *****\n",
      "  *******\n",
      "   *****\n",
      "    ***\n",
      "     *\n"
     ]
    }
   ],
   "source": [
    "h = eval(input(\"Enter diamond's height: \"))\n",
    "\n",
    "for x in range(h):\n",
    "    print(\" \" * (h - x), \"*\" * (2*x + 1))\n",
    "for x in range(h - 2, -1, -1):\n",
    "    print(\" \" * (h - x), \"*\" * (2*x + 1))"
   ]
  },
  {
   "cell_type": "markdown",
   "id": "b05f15de",
   "metadata": {
    "id": "b05f15de"
   },
   "source": [
    "#### 13. Write a program to print the following pattern: "
   ]
  },
  {
   "cell_type": "code",
   "execution_count": 131,
   "id": "5113af76",
   "metadata": {
    "id": "5113af76",
    "outputId": "73ab8e9b-8ee8-4194-b330-d4668c15e64e"
   },
   "outputs": [
    {
     "name": "stdout",
     "output_type": "stream",
     "text": [
      "Enter number of rows: 3\n",
      "          1 \n",
      "        1 2 \n",
      "      1 2 3 \n",
      "    1 2 3 4 \n",
      "  1 2 3 4 5 \n"
     ]
    }
   ],
   "source": [
    "'''\n",
    "5 4 3 2 1\n",
    "4 3 2 1\n",
    "3 2 1\n",
    "2 1\n",
    "1\n",
    "'''\n",
    "\n",
    "rows = int(input(\"Enter number of rows: \"))\n",
    "\n",
    "for i in range(rows, 0, -1):\n",
    "    for j in range(1, i+1):\n",
    "        print(i-j+1, end=\" \")\n",
    "    \n",
    "    print(\"\\n\")"
   ]
  },
  {
   "cell_type": "markdown",
   "id": "279b94c8",
   "metadata": {
    "id": "279b94c8"
   },
   "source": [
    "#### 14. Write a program to print the following pattern:"
   ]
  },
  {
   "cell_type": "code",
   "execution_count": 147,
   "id": "af2c05e5",
   "metadata": {
    "id": "af2c05e5",
    "outputId": "fae17fdc-3a4c-43a0-8546-9ff23b9effaa"
   },
   "outputs": [
    {
     "name": "stdout",
     "output_type": "stream",
     "text": [
      "Enter number of rows: 5\n",
      "5 4 3 2 1 \n",
      "  4 3 2 1 \n",
      "    3 2 1 \n",
      "      2 1 \n",
      "        1 \n"
     ]
    }
   ],
   "source": [
    "'''\n",
    "5 4 3 2 1\n",
    "  4 3 2 1\n",
    "    3 2 1\n",
    "      2 1\n",
    "        1\n",
    "'''\n",
    "\n",
    "rows = int(input(\"Enter number of rows: \"))\n",
    "\n",
    "\n",
    "i = rows\n",
    "while i >= 1:\n",
    "    j = rows\n",
    "    while j > i:\n",
    "        # display space\n",
    "        print(' ', end=' ')\n",
    "        j -= 1\n",
    "    k = 1\n",
    "    while k <= i:\n",
    "        print(j+1-k, end=' ')\n",
    "        k += 1\n",
    "    print()\n",
    "    i -= 1\n"
   ]
  },
  {
   "cell_type": "code",
   "execution_count": null,
   "id": "c0bb263c",
   "metadata": {
    "id": "a6502c4f"
   },
   "outputs": [],
   "source": []
  },
  {
   "cell_type": "code",
   "execution_count": null,
   "id": "05ba4e5e",
   "metadata": {},
   "outputs": [],
   "source": []
  }
 ],
 "metadata": {
  "colab": {
   "provenance": []
  },
  "kernelspec": {
   "display_name": "Python 3 (ipykernel)",
   "language": "python",
   "name": "python3"
  },
  "language_info": {
   "codemirror_mode": {
    "name": "ipython",
    "version": 3
   },
   "file_extension": ".py",
   "mimetype": "text/x-python",
   "name": "python",
   "nbconvert_exporter": "python",
   "pygments_lexer": "ipython3",
   "version": "3.9.12"
  }
 },
 "nbformat": 4,
 "nbformat_minor": 5
}
