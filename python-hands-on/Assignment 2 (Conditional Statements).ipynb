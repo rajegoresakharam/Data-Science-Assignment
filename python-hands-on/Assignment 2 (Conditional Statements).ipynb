{
 "cells": [
  {
   "cell_type": "markdown",
   "id": "3a10df7a",
   "metadata": {
    "id": "3a10df7a"
   },
   "source": [
    "# Conditional Statements\n",
    "- Write solution of each question in the cell given below the corresponsing question."
   ]
  },
  {
   "cell_type": "markdown",
   "id": "60c2d89a",
   "metadata": {
    "id": "60c2d89a"
   },
   "source": [
    "#### 1. Take a list of numbers as input. Print whether the average is even or odd."
   ]
  },
  {
   "cell_type": "code",
   "execution_count": 1,
   "id": "74d8f988",
   "metadata": {
    "id": "74d8f988"
   },
   "outputs": [
    {
     "data": {
      "text/plain": [
       "'odd'"
      ]
     },
     "execution_count": 1,
     "metadata": {},
     "output_type": "execute_result"
    }
   ],
   "source": [
    "def evenOdd(list1):\n",
    "    sum=0\n",
    "    for a in list1:\n",
    "        sum +=a\n",
    "    avg=int(sum/len(list1))\n",
    "    if avg%2==0:\n",
    "        return 'even'\n",
    "    else:\n",
    "        return 'odd'\n",
    "l1=[1,2,3,4,5,6,7,8,9,10]\n",
    "evenOdd(l1)"
   ]
  },
  {
   "cell_type": "markdown",
   "id": "4846bb19",
   "metadata": {
    "id": "4846bb19"
   },
   "source": [
    "#### 2. Take three strings as input. Calculate the number of words in each string and find out the list having highest number of words."
   ]
  },
  {
   "cell_type": "code",
   "execution_count": 6,
   "id": "e2984a70",
   "metadata": {
    "id": "e2984a70"
   },
   "outputs": [
    {
     "name": "stdout",
     "output_type": "stream",
     "text": [
      "Enter First string:- sa gbf bd hn f\n",
      "Enter Second string:- gfj djtgb sg gfght\n",
      "Enter Third string:- jf dghs dgs\n",
      "Higest number Of Words Contains:- ['sa', 'gbf', 'bd', 'hn', 'f']\n"
     ]
    }
   ],
   "source": [
    "def maxString(list1,list2,list3):\n",
    "    max=0\n",
    "    numberOfWords=0\n",
    "    if len(list1) > len(list2) and len(list1) > len(list3):\n",
    "        maxList=list1\n",
    "        numberOfWords=len(list1)\n",
    "    elif len(list2) > len(list1) and len(list2) >len(list3):\n",
    "        maxList=list2\n",
    "        numberOfWords=len(list2)\n",
    "    elif len(list3) > len(list1) and len(list3) >len(list2):\n",
    "        maxList=list3\n",
    "        numberOfWords=len(list3)\n",
    "        \n",
    "    return maxList\n",
    "    \n",
    "l1=input(\"Enter First string:- \").split()\n",
    "l2=input(\"Enter Second string:- \").split()\n",
    "l3=input(\"Enter Third string:- \").split()\n",
    "\n",
    "print(\"Higest number Of Words Contains:-\",maxString(l1,l2,l3))\n",
    "\n",
    "        "
   ]
  },
  {
   "cell_type": "markdown",
   "id": "4748b2fc",
   "metadata": {
    "id": "0e0d8196"
   },
   "source": [
    "#### 3. Take four numbers as input in a single line. Find out the largest number."
   ]
  },
  {
   "cell_type": "code",
   "execution_count": 35,
   "id": "2b724327",
   "metadata": {
    "id": "2b724327"
   },
   "outputs": [
    {
     "name": "stdout",
     "output_type": "stream",
     "text": [
      "Enter the number:- 45 76 98 32\n",
      "Largest Number from List:-  98\n"
     ]
    }
   ],
   "source": [
    "def largestNumber(list1):\n",
    "    l1=[]\n",
    "    for a in list1:\n",
    "        l1.append(int(a))\n",
    "    l1.sort()\n",
    "    return l1[-1]\n",
    "\n",
    "num=input(\"Enter the number:- \").split()\n",
    "\n",
    "print(\"Largest Number from List:- \",largestNumber(num))"
   ]
  },
  {
   "cell_type": "markdown",
   "id": "16c0440a",
   "metadata": {
    "id": "16c0440a"
   },
   "source": [
    "#### 4. Take four numbers as input and find the second largest numer."
   ]
  },
  {
   "cell_type": "code",
   "execution_count": 36,
   "id": "795ee65e",
   "metadata": {
    "id": "795ee65e"
   },
   "outputs": [
    {
     "name": "stdout",
     "output_type": "stream",
     "text": [
      "Enter the number:- 54 75 34 67\n",
      "Second Largest Number from List:-  67\n"
     ]
    }
   ],
   "source": [
    "def largestNumber(list1):\n",
    "    l1=[]\n",
    "    for a in list1:\n",
    "        l1.append(int(a))\n",
    "    l1.sort()\n",
    "    return l1[-2]\n",
    "\n",
    "num=input(\"Enter the number:- \").split()\n",
    "\n",
    "print(\"Second Largest Number from List:- \",largestNumber(num))"
   ]
  },
  {
   "cell_type": "markdown",
   "id": "2f6641a4",
   "metadata": {
    "id": "2f6641a4"
   },
   "source": [
    "#### 5. Create a dictionary having three items. Key of each item is the name of a student, value associated with each key is a list of marks in five subjects. Given this dictionary print the top and lowest scorers."
   ]
  },
  {
   "cell_type": "code",
   "execution_count": 18,
   "id": "cc2f28dc",
   "metadata": {
    "id": "cc2f28dc"
   },
   "outputs": [
    {
     "name": "stdout",
     "output_type": "stream",
     "text": [
      "Min Score Jon:-43\n",
      "Max Score Jon:-80\n",
      "Min Score Tom:-43\n",
      "Max Score Tom:-76\n",
      "Min Score Bob:-43\n",
      "Max Score Bob:-80\n"
     ]
    }
   ],
   "source": [
    "studDict={'Jon':[76,79,74,46,80,43],'Tom':[67,76,54,76,43],'Bob':[80,76,43,65,74]}\n",
    "\n",
    "for i in studDict:\n",
    "    print(\"Min Score {0}:-{1}\".format(i,min(studDict[i])))\n",
    "    print(\"Max Score {0}:-{1}\".format(i,max(studDict[i])))\n",
    "    \n",
    "    \n",
    "#def studentMarks(dict1):\n",
    "    \n"
   ]
  },
  {
   "cell_type": "markdown",
   "id": "64db0791",
   "metadata": {
    "id": "64db0791"
   },
   "source": [
    "#### 6. Create a dictionary (called data) of having at least 5 items : Usernames as keys and Passwords as values. Write a program that takes a username and a password as input. If the credentials match any iteam in the given dictionary data then print acces granted otherwise print whether username, password or both are wrong."
   ]
  },
  {
   "cell_type": "code",
   "execution_count": 31,
   "id": "1ca5ccba",
   "metadata": {
    "id": "1ca5ccba"
   },
   "outputs": [
    {
     "name": "stdout",
     "output_type": "stream",
     "text": [
      "Enter the UserName:- john\n",
      "Enter the passWord:- john@12\n"
     ]
    },
    {
     "data": {
      "text/plain": [
       "'Access Granted!.'"
      ]
     },
     "execution_count": 31,
     "metadata": {},
     "output_type": "execute_result"
    }
   ],
   "source": [
    "data={'sam':'pass@123','gems':'comm@32','john':'john@12','vicky':'v@#23','virat':'virat@12'}\n",
    "def userAccount(data,userName,password):\n",
    "    for a in data:\n",
    "        if a==c and data[a]==b:\n",
    "            return f'Access Granted!.'\n",
    "            \n",
    "        else:\n",
    "            return f'Access Denied!.'\n",
    "userName=input(\"Enter the UserName:- \")\n",
    "password=input(\"Enter the passWord:- \")\n",
    "\n",
    "userAccount(data,userName,password)\n"
   ]
  },
  {
   "cell_type": "markdown",
   "id": "27c56bb8",
   "metadata": {
    "id": "27c56bb8"
   },
   "source": [
    "#### 7. Take a list as input in a single line containing 15 numbers as marks out of 100. The first five numbers in the list are marks of Tom, the middle 5 numbers are marks of Bob and the last 5 are the marks of Jon. Find out the top and lowest scorer."
   ]
  },
  {
   "cell_type": "code",
   "execution_count": 77,
   "id": "fe6234f1",
   "metadata": {
    "id": "fe6234f1"
   },
   "outputs": [
    {
     "name": "stdout",
     "output_type": "stream",
     "text": [
      "Enter the 15marks separated by ',':-23,43,54,65,66,64,43,6,76,43,6,76,64,76,65\n",
      " Tom's min and Max Score:-23,66 ,Bob's min and Max Score:-6,76 ,Tom's min and Max Score:-6,76\n"
     ]
    }
   ],
   "source": [
    "\n",
    "def topLowScore(list1):\n",
    "    Tom=[]\n",
    "    Bob=[]\n",
    "    Jon=[]\n",
    "    for i in range(0,5):\n",
    "        Tom.append(list1[i])\n",
    "        Bob.append(list1[5+i])\n",
    "        Jon.append(list1[10+i])\n",
    "    min_Tom,max_Tom=min(Tom),max(Tom)\n",
    "    min_Bob,max_Bob=min(Bob),max(Bob)\n",
    "    min_Jon,max_Jon=min(Jon),max(Jon)\n",
    "    \n",
    "    return f''' Tom's min and Max Score:-{min_Tom},{max_Tom} ,Bob's min and Max Score:-{min_Bob},{max_Bob} ,Tom's min and Max Score:-{min_Jon},{max_Jon}'''\n",
    "\n",
    "l1=input(\"Enter the 15marks separated by ',':-\").split(',')\n",
    "list1=[]\n",
    "if len(l1)==15:\n",
    "    for a in l1:\n",
    "        list1.append(int(a))\n",
    "    print(topLowScore(list1))\n",
    "else:\n",
    "    print(\"please make sure you have inserted only 15 marks!.\")\n",
    "    \n",
    "\n",
    "        "
   ]
  },
  {
   "cell_type": "markdown",
   "id": "20f59542",
   "metadata": {
    "id": "20f59542"
   },
   "source": [
    "#### 8. Take a number as input and print whether the number is a multiple of 3,5 or both."
   ]
  },
  {
   "cell_type": "code",
   "execution_count": 67,
   "id": "a323f0ab",
   "metadata": {
    "id": "a323f0ab"
   },
   "outputs": [
    {
     "name": "stdout",
     "output_type": "stream",
     "text": [
      "Enter the number:- 45\n",
      "Number is multiple of 3 & 5\n"
     ]
    }
   ],
   "source": [
    "num=int(input(\"Enter the number:- \"))\n",
    "if num%3==0 and num%5==0:\n",
    "    print(\"Number is multiple of 3 & 5\")\n",
    "elif num%5==0:\n",
    "    print(\"Number is multiple of 5\")\n",
    "elif num%3==0:\n",
    "    print(\"Number is multiple of 3\")\n",
    "    \n"
   ]
  },
  {
   "cell_type": "markdown",
   "id": "b770e791",
   "metadata": {
    "id": "b770e791"
   },
   "source": [
    "#### 9. Write a program to take three strings as input and print the string having second largest number of words."
   ]
  },
  {
   "cell_type": "code",
   "execution_count": 63,
   "id": "0359e7ef",
   "metadata": {
    "id": "0359e7ef"
   },
   "outputs": [
    {
     "name": "stdout",
     "output_type": "stream",
     "text": [
      "Enter the First String:- 34 54 56 86\n",
      "Enter the Second String:- 56 54 65 86 7 46\n",
      "Enter the Third String:- 453 64 56\n"
     ]
    },
    {
     "data": {
      "text/plain": [
       "['34', '54', '56', '86']"
      ]
     },
     "execution_count": 63,
     "metadata": {},
     "output_type": "execute_result"
    }
   ],
   "source": [
    "def secondLargest(list1):\n",
    "    l1=[]\n",
    "    secondList=[]\n",
    "    for a in list1:\n",
    "        l1.append(len(a))\n",
    "    l1.sort()\n",
    "    for b in list1:\n",
    "        if len(b)==l1[-2]:\n",
    "            secondList=b\n",
    "    return secondList\n",
    "        \n",
    "    \n",
    "    \n",
    "\n",
    "    \n",
    "    \n",
    "l1=[]\n",
    "str1=input(\"Enter the First String:- \").split()\n",
    "l1.append(str1)\n",
    "str2=input(\"Enter the Second String:- \").split()\n",
    "l1.append(str2)\n",
    "str3=input(\"Enter the Third String:- \").split()\n",
    "l1.append(str3)\n",
    "\n",
    "secondLargest(l1)"
   ]
  },
  {
   "cell_type": "markdown",
   "id": "5a485c8c",
   "metadata": {
    "id": "5a485c8c"
   },
   "source": [
    "#### 10. Write a program to take four strings as input and print the string having third highest number of words."
   ]
  },
  {
   "cell_type": "code",
   "execution_count": 66,
   "id": "2dedb8a1",
   "metadata": {
    "id": "2dedb8a1"
   },
   "outputs": [
    {
     "name": "stdout",
     "output_type": "stream",
     "text": [
      "Enter the First String:- dsg rrgf yer yrgf ygrf\n",
      "Enter the Second String:- grf hgef grfe\n",
      "Enter the Third String:-  eerh err eryer rgfe\n",
      "Enter the Third String:- eru err\n"
     ]
    },
    {
     "data": {
      "text/plain": [
       "['grf', 'hgef', 'grfe']"
      ]
     },
     "execution_count": 66,
     "metadata": {},
     "output_type": "execute_result"
    }
   ],
   "source": [
    "def secondLargest(list1):\n",
    "    l1=[]\n",
    "    secondList=[]\n",
    "    for a in list1:\n",
    "        l1.append(len(a))\n",
    "    l1.sort()\n",
    "    for b in list1:\n",
    "        if len(b)==l1[-3]:\n",
    "            secondList=b\n",
    "    return secondList\n",
    "        \n",
    "    \n",
    "    \n",
    "\n",
    "    \n",
    "    \n",
    "l1=[]\n",
    "str1=input(\"Enter the First String:- \").split()\n",
    "l1.append(str1)\n",
    "str2=input(\"Enter the Second String:- \").split()\n",
    "l1.append(str2)\n",
    "str3=input(\"Enter the Third String:- \").split()\n",
    "l1.append(str3)\n",
    "\n",
    "str4=input(\"Enter the Third String:- \").split()\n",
    "l1.append(str4)\n",
    "\n",
    "secondLargest(l1)"
   ]
  },
  {
   "cell_type": "code",
   "execution_count": null,
   "id": "259a9132",
   "metadata": {},
   "outputs": [],
   "source": []
  }
 ],
 "metadata": {
  "colab": {
   "provenance": []
  },
  "kernelspec": {
   "display_name": "Python 3 (ipykernel)",
   "language": "python",
   "name": "python3"
  },
  "language_info": {
   "codemirror_mode": {
    "name": "ipython",
    "version": 3
   },
   "file_extension": ".py",
   "mimetype": "text/x-python",
   "name": "python",
   "nbconvert_exporter": "python",
   "pygments_lexer": "ipython3",
   "version": "3.9.12"
  }
 },
 "nbformat": 4,
 "nbformat_minor": 5
}
