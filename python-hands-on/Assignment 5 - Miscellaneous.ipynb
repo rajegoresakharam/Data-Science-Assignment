{
 "cells": [
  {
   "cell_type": "markdown",
   "id": "d72f8ceb",
   "metadata": {
    "id": "d72f8ceb"
   },
   "source": [
    "# Assessment - 5 Gradable\n",
    "\n",
    "- Each question carries 5 or 4 marks\n",
    "- Marks will be assigned in terms of:\n",
    "    \n",
    "    **1. Expected output**\n",
    "    \n",
    "    **2. Quality and Explainability of code**\n",
    "\n",
    "    ***Go back through the script and type a comment above each line explaining in English what it does.***\n",
    "\n",
    "    **3. Copied code, if found, will result in 0 marks for that question. To avoid this make as much comments in the code to explain the approach**"
   ]
  },
  {
   "cell_type": "markdown",
   "id": "e5819cc0",
   "metadata": {
    "id": "e5819cc0"
   },
   "source": [
    "### 1. \n",
    "\n",
    "Write a Python function that prints out the first n rows of Pascal's triangle.\n",
    "\n",
    "- Input : 5\n",
    "- Output: \n",
    "          1\n",
    "         1 1\n",
    "        1 2 1\n",
    "       1 3 3 1\n",
    "      1 4 6 4 1\n",
    "\n",
    "**Very interesting video on PASCAL TRIANGLE (must watch if you are interested to know more about pascal Triangle)**\n",
    "- https://www.youtube.com/watch?v=0iMtlus-afo&t=668s&ab_channel=Numberphile"
   ]
  },
  {
   "cell_type": "code",
   "execution_count": 64,
   "id": "ac1f87a3",
   "metadata": {},
   "outputs": [
    {
     "name": "stdout",
     "output_type": "stream",
     "text": [
      "Enter the number:- 6\n",
      "     1 \n",
      "    1 1 \n",
      "   1 2 1 \n",
      "  1 3 3 1 \n",
      " 1 4 6 4 1 \n",
      "1 5 10 10 5 1 \n"
     ]
    }
   ],
   "source": [
    "class PascalTriangle(object):\n",
    "    def pacalDemo(self, num):\n",
    "     \n",
    "        list1 = []\n",
    "        for i in range(num):\n",
    "            list1.append([])\n",
    "            for j in range(i + 1):\n",
    "                if j == 0 or j == i:\n",
    "                    \n",
    "                    list1[i].append(1)\n",
    "                else:\n",
    "                    list1[i].append(list1[i - 1][j - 1] + list1[i - 1][j])\n",
    "        for i in range(0,num):\n",
    "            for j in range(num-i-1):\n",
    "                print(\" \",end='')\n",
    "            \n",
    "            for j in range(i+1):\n",
    "                print(list1[i][j],end=' ')\n",
    "            print(\"\")\n",
    "        \n",
    "num=int(input(\"Enter the number:- \"))    \n",
    "d = PascalTriangle()\n",
    "rowArr=d.pacalDemo(num)\n",
    "\n"
   ]
  },
  {
   "cell_type": "markdown",
   "id": "6b3f11fd",
   "metadata": {
    "id": "6b3f11fd"
   },
   "source": [
    "### 2. \n",
    "\n",
    "Write a function to print following pattern\n",
    "\n",
    "    1  \n",
    "    2  4  \n",
    "    3  6  9  \n",
    "    4  8  12  16  \n",
    "    5  10  15  20  25  \n",
    "    6  12  18  24  30  36  \n",
    "    7  14  21  28  35  42  49  \n",
    "    8  16  24  32  40  48  56  64  "
   ]
  },
  {
   "cell_type": "code",
   "execution_count": 74,
   "id": "15e45ae3",
   "metadata": {
    "id": "15e45ae3"
   },
   "outputs": [
    {
     "name": "stdout",
     "output_type": "stream",
     "text": [
      "Enter the number:- 7\n",
      "1 \n",
      "\n",
      "2 4 \n",
      "\n",
      "3 6 9 \n",
      "\n",
      "4 8 12 16 \n",
      "\n",
      "5 10 15 20 25 \n",
      "\n",
      "6 12 18 24 30 36 \n",
      "\n",
      "7 14 21 28 35 42 49 \n",
      "\n"
     ]
    }
   ],
   "source": [
    "class Pattern(object):\n",
    "    def numPattern(self,num):\n",
    "        for i in range(1,num+1):\n",
    "            for j in range(1,i+1):\n",
    "                print(i*j,end=\" \")\n",
    "            print(\"\\n\")\n",
    "num=int(input(\"Enter the number:- \"))\n",
    "p=Pattern()\n",
    "p.numPattern(num)"
   ]
  },
  {
   "cell_type": "markdown",
   "id": "42453e7d",
   "metadata": {
    "id": "42453e7d"
   },
   "source": [
    "### 3. \n",
    "\n",
    "Write a function ``how_many_primes`` that returns the number of prime numbers that exist up to and including a given number\n",
    "\n",
    "- how_many_primes(100) --> 25"
   ]
  },
  {
   "cell_type": "code",
   "execution_count": 103,
   "id": "b3302ec4",
   "metadata": {
    "id": "b3302ec4"
   },
   "outputs": [
    {
     "name": "stdout",
     "output_type": "stream",
     "text": [
      "Enter the number:- 100\n"
     ]
    },
    {
     "data": {
      "text/plain": [
       "25"
      ]
     },
     "execution_count": 103,
     "metadata": {},
     "output_type": "execute_result"
    }
   ],
   "source": [
    "\n",
    "def how_many_primes(num):\n",
    "    count=0\n",
    "    for i in range(1,num):\n",
    "        if i>1:\n",
    "            for j in range(2,i):\n",
    "                if i%j==0:\n",
    "                    break\n",
    "            else:\n",
    "                count+=1\n",
    "    return count\n",
    "    \n",
    "num=int(input(\"Enter the number:- \"))\n",
    "how_many_primes(num)"
   ]
  },
  {
   "cell_type": "markdown",
   "id": "2b5f6f63",
   "metadata": {
    "id": "2b5f6f63"
   },
   "source": [
    "### 4. \n",
    "\n",
    "b = open(\"assignment.txt\")\n",
    "\n",
    "Consider the code given above and write the answers to the following :\n",
    "\n",
    "- Identify the name of the file : \n",
    "- Identify the name of the function used above : \n",
    "- What is 'b' in above code :\n",
    "- The above statement will  ____________ file in ___________ mode."
   ]
  },
  {
   "cell_type": "markdown",
   "id": "54fa3d75",
   "metadata": {},
   "source": [
    "1.Identify the name of the file :\"assignment.txt\"\n",
    "2.Identify the name of the function used above :\"Open function accept two argument 1st Name of file and 2nd is Access Mode\"\n",
    "3.What is 'b' in above code :\"b is file_object\"\n",
    "4.The above statement will  \"open\" file in \"read(r)\" mode."
   ]
  },
  {
   "cell_type": "markdown",
   "id": "6c9eb680",
   "metadata": {
    "id": "6c9eb680"
   },
   "source": [
    "### 5.\n",
    "\n",
    "Accept five hobbies from the user and write in a file 'hobby.txt'. Then Read the file to list out all the 5 hobbies from the user."
   ]
  },
  {
   "cell_type": "code",
   "execution_count": null,
   "id": "1b9db22c",
   "metadata": {
    "id": "1b9db22c"
   },
   "outputs": [],
   "source": [
    "def fileOperation(num):\n",
    "    try:\n",
    "        file1=open(\"hobby.txt\",\"a\")\n",
    "        for i in range(1,num+1):\n",
    "            hobby=input(\"Enter you {0} hobby:- \".format(i))\n",
    "            file1.write(\"{0}\\n\".format(hobby))\n",
    "        file1.close()\n",
    "    \n",
    "        file1=open(\"hobby.txt\",\"r\")\n",
    "        print(\"Your Hobbies List is......!\")\n",
    "        print(file1.read())\n",
    "        \n",
    "    except:\n",
    "        print(\"File not found!.\")\n",
    "    finally:\n",
    "        file1.close()\n",
    "    \n",
    "    \n",
    "num=int(input(\"Enter the how many Hobbies You have!:- \"))\n",
    "fileOperation(num)"
   ]
  },
  {
   "cell_type": "code",
   "execution_count": null,
   "id": "89e00a8a",
   "metadata": {},
   "outputs": [],
   "source": []
  },
  {
   "cell_type": "code",
   "execution_count": null,
   "id": "fb87aee7",
   "metadata": {},
   "outputs": [],
   "source": []
  }
 ],
 "metadata": {
  "colab": {
   "provenance": []
  },
  "kernelspec": {
   "display_name": "Python 3 (ipykernel)",
   "language": "python",
   "name": "python3"
  },
  "language_info": {
   "codemirror_mode": {
    "name": "ipython",
    "version": 3
   },
   "file_extension": ".py",
   "mimetype": "text/x-python",
   "name": "python",
   "nbconvert_exporter": "python",
   "pygments_lexer": "ipython3",
   "version": "3.9.12"
  }
 },
 "nbformat": 4,
 "nbformat_minor": 5
}
