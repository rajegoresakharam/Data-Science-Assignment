{
 "cells": [
  {
   "cell_type": "code",
   "execution_count": 3,
   "id": "ec902ad1",
   "metadata": {},
   "outputs": [
    {
     "name": "stdout",
     "output_type": "stream",
     "text": [
      "Collecting mysql-connector-python\n",
      "  Downloading mysql_connector_python-8.0.32-cp39-cp39-win_amd64.whl (7.9 MB)\n",
      "Requirement already satisfied: protobuf<=3.20.3,>=3.11.0 in c:\\users\\lenovo\\anaconda3\\lib\\site-packages (from mysql-connector-python) (3.19.1)\n",
      "Installing collected packages: mysql-connector-python\n",
      "Successfully installed mysql-connector-python-8.0.32\n",
      "Collecting mysql-connector-python\n",
      "  Downloading mysql_connector_python-8.0.32-cp39-cp39-win_amd64.whl (7.9 MB)\n",
      "Requirement already satisfied: protobuf<=3.20.3,>=3.11.0 in c:\\users\\lenovo\\anaconda3\\lib\\site-packages (from mysql-connector-python) (3.19.1)\n",
      "Installing collected packages: mysql-connector-python\n",
      "Successfully installed mysql-connector-python-8.0.32\n"
     ]
    }
   ],
   "source": [
    "!pip install mysql-connector-python"
   ]
  },
  {
   "cell_type": "code",
   "execution_count": 29,
   "id": "0d43da7d",
   "metadata": {},
   "outputs": [],
   "source": [
    "import mysql.connector\n",
    "db= mysql.connector.connect(host=\"localhost\",user=\"root\",password=\"root\",database=\"flight\")"
   ]
  },
  {
   "cell_type": "code",
   "execution_count": 17,
   "id": "aeece3ca",
   "metadata": {},
   "outputs": [],
   "source": [
    "con1=db.cursor()"
   ]
  },
  {
   "cell_type": "code",
   "execution_count": 24,
   "id": "913126c0",
   "metadata": {},
   "outputs": [],
   "source": [
    "sql_query=\"select * from flight.passenger\"\n",
    "con1.execute(sql_query)\n"
   ]
  },
  {
   "cell_type": "code",
   "execution_count": 23,
   "id": "7890953d",
   "metadata": {},
   "outputs": [
    {
     "data": {
      "text/plain": [
       "[('Sakharam', 'Rajegore', 'sakha@', 4),\n",
       " ('james', 'jorde', 'jorde@', 4),\n",
       " ('mikel', 'smith', 'smith@', 4),\n",
       " ('john', 'kahli', 'jon@', 7)]"
      ]
     },
     "execution_count": 23,
     "metadata": {},
     "output_type": "execute_result"
    }
   ],
   "source": [
    "con1.fetchall()"
   ]
  },
  {
   "cell_type": "code",
   "execution_count": 27,
   "id": "e8909215",
   "metadata": {},
   "outputs": [],
   "source": [
    "#Data Manipulation\n",
    "sql_insert=\"insert into passenger values('sp','patil','patil@',7)\""
   ]
  },
  {
   "cell_type": "code",
   "execution_count": 59,
   "id": "235f3df4",
   "metadata": {},
   "outputs": [],
   "source": [
    "db= mysql.connector.connect(host=\"localhost\",user=\"root\",password=\"root\",database=\"flight\")\n",
    "con2=db.cursor()"
   ]
  },
  {
   "cell_type": "code",
   "execution_count": 60,
   "id": "26d7b03f",
   "metadata": {},
   "outputs": [],
   "source": [
    "con2.execute(sql_insert)"
   ]
  },
  {
   "cell_type": "code",
   "execution_count": 65,
   "id": "85121128",
   "metadata": {},
   "outputs": [
    {
     "data": {
      "text/plain": [
       "<bound method CMySQLConnection.commit of <mysql.connector.connection_cext.CMySQLConnection object at 0x000002103D63FBB0>>"
      ]
     },
     "execution_count": 65,
     "metadata": {},
     "output_type": "execute_result"
    }
   ],
   "source": [
    "#commit is used for to insert, update,delete to commit the changes..\n",
    "db.commit"
   ]
  },
  {
   "cell_type": "code",
   "execution_count": 62,
   "id": "c807a374",
   "metadata": {},
   "outputs": [],
   "source": [
    "#display the changes\n",
    "sql_select=\"select * from flight.passenger\""
   ]
  },
  {
   "cell_type": "code",
   "execution_count": 63,
   "id": "b0dddf40",
   "metadata": {},
   "outputs": [],
   "source": [
    "con2.execute(sql_select)"
   ]
  },
  {
   "cell_type": "code",
   "execution_count": 64,
   "id": "047341ff",
   "metadata": {},
   "outputs": [
    {
     "name": "stdout",
     "output_type": "stream",
     "text": [
      "('Sakharam', 'Rajegore', 'sakha@', 4)\n",
      "('james', 'jorde', 'jorde@', 4)\n",
      "('mikel', 'smith', 'smith@', 4)\n",
      "('john', 'kahli', 'jon@', 7)\n",
      "('sp', 'patil', 'patil@', 7)\n"
     ]
    }
   ],
   "source": [
    "a=con2.fetchall()\n",
    "for i in a:\n",
    "    print(i)"
   ]
  },
  {
   "cell_type": "code",
   "execution_count": 66,
   "id": "f24aec71",
   "metadata": {},
   "outputs": [],
   "source": []
  },
  {
   "cell_type": "code",
   "execution_count": null,
   "id": "5cc2d45c",
   "metadata": {},
   "outputs": [],
   "source": [
    "#"
   ]
  },
  {
   "cell_type": "code",
   "execution_count": 68,
   "id": "138c1d2e",
   "metadata": {},
   "outputs": [],
   "source": []
  },
  {
   "cell_type": "code",
   "execution_count": null,
   "id": "1b35bbe0",
   "metadata": {},
   "outputs": [],
   "source": [
    "    \n",
    "    "
   ]
  },
  {
   "cell_type": "code",
   "execution_count": null,
   "id": "995b80eb",
   "metadata": {},
   "outputs": [],
   "source": []
  }
 ],
 "metadata": {
  "kernelspec": {
   "display_name": "Python 3 (ipykernel)",
   "language": "python",
   "name": "python3"
  },
  "language_info": {
   "codemirror_mode": {
    "name": "ipython",
    "version": 3
   },
   "file_extension": ".py",
   "mimetype": "text/x-python",
   "name": "python",
   "nbconvert_exporter": "python",
   "pygments_lexer": "ipython3",
   "version": "3.9.12"
  }
 },
 "nbformat": 4,
 "nbformat_minor": 5
}
