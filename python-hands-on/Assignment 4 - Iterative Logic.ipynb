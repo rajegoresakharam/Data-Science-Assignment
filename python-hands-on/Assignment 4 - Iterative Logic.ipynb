{
 "cells": [
  {
   "cell_type": "markdown",
   "id": "9acd52dd",
   "metadata": {
    "id": "9acd52dd"
   },
   "source": [
    "# Assessment - 4 Gradable\n",
    "\n",
    "- Each question carries 5 marks\n",
    "- Marks will be assigned in terms of:\n",
    "    \n",
    "    **1. Expected output**\n",
    "    \n",
    "    **2. Quality and Explainability of code**\n",
    "\n",
    "    ***Go back through the script and type a comment above each line explaining in English what it does.***\n",
    "\n",
    "    **3. Copied code, if found, will result in 0 marks for that question. To avoid this make as much comments in the code to explain the approach**"
   ]
  },
  {
   "cell_type": "markdown",
   "id": "1dd6b730",
   "metadata": {
    "id": "1dd6b730"
   },
   "source": [
    "### 1. \n",
    "\n",
    "Write a function ``clap_tap`` that prints the integers from 1 to 100. But for multiples of three print \"Clap\" instead of the number, and for the multiples of five print \"Tap\". For numbers which are multiples of both three and five print \"ClapTap\"."
   ]
  },
  {
   "cell_type": "code",
   "execution_count": 7,
   "id": "04ae6248",
   "metadata": {
    "id": "04ae6248"
   },
   "outputs": [
    {
     "name": "stdout",
     "output_type": "stream",
     "text": [
      "Enter the number to play Clap,Tap or ClapTap:- 50\n",
      "1\n",
      "2\n",
      "ClapTap\n",
      "4\n",
      "Tap\n",
      "ClapTap\n",
      "7\n",
      "8\n",
      "ClapTap\n",
      "Tap\n",
      "11\n",
      "ClapTap\n",
      "13\n",
      "14\n",
      "ClapTap\n",
      "16\n",
      "17\n",
      "ClapTap\n",
      "19\n",
      "Tap\n",
      "ClapTap\n",
      "22\n",
      "23\n",
      "ClapTap\n",
      "Tap\n",
      "26\n",
      "ClapTap\n",
      "28\n",
      "29\n",
      "ClapTap\n",
      "31\n",
      "32\n",
      "ClapTap\n",
      "34\n",
      "Tap\n",
      "ClapTap\n",
      "37\n",
      "38\n",
      "ClapTap\n",
      "Tap\n",
      "41\n",
      "ClapTap\n",
      "43\n",
      "44\n",
      "ClapTap\n",
      "46\n",
      "47\n",
      "ClapTap\n",
      "49\n",
      "Tap\n"
     ]
    }
   ],
   "source": [
    "def clap_tap(num):\n",
    "    for i in range(1,num+1):\n",
    "        if i%3==0 & i%5==0:\n",
    "             print('ClapTap')\n",
    "        elif i%3==0:\n",
    "             print('Clap')\n",
    "        elif i%5==0:\n",
    "            print('Tap')\n",
    "        else:\n",
    "            print(i)\n",
    "num=int(input(\"Enter the number to play Clap,Tap or ClapTap:- \"))        \n",
    "clap_tap(num)"
   ]
  },
  {
   "cell_type": "markdown",
   "id": "ffc26930",
   "metadata": {
    "id": "ffc26930"
   },
   "source": [
    "### 2. \n",
    "\n",
    "ANIMAL CRACKERS: Write a function takes a two-word string and returns True if both words begin with same letter and returns False if both words begin with different letter\n",
    "- animal_crackers('Levelheaded Lion') --> True\n",
    "- animal_crackers('Cute Kangaroo') --> False"
   ]
  },
  {
   "cell_type": "code",
   "execution_count": 3,
   "id": "dbaf2f2a",
   "metadata": {
    "id": "dbaf2f2a"
   },
   "outputs": [
    {
     "name": "stdout",
     "output_type": "stream",
     "text": [
      "Enter First String:- patil\n",
      "Enter Second String:- pawar\n"
     ]
    },
    {
     "data": {
      "text/plain": [
       "True"
      ]
     },
     "execution_count": 3,
     "metadata": {},
     "output_type": "execute_result"
    }
   ],
   "source": [
    "def animal_crackers(str1,str2):\n",
    "    if str1[0]==str2[0]:\n",
    "        return True\n",
    "    else:\n",
    "        return False\n",
    "str1=input(\"Enter First String:- \")\n",
    "str2=input(\"Enter Second String:- \")\n",
    "animal_crackers(str1,str2)"
   ]
  },
  {
   "cell_type": "markdown",
   "id": "eec7fc6c",
   "metadata": {
    "id": "eec7fc6c"
   },
   "source": [
    "### 3. \n",
    "\n",
    "Create a function ``shout_out`` Given a string, return a string where:\n",
    "#### for every character in the original there are three characters\n",
    "\n",
    "    - shout_out('character') --> 'ccchhhaaarrraaacccttteeerrr'\n",
    "    - shout_out('original') --> 'ooorrriiigggiiinnnaaalll'"
   ]
  },
  {
   "cell_type": "code",
   "execution_count": 15,
   "id": "4de40729",
   "metadata": {
    "id": "4de40729"
   },
   "outputs": [
    {
     "name": "stdout",
     "output_type": "stream",
     "text": [
      "Enter the String:- sakha\n"
     ]
    },
    {
     "data": {
      "text/plain": [
       "'sssaaakkkhhhaaa'"
      ]
     },
     "execution_count": 15,
     "metadata": {},
     "output_type": "execute_result"
    }
   ],
   "source": [
    "def shout_out(str1):\n",
    "    str2=''\n",
    "    for i  in str1:\n",
    "        str2+=i*3\n",
    "    return str2\n",
    "    \n",
    "str1=input(\"Enter the String:- \")\n",
    "shout_out(str1)"
   ]
  },
  {
   "cell_type": "markdown",
   "id": "6739aeef",
   "metadata": {
    "id": "6739aeef"
   },
   "source": [
    "### 4. \n",
    "\n",
    "Create a function ``ignore_6_to_9`` that returns the sum of the numbers in the array, except ignore sections of numbers starting with a 6 and extending to the next 9 (every 6 will be followed by at least one 9). Return 0 for no numbers.\n",
    " \n",
    "- ignore_6_to_9([1, 3, 5]) --> 9\n",
    "- ignore_6_to_9([4, 5, 6, 7, 8, 9]) --> 9\n",
    "- ignore_6_to_9([2, 1, 6, 9, 11]) --> 14"
   ]
  },
  {
   "cell_type": "code",
   "execution_count": 56,
   "id": "7d794c2f",
   "metadata": {},
   "outputs": [
    {
     "data": {
      "text/plain": [
       "(6, 6, 10)"
      ]
     },
     "execution_count": 56,
     "metadata": {},
     "output_type": "execute_result"
    }
   ],
   "source": [
    "def ignore_6_to_9(l1):\n",
    "    sum,a,b=0,0,0\n",
    "    for i in range(0,len(l1)):\n",
    "        if l1[i]<6 and l1[i]!=6:\n",
    "            sum+=l1[i]\n",
    "                \n",
    "        else:\n",
    "            a=i\n",
    "            for i in range(0,len(l1)):\n",
    "                if l1[i]==9:\n",
    "                    b=i\n",
    "    return a,b,sum\n",
    "ignore_6_to_9([1,4,5,6,7,8,9])"
   ]
  },
  {
   "cell_type": "code",
   "execution_count": 58,
   "id": "1ec4e63e",
   "metadata": {
    "id": "1ec4e63e"
   },
   "outputs": [
    {
     "data": {
      "text/plain": [
       "24"
      ]
     },
     "execution_count": 58,
     "metadata": {},
     "output_type": "execute_result"
    }
   ],
   "source": [
    "def ignore_6_to_9(l1):\n",
    "    sum,a,b=0,0,0\n",
    "    for i in range(0,len(l1)):\n",
    "        if l1[i]<6 and l1[i]!=6:\n",
    "            sum+=l1[i]\n",
    "                \n",
    "        else:\n",
    "            a=i\n",
    "            for i in range(0,len(l1)):\n",
    "                if l1[i]==9:\n",
    "                    b=i\n",
    "    for a in range(a,b):\n",
    "        sum +=0\n",
    "    if b==len(l1):\n",
    "        return sum\n",
    "    else:\n",
    "        for a in range(b+1,len(l1)):\n",
    "            sum+=l1[a]\n",
    "        return sum\n",
    "ignore_6_to_9([4,5,6,9,7,8])"
   ]
  },
  {
   "cell_type": "markdown",
   "id": "af46e819",
   "metadata": {
    "id": "af46e819"
   },
   "source": [
    "### 5.\n",
    "\n",
    "Write a program to iterate the first 10 numbers and in each iteration, print the sum of the current and previous number.\n",
    "\n",
    "- Current Number 0 Previous Number  0  Sum:  0\n",
    "- Current Number 1 Previous Number  0  Sum:  1 and so on"
   ]
  },
  {
   "cell_type": "code",
   "execution_count": 29,
   "id": "830a0664",
   "metadata": {
    "id": "830a0664"
   },
   "outputs": [
    {
     "name": "stdout",
     "output_type": "stream",
     "text": [
      "Enter the number:- 12\n",
      "sum of first/current term if we start with zero := 0 \n",
      "sum of current '1' and previous '0' term:=1\n",
      "sum of current '2' and previous '1' term:=3\n",
      "sum of current '3' and previous '2' term:=5\n",
      "sum of current '4' and previous '3' term:=7\n",
      "sum of current '5' and previous '4' term:=9\n",
      "sum of current '6' and previous '5' term:=11\n",
      "sum of current '7' and previous '6' term:=13\n",
      "sum of current '8' and previous '7' term:=15\n",
      "sum of current '9' and previous '8' term:=17\n",
      "sum of current '10' and previous '9' term:=19\n",
      "sum of current '11' and previous '10' term:=21\n",
      "sum of current '12' and previous '11' term:=23\n"
     ]
    }
   ],
   "source": [
    "def sumOfcurrentPrevious(num):\n",
    "    sum=0\n",
    "    print(\"sum of first/current term if we start with zero := 0 \")\n",
    "    for i in range(1,num+1):\n",
    "        sum +=(i-1)+i\n",
    "        print(\"sum of current '{1}' and previous '{2}' term:={0}\".format(sum,i,i-1))\n",
    "        sum=0\n",
    "number=int(input(\"Enter the number:- \"))\n",
    "sumOfcurrentPrevious(number)\n",
    "        "
   ]
  },
  {
   "cell_type": "code",
   "execution_count": null,
   "id": "5ccd457c",
   "metadata": {},
   "outputs": [],
   "source": []
  }
 ],
 "metadata": {
  "colab": {
   "provenance": []
  },
  "kernelspec": {
   "display_name": "Python 3 (ipykernel)",
   "language": "python",
   "name": "python3"
  },
  "language_info": {
   "codemirror_mode": {
    "name": "ipython",
    "version": 3
   },
   "file_extension": ".py",
   "mimetype": "text/x-python",
   "name": "python",
   "nbconvert_exporter": "python",
   "pygments_lexer": "ipython3",
   "version": "3.9.12"
  }
 },
 "nbformat": 4,
 "nbformat_minor": 5
}
