{
 "cells": [
  {
   "cell_type": "markdown",
   "id": "8a30d880",
   "metadata": {
    "id": "8a30d880"
   },
   "source": [
    "# Assessment - 6 Gradable\n",
    "\n",
    "- Each question carries 5 or 4 marks\n",
    "- Marks will be assigned in terms of:\n",
    "    \n",
    "    **1. Expected output**\n",
    "    \n",
    "    **2. Quality and Explainability of code**\n",
    "\n",
    "    ***Go back through the script and type a comment above each line explaining in English what it does.***\n",
    "\n",
    "    **3. Copied code, if found, will result in 0 marks for that question. To avoid this make as much comments in the code to explain the approach**"
   ]
  },
  {
   "cell_type": "markdown",
   "id": "86255064",
   "metadata": {
    "id": "86255064"
   },
   "source": [
    "### 1. \n",
    "\n",
    "Write a Program to create a class 'Company' and using the class instance and print all the writable attributes of that object such as age, gender, salary, profession and designation. We take atleast 5 employees of an organization"
   ]
  },
  {
   "cell_type": "code",
   "execution_count": 5,
   "id": "4a098962",
   "metadata": {
    "id": "4a098962"
   },
   "outputs": [
    {
     "name": "stdout",
     "output_type": "stream",
     "text": [
      "Enter the number of Employees:- 2\n",
      "Enter the Age Of Employees:- 23\n",
      "Enter the Gender Of the Employee (M or F):- M\n",
      "Enter the salary of Employee:- 30000\n",
      "Enther the profession Of Employee:- Engineer\n",
      "Enter the designation of the Employee:- Data Engineer\n",
      "***************************************************** Employee Details **************************************************\n",
      "Age:-  23\n",
      "Gender:-  M\n",
      "Salary:-  30000\n",
      "Profession:-  Engineer\n",
      "Designation:-  Data Engineer\n",
      "***************************************************** Thank You!. ********************************************************\n",
      "Enter the Age Of Employees:- 23\n",
      "Enter the Gender Of the Employee (M or F):- F\n",
      "Enter the salary of Employee:- 40000\n",
      "Enther the profession Of Employee:- Engineer\n",
      "Enter the designation of the Employee:- junior Data Engineer\n",
      "***************************************************** Employee Details **************************************************\n",
      "Age:-  23\n",
      "Gender:-  F\n",
      "Salary:-  40000\n",
      "Profession:-  Engineer\n",
      "Designation:-  junior Data Engineer\n",
      "***************************************************** Thank You!. ********************************************************\n"
     ]
    }
   ],
   "source": [
    "class Company(object):\n",
    "    age=None\n",
    "    gender=None\n",
    "    salary=None\n",
    "    profession=None\n",
    "    designation=None\n",
    "    def __init__(self,age,gender,salary,profession,designation):\n",
    "        self.age=age\n",
    "        self.gender=gender\n",
    "        self.salary=salary\n",
    "        self.profession=profession\n",
    "        self.designation=designation\n",
    "    def show_details(self):\n",
    "        print(\"Age:- \",self.age)\n",
    "        print(\"Gender:- \",self.gender)\n",
    "        print(\"Salary:- \",self.salary)\n",
    "        print(\"Profession:- \",self.profession)\n",
    "        print(\"Designation:- \",self.designation)\n",
    "\n",
    "n=int(input(\"Enter the number of Employees:- \"))\n",
    "for emp in range(1,n+1):\n",
    "    \n",
    "    age=int(input(\"Enter the Age Of Employees:- \"))\n",
    "    gender=input(\"Enter the Gender Of the Employee (M or F):- \")\n",
    "    salary=int(input(\"Enter the salary of Employee:- \"))\n",
    "    profession=input(\"Enther the profession Of Employee:- \")\n",
    "    desig=input(\"Enter the designation of the Employee:- \")\n",
    "\n",
    "    comp=Company(age,gender,salary,profession,desig)\n",
    "    print(\"***************************************************** Employee Details **************************************************\")\n",
    "    comp.show_details()\n",
    "    print(\"***************************************************** Thank You!. ********************************************************\")"
   ]
  },
  {
   "cell_type": "markdown",
   "id": "df5c6917",
   "metadata": {
    "id": "df5c6917"
   },
   "source": [
    "### 2. \n",
    "\n",
    "Write a program to store details of 6 customers in a text file with features of Unique Customer Id, Name, Location, Phone Number, Last Purchase Date for an ecommerce website that canbe considered for future records\n"
   ]
  },
  {
   "cell_type": "code",
   "execution_count": 30,
   "id": "6aaac08a",
   "metadata": {
    "id": "6aaac08a"
   },
   "outputs": [
    {
     "name": "stdout",
     "output_type": "stream",
     "text": [
      "Enter the number of Customers:- 1\n",
      "Enter the customer Id:- 434\n",
      "Enter the name of Customer:- ugfr\n",
      "Enter the Location of Customer:- erqheq\n",
      "Enter the the Phone Number:- 4538572\n",
      "Enter the PurchaseDate:- 2032\n"
     ]
    }
   ],
   "source": [
    "class Customer(object):\n",
    "    Id=None\n",
    "    Name=None\n",
    "    Location=None\n",
    "    PhoneNumber=None\n",
    "    LastPurchaseDate=None\n",
    "    \n",
    "    def __init__(self,Id,Name,Location,PhoneNumber,LastPurchaseDate):\n",
    "        self.Id=Id\n",
    "        self.Name=Name\n",
    "        self.Location=Location\n",
    "        self.PhoneNumber=PhoneNumber\n",
    "        self.LastPurchaseDate=LastPurchaseDate\n",
    "    \n",
    "    def SaveDetails(self):\n",
    "\n",
    "        with open(\"customersDetails.txt\",'a') as f:\n",
    "            \n",
    "            f.writelines(\"****************************************Customers Details********************************************\\n\")\n",
    "            f.write(f\" ID={self.Id}\\n Name={self.Name}\\n Location={self.Location}\\n PurchaseDate={self.LastPurchaseDate}\\n\")\n",
    "            \n",
    "            f.close()\n",
    "            \n",
    "\n",
    "n=int(input(\"Enter the number of Customers:- \"))\n",
    "for a in range(0,n):\n",
    "    ID=input(\"Enter the customer Id:- \")\n",
    "    Name=input(\"Enter the name of Customer:- \")\n",
    "    loc=input(\"Enter the Location of Customer:- \")\n",
    "    Phone=input(\"Enter the the Phone Number:- \")\n",
    "    PurchaseDate=input(\"Enter the PurchaseDate:- \")\n",
    "    cust=Customer(ID,Name,loc,Phone,PurchaseDate)\n",
    "    cust.SaveDetails()\n",
    "            "
   ]
  },
  {
   "cell_type": "markdown",
   "id": "51f22264",
   "metadata": {
    "id": "51f22264"
   },
   "source": [
    "### 3. \n",
    "\n",
    "Build a Simple Calculator using Exception Handling (try, except) that solves 4 arithmetic operations like Addition, Subtraction, Multiplication and Division.\n"
   ]
  },
  {
   "cell_type": "code",
   "execution_count": 46,
   "id": "5b52eb5c",
   "metadata": {
    "id": "5b52eb5c"
   },
   "outputs": [
    {
     "name": "stdout",
     "output_type": "stream",
     "text": [
      "multication:- 50\n",
      "Addition:-  15\n",
      "Substraction:-  5\n",
      "Division:-  2.0\n"
     ]
    }
   ],
   "source": [
    "class Calculator(object):\n",
    "    num1=0\n",
    "    num2=0\n",
    "    def __init__(self,num1,num2):\n",
    "        self.num1=num1\n",
    "        self.num2=num2\n",
    "        \n",
    "        \n",
    "    def Addition(self):\n",
    "        try:\n",
    "            add=self.num1+self.num2\n",
    "            return add\n",
    "        except Exception as e:\n",
    "            print(\"Please make sure both values are integer.\")\n",
    "\n",
    "    def Substrction(self):\n",
    "        try:\n",
    "            \n",
    "            sub=self.num1 - self.num2\n",
    "            return sub\n",
    "        except Exception as e:\n",
    "            print(\"Please make sure both values are integer.\")    \n",
    "\n",
    "    def multiply(self):\n",
    "        try:\n",
    "            mul=self.num1 * self.num2\n",
    "            return mul\n",
    "        except Exception as e:\n",
    "            print(\"Please make sure both values are integer.\")\n",
    "    def Division(self):\n",
    "        try:\n",
    "            \n",
    "            div=self.num1 / self.num2\n",
    "            return div \n",
    "        except ZeroDivisionError as e:\n",
    "            print(\"Please make sure both values are integer.\")\n",
    "\n",
    "            \n",
    "            \n",
    "Cl=Calculator(10,5)\n",
    "print(\"multication:-\",Cl.multiply())\n",
    "print(\"Addition:- \",Cl.Addition())\n",
    "print(\"Substraction:- \",Cl.Substrction())\n",
    "print(\"Division:- \",Cl.Division())"
   ]
  },
  {
   "cell_type": "code",
   "execution_count": null,
   "id": "8ef9142e",
   "metadata": {},
   "outputs": [],
   "source": []
  },
  {
   "cell_type": "code",
   "execution_count": null,
   "id": "1c27e591",
   "metadata": {},
   "outputs": [],
   "source": []
  },
  {
   "cell_type": "code",
   "execution_count": null,
   "id": "bf443b7b",
   "metadata": {},
   "outputs": [],
   "source": []
  }
 ],
 "metadata": {
  "colab": {
   "provenance": []
  },
  "kernelspec": {
   "display_name": "Python 3 (ipykernel)",
   "language": "python",
   "name": "python3"
  },
  "language_info": {
   "codemirror_mode": {
    "name": "ipython",
    "version": 3
   },
   "file_extension": ".py",
   "mimetype": "text/x-python",
   "name": "python",
   "nbconvert_exporter": "python",
   "pygments_lexer": "ipython3",
   "version": "3.9.12"
  }
 },
 "nbformat": 4,
 "nbformat_minor": 5
}
