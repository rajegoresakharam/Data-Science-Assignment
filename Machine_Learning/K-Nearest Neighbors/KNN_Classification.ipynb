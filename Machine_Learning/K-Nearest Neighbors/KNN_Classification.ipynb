{
 "cells": [
  {
   "cell_type": "code",
   "execution_count": 1,
   "id": "338d197c",
   "metadata": {},
   "outputs": [],
   "source": [
    "import numpy as np\n",
    "import pandas as pd\n",
    "import matplotlib.pyplot as plt\n",
    "import seaborn as sns\n",
    "from warnings import simplefilter\n",
    "simplefilter(action='ignore',category=FutureWarning)"
   ]
  },
  {
   "cell_type": "code",
   "execution_count": 2,
   "id": "79015bfd",
   "metadata": {},
   "outputs": [],
   "source": [
    "bank=pd.read_csv('../Datasets/bank.csv',delimiter=';')"
   ]
  },
  {
   "cell_type": "code",
   "execution_count": 3,
   "id": "a7fb5088",
   "metadata": {},
   "outputs": [
    {
     "name": "stdout",
     "output_type": "stream",
     "text": [
      "<class 'pandas.core.frame.DataFrame'>\n",
      "RangeIndex: 4521 entries, 0 to 4520\n",
      "Data columns (total 17 columns):\n",
      " #   Column     Non-Null Count  Dtype \n",
      "---  ------     --------------  ----- \n",
      " 0   age        4521 non-null   int64 \n",
      " 1   job        4521 non-null   object\n",
      " 2   marital    4521 non-null   object\n",
      " 3   education  4521 non-null   object\n",
      " 4   default    4521 non-null   object\n",
      " 5   balance    4521 non-null   int64 \n",
      " 6   housing    4521 non-null   object\n",
      " 7   loan       4521 non-null   object\n",
      " 8   contact    4521 non-null   object\n",
      " 9   day        4521 non-null   int64 \n",
      " 10  month      4521 non-null   object\n",
      " 11  duration   4521 non-null   int64 \n",
      " 12  campaign   4521 non-null   int64 \n",
      " 13  pdays      4521 non-null   int64 \n",
      " 14  previous   4521 non-null   int64 \n",
      " 15  poutcome   4521 non-null   object\n",
      " 16  y          4521 non-null   object\n",
      "dtypes: int64(7), object(10)\n",
      "memory usage: 600.6+ KB\n"
     ]
    }
   ],
   "source": [
    "bank.info()"
   ]
  },
  {
   "cell_type": "markdown",
   "id": "3dd45856",
   "metadata": {},
   "source": [
    "## #Feature Selection"
   ]
  },
  {
   "cell_type": "code",
   "execution_count": 4,
   "id": "7de742ad",
   "metadata": {},
   "outputs": [],
   "source": [
    "bank_df=bank[['age','job','marital','education','balance','loan','duration','campaign','pdays','previous','poutcome','y']]"
   ]
  },
  {
   "cell_type": "code",
   "execution_count": 5,
   "id": "d9742d7a",
   "metadata": {},
   "outputs": [
    {
     "data": {
      "text/html": [
       "<div>\n",
       "<style scoped>\n",
       "    .dataframe tbody tr th:only-of-type {\n",
       "        vertical-align: middle;\n",
       "    }\n",
       "\n",
       "    .dataframe tbody tr th {\n",
       "        vertical-align: top;\n",
       "    }\n",
       "\n",
       "    .dataframe thead th {\n",
       "        text-align: right;\n",
       "    }\n",
       "</style>\n",
       "<table border=\"1\" class=\"dataframe\">\n",
       "  <thead>\n",
       "    <tr style=\"text-align: right;\">\n",
       "      <th></th>\n",
       "      <th>age</th>\n",
       "      <th>job</th>\n",
       "      <th>marital</th>\n",
       "      <th>education</th>\n",
       "      <th>balance</th>\n",
       "      <th>loan</th>\n",
       "      <th>duration</th>\n",
       "      <th>campaign</th>\n",
       "      <th>pdays</th>\n",
       "      <th>previous</th>\n",
       "      <th>poutcome</th>\n",
       "      <th>y</th>\n",
       "    </tr>\n",
       "  </thead>\n",
       "  <tbody>\n",
       "    <tr>\n",
       "      <th>0</th>\n",
       "      <td>30</td>\n",
       "      <td>unemployed</td>\n",
       "      <td>married</td>\n",
       "      <td>primary</td>\n",
       "      <td>1787</td>\n",
       "      <td>no</td>\n",
       "      <td>79</td>\n",
       "      <td>1</td>\n",
       "      <td>-1</td>\n",
       "      <td>0</td>\n",
       "      <td>unknown</td>\n",
       "      <td>no</td>\n",
       "    </tr>\n",
       "    <tr>\n",
       "      <th>1</th>\n",
       "      <td>33</td>\n",
       "      <td>services</td>\n",
       "      <td>married</td>\n",
       "      <td>secondary</td>\n",
       "      <td>4789</td>\n",
       "      <td>yes</td>\n",
       "      <td>220</td>\n",
       "      <td>1</td>\n",
       "      <td>339</td>\n",
       "      <td>4</td>\n",
       "      <td>failure</td>\n",
       "      <td>no</td>\n",
       "    </tr>\n",
       "    <tr>\n",
       "      <th>2</th>\n",
       "      <td>35</td>\n",
       "      <td>management</td>\n",
       "      <td>single</td>\n",
       "      <td>tertiary</td>\n",
       "      <td>1350</td>\n",
       "      <td>no</td>\n",
       "      <td>185</td>\n",
       "      <td>1</td>\n",
       "      <td>330</td>\n",
       "      <td>1</td>\n",
       "      <td>failure</td>\n",
       "      <td>no</td>\n",
       "    </tr>\n",
       "    <tr>\n",
       "      <th>3</th>\n",
       "      <td>30</td>\n",
       "      <td>management</td>\n",
       "      <td>married</td>\n",
       "      <td>tertiary</td>\n",
       "      <td>1476</td>\n",
       "      <td>yes</td>\n",
       "      <td>199</td>\n",
       "      <td>4</td>\n",
       "      <td>-1</td>\n",
       "      <td>0</td>\n",
       "      <td>unknown</td>\n",
       "      <td>no</td>\n",
       "    </tr>\n",
       "    <tr>\n",
       "      <th>4</th>\n",
       "      <td>59</td>\n",
       "      <td>blue-collar</td>\n",
       "      <td>married</td>\n",
       "      <td>secondary</td>\n",
       "      <td>0</td>\n",
       "      <td>no</td>\n",
       "      <td>226</td>\n",
       "      <td>1</td>\n",
       "      <td>-1</td>\n",
       "      <td>0</td>\n",
       "      <td>unknown</td>\n",
       "      <td>no</td>\n",
       "    </tr>\n",
       "    <tr>\n",
       "      <th>...</th>\n",
       "      <td>...</td>\n",
       "      <td>...</td>\n",
       "      <td>...</td>\n",
       "      <td>...</td>\n",
       "      <td>...</td>\n",
       "      <td>...</td>\n",
       "      <td>...</td>\n",
       "      <td>...</td>\n",
       "      <td>...</td>\n",
       "      <td>...</td>\n",
       "      <td>...</td>\n",
       "      <td>...</td>\n",
       "    </tr>\n",
       "    <tr>\n",
       "      <th>4516</th>\n",
       "      <td>33</td>\n",
       "      <td>services</td>\n",
       "      <td>married</td>\n",
       "      <td>secondary</td>\n",
       "      <td>-333</td>\n",
       "      <td>no</td>\n",
       "      <td>329</td>\n",
       "      <td>5</td>\n",
       "      <td>-1</td>\n",
       "      <td>0</td>\n",
       "      <td>unknown</td>\n",
       "      <td>no</td>\n",
       "    </tr>\n",
       "    <tr>\n",
       "      <th>4517</th>\n",
       "      <td>57</td>\n",
       "      <td>self-employed</td>\n",
       "      <td>married</td>\n",
       "      <td>tertiary</td>\n",
       "      <td>-3313</td>\n",
       "      <td>yes</td>\n",
       "      <td>153</td>\n",
       "      <td>1</td>\n",
       "      <td>-1</td>\n",
       "      <td>0</td>\n",
       "      <td>unknown</td>\n",
       "      <td>no</td>\n",
       "    </tr>\n",
       "    <tr>\n",
       "      <th>4518</th>\n",
       "      <td>57</td>\n",
       "      <td>technician</td>\n",
       "      <td>married</td>\n",
       "      <td>secondary</td>\n",
       "      <td>295</td>\n",
       "      <td>no</td>\n",
       "      <td>151</td>\n",
       "      <td>11</td>\n",
       "      <td>-1</td>\n",
       "      <td>0</td>\n",
       "      <td>unknown</td>\n",
       "      <td>no</td>\n",
       "    </tr>\n",
       "    <tr>\n",
       "      <th>4519</th>\n",
       "      <td>28</td>\n",
       "      <td>blue-collar</td>\n",
       "      <td>married</td>\n",
       "      <td>secondary</td>\n",
       "      <td>1137</td>\n",
       "      <td>no</td>\n",
       "      <td>129</td>\n",
       "      <td>4</td>\n",
       "      <td>211</td>\n",
       "      <td>3</td>\n",
       "      <td>other</td>\n",
       "      <td>no</td>\n",
       "    </tr>\n",
       "    <tr>\n",
       "      <th>4520</th>\n",
       "      <td>44</td>\n",
       "      <td>entrepreneur</td>\n",
       "      <td>single</td>\n",
       "      <td>tertiary</td>\n",
       "      <td>1136</td>\n",
       "      <td>yes</td>\n",
       "      <td>345</td>\n",
       "      <td>2</td>\n",
       "      <td>249</td>\n",
       "      <td>7</td>\n",
       "      <td>other</td>\n",
       "      <td>no</td>\n",
       "    </tr>\n",
       "  </tbody>\n",
       "</table>\n",
       "<p>4521 rows × 12 columns</p>\n",
       "</div>"
      ],
      "text/plain": [
       "      age            job  marital  education  balance loan  duration  \\\n",
       "0      30     unemployed  married    primary     1787   no        79   \n",
       "1      33       services  married  secondary     4789  yes       220   \n",
       "2      35     management   single   tertiary     1350   no       185   \n",
       "3      30     management  married   tertiary     1476  yes       199   \n",
       "4      59    blue-collar  married  secondary        0   no       226   \n",
       "...   ...            ...      ...        ...      ...  ...       ...   \n",
       "4516   33       services  married  secondary     -333   no       329   \n",
       "4517   57  self-employed  married   tertiary    -3313  yes       153   \n",
       "4518   57     technician  married  secondary      295   no       151   \n",
       "4519   28    blue-collar  married  secondary     1137   no       129   \n",
       "4520   44   entrepreneur   single   tertiary     1136  yes       345   \n",
       "\n",
       "      campaign  pdays  previous poutcome   y  \n",
       "0            1     -1         0  unknown  no  \n",
       "1            1    339         4  failure  no  \n",
       "2            1    330         1  failure  no  \n",
       "3            4     -1         0  unknown  no  \n",
       "4            1     -1         0  unknown  no  \n",
       "...        ...    ...       ...      ...  ..  \n",
       "4516         5     -1         0  unknown  no  \n",
       "4517         1     -1         0  unknown  no  \n",
       "4518        11     -1         0  unknown  no  \n",
       "4519         4    211         3    other  no  \n",
       "4520         2    249         7    other  no  \n",
       "\n",
       "[4521 rows x 12 columns]"
      ]
     },
     "execution_count": 5,
     "metadata": {},
     "output_type": "execute_result"
    }
   ],
   "source": [
    "bank_df.copy()"
   ]
  },
  {
   "cell_type": "markdown",
   "id": "26299e82",
   "metadata": {},
   "source": [
    "## #Label Encoding for categorical feature"
   ]
  },
  {
   "cell_type": "code",
   "execution_count": 6,
   "id": "962f13bf",
   "metadata": {},
   "outputs": [],
   "source": [
    "from sklearn.preprocessing import LabelEncoder\n",
    "lable=LabelEncoder()"
   ]
  },
  {
   "cell_type": "code",
   "execution_count": 7,
   "id": "b80a1d06",
   "metadata": {},
   "outputs": [
    {
     "name": "stderr",
     "output_type": "stream",
     "text": [
      "C:\\Users\\lenovo\\AppData\\Local\\Temp\\ipykernel_5268\\3645217488.py:1: SettingWithCopyWarning: \n",
      "A value is trying to be set on a copy of a slice from a DataFrame.\n",
      "Try using .loc[row_indexer,col_indexer] = value instead\n",
      "\n",
      "See the caveats in the documentation: https://pandas.pydata.org/pandas-docs/stable/user_guide/indexing.html#returning-a-view-versus-a-copy\n",
      "  bank_df['job'] = lable.fit_transform(bank_df['job'])\n",
      "C:\\Users\\lenovo\\AppData\\Local\\Temp\\ipykernel_5268\\3645217488.py:2: SettingWithCopyWarning: \n",
      "A value is trying to be set on a copy of a slice from a DataFrame.\n",
      "Try using .loc[row_indexer,col_indexer] = value instead\n",
      "\n",
      "See the caveats in the documentation: https://pandas.pydata.org/pandas-docs/stable/user_guide/indexing.html#returning-a-view-versus-a-copy\n",
      "  bank_df['education'] = lable.fit_transform(bank_df['education'])\n",
      "C:\\Users\\lenovo\\AppData\\Local\\Temp\\ipykernel_5268\\3645217488.py:3: SettingWithCopyWarning: \n",
      "A value is trying to be set on a copy of a slice from a DataFrame.\n",
      "Try using .loc[row_indexer,col_indexer] = value instead\n",
      "\n",
      "See the caveats in the documentation: https://pandas.pydata.org/pandas-docs/stable/user_guide/indexing.html#returning-a-view-versus-a-copy\n",
      "  bank_df['marital'] = lable.fit_transform(bank_df['marital'])\n",
      "C:\\Users\\lenovo\\AppData\\Local\\Temp\\ipykernel_5268\\3645217488.py:4: SettingWithCopyWarning: \n",
      "A value is trying to be set on a copy of a slice from a DataFrame.\n",
      "Try using .loc[row_indexer,col_indexer] = value instead\n",
      "\n",
      "See the caveats in the documentation: https://pandas.pydata.org/pandas-docs/stable/user_guide/indexing.html#returning-a-view-versus-a-copy\n",
      "  bank_df['poutcome'] = lable.fit_transform(bank_df['poutcome'])\n",
      "C:\\Users\\lenovo\\AppData\\Local\\Temp\\ipykernel_5268\\3645217488.py:5: SettingWithCopyWarning: \n",
      "A value is trying to be set on a copy of a slice from a DataFrame.\n",
      "Try using .loc[row_indexer,col_indexer] = value instead\n",
      "\n",
      "See the caveats in the documentation: https://pandas.pydata.org/pandas-docs/stable/user_guide/indexing.html#returning-a-view-versus-a-copy\n",
      "  bank_df['y'] = lable.fit_transform(bank_df['y'])\n",
      "C:\\Users\\lenovo\\AppData\\Local\\Temp\\ipykernel_5268\\3645217488.py:6: SettingWithCopyWarning: \n",
      "A value is trying to be set on a copy of a slice from a DataFrame.\n",
      "Try using .loc[row_indexer,col_indexer] = value instead\n",
      "\n",
      "See the caveats in the documentation: https://pandas.pydata.org/pandas-docs/stable/user_guide/indexing.html#returning-a-view-versus-a-copy\n",
      "  bank_df['loan'] = lable.fit_transform(bank_df['loan'])\n"
     ]
    }
   ],
   "source": [
    "bank_df['job'] = lable.fit_transform(bank_df['job'])\n",
    "bank_df['education'] = lable.fit_transform(bank_df['education'])\n",
    "bank_df['marital'] = lable.fit_transform(bank_df['marital'])\n",
    "bank_df['poutcome'] = lable.fit_transform(bank_df['poutcome'])\n",
    "bank_df['y'] = lable.fit_transform(bank_df['y'])\n",
    "bank_df['loan'] = lable.fit_transform(bank_df['loan'])"
   ]
  },
  {
   "cell_type": "code",
   "execution_count": 8,
   "id": "a6168cd9",
   "metadata": {},
   "outputs": [
    {
     "data": {
      "text/plain": [
       "Index(['age', 'job', 'marital', 'education', 'balance', 'loan', 'duration',\n",
       "       'campaign', 'pdays', 'previous', 'poutcome', 'y'],\n",
       "      dtype='object')"
      ]
     },
     "execution_count": 8,
     "metadata": {},
     "output_type": "execute_result"
    }
   ],
   "source": [
    "bank_df.columns"
   ]
  },
  {
   "cell_type": "code",
   "execution_count": 9,
   "id": "2bfe9743",
   "metadata": {},
   "outputs": [
    {
     "data": {
      "text/plain": [
       "0    4000\n",
       "1     521\n",
       "Name: y, dtype: int64"
      ]
     },
     "execution_count": 9,
     "metadata": {},
     "output_type": "execute_result"
    }
   ],
   "source": [
    "bank_df.y.value_counts()"
   ]
  },
  {
   "cell_type": "code",
   "execution_count": 10,
   "id": "7553b0f7",
   "metadata": {},
   "outputs": [],
   "source": [
    "X = bank_df[['age', 'education', 'balance', 'loan', 'duration',\n",
    "       'campaign', 'pdays', 'previous', 'poutcome']]\n",
    "y = bank_df['y']"
   ]
  },
  {
   "cell_type": "code",
   "execution_count": 11,
   "id": "461d6678",
   "metadata": {},
   "outputs": [
    {
     "data": {
      "text/html": [
       "<div>\n",
       "<style scoped>\n",
       "    .dataframe tbody tr th:only-of-type {\n",
       "        vertical-align: middle;\n",
       "    }\n",
       "\n",
       "    .dataframe tbody tr th {\n",
       "        vertical-align: top;\n",
       "    }\n",
       "\n",
       "    .dataframe thead th {\n",
       "        text-align: right;\n",
       "    }\n",
       "</style>\n",
       "<table border=\"1\" class=\"dataframe\">\n",
       "  <thead>\n",
       "    <tr style=\"text-align: right;\">\n",
       "      <th></th>\n",
       "      <th>age</th>\n",
       "      <th>job</th>\n",
       "      <th>marital</th>\n",
       "      <th>education</th>\n",
       "      <th>balance</th>\n",
       "      <th>loan</th>\n",
       "      <th>duration</th>\n",
       "      <th>campaign</th>\n",
       "      <th>pdays</th>\n",
       "      <th>previous</th>\n",
       "      <th>poutcome</th>\n",
       "      <th>y</th>\n",
       "    </tr>\n",
       "  </thead>\n",
       "  <tbody>\n",
       "    <tr>\n",
       "      <th>age</th>\n",
       "      <td>1.000000</td>\n",
       "      <td>-0.021500</td>\n",
       "      <td>-0.381485</td>\n",
       "      <td>-0.121613</td>\n",
       "      <td>0.083820</td>\n",
       "      <td>-0.011250</td>\n",
       "      <td>-0.002367</td>\n",
       "      <td>-0.005148</td>\n",
       "      <td>-0.008894</td>\n",
       "      <td>-0.003511</td>\n",
       "      <td>-0.009320</td>\n",
       "      <td>0.045092</td>\n",
       "    </tr>\n",
       "    <tr>\n",
       "      <th>job</th>\n",
       "      <td>-0.021500</td>\n",
       "      <td>1.000000</td>\n",
       "      <td>0.069390</td>\n",
       "      <td>0.170160</td>\n",
       "      <td>0.009797</td>\n",
       "      <td>-0.040245</td>\n",
       "      <td>-0.006739</td>\n",
       "      <td>-0.002739</td>\n",
       "      <td>-0.022760</td>\n",
       "      <td>0.005029</td>\n",
       "      <td>0.013049</td>\n",
       "      <td>0.027401</td>\n",
       "    </tr>\n",
       "    <tr>\n",
       "      <th>marital</th>\n",
       "      <td>-0.381485</td>\n",
       "      <td>0.069390</td>\n",
       "      <td>1.000000</td>\n",
       "      <td>0.102714</td>\n",
       "      <td>0.024971</td>\n",
       "      <td>-0.045210</td>\n",
       "      <td>0.006619</td>\n",
       "      <td>0.005915</td>\n",
       "      <td>0.017050</td>\n",
       "      <td>0.038028</td>\n",
       "      <td>-0.027716</td>\n",
       "      <td>0.015042</td>\n",
       "    </tr>\n",
       "    <tr>\n",
       "      <th>education</th>\n",
       "      <td>-0.121613</td>\n",
       "      <td>0.170160</td>\n",
       "      <td>0.102714</td>\n",
       "      <td>1.000000</td>\n",
       "      <td>0.057725</td>\n",
       "      <td>-0.054086</td>\n",
       "      <td>-0.014878</td>\n",
       "      <td>-0.001723</td>\n",
       "      <td>0.012077</td>\n",
       "      <td>0.023983</td>\n",
       "      <td>-0.032135</td>\n",
       "      <td>0.042987</td>\n",
       "    </tr>\n",
       "    <tr>\n",
       "      <th>balance</th>\n",
       "      <td>0.083820</td>\n",
       "      <td>0.009797</td>\n",
       "      <td>0.024971</td>\n",
       "      <td>0.057725</td>\n",
       "      <td>1.000000</td>\n",
       "      <td>-0.071349</td>\n",
       "      <td>-0.015950</td>\n",
       "      <td>-0.009976</td>\n",
       "      <td>0.009437</td>\n",
       "      <td>0.026196</td>\n",
       "      <td>-0.029268</td>\n",
       "      <td>0.017905</td>\n",
       "    </tr>\n",
       "    <tr>\n",
       "      <th>loan</th>\n",
       "      <td>-0.011250</td>\n",
       "      <td>-0.040245</td>\n",
       "      <td>-0.045210</td>\n",
       "      <td>-0.054086</td>\n",
       "      <td>-0.071349</td>\n",
       "      <td>1.000000</td>\n",
       "      <td>-0.004997</td>\n",
       "      <td>0.017120</td>\n",
       "      <td>-0.031086</td>\n",
       "      <td>-0.022115</td>\n",
       "      <td>0.027028</td>\n",
       "      <td>-0.070517</td>\n",
       "    </tr>\n",
       "    <tr>\n",
       "      <th>duration</th>\n",
       "      <td>-0.002367</td>\n",
       "      <td>-0.006739</td>\n",
       "      <td>0.006619</td>\n",
       "      <td>-0.014878</td>\n",
       "      <td>-0.015950</td>\n",
       "      <td>-0.004997</td>\n",
       "      <td>1.000000</td>\n",
       "      <td>-0.068382</td>\n",
       "      <td>0.010380</td>\n",
       "      <td>0.018080</td>\n",
       "      <td>0.000478</td>\n",
       "      <td>0.401118</td>\n",
       "    </tr>\n",
       "    <tr>\n",
       "      <th>campaign</th>\n",
       "      <td>-0.005148</td>\n",
       "      <td>-0.002739</td>\n",
       "      <td>0.005915</td>\n",
       "      <td>-0.001723</td>\n",
       "      <td>-0.009976</td>\n",
       "      <td>0.017120</td>\n",
       "      <td>-0.068382</td>\n",
       "      <td>1.000000</td>\n",
       "      <td>-0.093137</td>\n",
       "      <td>-0.067833</td>\n",
       "      <td>0.110703</td>\n",
       "      <td>-0.061147</td>\n",
       "    </tr>\n",
       "    <tr>\n",
       "      <th>pdays</th>\n",
       "      <td>-0.008894</td>\n",
       "      <td>-0.022760</td>\n",
       "      <td>0.017050</td>\n",
       "      <td>0.012077</td>\n",
       "      <td>0.009437</td>\n",
       "      <td>-0.031086</td>\n",
       "      <td>0.010380</td>\n",
       "      <td>-0.093137</td>\n",
       "      <td>1.000000</td>\n",
       "      <td>0.577562</td>\n",
       "      <td>-0.859245</td>\n",
       "      <td>0.104087</td>\n",
       "    </tr>\n",
       "    <tr>\n",
       "      <th>previous</th>\n",
       "      <td>-0.003511</td>\n",
       "      <td>0.005029</td>\n",
       "      <td>0.038028</td>\n",
       "      <td>0.023983</td>\n",
       "      <td>0.026196</td>\n",
       "      <td>-0.022115</td>\n",
       "      <td>0.018080</td>\n",
       "      <td>-0.067833</td>\n",
       "      <td>0.577562</td>\n",
       "      <td>1.000000</td>\n",
       "      <td>-0.636372</td>\n",
       "      <td>0.116714</td>\n",
       "    </tr>\n",
       "    <tr>\n",
       "      <th>poutcome</th>\n",
       "      <td>-0.009320</td>\n",
       "      <td>0.013049</td>\n",
       "      <td>-0.027716</td>\n",
       "      <td>-0.032135</td>\n",
       "      <td>-0.029268</td>\n",
       "      <td>0.027028</td>\n",
       "      <td>0.000478</td>\n",
       "      <td>0.110703</td>\n",
       "      <td>-0.859245</td>\n",
       "      <td>-0.636372</td>\n",
       "      <td>1.000000</td>\n",
       "      <td>-0.082632</td>\n",
       "    </tr>\n",
       "    <tr>\n",
       "      <th>y</th>\n",
       "      <td>0.045092</td>\n",
       "      <td>0.027401</td>\n",
       "      <td>0.015042</td>\n",
       "      <td>0.042987</td>\n",
       "      <td>0.017905</td>\n",
       "      <td>-0.070517</td>\n",
       "      <td>0.401118</td>\n",
       "      <td>-0.061147</td>\n",
       "      <td>0.104087</td>\n",
       "      <td>0.116714</td>\n",
       "      <td>-0.082632</td>\n",
       "      <td>1.000000</td>\n",
       "    </tr>\n",
       "  </tbody>\n",
       "</table>\n",
       "</div>"
      ],
      "text/plain": [
       "                age       job   marital  education   balance      loan  \\\n",
       "age        1.000000 -0.021500 -0.381485  -0.121613  0.083820 -0.011250   \n",
       "job       -0.021500  1.000000  0.069390   0.170160  0.009797 -0.040245   \n",
       "marital   -0.381485  0.069390  1.000000   0.102714  0.024971 -0.045210   \n",
       "education -0.121613  0.170160  0.102714   1.000000  0.057725 -0.054086   \n",
       "balance    0.083820  0.009797  0.024971   0.057725  1.000000 -0.071349   \n",
       "loan      -0.011250 -0.040245 -0.045210  -0.054086 -0.071349  1.000000   \n",
       "duration  -0.002367 -0.006739  0.006619  -0.014878 -0.015950 -0.004997   \n",
       "campaign  -0.005148 -0.002739  0.005915  -0.001723 -0.009976  0.017120   \n",
       "pdays     -0.008894 -0.022760  0.017050   0.012077  0.009437 -0.031086   \n",
       "previous  -0.003511  0.005029  0.038028   0.023983  0.026196 -0.022115   \n",
       "poutcome  -0.009320  0.013049 -0.027716  -0.032135 -0.029268  0.027028   \n",
       "y          0.045092  0.027401  0.015042   0.042987  0.017905 -0.070517   \n",
       "\n",
       "           duration  campaign     pdays  previous  poutcome         y  \n",
       "age       -0.002367 -0.005148 -0.008894 -0.003511 -0.009320  0.045092  \n",
       "job       -0.006739 -0.002739 -0.022760  0.005029  0.013049  0.027401  \n",
       "marital    0.006619  0.005915  0.017050  0.038028 -0.027716  0.015042  \n",
       "education -0.014878 -0.001723  0.012077  0.023983 -0.032135  0.042987  \n",
       "balance   -0.015950 -0.009976  0.009437  0.026196 -0.029268  0.017905  \n",
       "loan      -0.004997  0.017120 -0.031086 -0.022115  0.027028 -0.070517  \n",
       "duration   1.000000 -0.068382  0.010380  0.018080  0.000478  0.401118  \n",
       "campaign  -0.068382  1.000000 -0.093137 -0.067833  0.110703 -0.061147  \n",
       "pdays      0.010380 -0.093137  1.000000  0.577562 -0.859245  0.104087  \n",
       "previous   0.018080 -0.067833  0.577562  1.000000 -0.636372  0.116714  \n",
       "poutcome   0.000478  0.110703 -0.859245 -0.636372  1.000000 -0.082632  \n",
       "y          0.401118 -0.061147  0.104087  0.116714 -0.082632  1.000000  "
      ]
     },
     "execution_count": 11,
     "metadata": {},
     "output_type": "execute_result"
    }
   ],
   "source": [
    "bank_df.corr()"
   ]
  },
  {
   "cell_type": "markdown",
   "id": "d0b3248e",
   "metadata": {},
   "source": [
    "## #Dealing with Imbalance Datasets"
   ]
  },
  {
   "cell_type": "code",
   "execution_count": 12,
   "id": "cbbaf940",
   "metadata": {},
   "outputs": [],
   "source": [
    "from imblearn.under_sampling import NearMiss\n",
    "under_sampling = NearMiss(n_neighbors=3,version=3)"
   ]
  },
  {
   "cell_type": "code",
   "execution_count": 13,
   "id": "2797600b",
   "metadata": {},
   "outputs": [
    {
     "name": "stdout",
     "output_type": "stream",
     "text": [
      "Counter({0: 521, 1: 521})\n"
     ]
    }
   ],
   "source": [
    "from collections import Counter\n",
    "X1,y1 = under_sampling.fit_resample(X,y)\n",
    "counter = Counter(y1)\n",
    "print(counter)"
   ]
  },
  {
   "cell_type": "code",
   "execution_count": null,
   "id": "9abccd21",
   "metadata": {},
   "outputs": [],
   "source": []
  },
  {
   "cell_type": "code",
   "execution_count": 14,
   "id": "c5445010",
   "metadata": {},
   "outputs": [],
   "source": [
    "## #Split the Data\n",
    "from  sklearn.model_selection import train_test_split\n",
    "X_train,X_test,y_train,y_test = train_test_split(X1,y1,test_size=0.2,random_state=101)"
   ]
  },
  {
   "cell_type": "code",
   "execution_count": 15,
   "id": "205ab146",
   "metadata": {},
   "outputs": [
    {
     "name": "stdout",
     "output_type": "stream",
     "text": [
      "(833, 9) \n",
      " (209, 9)\n"
     ]
    }
   ],
   "source": [
    "print(X_train.shape,'\\n',X_test.shape)"
   ]
  },
  {
   "cell_type": "code",
   "execution_count": 16,
   "id": "6d5c08ee",
   "metadata": {},
   "outputs": [
    {
     "name": "stdout",
     "output_type": "stream",
     "text": [
      "(833,) (209,)\n"
     ]
    }
   ],
   "source": [
    "print(y_train.shape,y_test.shape)"
   ]
  },
  {
   "cell_type": "markdown",
   "id": "46983f4a",
   "metadata": {},
   "source": [
    "## #Features Scaling"
   ]
  },
  {
   "cell_type": "code",
   "execution_count": 17,
   "id": "3b0c48dd",
   "metadata": {},
   "outputs": [],
   "source": [
    "from sklearn.preprocessing import StandardScaler\n",
    "scalar = StandardScaler()\n",
    "X_train_sclar = scalar.fit_transform(X_train)\n",
    "X_test_sclar = scalar.transform(X_test)"
   ]
  },
  {
   "cell_type": "markdown",
   "id": "d52ecf2c",
   "metadata": {},
   "source": [
    "## #Model Build and Prediction"
   ]
  },
  {
   "cell_type": "code",
   "execution_count": 18,
   "id": "6b9ba6bf",
   "metadata": {},
   "outputs": [
    {
     "data": {
      "text/plain": [
       "KNeighborsClassifier(n_neighbors=17)"
      ]
     },
     "execution_count": 18,
     "metadata": {},
     "output_type": "execute_result"
    }
   ],
   "source": [
    "from sklearn.neighbors import KNeighborsClassifier\n",
    "K_neighbors = KNeighborsClassifier(n_neighbors=17)\n",
    "K_neighbors.fit(X_train_sclar,y_train)"
   ]
  },
  {
   "cell_type": "code",
   "execution_count": 19,
   "id": "74a35e25",
   "metadata": {},
   "outputs": [],
   "source": [
    "#predecting values\n",
    "y_knn_pred=K_neighbors.predict(X_test_sclar)"
   ]
  },
  {
   "cell_type": "markdown",
   "id": "1b534e02",
   "metadata": {},
   "source": [
    "## #Model Evaluation"
   ]
  },
  {
   "cell_type": "code",
   "execution_count": 20,
   "id": "a4ecd3ee",
   "metadata": {},
   "outputs": [],
   "source": [
    "from sklearn.metrics import accuracy_score,classification_report,plot_confusion_matrix"
   ]
  },
  {
   "cell_type": "code",
   "execution_count": 21,
   "id": "6aea967b",
   "metadata": {},
   "outputs": [
    {
     "data": {
      "text/plain": [
       "0.6794258373205742"
      ]
     },
     "execution_count": 21,
     "metadata": {},
     "output_type": "execute_result"
    }
   ],
   "source": [
    "accuracy_score(y_test,y_knn_pred)"
   ]
  },
  {
   "cell_type": "code",
   "execution_count": 22,
   "id": "34e7ce70",
   "metadata": {},
   "outputs": [
    {
     "name": "stdout",
     "output_type": "stream",
     "text": [
      "              precision    recall  f1-score   support\n",
      "\n",
      "           0       0.68      0.66      0.67       102\n",
      "           1       0.68      0.70      0.69       107\n",
      "\n",
      "    accuracy                           0.68       209\n",
      "   macro avg       0.68      0.68      0.68       209\n",
      "weighted avg       0.68      0.68      0.68       209\n",
      "\n"
     ]
    }
   ],
   "source": [
    "print(classification_report(y_test,y_knn_pred))"
   ]
  },
  {
   "cell_type": "markdown",
   "id": "2959e6e3",
   "metadata": {},
   "source": [
    "##  #Best K values for Max Accuracy"
   ]
  },
  {
   "cell_type": "code",
   "execution_count": 23,
   "id": "c780c502",
   "metadata": {},
   "outputs": [],
   "source": [
    "test_error_for_k = []\n",
    "for k in range(1,30):\n",
    "    knear_model = KNeighborsClassifier(n_neighbors=k)\n",
    "    knear_model.fit(X_train_sclar,y_train)\n",
    "    k_ypred = knear_model.predict(X_test_sclar)\n",
    "    error = 1 - accuracy_score(y_test,k_ypred)\n",
    "    test_error_for_k.append(error)"
   ]
  },
  {
   "cell_type": "code",
   "execution_count": 24,
   "id": "e65e4821",
   "metadata": {},
   "outputs": [
    {
     "data": {
      "text/plain": [
       "[0.37799043062200954,\n",
       " 0.3875598086124402,\n",
       " 0.368421052631579,\n",
       " 0.37799043062200954,\n",
       " 0.368421052631579,\n",
       " 0.4114832535885168,\n",
       " 0.39234449760765555,\n",
       " 0.3875598086124402,\n",
       " 0.3827751196172249,\n",
       " 0.3875598086124402,\n",
       " 0.3732057416267942,\n",
       " 0.3875598086124402,\n",
       " 0.354066985645933,\n",
       " 0.368421052631579,\n",
       " 0.3397129186602871,\n",
       " 0.3444976076555024,\n",
       " 0.32057416267942584,\n",
       " 0.3253588516746412,\n",
       " 0.3588516746411483,\n",
       " 0.3301435406698564,\n",
       " 0.3397129186602871,\n",
       " 0.33492822966507174,\n",
       " 0.3253588516746412,\n",
       " 0.3444976076555024,\n",
       " 0.3301435406698564,\n",
       " 0.3253588516746412,\n",
       " 0.33492822966507174,\n",
       " 0.3397129186602871,\n",
       " 0.3157894736842105]"
      ]
     },
     "execution_count": 24,
     "metadata": {},
     "output_type": "execute_result"
    }
   ],
   "source": [
    "test_error_for_k"
   ]
  },
  {
   "cell_type": "markdown",
   "id": "1cc2e00b",
   "metadata": {},
   "source": [
    "## #Error plot w.r.t K value"
   ]
  },
  {
   "cell_type": "code",
   "execution_count": 37,
   "id": "3965c600",
   "metadata": {},
   "outputs": [
    {
     "data": {
      "image/png": "[encoded data removed]",
      "text/plain": [
       "<Figure size 1200x900 with 1 Axes>"
      ]
     },
     "metadata": {
      "needs_background": "light"
     },
     "output_type": "display_data"
    }
   ],
   "source": [
    "plt.figure(figsize=(8,6),dpi=150)\n",
    "plt.plot(range(1,30),test_error_for_k)\n",
    "plt.ylabel('test_error for k value')\n",
    "plt.xlabel('K value')\n",
    "plt.legend('Accuracy Error')\n",
    "plt.show()"
   ]
  },
  {
   "cell_type": "code",
   "execution_count": 26,
   "id": "e9615b38",
   "metadata": {},
   "outputs": [],
   "source": [
    "## #pipeline ----->GridSearchCV"
   ]
  },
  {
   "cell_type": "code",
   "execution_count": 27,
   "id": "e0a09ad5",
   "metadata": {},
   "outputs": [],
   "source": [
    "knn = KNeighborsClassifier()\n",
    "scaler = StandardScaler()"
   ]
  },
  {
   "cell_type": "code",
   "execution_count": 28,
   "id": "d72bddd3",
   "metadata": {},
   "outputs": [
    {
     "data": {
      "text/plain": [
       "dict_keys(['algorithm', 'leaf_size', 'metric', 'metric_params', 'n_jobs', 'n_neighbors', 'p', 'weights'])"
      ]
     },
     "execution_count": 28,
     "metadata": {},
     "output_type": "execute_result"
    }
   ],
   "source": [
    "knn.get_params().keys()"
   ]
  },
  {
   "cell_type": "code",
   "execution_count": 29,
   "id": "676ca035",
   "metadata": {},
   "outputs": [],
   "source": [
    "operations = [('scaler',scaler),('knn',knn)]\n",
    "from sklearn.pipeline import Pipeline\n",
    "pipe = Pipeline(operations)\n",
    "from sklearn.model_selection import GridSearchCV"
   ]
  },
  {
   "cell_type": "code",
   "execution_count": 30,
   "id": "57afe4f7",
   "metadata": {},
   "outputs": [],
   "source": [
    "k_values = list(range(1,30)) \n",
    "param_grid = {'knn__n_neighbors':k_values}\n",
    "cv_classifier = GridSearchCV(pipe,param_grid,cv=5,scoring='accuracy')"
   ]
  },
  {
   "cell_type": "code",
   "execution_count": 31,
   "id": "4e794044",
   "metadata": {},
   "outputs": [
    {
     "data": {
      "text/plain": [
       "GridSearchCV(cv=5,\n",
       "             estimator=Pipeline(steps=[('scaler', StandardScaler()),\n",
       "                                       ('knn', KNeighborsClassifier())]),\n",
       "             param_grid={'knn__n_neighbors': [1, 2, 3, 4, 5, 6, 7, 8, 9, 10, 11,\n",
       "                                              12, 13, 14, 15, 16, 17, 18, 19,\n",
       "                                              20, 21, 22, 23, 24, 25, 26, 27,\n",
       "                                              28, 29]},\n",
       "             scoring='accuracy')"
      ]
     },
     "execution_count": 31,
     "metadata": {},
     "output_type": "execute_result"
    }
   ],
   "source": [
    "cv_classifier.fit(X_train,y_train)"
   ]
  },
  {
   "cell_type": "code",
   "execution_count": 32,
   "id": "824a66da",
   "metadata": {},
   "outputs": [
    {
     "data": {
      "text/plain": [
       "{'memory': None,\n",
       " 'steps': [('scaler', StandardScaler()),\n",
       "  ('knn', KNeighborsClassifier(n_neighbors=25))],\n",
       " 'verbose': False,\n",
       " 'scaler': StandardScaler(),\n",
       " 'knn': KNeighborsClassifier(n_neighbors=25),\n",
       " 'scaler__copy': True,\n",
       " 'scaler__with_mean': True,\n",
       " 'scaler__with_std': True,\n",
       " 'knn__algorithm': 'auto',\n",
       " 'knn__leaf_size': 30,\n",
       " 'knn__metric': 'minkowski',\n",
       " 'knn__metric_params': None,\n",
       " 'knn__n_jobs': None,\n",
       " 'knn__n_neighbors': 25,\n",
       " 'knn__p': 2,\n",
       " 'knn__weights': 'uniform'}"
      ]
     },
     "execution_count": 32,
     "metadata": {},
     "output_type": "execute_result"
    }
   ],
   "source": [
    "cv_classifier.best_estimator_.get_params()"
   ]
  },
  {
   "cell_type": "code",
   "execution_count": 33,
   "id": "b2e979b0",
   "metadata": {},
   "outputs": [],
   "source": [
    "k_pred = cv_classifier.predict(X_test)"
   ]
  },
  {
   "cell_type": "code",
   "execution_count": 34,
   "id": "cbc15372",
   "metadata": {},
   "outputs": [
    {
     "data": {
      "text/plain": [
       "0.6698564593301436"
      ]
     },
     "execution_count": 34,
     "metadata": {},
     "output_type": "execute_result"
    }
   ],
   "source": [
    "accuracy_score(y_test,k_pred)"
   ]
  },
  {
   "cell_type": "code",
   "execution_count": 35,
   "id": "9c493087",
   "metadata": {},
   "outputs": [
    {
     "name": "stdout",
     "output_type": "stream",
     "text": [
      "              precision    recall  f1-score   support\n",
      "\n",
      "           0       0.66      0.67      0.66       102\n",
      "           1       0.68      0.67      0.68       107\n",
      "\n",
      "    accuracy                           0.67       209\n",
      "   macro avg       0.67      0.67      0.67       209\n",
      "weighted avg       0.67      0.67      0.67       209\n",
      "\n"
     ]
    }
   ],
   "source": [
    "print(classification_report(y_test,k_pred))"
   ]
  },
  {
   "cell_type": "code",
   "execution_count": 36,
   "id": "b63e7bf5",
   "metadata": {},
   "outputs": [
    {
     "data": {
      "text/plain": [
       "<sklearn.metrics._plot.confusion_matrix.ConfusionMatrixDisplay at 0x18fa2bd74c0>"
      ]
     },
     "execution_count": 36,
     "metadata": {},
     "output_type": "execute_result"
    },
    {
     "data": {
      "image/png": "[encoded data removed]",
      "text/plain": [
       "<Figure size 432x288 with 2 Axes>"
      ]
     },
     "metadata": {
      "needs_background": "light"
     },
     "output_type": "display_data"
    }
   ],
   "source": [
    "plot_confusion_matrix(cv_classifier,X_test,y_test)"
   ]
  },
  {
   "cell_type": "code",
   "execution_count": null,
   "id": "6c8ecb5f",
   "metadata": {},
   "outputs": [],
   "source": []
  },
  {
   "cell_type": "code",
   "execution_count": null,
   "id": "c1d758cd",
   "metadata": {},
   "outputs": [],
   "source": []
  }
 ],
 "metadata": {
  "kernelspec": {
   "display_name": "Python 3",
   "language": "python",
   "name": "python3"
  },
  "language_info": {
   "codemirror_mode": {
    "name": "ipython",
    "version": 3
   },
   "file_extension": ".py",
   "mimetype": "text/x-python",
   "name": "python",
   "nbconvert_exporter": "python",
   "pygments_lexer": "ipython3",
   "version": "3.9.12"
  }
 },
 "nbformat": 4,
 "nbformat_minor": 5
}
