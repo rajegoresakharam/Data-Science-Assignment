{
 "cells": [
  {
   "cell_type": "code",
   "execution_count": 1,
   "id": "61108b67",
   "metadata": {},
   "outputs": [],
   "source": [
    "import numpy as np\n",
    "import pandas as pd\n",
    "import matplotlib.pyplot as plt"
   ]
  },
  {
   "cell_type": "code",
   "execution_count": 2,
   "id": "75b1860b",
   "metadata": {},
   "outputs": [],
   "source": [
    "cancer=pd.read_csv('death .csv')"
   ]
  },
  {
   "cell_type": "code",
   "execution_count": 3,
   "id": "5efc9580",
   "metadata": {},
   "outputs": [
    {
     "data": {
      "text/html": [
       "<div>\n",
       "<style scoped>\n",
       "    .dataframe tbody tr th:only-of-type {\n",
       "        vertical-align: middle;\n",
       "    }\n",
       "\n",
       "    .dataframe tbody tr th {\n",
       "        vertical-align: top;\n",
       "    }\n",
       "\n",
       "    .dataframe thead th {\n",
       "        text-align: right;\n",
       "    }\n",
       "</style>\n",
       "<table border=\"1\" class=\"dataframe\">\n",
       "  <thead>\n",
       "    <tr style=\"text-align: right;\">\n",
       "      <th></th>\n",
       "      <th>County</th>\n",
       "      <th>FIPS</th>\n",
       "      <th>Met Objective of 45.5? (1)</th>\n",
       "      <th>Age-Adjusted Death Rate</th>\n",
       "      <th>Lower 95% Confidence Interval for Death Rate</th>\n",
       "      <th>Upper 95% Confidence Interval for Death Rate</th>\n",
       "      <th>Average Deaths per Year</th>\n",
       "      <th>Recent Trend (2)</th>\n",
       "      <th>Recent 5-Year Trend (2) in Death Rates</th>\n",
       "      <th>Lower 95% Confidence Interval for Trend</th>\n",
       "      <th>Upper 95% Confidence Interval for Trend</th>\n",
       "    </tr>\n",
       "  </thead>\n",
       "  <tbody>\n",
       "    <tr>\n",
       "      <th>0</th>\n",
       "      <td>United States</td>\n",
       "      <td>0</td>\n",
       "      <td>No</td>\n",
       "      <td>46</td>\n",
       "      <td>45.9</td>\n",
       "      <td>46.1</td>\n",
       "      <td>157,376</td>\n",
       "      <td>falling</td>\n",
       "      <td>-2.4</td>\n",
       "      <td>-2.6</td>\n",
       "      <td>-2.2</td>\n",
       "    </tr>\n",
       "    <tr>\n",
       "      <th>1</th>\n",
       "      <td>Perry County, Kentucky</td>\n",
       "      <td>21193</td>\n",
       "      <td>No</td>\n",
       "      <td>125.6</td>\n",
       "      <td>108.9</td>\n",
       "      <td>144.2</td>\n",
       "      <td>43</td>\n",
       "      <td>stable</td>\n",
       "      <td>-0.6</td>\n",
       "      <td>-2.7</td>\n",
       "      <td>1.6</td>\n",
       "    </tr>\n",
       "    <tr>\n",
       "      <th>2</th>\n",
       "      <td>Powell County, Kentucky</td>\n",
       "      <td>21197</td>\n",
       "      <td>No</td>\n",
       "      <td>125.3</td>\n",
       "      <td>100.2</td>\n",
       "      <td>155.1</td>\n",
       "      <td>18</td>\n",
       "      <td>stable</td>\n",
       "      <td>1.7</td>\n",
       "      <td>0</td>\n",
       "      <td>3.4</td>\n",
       "    </tr>\n",
       "    <tr>\n",
       "      <th>3</th>\n",
       "      <td>North Slope Borough, Alaska</td>\n",
       "      <td>2185</td>\n",
       "      <td>No</td>\n",
       "      <td>124.9</td>\n",
       "      <td>73</td>\n",
       "      <td>194.7</td>\n",
       "      <td>5</td>\n",
       "      <td>**</td>\n",
       "      <td>**</td>\n",
       "      <td>**</td>\n",
       "      <td>**</td>\n",
       "    </tr>\n",
       "    <tr>\n",
       "      <th>4</th>\n",
       "      <td>Owsley County, Kentucky</td>\n",
       "      <td>21189</td>\n",
       "      <td>No</td>\n",
       "      <td>118.5</td>\n",
       "      <td>83.1</td>\n",
       "      <td>165.5</td>\n",
       "      <td>8</td>\n",
       "      <td>stable</td>\n",
       "      <td>2.2</td>\n",
       "      <td>-0.4</td>\n",
       "      <td>4.8</td>\n",
       "    </tr>\n",
       "  </tbody>\n",
       "</table>\n",
       "</div>"
      ],
      "text/plain": [
       "                        County   FIPS Met Objective of 45.5? (1)  \\\n",
       "0                United States      0                         No   \n",
       "1       Perry County, Kentucky  21193                         No   \n",
       "2      Powell County, Kentucky  21197                         No   \n",
       "3  North Slope Borough, Alaska   2185                         No   \n",
       "4      Owsley County, Kentucky  21189                         No   \n",
       "\n",
       "  Age-Adjusted Death Rate Lower 95% Confidence Interval for Death Rate  \\\n",
       "0                      46                                         45.9   \n",
       "1                   125.6                                        108.9   \n",
       "2                   125.3                                        100.2   \n",
       "3                   124.9                                           73   \n",
       "4                   118.5                                         83.1   \n",
       "\n",
       "  Upper 95% Confidence Interval for Death Rate Average Deaths per Year  \\\n",
       "0                                         46.1                 157,376   \n",
       "1                                        144.2                      43   \n",
       "2                                        155.1                      18   \n",
       "3                                        194.7                       5   \n",
       "4                                        165.5                       8   \n",
       "\n",
       "  Recent Trend (2) Recent 5-Year Trend (2) in Death Rates  \\\n",
       "0          falling                                   -2.4   \n",
       "1           stable                                   -0.6   \n",
       "2           stable                                    1.7   \n",
       "3               **                                     **   \n",
       "4           stable                                    2.2   \n",
       "\n",
       "  Lower 95% Confidence Interval for Trend  \\\n",
       "0                                    -2.6   \n",
       "1                                    -2.7   \n",
       "2                                       0   \n",
       "3                                      **   \n",
       "4                                    -0.4   \n",
       "\n",
       "  Upper 95% Confidence Interval for Trend  \n",
       "0                                    -2.2  \n",
       "1                                     1.6  \n",
       "2                                     3.4  \n",
       "3                                      **  \n",
       "4                                     4.8  "
      ]
     },
     "execution_count": 3,
     "metadata": {},
     "output_type": "execute_result"
    }
   ],
   "source": [
    "cancer.head()"
   ]
  },
  {
   "cell_type": "code",
   "execution_count": 4,
   "id": "58fa87ab",
   "metadata": {},
   "outputs": [
    {
     "data": {
      "text/plain": [
       "Index(['County', 'FIPS', 'Met Objective of 45.5? (1)',\n",
       "       'Age-Adjusted Death Rate',\n",
       "       'Lower 95% Confidence Interval for Death Rate',\n",
       "       'Upper 95% Confidence Interval for Death Rate',\n",
       "       'Average Deaths per Year', 'Recent Trend (2)',\n",
       "       'Recent 5-Year Trend (2) in Death Rates',\n",
       "       'Lower 95% Confidence Interval for Trend',\n",
       "       'Upper 95% Confidence Interval for Trend'],\n",
       "      dtype='object')"
      ]
     },
     "execution_count": 4,
     "metadata": {},
     "output_type": "execute_result"
    }
   ],
   "source": [
    "cancer.columns"
   ]
  },
  {
   "cell_type": "markdown",
   "id": "df5e8eb3",
   "metadata": {},
   "source": [
    "## #Column Rename "
   ]
  },
  {
   "cell_type": "code",
   "execution_count": 5,
   "id": "00282d69",
   "metadata": {},
   "outputs": [],
   "source": [
    "col={'Met Objective of 45.5? (1)':'Met_ObjOf_45.5',\n",
    "       'Age-Adjusted Death Rate':'Age_AdjustDeath%',\n",
    "       'Lower 95% Confidence Interval for Death Rate':'low_95%CI_for_Death',\n",
    "       'Upper 95% Confidence Interval for Death Rate':'Upper_95%CI_for_Death',\n",
    "       'Average Deaths per Year':'AVG_Death/yr', 'Recent Trend (2)':'RecentTread2',\n",
    "       'Recent 5-Year Trend (2) in Death Rates':'Recent-5yr-TrendInDeath%',\n",
    "       'Lower 95% Confidence Interval for Trend':'Lower95%CI_forTread',\n",
    "       'Upper 95% Confidence Interval for Trend':'Upper95%CI_forTread'}"
   ]
  },
  {
   "cell_type": "code",
   "execution_count": 6,
   "id": "0a527b20",
   "metadata": {},
   "outputs": [],
   "source": [
    "cancer.rename(columns=col,inplace=True)"
   ]
  },
  {
   "cell_type": "code",
   "execution_count": 7,
   "id": "b3d02cec",
   "metadata": {},
   "outputs": [
    {
     "data": {
      "text/html": [
       "<div>\n",
       "<style scoped>\n",
       "    .dataframe tbody tr th:only-of-type {\n",
       "        vertical-align: middle;\n",
       "    }\n",
       "\n",
       "    .dataframe tbody tr th {\n",
       "        vertical-align: top;\n",
       "    }\n",
       "\n",
       "    .dataframe thead th {\n",
       "        text-align: right;\n",
       "    }\n",
       "</style>\n",
       "<table border=\"1\" class=\"dataframe\">\n",
       "  <thead>\n",
       "    <tr style=\"text-align: right;\">\n",
       "      <th></th>\n",
       "      <th>County</th>\n",
       "      <th>FIPS</th>\n",
       "      <th>Met_ObjOf_45.5</th>\n",
       "      <th>Age_AdjustDeath%</th>\n",
       "      <th>low_95%CI_for_Death</th>\n",
       "      <th>Upper_95%CI_for_Death</th>\n",
       "      <th>AVG_Death/yr</th>\n",
       "      <th>RecentTread2</th>\n",
       "      <th>Recent-5yr-TrendInDeath%</th>\n",
       "      <th>Lower95%CI_forTread</th>\n",
       "      <th>Upper95%CI_forTread</th>\n",
       "    </tr>\n",
       "  </thead>\n",
       "  <tbody>\n",
       "    <tr>\n",
       "      <th>0</th>\n",
       "      <td>United States</td>\n",
       "      <td>0</td>\n",
       "      <td>No</td>\n",
       "      <td>46</td>\n",
       "      <td>45.9</td>\n",
       "      <td>46.1</td>\n",
       "      <td>157,376</td>\n",
       "      <td>falling</td>\n",
       "      <td>-2.4</td>\n",
       "      <td>-2.6</td>\n",
       "      <td>-2.2</td>\n",
       "    </tr>\n",
       "    <tr>\n",
       "      <th>1</th>\n",
       "      <td>Perry County, Kentucky</td>\n",
       "      <td>21193</td>\n",
       "      <td>No</td>\n",
       "      <td>125.6</td>\n",
       "      <td>108.9</td>\n",
       "      <td>144.2</td>\n",
       "      <td>43</td>\n",
       "      <td>stable</td>\n",
       "      <td>-0.6</td>\n",
       "      <td>-2.7</td>\n",
       "      <td>1.6</td>\n",
       "    </tr>\n",
       "    <tr>\n",
       "      <th>2</th>\n",
       "      <td>Powell County, Kentucky</td>\n",
       "      <td>21197</td>\n",
       "      <td>No</td>\n",
       "      <td>125.3</td>\n",
       "      <td>100.2</td>\n",
       "      <td>155.1</td>\n",
       "      <td>18</td>\n",
       "      <td>stable</td>\n",
       "      <td>1.7</td>\n",
       "      <td>0</td>\n",
       "      <td>3.4</td>\n",
       "    </tr>\n",
       "    <tr>\n",
       "      <th>3</th>\n",
       "      <td>North Slope Borough, Alaska</td>\n",
       "      <td>2185</td>\n",
       "      <td>No</td>\n",
       "      <td>124.9</td>\n",
       "      <td>73</td>\n",
       "      <td>194.7</td>\n",
       "      <td>5</td>\n",
       "      <td>**</td>\n",
       "      <td>**</td>\n",
       "      <td>**</td>\n",
       "      <td>**</td>\n",
       "    </tr>\n",
       "    <tr>\n",
       "      <th>4</th>\n",
       "      <td>Owsley County, Kentucky</td>\n",
       "      <td>21189</td>\n",
       "      <td>No</td>\n",
       "      <td>118.5</td>\n",
       "      <td>83.1</td>\n",
       "      <td>165.5</td>\n",
       "      <td>8</td>\n",
       "      <td>stable</td>\n",
       "      <td>2.2</td>\n",
       "      <td>-0.4</td>\n",
       "      <td>4.8</td>\n",
       "    </tr>\n",
       "  </tbody>\n",
       "</table>\n",
       "</div>"
      ],
      "text/plain": [
       "                        County   FIPS Met_ObjOf_45.5 Age_AdjustDeath%  \\\n",
       "0                United States      0             No               46   \n",
       "1       Perry County, Kentucky  21193             No            125.6   \n",
       "2      Powell County, Kentucky  21197             No            125.3   \n",
       "3  North Slope Borough, Alaska   2185             No            124.9   \n",
       "4      Owsley County, Kentucky  21189             No            118.5   \n",
       "\n",
       "  low_95%CI_for_Death Upper_95%CI_for_Death AVG_Death/yr RecentTread2  \\\n",
       "0                45.9                  46.1      157,376      falling   \n",
       "1               108.9                 144.2           43       stable   \n",
       "2               100.2                 155.1           18       stable   \n",
       "3                  73                 194.7            5           **   \n",
       "4                83.1                 165.5            8       stable   \n",
       "\n",
       "  Recent-5yr-TrendInDeath% Lower95%CI_forTread Upper95%CI_forTread  \n",
       "0                     -2.4                -2.6                -2.2  \n",
       "1                     -0.6                -2.7                 1.6  \n",
       "2                      1.7                   0                 3.4  \n",
       "3                       **                  **                  **  \n",
       "4                      2.2                -0.4                 4.8  "
      ]
     },
     "execution_count": 7,
     "metadata": {},
     "output_type": "execute_result"
    }
   ],
   "source": [
    "cancer.head()"
   ]
  },
  {
   "cell_type": "code",
   "execution_count": 8,
   "id": "9f5b7d76",
   "metadata": {},
   "outputs": [
    {
     "data": {
      "text/plain": [
       "Index(['County', 'FIPS', 'Met_ObjOf_45.5', 'Age_AdjustDeath%',\n",
       "       'low_95%CI_for_Death', 'Upper_95%CI_for_Death', 'AVG_Death/yr',\n",
       "       'RecentTread2', 'Recent-5yr-TrendInDeath%', 'Lower95%CI_forTread',\n",
       "       'Upper95%CI_forTread'],\n",
       "      dtype='object')"
      ]
     },
     "execution_count": 8,
     "metadata": {},
     "output_type": "execute_result"
    }
   ],
   "source": [
    "cancer.columns"
   ]
  },
  {
   "cell_type": "code",
   "execution_count": 9,
   "id": "fcca4010",
   "metadata": {},
   "outputs": [
    {
     "data": {
      "text/plain": [
       "array([    0, 21193, 21197, ..., 48505, 48507, 46137], dtype=int64)"
      ]
     },
     "execution_count": 9,
     "metadata": {},
     "output_type": "execute_result"
    }
   ],
   "source": [
    "cancer['FIPS'].unique()"
   ]
  },
  {
   "cell_type": "code",
   "execution_count": 10,
   "id": "f5e34ce2",
   "metadata": {},
   "outputs": [
    {
     "data": {
      "text/plain": [
       "array(['No', 'Yes', '*'], dtype=object)"
      ]
     },
     "execution_count": 10,
     "metadata": {},
     "output_type": "execute_result"
    }
   ],
   "source": [
    "cancer['Met_ObjOf_45.5'].unique()"
   ]
  },
  {
   "cell_type": "code",
   "execution_count": 11,
   "id": "a97b8e48",
   "metadata": {},
   "outputs": [
    {
     "data": {
      "text/plain": [
       "array(['falling', 'stable', '**', 'rising', '*'], dtype=object)"
      ]
     },
     "execution_count": 11,
     "metadata": {},
     "output_type": "execute_result"
    }
   ],
   "source": [
    "cancer['RecentTread2'].unique()"
   ]
  },
  {
   "cell_type": "code",
   "execution_count": 12,
   "id": "ef520d47",
   "metadata": {},
   "outputs": [],
   "source": [
    "## #Replace the dummy Text"
   ]
  },
  {
   "cell_type": "code",
   "execution_count": 13,
   "id": "bcfdbd9e",
   "metadata": {},
   "outputs": [],
   "source": [
    "cancer.replace(['*','**'],np.NaN,inplace=True)"
   ]
  },
  {
   "cell_type": "code",
   "execution_count": 14,
   "id": "9fddbfeb",
   "metadata": {},
   "outputs": [
    {
     "name": "stdout",
     "output_type": "stream",
     "text": [
      "<class 'pandas.core.frame.DataFrame'>\n",
      "RangeIndex: 3141 entries, 0 to 3140\n",
      "Data columns (total 11 columns):\n",
      " #   Column                    Non-Null Count  Dtype \n",
      "---  ------                    --------------  ----- \n",
      " 0   County                    3141 non-null   object\n",
      " 1   FIPS                      3141 non-null   int64 \n",
      " 2   Met_ObjOf_45.5            2813 non-null   object\n",
      " 3   Age_AdjustDeath%          2813 non-null   object\n",
      " 4   low_95%CI_for_Death       2813 non-null   object\n",
      " 5   Upper_95%CI_for_Death     2813 non-null   object\n",
      " 6   AVG_Death/yr              2813 non-null   object\n",
      " 7   RecentTread2              2694 non-null   object\n",
      " 8   Recent-5yr-TrendInDeath%  2694 non-null   object\n",
      " 9   Lower95%CI_forTread       2694 non-null   object\n",
      " 10  Upper95%CI_forTread       2694 non-null   object\n",
      "dtypes: int64(1), object(10)\n",
      "memory usage: 270.1+ KB\n"
     ]
    }
   ],
   "source": [
    "cancer.info()"
   ]
  },
  {
   "cell_type": "code",
   "execution_count": 15,
   "id": "a7f44da3",
   "metadata": {},
   "outputs": [],
   "source": [
    "cancer.dropna(inplace=True)"
   ]
  },
  {
   "cell_type": "code",
   "execution_count": 16,
   "id": "1b6b7af9",
   "metadata": {},
   "outputs": [
    {
     "name": "stdout",
     "output_type": "stream",
     "text": [
      "<class 'pandas.core.frame.DataFrame'>\n",
      "Int64Index: 2694 entries, 0 to 2812\n",
      "Data columns (total 11 columns):\n",
      " #   Column                    Non-Null Count  Dtype \n",
      "---  ------                    --------------  ----- \n",
      " 0   County                    2694 non-null   object\n",
      " 1   FIPS                      2694 non-null   int64 \n",
      " 2   Met_ObjOf_45.5            2694 non-null   object\n",
      " 3   Age_AdjustDeath%          2694 non-null   object\n",
      " 4   low_95%CI_for_Death       2694 non-null   object\n",
      " 5   Upper_95%CI_for_Death     2694 non-null   object\n",
      " 6   AVG_Death/yr              2694 non-null   object\n",
      " 7   RecentTread2              2694 non-null   object\n",
      " 8   Recent-5yr-TrendInDeath%  2694 non-null   object\n",
      " 9   Lower95%CI_forTread       2694 non-null   object\n",
      " 10  Upper95%CI_forTread       2694 non-null   object\n",
      "dtypes: int64(1), object(10)\n",
      "memory usage: 252.6+ KB\n"
     ]
    }
   ],
   "source": [
    "cancer.info()"
   ]
  },
  {
   "cell_type": "code",
   "execution_count": 17,
   "id": "eee44db5",
   "metadata": {},
   "outputs": [],
   "source": [
    "cancer.drop_duplicates(inplace=True)"
   ]
  },
  {
   "cell_type": "code",
   "execution_count": 18,
   "id": "fa683d03",
   "metadata": {},
   "outputs": [
    {
     "data": {
      "text/html": [
       "<div>\n",
       "<style scoped>\n",
       "    .dataframe tbody tr th:only-of-type {\n",
       "        vertical-align: middle;\n",
       "    }\n",
       "\n",
       "    .dataframe tbody tr th {\n",
       "        vertical-align: top;\n",
       "    }\n",
       "\n",
       "    .dataframe thead th {\n",
       "        text-align: right;\n",
       "    }\n",
       "</style>\n",
       "<table border=\"1\" class=\"dataframe\">\n",
       "  <thead>\n",
       "    <tr style=\"text-align: right;\">\n",
       "      <th></th>\n",
       "      <th>County</th>\n",
       "      <th>FIPS</th>\n",
       "      <th>Met_ObjOf_45.5</th>\n",
       "      <th>Age_AdjustDeath%</th>\n",
       "      <th>low_95%CI_for_Death</th>\n",
       "      <th>Upper_95%CI_for_Death</th>\n",
       "      <th>AVG_Death/yr</th>\n",
       "      <th>RecentTread2</th>\n",
       "      <th>Recent-5yr-TrendInDeath%</th>\n",
       "      <th>Lower95%CI_forTread</th>\n",
       "      <th>Upper95%CI_forTread</th>\n",
       "    </tr>\n",
       "  </thead>\n",
       "  <tbody>\n",
       "    <tr>\n",
       "      <th>0</th>\n",
       "      <td>United States</td>\n",
       "      <td>0</td>\n",
       "      <td>No</td>\n",
       "      <td>46</td>\n",
       "      <td>45.9</td>\n",
       "      <td>46.1</td>\n",
       "      <td>157,376</td>\n",
       "      <td>falling</td>\n",
       "      <td>-2.4</td>\n",
       "      <td>-2.6</td>\n",
       "      <td>-2.2</td>\n",
       "    </tr>\n",
       "    <tr>\n",
       "      <th>1</th>\n",
       "      <td>Perry County, Kentucky</td>\n",
       "      <td>21193</td>\n",
       "      <td>No</td>\n",
       "      <td>125.6</td>\n",
       "      <td>108.9</td>\n",
       "      <td>144.2</td>\n",
       "      <td>43</td>\n",
       "      <td>stable</td>\n",
       "      <td>-0.6</td>\n",
       "      <td>-2.7</td>\n",
       "      <td>1.6</td>\n",
       "    </tr>\n",
       "    <tr>\n",
       "      <th>2</th>\n",
       "      <td>Powell County, Kentucky</td>\n",
       "      <td>21197</td>\n",
       "      <td>No</td>\n",
       "      <td>125.3</td>\n",
       "      <td>100.2</td>\n",
       "      <td>155.1</td>\n",
       "      <td>18</td>\n",
       "      <td>stable</td>\n",
       "      <td>1.7</td>\n",
       "      <td>0</td>\n",
       "      <td>3.4</td>\n",
       "    </tr>\n",
       "    <tr>\n",
       "      <th>4</th>\n",
       "      <td>Owsley County, Kentucky</td>\n",
       "      <td>21189</td>\n",
       "      <td>No</td>\n",
       "      <td>118.5</td>\n",
       "      <td>83.1</td>\n",
       "      <td>165.5</td>\n",
       "      <td>8</td>\n",
       "      <td>stable</td>\n",
       "      <td>2.2</td>\n",
       "      <td>-0.4</td>\n",
       "      <td>4.8</td>\n",
       "    </tr>\n",
       "    <tr>\n",
       "      <th>5</th>\n",
       "      <td>Union County, Florida</td>\n",
       "      <td>12125</td>\n",
       "      <td>No</td>\n",
       "      <td>113.5</td>\n",
       "      <td>89.9</td>\n",
       "      <td>141.4</td>\n",
       "      <td>19</td>\n",
       "      <td>falling</td>\n",
       "      <td>-2.2</td>\n",
       "      <td>-4.3</td>\n",
       "      <td>0</td>\n",
       "    </tr>\n",
       "  </tbody>\n",
       "</table>\n",
       "</div>"
      ],
      "text/plain": [
       "                    County   FIPS Met_ObjOf_45.5 Age_AdjustDeath%  \\\n",
       "0            United States      0             No               46   \n",
       "1   Perry County, Kentucky  21193             No            125.6   \n",
       "2  Powell County, Kentucky  21197             No            125.3   \n",
       "4  Owsley County, Kentucky  21189             No            118.5   \n",
       "5    Union County, Florida  12125             No            113.5   \n",
       "\n",
       "  low_95%CI_for_Death Upper_95%CI_for_Death AVG_Death/yr RecentTread2  \\\n",
       "0                45.9                  46.1      157,376      falling   \n",
       "1               108.9                 144.2           43       stable   \n",
       "2               100.2                 155.1           18       stable   \n",
       "4                83.1                 165.5            8       stable   \n",
       "5                89.9                 141.4           19      falling   \n",
       "\n",
       "  Recent-5yr-TrendInDeath% Lower95%CI_forTread Upper95%CI_forTread  \n",
       "0                     -2.4                -2.6                -2.2  \n",
       "1                     -0.6                -2.7                 1.6  \n",
       "2                      1.7                   0                 3.4  \n",
       "4                      2.2                -0.4                 4.8  \n",
       "5                     -2.2                -4.3                   0  "
      ]
     },
     "execution_count": 18,
     "metadata": {},
     "output_type": "execute_result"
    }
   ],
   "source": [
    "cancer.head()"
   ]
  },
  {
   "cell_type": "code",
   "execution_count": 19,
   "id": "06c2b6d2",
   "metadata": {},
   "outputs": [],
   "source": [
    "for i in cancer['AVG_Death/yr']:\n",
    "    cancer['AVG_Death/yr']=i.replace(',','.')"
   ]
  },
  {
   "cell_type": "code",
   "execution_count": 20,
   "id": "aeec5a71",
   "metadata": {},
   "outputs": [],
   "source": [
    "cancer['low_95%CI_for_Death']=cancer['low_95%CI_for_Death'].astype('float')\n",
    "cancer['Upper_95%CI_for_Death']=cancer['low_95%CI_for_Death'].astype('float')\n",
    "cancer['AVG_Death/yr']=cancer['AVG_Death/yr'].astype('float')\n",
    "cancer['Recent-5yr-TrendInDeath%']=cancer['Recent-5yr-TrendInDeath%'].astype('float')\n",
    "cancer['Lower95%CI_forTread']=cancer['Lower95%CI_forTread'].astype('float')\n",
    "cancer['Upper95%CI_forTread']=cancer['Upper95%CI_forTread'].astype('float')\n"
   ]
  },
  {
   "cell_type": "code",
   "execution_count": 21,
   "id": "8d311acf",
   "metadata": {},
   "outputs": [
    {
     "name": "stdout",
     "output_type": "stream",
     "text": [
      "<class 'pandas.core.frame.DataFrame'>\n",
      "Int64Index: 2694 entries, 0 to 2812\n",
      "Data columns (total 11 columns):\n",
      " #   Column                    Non-Null Count  Dtype  \n",
      "---  ------                    --------------  -----  \n",
      " 0   County                    2694 non-null   object \n",
      " 1   FIPS                      2694 non-null   int64  \n",
      " 2   Met_ObjOf_45.5            2694 non-null   object \n",
      " 3   Age_AdjustDeath%          2694 non-null   object \n",
      " 4   low_95%CI_for_Death       2694 non-null   float64\n",
      " 5   Upper_95%CI_for_Death     2694 non-null   float64\n",
      " 6   AVG_Death/yr              2694 non-null   float64\n",
      " 7   RecentTread2              2694 non-null   object \n",
      " 8   Recent-5yr-TrendInDeath%  2694 non-null   float64\n",
      " 9   Lower95%CI_forTread       2694 non-null   float64\n",
      " 10  Upper95%CI_forTread       2694 non-null   float64\n",
      "dtypes: float64(6), int64(1), object(4)\n",
      "memory usage: 252.6+ KB\n"
     ]
    }
   ],
   "source": [
    "cancer.info()"
   ]
  },
  {
   "cell_type": "code",
   "execution_count": 22,
   "id": "f538df5c",
   "metadata": {},
   "outputs": [
    {
     "data": {
      "text/html": [
       "<div>\n",
       "<style scoped>\n",
       "    .dataframe tbody tr th:only-of-type {\n",
       "        vertical-align: middle;\n",
       "    }\n",
       "\n",
       "    .dataframe tbody tr th {\n",
       "        vertical-align: top;\n",
       "    }\n",
       "\n",
       "    .dataframe thead th {\n",
       "        text-align: right;\n",
       "    }\n",
       "</style>\n",
       "<table border=\"1\" class=\"dataframe\">\n",
       "  <thead>\n",
       "    <tr style=\"text-align: right;\">\n",
       "      <th></th>\n",
       "      <th>count</th>\n",
       "      <th>mean</th>\n",
       "      <th>std</th>\n",
       "      <th>min</th>\n",
       "      <th>25%</th>\n",
       "      <th>50%</th>\n",
       "      <th>75%</th>\n",
       "      <th>max</th>\n",
       "    </tr>\n",
       "  </thead>\n",
       "  <tbody>\n",
       "    <tr>\n",
       "      <th>FIPS</th>\n",
       "      <td>2694.0</td>\n",
       "      <td>30360.158129</td>\n",
       "      <td>15182.681841</td>\n",
       "      <td>0.0</td>\n",
       "      <td>18163.5</td>\n",
       "      <td>29066.0</td>\n",
       "      <td>45036.5</td>\n",
       "      <td>56045.0</td>\n",
       "    </tr>\n",
       "    <tr>\n",
       "      <th>low_95%CI_for_Death</th>\n",
       "      <td>2694.0</td>\n",
       "      <td>43.361804</td>\n",
       "      <td>12.172733</td>\n",
       "      <td>6.4</td>\n",
       "      <td>35.2</td>\n",
       "      <td>43.4</td>\n",
       "      <td>51.1</td>\n",
       "      <td>108.9</td>\n",
       "    </tr>\n",
       "    <tr>\n",
       "      <th>Upper_95%CI_for_Death</th>\n",
       "      <td>2694.0</td>\n",
       "      <td>43.361804</td>\n",
       "      <td>12.172733</td>\n",
       "      <td>6.4</td>\n",
       "      <td>35.2</td>\n",
       "      <td>43.4</td>\n",
       "      <td>51.1</td>\n",
       "      <td>108.9</td>\n",
       "    </tr>\n",
       "    <tr>\n",
       "      <th>AVG_Death/yr</th>\n",
       "      <td>2694.0</td>\n",
       "      <td>7.000000</td>\n",
       "      <td>0.000000</td>\n",
       "      <td>7.0</td>\n",
       "      <td>7.0</td>\n",
       "      <td>7.0</td>\n",
       "      <td>7.0</td>\n",
       "      <td>7.0</td>\n",
       "    </tr>\n",
       "    <tr>\n",
       "      <th>Recent-5yr-TrendInDeath%</th>\n",
       "      <td>2694.0</td>\n",
       "      <td>-1.003526</td>\n",
       "      <td>2.371872</td>\n",
       "      <td>-33.4</td>\n",
       "      <td>-1.6</td>\n",
       "      <td>-0.8</td>\n",
       "      <td>-0.1</td>\n",
       "      <td>31.1</td>\n",
       "    </tr>\n",
       "    <tr>\n",
       "      <th>Lower95%CI_forTread</th>\n",
       "      <td>2694.0</td>\n",
       "      <td>-2.755939</td>\n",
       "      <td>3.444109</td>\n",
       "      <td>-60.9</td>\n",
       "      <td>-3.0</td>\n",
       "      <td>-2.1</td>\n",
       "      <td>-1.4</td>\n",
       "      <td>6.9</td>\n",
       "    </tr>\n",
       "    <tr>\n",
       "      <th>Upper95%CI_forTread</th>\n",
       "      <td>2694.0</td>\n",
       "      <td>0.837305</td>\n",
       "      <td>3.083378</td>\n",
       "      <td>-10.3</td>\n",
       "      <td>-0.3</td>\n",
       "      <td>0.6</td>\n",
       "      <td>1.6</td>\n",
       "      <td>78.1</td>\n",
       "    </tr>\n",
       "  </tbody>\n",
       "</table>\n",
       "</div>"
      ],
      "text/plain": [
       "                           count          mean           std   min      25%  \\\n",
       "FIPS                      2694.0  30360.158129  15182.681841   0.0  18163.5   \n",
       "low_95%CI_for_Death       2694.0     43.361804     12.172733   6.4     35.2   \n",
       "Upper_95%CI_for_Death     2694.0     43.361804     12.172733   6.4     35.2   \n",
       "AVG_Death/yr              2694.0      7.000000      0.000000   7.0      7.0   \n",
       "Recent-5yr-TrendInDeath%  2694.0     -1.003526      2.371872 -33.4     -1.6   \n",
       "Lower95%CI_forTread       2694.0     -2.755939      3.444109 -60.9     -3.0   \n",
       "Upper95%CI_forTread       2694.0      0.837305      3.083378 -10.3     -0.3   \n",
       "\n",
       "                              50%      75%      max  \n",
       "FIPS                      29066.0  45036.5  56045.0  \n",
       "low_95%CI_for_Death          43.4     51.1    108.9  \n",
       "Upper_95%CI_for_Death        43.4     51.1    108.9  \n",
       "AVG_Death/yr                  7.0      7.0      7.0  \n",
       "Recent-5yr-TrendInDeath%     -0.8     -0.1     31.1  \n",
       "Lower95%CI_forTread          -2.1     -1.4      6.9  \n",
       "Upper95%CI_forTread           0.6      1.6     78.1  "
      ]
     },
     "execution_count": 22,
     "metadata": {},
     "output_type": "execute_result"
    }
   ],
   "source": [
    "cancer.describe().T"
   ]
  },
  {
   "cell_type": "code",
   "execution_count": 23,
   "id": "f575129d",
   "metadata": {},
   "outputs": [
    {
     "data": {
      "text/html": [
       "<div>\n",
       "<style scoped>\n",
       "    .dataframe tbody tr th:only-of-type {\n",
       "        vertical-align: middle;\n",
       "    }\n",
       "\n",
       "    .dataframe tbody tr th {\n",
       "        vertical-align: top;\n",
       "    }\n",
       "\n",
       "    .dataframe thead th {\n",
       "        text-align: right;\n",
       "    }\n",
       "</style>\n",
       "<table border=\"1\" class=\"dataframe\">\n",
       "  <thead>\n",
       "    <tr style=\"text-align: right;\">\n",
       "      <th></th>\n",
       "      <th>FIPS</th>\n",
       "      <th>low_95%CI_for_Death</th>\n",
       "      <th>Upper_95%CI_for_Death</th>\n",
       "      <th>AVG_Death/yr</th>\n",
       "      <th>Recent-5yr-TrendInDeath%</th>\n",
       "      <th>Lower95%CI_forTread</th>\n",
       "      <th>Upper95%CI_forTread</th>\n",
       "    </tr>\n",
       "  </thead>\n",
       "  <tbody>\n",
       "    <tr>\n",
       "      <th>FIPS</th>\n",
       "      <td>1.000000</td>\n",
       "      <td>-0.087308</td>\n",
       "      <td>-0.087308</td>\n",
       "      <td>NaN</td>\n",
       "      <td>-0.037987</td>\n",
       "      <td>-0.020789</td>\n",
       "      <td>-0.036996</td>\n",
       "    </tr>\n",
       "    <tr>\n",
       "      <th>low_95%CI_for_Death</th>\n",
       "      <td>-0.087308</td>\n",
       "      <td>1.000000</td>\n",
       "      <td>1.000000</td>\n",
       "      <td>NaN</td>\n",
       "      <td>0.216729</td>\n",
       "      <td>0.238453</td>\n",
       "      <td>0.055415</td>\n",
       "    </tr>\n",
       "    <tr>\n",
       "      <th>Upper_95%CI_for_Death</th>\n",
       "      <td>-0.087308</td>\n",
       "      <td>1.000000</td>\n",
       "      <td>1.000000</td>\n",
       "      <td>NaN</td>\n",
       "      <td>0.216729</td>\n",
       "      <td>0.238453</td>\n",
       "      <td>0.055415</td>\n",
       "    </tr>\n",
       "    <tr>\n",
       "      <th>AVG_Death/yr</th>\n",
       "      <td>NaN</td>\n",
       "      <td>NaN</td>\n",
       "      <td>NaN</td>\n",
       "      <td>NaN</td>\n",
       "      <td>NaN</td>\n",
       "      <td>NaN</td>\n",
       "      <td>NaN</td>\n",
       "    </tr>\n",
       "    <tr>\n",
       "      <th>Recent-5yr-TrendInDeath%</th>\n",
       "      <td>-0.037987</td>\n",
       "      <td>0.216729</td>\n",
       "      <td>0.216729</td>\n",
       "      <td>NaN</td>\n",
       "      <td>1.000000</td>\n",
       "      <td>0.826403</td>\n",
       "      <td>0.551469</td>\n",
       "    </tr>\n",
       "    <tr>\n",
       "      <th>Lower95%CI_forTread</th>\n",
       "      <td>-0.020789</td>\n",
       "      <td>0.238453</td>\n",
       "      <td>0.238453</td>\n",
       "      <td>NaN</td>\n",
       "      <td>0.826403</td>\n",
       "      <td>1.000000</td>\n",
       "      <td>-0.007173</td>\n",
       "    </tr>\n",
       "    <tr>\n",
       "      <th>Upper95%CI_forTread</th>\n",
       "      <td>-0.036996</td>\n",
       "      <td>0.055415</td>\n",
       "      <td>0.055415</td>\n",
       "      <td>NaN</td>\n",
       "      <td>0.551469</td>\n",
       "      <td>-0.007173</td>\n",
       "      <td>1.000000</td>\n",
       "    </tr>\n",
       "  </tbody>\n",
       "</table>\n",
       "</div>"
      ],
      "text/plain": [
       "                              FIPS  low_95%CI_for_Death  \\\n",
       "FIPS                      1.000000            -0.087308   \n",
       "low_95%CI_for_Death      -0.087308             1.000000   \n",
       "Upper_95%CI_for_Death    -0.087308             1.000000   \n",
       "AVG_Death/yr                   NaN                  NaN   \n",
       "Recent-5yr-TrendInDeath% -0.037987             0.216729   \n",
       "Lower95%CI_forTread      -0.020789             0.238453   \n",
       "Upper95%CI_forTread      -0.036996             0.055415   \n",
       "\n",
       "                          Upper_95%CI_for_Death  AVG_Death/yr  \\\n",
       "FIPS                                  -0.087308           NaN   \n",
       "low_95%CI_for_Death                    1.000000           NaN   \n",
       "Upper_95%CI_for_Death                  1.000000           NaN   \n",
       "AVG_Death/yr                                NaN           NaN   \n",
       "Recent-5yr-TrendInDeath%               0.216729           NaN   \n",
       "Lower95%CI_forTread                    0.238453           NaN   \n",
       "Upper95%CI_forTread                    0.055415           NaN   \n",
       "\n",
       "                          Recent-5yr-TrendInDeath%  Lower95%CI_forTread  \\\n",
       "FIPS                                     -0.037987            -0.020789   \n",
       "low_95%CI_for_Death                       0.216729             0.238453   \n",
       "Upper_95%CI_for_Death                     0.216729             0.238453   \n",
       "AVG_Death/yr                                   NaN                  NaN   \n",
       "Recent-5yr-TrendInDeath%                  1.000000             0.826403   \n",
       "Lower95%CI_forTread                       0.826403             1.000000   \n",
       "Upper95%CI_forTread                       0.551469            -0.007173   \n",
       "\n",
       "                          Upper95%CI_forTread  \n",
       "FIPS                                -0.036996  \n",
       "low_95%CI_for_Death                  0.055415  \n",
       "Upper_95%CI_for_Death                0.055415  \n",
       "AVG_Death/yr                              NaN  \n",
       "Recent-5yr-TrendInDeath%             0.551469  \n",
       "Lower95%CI_forTread                 -0.007173  \n",
       "Upper95%CI_forTread                  1.000000  "
      ]
     },
     "execution_count": 23,
     "metadata": {},
     "output_type": "execute_result"
    }
   ],
   "source": [
    "cancer.corr()"
   ]
  },
  {
   "cell_type": "code",
   "execution_count": 24,
   "id": "cc08e221",
   "metadata": {},
   "outputs": [
    {
     "data": {
      "image/png": "[encoded data removed]",
      "text/plain": [
       "<Figure size 576x432 with 1 Axes>"
      ]
     },
     "metadata": {
      "needs_background": "light"
     },
     "output_type": "display_data"
    }
   ],
   "source": [
    "plt.figure(figsize=(8,6))\n",
    "plt.scatter(x=cancer['Recent-5yr-TrendInDeath%'],y=cancer['Lower95%CI_forTread'])\n",
    "plt.show()"
   ]
  },
  {
   "cell_type": "code",
   "execution_count": 25,
   "id": "3054c4d8",
   "metadata": {},
   "outputs": [
    {
     "data": {
      "text/plain": [
       "Index(['County', 'FIPS', 'Met_ObjOf_45.5', 'Age_AdjustDeath%',\n",
       "       'low_95%CI_for_Death', 'Upper_95%CI_for_Death', 'AVG_Death/yr',\n",
       "       'RecentTread2', 'Recent-5yr-TrendInDeath%', 'Lower95%CI_forTread',\n",
       "       'Upper95%CI_forTread'],\n",
       "      dtype='object')"
      ]
     },
     "execution_count": 25,
     "metadata": {},
     "output_type": "execute_result"
    }
   ],
   "source": [
    "cancer.columns"
   ]
  },
  {
   "cell_type": "code",
   "execution_count": 26,
   "id": "fbdd0853",
   "metadata": {},
   "outputs": [],
   "source": [
    "x=cancer[['Recent-5yr-TrendInDeath%']]\n",
    "y=cancer['Lower95%CI_forTread']"
   ]
  },
  {
   "cell_type": "code",
   "execution_count": 27,
   "id": "1558ca13",
   "metadata": {},
   "outputs": [
    {
     "data": {
      "text/html": [
       "<div>\n",
       "<style scoped>\n",
       "    .dataframe tbody tr th:only-of-type {\n",
       "        vertical-align: middle;\n",
       "    }\n",
       "\n",
       "    .dataframe tbody tr th {\n",
       "        vertical-align: top;\n",
       "    }\n",
       "\n",
       "    .dataframe thead th {\n",
       "        text-align: right;\n",
       "    }\n",
       "</style>\n",
       "<table border=\"1\" class=\"dataframe\">\n",
       "  <thead>\n",
       "    <tr style=\"text-align: right;\">\n",
       "      <th></th>\n",
       "      <th>Recent-5yr-TrendInDeath%</th>\n",
       "    </tr>\n",
       "  </thead>\n",
       "  <tbody>\n",
       "    <tr>\n",
       "      <th>0</th>\n",
       "      <td>-2.4</td>\n",
       "    </tr>\n",
       "    <tr>\n",
       "      <th>1</th>\n",
       "      <td>-0.6</td>\n",
       "    </tr>\n",
       "    <tr>\n",
       "      <th>2</th>\n",
       "      <td>1.7</td>\n",
       "    </tr>\n",
       "    <tr>\n",
       "      <th>4</th>\n",
       "      <td>2.2</td>\n",
       "    </tr>\n",
       "    <tr>\n",
       "      <th>5</th>\n",
       "      <td>-2.2</td>\n",
       "    </tr>\n",
       "    <tr>\n",
       "      <th>...</th>\n",
       "      <td>...</td>\n",
       "    </tr>\n",
       "    <tr>\n",
       "      <th>2807</th>\n",
       "      <td>-2.9</td>\n",
       "    </tr>\n",
       "    <tr>\n",
       "      <th>2808</th>\n",
       "      <td>-4.9</td>\n",
       "    </tr>\n",
       "    <tr>\n",
       "      <th>2810</th>\n",
       "      <td>-2.8</td>\n",
       "    </tr>\n",
       "    <tr>\n",
       "      <th>2811</th>\n",
       "      <td>-3.2</td>\n",
       "    </tr>\n",
       "    <tr>\n",
       "      <th>2812</th>\n",
       "      <td>-0.7</td>\n",
       "    </tr>\n",
       "  </tbody>\n",
       "</table>\n",
       "<p>2694 rows × 1 columns</p>\n",
       "</div>"
      ],
      "text/plain": [
       "      Recent-5yr-TrendInDeath%\n",
       "0                         -2.4\n",
       "1                         -0.6\n",
       "2                          1.7\n",
       "4                          2.2\n",
       "5                         -2.2\n",
       "...                        ...\n",
       "2807                      -2.9\n",
       "2808                      -4.9\n",
       "2810                      -2.8\n",
       "2811                      -3.2\n",
       "2812                      -0.7\n",
       "\n",
       "[2694 rows x 1 columns]"
      ]
     },
     "execution_count": 27,
     "metadata": {},
     "output_type": "execute_result"
    }
   ],
   "source": [
    "x"
   ]
  },
  {
   "cell_type": "code",
   "execution_count": 28,
   "id": "85778117",
   "metadata": {},
   "outputs": [
    {
     "data": {
      "text/html": [
       "<div>\n",
       "<style scoped>\n",
       "    .dataframe tbody tr th:only-of-type {\n",
       "        vertical-align: middle;\n",
       "    }\n",
       "\n",
       "    .dataframe tbody tr th {\n",
       "        vertical-align: top;\n",
       "    }\n",
       "\n",
       "    .dataframe thead th {\n",
       "        text-align: right;\n",
       "    }\n",
       "</style>\n",
       "<table border=\"1\" class=\"dataframe\">\n",
       "  <thead>\n",
       "    <tr style=\"text-align: right;\">\n",
       "      <th></th>\n",
       "      <th>Recent-5yr-TrendInDeath%</th>\n",
       "    </tr>\n",
       "  </thead>\n",
       "  <tbody>\n",
       "    <tr>\n",
       "      <th>0</th>\n",
       "      <td>-2.4</td>\n",
       "    </tr>\n",
       "    <tr>\n",
       "      <th>1</th>\n",
       "      <td>-0.6</td>\n",
       "    </tr>\n",
       "    <tr>\n",
       "      <th>2</th>\n",
       "      <td>1.7</td>\n",
       "    </tr>\n",
       "    <tr>\n",
       "      <th>4</th>\n",
       "      <td>2.2</td>\n",
       "    </tr>\n",
       "    <tr>\n",
       "      <th>5</th>\n",
       "      <td>-2.2</td>\n",
       "    </tr>\n",
       "    <tr>\n",
       "      <th>...</th>\n",
       "      <td>...</td>\n",
       "    </tr>\n",
       "    <tr>\n",
       "      <th>2807</th>\n",
       "      <td>-2.9</td>\n",
       "    </tr>\n",
       "    <tr>\n",
       "      <th>2808</th>\n",
       "      <td>-4.9</td>\n",
       "    </tr>\n",
       "    <tr>\n",
       "      <th>2810</th>\n",
       "      <td>-2.8</td>\n",
       "    </tr>\n",
       "    <tr>\n",
       "      <th>2811</th>\n",
       "      <td>-3.2</td>\n",
       "    </tr>\n",
       "    <tr>\n",
       "      <th>2812</th>\n",
       "      <td>-0.7</td>\n",
       "    </tr>\n",
       "  </tbody>\n",
       "</table>\n",
       "<p>2694 rows × 1 columns</p>\n",
       "</div>"
      ],
      "text/plain": [
       "      Recent-5yr-TrendInDeath%\n",
       "0                         -2.4\n",
       "1                         -0.6\n",
       "2                          1.7\n",
       "4                          2.2\n",
       "5                         -2.2\n",
       "...                        ...\n",
       "2807                      -2.9\n",
       "2808                      -4.9\n",
       "2810                      -2.8\n",
       "2811                      -3.2\n",
       "2812                      -0.7\n",
       "\n",
       "[2694 rows x 1 columns]"
      ]
     },
     "execution_count": 28,
     "metadata": {},
     "output_type": "execute_result"
    }
   ],
   "source": [
    "x"
   ]
  },
  {
   "cell_type": "code",
   "execution_count": 29,
   "id": "a08eeb78",
   "metadata": {},
   "outputs": [],
   "source": [
    "from sklearn.model_selection import train_test_split\n",
    "X_train,X_test,y_train,y_test=train_test_split(x,y,random_state=0,test_size=.3)"
   ]
  },
  {
   "cell_type": "code",
   "execution_count": 33,
   "id": "d5340904",
   "metadata": {},
   "outputs": [
    {
     "name": "stdout",
     "output_type": "stream",
     "text": [
      "Xtrain: (1885, 1)\n",
      "Xtest: (809, 1)\n",
      "Ytrain: (1885,)\n",
      "Ytest: (809,)\n"
     ]
    }
   ],
   "source": [
    "print('Xtrain:',X_train.shape)\n",
    "print('Xtest:',X_test.shape)\n",
    "print('Ytrain:',y_train.shape)\n",
    "print('Ytest:',y_test.shape)"
   ]
  },
  {
   "cell_type": "code",
   "execution_count": 34,
   "id": "8ff65657",
   "metadata": {},
   "outputs": [],
   "source": [
    "#model training and fit,prediction.\n",
    "from sklearn.linear_model import LinearRegression\n",
    "model=LinearRegression()\n",
    "model.fit(X_train,y_train)\n",
    "y_pred=model.predict(X_test)"
   ]
  },
  {
   "cell_type": "code",
   "execution_count": 40,
   "id": "ed8735dc",
   "metadata": {},
   "outputs": [
    {
     "data": {
      "text/plain": [
       "-1.6129725703034044"
      ]
     },
     "execution_count": 40,
     "metadata": {},
     "output_type": "execute_result"
    }
   ],
   "source": [
    "#coef and intercept\n",
    "model.coef_\n",
    "model.intercept_"
   ]
  },
  {
   "cell_type": "code",
   "execution_count": 38,
   "id": "11e527d3",
   "metadata": {},
   "outputs": [
    {
     "name": "stdout",
     "output_type": "stream",
     "text": [
      "MAE:- 0.8150844232521878\n",
      "r2Score:- 0.7039864349361666\n",
      "MSE:- 3.7838465833058947\n"
     ]
    }
   ],
   "source": [
    "#Calculate the Accuracy Score\n",
    "from sklearn.metrics import accuracy_score,mean_absolute_error,r2_score,mean_squared_error\n",
    "#print('Accuracy:- ',accuracy_score(y_test,y_pred))\n",
    "print('MAE:-',mean_absolute_error(y_test,y_pred))\n",
    "print('r2Score:-',r2_score(y_test,y_pred))\n",
    "print('MSE:-',mean_squared_error(y_test,y_pred))"
   ]
  },
  {
   "cell_type": "code",
   "execution_count": 36,
   "id": "963355a7",
   "metadata": {},
   "outputs": [],
   "source": []
  },
  {
   "cell_type": "code",
   "execution_count": 283,
   "id": "b8ea1c47",
   "metadata": {},
   "outputs": [
    {
     "data": {
      "text/plain": [
       "array([-1.47744729e+00, -5.10764776e+00, -8.54626281e+00, -3.60301847e+00,\n",
       "       -7.96481313e-01, -1.16780235e+00, -3.93934078e+00, -3.57292487e+00,\n",
       "       -1.00575986e+00, -1.05751351e+00, -2.91020270e+00, -1.57059367e+00,\n",
       "       -4.14944534e+00, -4.33981721e+00, -3.79923367e+00, -1.80357181e+00,\n",
       "       -2.05520815e-01, -3.09076432e+00,  2.45607914e-01, -3.70459841e+00,\n",
       "       -4.11868886e+00, -1.88812150e+00, -3.99109443e+00, -2.33203021e+00,\n",
       "       -2.16155416e+00, -2.14005726e+00, -1.30206612e+00, -2.27553458e+00,\n",
       "       -2.43212127e+00, -5.05142746e+00, -4.05359653e+00, -1.77402888e+00,\n",
       "       -4.64224213e+00, -9.25564628e-01, -3.91933276e+00, -7.54813245e-01,\n",
       "       -1.59346726e+00, -1.83079985e+00, -3.75266048e+00, -3.90340384e+00,\n",
       "       -1.43280145e+00, -4.18036495e+00, -2.59361308e+00, -3.45051089e+00,\n",
       "       -2.23590607e+00, -2.39453231e+00, -2.74353043e+00, -1.10761514e+00,\n",
       "       -1.76857309e+00, -4.07647012e+00, -2.57591995e+00, -6.82485963e+00,\n",
       "       -5.03985300e+00, -3.88460937e+00, -4.32647852e+00, -3.09947322e+00,\n",
       "       -3.78071453e+00, -6.31001525e+00, -2.07496493e+00, -4.98686171e-01,\n",
       "       -4.68853999e+00,  7.60176955e-01, -2.27906302e+00, -3.91933276e+00,\n",
       "       -3.15503065e+00, -3.44874668e+00, -2.19545154e+00, -4.45732606e+00,\n",
       "       -2.17952263e+00, -2.34184045e+00, -5.35534127e+00, -2.00386613e+00,\n",
       "       -3.02771155e+00, -3.12234681e+00, -3.80303745e+00, -2.28600769e+00,\n",
       "       -4.12304331e+00, -2.71398750e+00, -3.12725193e+00, -2.91428181e+00,\n",
       "       -1.52553621e-01, -7.18581974e+00, -3.61663249e+00, -1.88867217e+00,\n",
       "       -3.58339799e+00, -3.79691878e+00, -3.23809144e+00, -2.46342842e+00,\n",
       "       -3.99776377e+00, -2.91659670e+00, -9.71311808e-01, -8.92535453e+00,\n",
       "       -2.35572981e+00, -2.77880449e+00, -3.20105316e+00, -1.60436509e-01,\n",
       "       -6.50643076e-01, -8.58708078e-01,  9.02347703e-02, -9.71036471e-01,\n",
       "       -1.19723308e+00, -1.15705389e+00,  1.49595970e-01, -1.02251478e+00,\n",
       "       -1.04417483e+00, -2.35980892e+00, -1.69681142e+00, -3.02049154e+00,\n",
       "       -2.96928856e+00, -3.32115224e+00, -1.98589766e+00, -2.00237724e+00,\n",
       "       -1.88145215e+00, -1.21123463e+00, -6.47476016e+00, -2.46629398e+00,\n",
       "       -6.61514260e+00, -1.79251271e+01, -1.33067084e+00, -3.24189522e+00,\n",
       "       -9.66957359e-01, -4.73456250e+00, -1.81459560e+00, -9.82886271e-01,\n",
       "       -3.01029376e+00, -2.55861435e+00, -3.42300752e+00, -3.77839964e+00,\n",
       "       -3.03724646e+00, -3.79746945e+00, -2.63963560e+00,  5.04049881e-01,\n",
       "       -2.92326604e+00, -4.21740323e+00, -4.83032596e-01, -4.34144514e-01,\n",
       "       -1.51013112e+00, -2.72740815e-02, -5.15041717e+00, -3.49708408e+00,\n",
       "       -5.23810775e+00, -3.60097892e+00, -1.64874934e+00, -3.27512973e+00,\n",
       "       -2.43471150e+00, -2.26517366e+00, -3.38800879e+00, -4.51927749e+00,\n",
       "       -3.45894446e+00, -3.61745850e+00, -4.56000734e+00, -8.17866020e-01,\n",
       "       -3.69561418e+00, -4.25823153e-01, -1.86375902e+00, -2.83067034e+00,\n",
       "       -2.17136441e+00,  5.36458378e-01, -2.96289456e+00, -3.93581234e+00,\n",
       "       -1.53763450e+00, -3.44152666e+00, -5.19004568e+00, -5.89074434e+00,\n",
       "       -3.35560030e+00, -1.10789047e+00, -2.62833647e+00, -2.45962464e+00,\n",
       "       -1.12899984e+00, -2.24053585e+00, -3.38514323e+00, -3.51356367e+00,\n",
       "       -2.58407817e+00, -1.20468293e+01, -1.91060755e+00, -3.71589754e+00,\n",
       "       -3.45569135e+00, -3.40707861e+00, -2.42231102e+00, -4.19943477e+00,\n",
       "       -1.58639854e+01, -4.15980625e+00, -4.45677539e+00, -6.59627310e-01,\n",
       "       -3.07141917e+00, -6.17221346e-02, -1.05920263e+01, -2.53546543e+00,\n",
       "       -6.06750219e+00, -2.77770314e+00, -1.95431517e+00, -2.08190960e+00,\n",
       "       -2.44055483e+00, -1.60476638e+00,  2.07468286e-01, -1.20621731e+00,\n",
       "       -2.25332386e+00, -2.90094313e+00, -7.57678811e-01, -3.83368173e+00,\n",
       "       -1.46261972e+00, -2.52389096e+00, -4.66277674e-01, -3.83313105e+00,\n",
       "       -2.08692693e+00, -1.67531451e+00, -3.60615937e+00, -2.59102285e+00,\n",
       "       -1.49910733e+00, -6.79801912e+00, -3.13337060e+00, -1.49392687e+00,\n",
       "       -2.46711999e+00, -2.16072815e+00, -2.88650310e+00, -6.81967917e+00,\n",
       "       -2.27470857e+00, -3.31134200e+00, -5.04161722e+00, -3.31040379e+00,\n",
       "       -2.73427086e+00, -3.68866950e+00, -2.75593090e+00, -2.90066779e+00,\n",
       "       -5.13238401e-01, -2.36609073e+00, -1.79976804e+00, -3.03002644e+00,\n",
       "       -1.77959688e+00, -2.29267704e+00, -8.26687118e-01, -2.62833647e+00,\n",
       "        2.40425047e+00, -4.37222570e+00, -1.51299669e+00, -2.65121006e+00,\n",
       "        1.65963354e-01, -3.56135040e+00, -1.98766188e+00, -7.28822569e+00,\n",
       "       -2.27184300e+00, -8.46783179e+00, -1.25863383e+00, -2.44110550e+00,\n",
       "       -4.70242934e+00, -3.88405869e+00, -3.35560030e+00, -2.11498097e+00,\n",
       "       -2.80520652e+00, -2.68797300e+00, -5.47053523e+00, -3.36634875e+00,\n",
       "       -3.34226161e+00, -3.46467559e+00, -3.11281190e+00, -4.22693814e+00,\n",
       "       -4.65640683e+00, -3.01123197e+00, -6.55782096e+00, -2.51694629e+00,\n",
       "       -6.54609988e-01, -1.91904111e+00, -3.19225891e-01, -2.63759604e+00,\n",
       "       -2.69668190e+00, -2.72964107e+00,  7.13053092e-01, -5.13652781e+00,\n",
       "       -4.77026128e-01, -2.25387453e+00, -1.13970583e+01, -4.29610958e+00,\n",
       "       -1.41985031e+00, -7.09341402e-01, -7.83261300e+00, -3.67450481e+00,\n",
       "       -4.05999053e+00, -2.43443616e+00, -2.58843262e+00, -3.41986662e+00,\n",
       "       -1.49828132e+00, -2.33340689e+00, -1.82032674e+00, -4.43935759e+00,\n",
       "       -2.00794524e+00, -7.63797479e-01, -2.81912272e-01, -4.10452417e+00,\n",
       "       -1.60300216e+00, -1.31187636e+00, -2.34823446e+00, -4.57103114e+00,\n",
       "       -1.18334372e+00, -2.21860047e+00, -3.69886728e+00, -2.16822351e+00,\n",
       "       -3.04242692e+00, -2.36675360e+00,  3.14779357e-01, -1.93700958e+00,\n",
       "       -2.41101190e+00, -3.14808597e+00, -7.83520323e+00, -2.36212381e+00,\n",
       "       -5.00430360e+00, -4.00906290e+00, -3.30875177e+00, -2.87480268e-01,\n",
       "       -2.66945386e+00, -2.56759859e+00, -2.69083857e+00, -2.00524281e+00,\n",
       "       -1.56050809e+00, -1.75468373e+00, -2.99993284e+00, -3.00483796e+00,\n",
       "       -1.78560335e+00, -1.63078088e+00, -3.98128418e+00, -1.25372871e+00,\n",
       "       -4.17518449e+00, -4.52010350e+00, -4.24609607e-01, -2.24202473e+00,\n",
       "       -1.62245951e+00,  1.99619814e-02, -8.84447233e-01, -1.49993334e+00,\n",
       "       -4.77364034e+00, -8.13013280e+00, -2.32618688e+00, -8.05225246e+00,\n",
       "       -2.25618943e+00, -1.45374769e+00, -3.00483796e+00, -4.62372299e+00,\n",
       "       -5.74573212e+00, -6.86580013e-01, -2.91171843e-01, -3.17068422e+00,\n",
       "       -3.18950555e-01, -2.52730720e+00, -2.24406429e+00, -2.25128430e+00,\n",
       "       -1.07834754e+00, -3.34689140e+00, -4.69255440e-01, -3.47625005e+00,\n",
       "       -3.12670126e+00, -3.33735649e+00, -1.57263322e+00, -2.29322771e+00,\n",
       "       -4.78466413e+00, -1.86552324e+00, -1.15352545e+00, -2.46601865e+00,\n",
       "       -2.33721067e+00, -3.68759810e+01, -2.17516818e+00, -4.27119644e+00,\n",
       "       -1.71329100e+00, -1.24176671e+00, -2.58231395e+00, -2.32822643e+00,\n",
       "       -2.42721615e+00, -2.38350852e+00, -9.86853183e-01, -1.65541868e+00,\n",
       "       -3.16373954e+00, -1.88745862e+00, -1.76570752e+00, -8.53727857e+00,\n",
       "       -6.29761478e+00, -3.44996022e+00, -1.21150997e+00, -2.05997422e+00,\n",
       "       -3.65911281e-01, -2.08229714e+00, -2.12137498e+00, -9.95286744e-01,\n",
       "       -3.71903844e+00, -2.71084659e+00, -3.51995767e+00, -6.02581004e-01,\n",
       "       -2.97678391e+00, -2.95771410e+00, -3.60246780e+00, -1.62069529e+00,\n",
       "       -2.26776389e+00, -4.13991043e+00, -1.94505560e+00, -3.28642885e+00,\n",
       "       -3.58394866e+00, -6.65069200e+00, -3.09484344e+00, -5.48988038e+00,\n",
       "       -1.71533056e+00, -9.61899631e+00, -5.42996851e+00, -1.42624431e+00,\n",
       "       -4.69631067e+00, -2.50851272e+00, -2.18933288e+00, -6.54137099e-02,\n",
       "       -1.80561137e+00, -3.95951194e+00, -3.72951156e+00, -1.54253962e+00,\n",
       "       -1.96451295e+00, -3.74340091e+00, -2.39017786e+00, -4.63039233e+00,\n",
       "       -1.76162841e+00, -2.00496747e+00, -4.13434243e+00, -2.01163682e+00,\n",
       "       -3.98756599e+00, -2.53193699e+00, -4.37740616e+00, -2.86539373e+00,\n",
       "        5.52360441e-02, -1.75440840e+00, -6.05416351e+00, -5.90286948e+00,\n",
       "       -1.50577667e+00, -1.44272390e+00, -2.42435058e+00, -5.31940433e+00,\n",
       "       -2.11376743e+00, -1.66754382e+00, -5.59699390e-01, -1.81487094e+00,\n",
       "       -2.30656639e+00, -3.06789073e+00, -1.66495359e+00, -1.20252574e+00,\n",
       "       -3.64727677e+00, -2.68769767e+00,  1.29039957e+00, -3.87794002e+00,\n",
       "       -3.20799784e+00, -2.59824286e+00, -4.98225602e+00, -2.47092377e+00,\n",
       "       -2.31610130e+00, -1.57439744e+00, -1.33965507e+00, -1.89930842e+00,\n",
       "       -2.88936866e+00, -4.32251161e+00, -1.10067046e+00, -3.22188720e+00,\n",
       "       -1.21288665e+00, -9.87791393e-01, -4.15517647e+00, -4.01683358e+00,\n",
       "       -1.37410313e+00, -3.78071453e+00, -2.81733166e+00, -2.18007331e+00,\n",
       "       -4.34417166e+00, -2.62260534e+00, -3.02076687e+00, -2.10191763e+00,\n",
       "       -4.71753225e+00, -2.58407817e+00, -3.84757108e+00, -3.20391873e+00,\n",
       "       -5.66360953e+00, -3.68811883e+00, -2.41536635e+00, -1.01898634e+00,\n",
       "       -3.55005128e+00, -2.24516564e+00, -1.67189827e+00, -3.36689942e+00,\n",
       "       -4.63529746e+00,  1.02556360e+00, -1.81922539e+00, -3.79405322e+00,\n",
       "       -1.50059621e+00, -4.55251199e+00, -2.29526726e+00,  1.30632848e+00,\n",
       "       -3.45800625e+00, -1.29975123e+00, -1.50985578e+00, -3.00456262e+00,\n",
       "       -2.42462592e+00, -4.10424883e+00, -2.43388549e+00,  8.95453004e+00,\n",
       "       -2.33081666e+00, -3.70079464e+00, -2.31896686e+00, -1.39548783e+00,\n",
       "       -1.07956109e+00, -2.68361856e+00, -2.46888421e+00, -2.91169158e+00,\n",
       "       -2.14507458e+00, -7.79529938e+00, -3.22067365e+00, -2.18415242e+00,\n",
       "       -3.18975404e+00, -1.18141637e+00, -3.92341187e+00, -2.70649215e+00,\n",
       "       -1.15281164e+00, -2.30684173e+00, -1.76802241e+00, -3.89728518e+00,\n",
       "       -3.79895834e+00, -1.77932154e+00, -2.28137791e+00, -1.83829520e+00,\n",
       "       -3.59552312e+00, -1.49541576e+00, -1.20401462e+00, -5.28903539e+00,\n",
       "       -2.16441973e+00, -2.99949437e+00, -2.30656639e+00, -5.84637385e+00,\n",
       "       -1.20186286e+00, -1.84962118e-01, -3.63608984e+00, -8.88689482e-01,\n",
       "       -2.63445514e+00, -2.96901322e+00, -8.53802956e-01, -1.63392178e+00,\n",
       "       -2.84020525e+00, -2.94928054e+00, -6.35030663e+00, -1.06594707e+00,\n",
       "       -3.67042570e+00, -5.24700664e-01, -2.13173590e+00, -3.26124037e+00,\n",
       "       -3.67218992e+00, -1.91578801e+00, -4.07101432e+00, -1.69477186e+00,\n",
       "       -2.22582049e+00, -3.33708115e+00, -1.17066791e+00, -2.96956390e+00,\n",
       "       -1.70662166e+00, -2.53083564e+00, -2.24108652e+00, -9.70648934e-01,\n",
       "       -5.83786526e-01, -1.22705134e+00, -3.08271830e+00, -2.97298014e+00,\n",
       "       -2.96316989e+00, -5.58914543e+00, -1.03408925e+00, -9.45585248e+00,\n",
       "       -3.82673705e+00, -1.25047561e+00, -4.80808839e+00, -1.62124597e+00,\n",
       "       -9.66957359e-01, -3.70173285e+00, -3.20160384e+00, -4.62576255e+00,\n",
       "       -1.03463992e+00, -1.58672289e-01, -1.77320287e+00, -1.61430129e+00,\n",
       "       -2.54703989e+00, -3.32170292e+00, -1.63948977e+00, -3.88433403e+00,\n",
       "       -1.41494519e+00, -8.06465294e+00, -3.50320275e+00, -4.13489311e+00,\n",
       "       -2.12506655e+00, -1.95486585e+00, -3.48218149e-01, -5.78453462e+00,\n",
       "       -4.70529491e+00, -2.58666840e+00, -6.66021315e-01, -1.24215425e+00,\n",
       "       -1.79486292e+00,  2.92289862e+00, -3.40762928e+00, -3.77839964e+00,\n",
       "       -2.35220137e+00, -3.54867460e+00, -1.70921189e+00, -2.26803923e+00,\n",
       "       -1.12177983e+00, -2.44518461e+00, -1.40882652e+00, -2.95076942e+00,\n",
       "       -3.63801720e+00, -3.36485987e+00, -3.66728479e+00, -2.25795365e+00,\n",
       "       -9.39453984e-01, -3.26735904e+00, -5.12550402e+00, -3.27077528e+00,\n",
       "       -1.66495359e+00, -3.45255045e+00, -3.24735101e+00, -1.38975670e+00,\n",
       "       -1.61077285e+00, -8.07229767e-01, -3.51273766e+00, -3.66634658e+00,\n",
       "       -2.51027694e+00, -1.55466475e+00, -1.55097318e+00, -3.66932435e+00,\n",
       "       -3.80480167e+00, -1.01612078e+00, -1.21735330e+00,  5.19829415e-02,\n",
       "       -3.26124037e+00, -5.40136379e+00, -2.68852368e+00, -1.35966310e+00,\n",
       "       -4.32851808e+00, -3.41810240e+00, -1.76708420e+00, -2.92409205e+00,\n",
       "       -3.51273766e+00, -1.50114689e+00, -1.17419635e+00,  2.14376895e+00,\n",
       "       -1.00728275e+01, -1.69736209e+00, -7.86232597e-01, -3.34328794e-01,\n",
       "       -1.59523148e+00, -2.13553967e+00, -2.96779968e+00, -2.30221194e+00,\n",
       "       -3.91238808e+00, -2.14942903e+00, -9.19996633e-01,  1.30072545e+01,\n",
       "       -4.76928589e+00, -3.78862427e-01, -3.65774989e+00, -5.45857323e+00,\n",
       "       -2.75538023e+00, -2.72010616e+00, -1.08024062e+01,  1.56030380e+00,\n",
       "       -2.53546543e+00, -1.15093522e+00, -1.94461713e+00, -3.04854558e+00,\n",
       "       -3.72951156e+00, -7.23961295e+00, -1.26910695e+00, -2.93136376e-02,\n",
       "       -5.75471635e+00, -1.43864479e+00, -2.78178226e+00, -3.26096503e+00,\n",
       "        1.26997716e-01, -1.62708930e+00, -2.33550496e+01, -5.05754613e+00,\n",
       "       -3.01613709e+00, -2.19274911e+00, -2.27035412e+00,  5.12483442e-01,\n",
       "       -2.14738947e+00, -2.59333774e+00, -3.04364046e+00, -4.05563608e+00,\n",
       "       -4.50073426e-01, -2.43157059e+00, -2.49379736e+00, -7.51397007e-01,\n",
       "       -2.64658027e+00, -1.28578685e-01, -3.27281483e+00, -1.74283393e+00,\n",
       "       -3.59144401e+00, -2.70990838e+00, -1.98209388e+00, -6.56327676e+00,\n",
       "       -2.01218749e+00, -6.88532217e+00, -2.41183791e+00, -2.58325216e+00,\n",
       "       -2.81501676e+00, -1.58067925e+00, -1.62995487e+00, -2.25211031e+00,\n",
       "       -2.52444164e+00,  1.18733075e+00, -1.39003204e+00, -1.03524910e+01,\n",
       "       -6.07593575e+00, -2.72611263e+00, -2.88473888e+00, -4.10314748e+00,\n",
       "       -4.53807196e+00, -2.02210993e+00, -3.87182136e+00, -2.64167515e+00,\n",
       "       -3.33421559e+00, -3.42559775e+00, -3.64782744e+00, -3.94248168e+00,\n",
       "       -2.96465878e+00, -2.64917050e+00, -2.56528369e+00, -1.58475836e+00,\n",
       "       -2.28942393e+00, -1.62819065e+00, -5.91091550e+00, -4.30713337e+00,\n",
       "       -1.88404238e+00, -3.06678939e+00, -1.86451001e-01, -4.12916198e+00,\n",
       "       -1.57902723e+00, -3.41959128e+00, -1.25863383e+00, -2.45416885e+00,\n",
       "       -1.69736209e+00, -2.83149635e+00, -2.40842167e+00, -3.68552860e+00,\n",
       "       -2.11757120e+00,  2.30211986e+00, -2.77935516e+00, -2.27007878e+00,\n",
       "       -3.69043372e+00, -4.03397604e+00, -3.60615937e+00, -1.08682861e-01,\n",
       "       -3.62412784e+00, -4.15490113e+00, -2.29785749e+00, -2.75797046e+00,\n",
       "        4.75965890e+00, -1.95459051e+00, -2.53463942e+00, -2.64399004e+00,\n",
       "       -2.70158702e+00, -1.09604067e+00, -2.30711706e+00, -3.11771703e+00,\n",
       "       -7.01570715e-01, -1.85135855e+00, -4.38435084e+00, -1.61920641e+00,\n",
       "       -2.75741978e+00, -9.54006213e-01, -4.20610411e+00, -9.99641193e-01,\n",
       "       -1.16085767e+00, -2.69232745e+00, -5.33960234e-01, -2.65093472e+00,\n",
       "       -5.91675884e+00, -1.65337913e+00, -6.37863602e+00, -3.45023556e+00,\n",
       "       -2.22229205e+00, -8.39087591e-01, -1.80153226e+00, -3.10382767e+00,\n",
       "       -3.13419661e+00, -7.61207250e-01, -3.02049154e+00, -1.59060169e+00,\n",
       "       -5.57090162e+00, -4.90178545e+00, -2.41713057e+00, -1.77171399e+00,\n",
       "       -2.87547931e+00, -3.00687752e+00, -3.59634913e+00, -6.47272061e+00,\n",
       "       -4.26899375e+00, -2.69750791e+00, -2.16441973e+00, -2.50619783e+00,\n",
       "       -1.14453957e+01, -2.09905206e+00, -4.61038431e+00, -2.79037895e+00,\n",
       "       -3.64005675e+00, -3.60764826e+00, -2.42027147e+00, -2.27321968e+00,\n",
       "       -1.76774708e+00, -4.51955282e+00, -2.08108359e+00, -2.16100349e+00,\n",
       "       -1.19326617e+00, -1.84931899e+00, -3.26096503e+00, -6.08148999e-01,\n",
       "       -4.63188122e+00])"
      ]
     },
     "execution_count": 283,
     "metadata": {},
     "output_type": "execute_result"
    }
   ],
   "source": [
    "y_pred"
   ]
  },
  {
   "cell_type": "code",
   "execution_count": 284,
   "id": "2e3a4c6e",
   "metadata": {},
   "outputs": [
    {
     "data": {
      "text/plain": [
       "358     -1.6\n",
       "1319    -4.4\n",
       "892    -14.5\n",
       "1911    -3.2\n",
       "364     -1.1\n",
       "        ... \n",
       "312     -1.1\n",
       "134     -2.8\n",
       "1694    -2.7\n",
       "32      -1.2\n",
       "1122    -4.9\n",
       "Name: Lower95%CI_forTread, Length: 809, dtype: float64"
      ]
     },
     "execution_count": 284,
     "metadata": {},
     "output_type": "execute_result"
    }
   ],
   "source": [
    "y_test"
   ]
  },
  {
   "cell_type": "code",
   "execution_count": 53,
   "id": "444b96cc",
   "metadata": {},
   "outputs": [
    {
     "data": {
      "image/png": "[encoded data removed]",
      "text/plain": [
       "<Figure size 576x432 with 1 Axes>"
      ]
     },
     "metadata": {
      "needs_background": "light"
     },
     "output_type": "display_data"
    }
   ],
   "source": [
    "# Outlier in datasets\n",
    "plt.figure(figsize=(8,6))\n",
    "plt.scatter(x=cancer['Recent-5yr-TrendInDeath%'],y=cancer['Lower95%CI_forTread'])\n",
    "plt.xlabel('Lower95%CI_forTread')\n",
    "plt.ylabel('Recent-5yr-TrendInDeath%')\n",
    "plt.show()"
   ]
  },
  {
   "cell_type": "code",
   "execution_count": 55,
   "id": "7bc0fba8",
   "metadata": {},
   "outputs": [
    {
     "data": {
      "text/plain": [
       "<AxesSubplot:xlabel='Lower95%CI_forTread'>"
      ]
     },
     "execution_count": 55,
     "metadata": {},
     "output_type": "execute_result"
    },
    {
     "data": {
      "image/png": "[encoded data removed]",
      "text/plain": [
       "<Figure size 576x432 with 1 Axes>"
      ]
     },
     "metadata": {
      "needs_background": "light"
     },
     "output_type": "display_data"
    }
   ],
   "source": [
    "plt.figure(figsize=(8,6))\n",
    "sns.boxplot(data=cancer,x=cancer['Lower95%CI_forTread'])"
   ]
  },
  {
   "cell_type": "code",
   "execution_count": 79,
   "id": "e55128c6",
   "metadata": {},
   "outputs": [],
   "source": [
    "#Remove outlier\n",
    "#function to find outliers\n",
    "def find_outliers(can):\n",
    "    q1=can.quantile(0.25)\n",
    "    q3=can.quantile(0.75)\n",
    "    IQR=q3-q1\n",
    "    outlier=can[((can<(q1-1.5*IQR)) | (can>(q3+ 1.5* IQR)))]\n",
    "    return outlier.to_list()\n",
    "outliers=find_outliers(can=cancer['Lower95%CI_forTread'])\n",
    "canserDf=cancer.query(f\" `Lower95%CI_forTread` not in {outliers}\")"
   ]
  },
  {
   "cell_type": "markdown",
   "id": "942c2697",
   "metadata": {},
   "source": [
    "##  #Again We will Evalueate the model"
   ]
  },
  {
   "cell_type": "code",
   "execution_count": 83,
   "id": "81a790a1",
   "metadata": {},
   "outputs": [],
   "source": [
    "X=canserDf[['Recent-5yr-TrendInDeath%']]\n",
    "Y=canserDf['Lower95%CI_forTread']"
   ]
  },
  {
   "cell_type": "code",
   "execution_count": 85,
   "id": "c19fb3f4",
   "metadata": {},
   "outputs": [
    {
     "name": "stdout",
     "output_type": "stream",
     "text": [
      "Xtrain: (1776, 1)\n",
      "Xtest: (762, 1)\n",
      "Ytrain: (1776,)\n",
      "Ytest: (762,)\n",
      "MAE:- 0.586803718383091\n",
      "r2Score:- 0.009965852070835002\n",
      "MSE:- 1.2879690134488184\n"
     ]
    }
   ],
   "source": [
    "from sklearn.model_selection import train_test_split\n",
    "X_train,X_test,y_train,y_test=train_test_split(X,Y,random_state=0,test_size=.3)\n",
    "print('Xtrain:',X_train.shape)\n",
    "print('Xtest:',X_test.shape)\n",
    "print('Ytrain:',y_train.shape)\n",
    "print('Ytest:',y_test.shape)\n",
    "\n",
    "#model training and fit,prediction.\n",
    "from sklearn.linear_model import LinearRegression\n",
    "model=LinearRegression()\n",
    "model.fit(X_train,y_train)\n",
    "y_pred1=model.predict(X_test)\n",
    "\n",
    "#Calculate the Accuracy Score\n",
    "from sklearn.metrics import accuracy_score,mean_absolute_error,r2_score,mean_squared_error\n",
    "#print('Accuracy:- ',accuracy_score(y_test,y_pred))\n",
    "print('MAE:-',mean_absolute_error(y_test,y_pred1))\n",
    "print('r2Score:-',r2_score(y_test,y_pred1))\n",
    "print('MSE:-',mean_squared_error(y_test,y_pred1))"
   ]
  },
  {
   "cell_type": "code",
   "execution_count": 87,
   "id": "cbb3ce12",
   "metadata": {},
   "outputs": [
    {
     "data": {
      "text/plain": [
       "<AxesSubplot:xlabel='Lower95%CI_forTread'>"
      ]
     },
     "execution_count": 87,
     "metadata": {},
     "output_type": "execute_result"
    },
    {
     "data": {
      "image/png": "[encoded data removed]",
      "text/plain": [
       "<Figure size 576x432 with 1 Axes>"
      ]
     },
     "metadata": {
      "needs_background": "light"
     },
     "output_type": "display_data"
    }
   ],
   "source": [
    "plt.figure(figsize=(8,6))\n",
    "sns.boxplot(data=canserDf,x=canserDf['Lower95%CI_forTread'])"
   ]
  },
  {
   "cell_type": "code",
   "execution_count": null,
   "id": "78ae25a1",
   "metadata": {},
   "outputs": [],
   "source": []
  }
 ],
 "metadata": {
  "kernelspec": {
   "display_name": "Python 3",
   "language": "python",
   "name": "python3"
  },
  "language_info": {
   "codemirror_mode": {
    "name": "ipython",
    "version": 3
   },
   "file_extension": ".py",
   "mimetype": "text/x-python",
   "name": "python",
   "nbconvert_exporter": "python",
   "pygments_lexer": "ipython3",
   "version": "3.9.12"
  }
 },
 "nbformat": 4,
 "nbformat_minor": 5
}
