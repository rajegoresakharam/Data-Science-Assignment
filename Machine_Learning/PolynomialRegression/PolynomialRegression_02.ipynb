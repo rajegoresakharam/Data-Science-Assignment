{
 "cells": [
  {
   "cell_type": "code",
   "execution_count": null,
   "id": "0a41283f",
   "metadata": {},
   "outputs": [],
   "source": [
    "import numpy as np\n",
    "import pandas as pd\n",
    "import matplotlib.pyplot as plt\n",
    "import seaborn as sns\n",
    "from sklearn.model_selection import train_test_split\n",
    "from sklearn.preprocessing import PolynomialFeatures\n",
    "from sklearn.linear_model import LinearRegression\n",
    "from sklearn.metrics import mean_squared_error,mean_absolute_error,r2_score"
   ]
  },
  {
   "cell_type": "code",
   "execution_count": 57,
   "id": "a31ccae0",
   "metadata": {},
   "outputs": [
    {
     "data": {
      "text/html": [
       "<div>\n",
       "<style scoped>\n",
       "    .dataframe tbody tr th:only-of-type {\n",
       "        vertical-align: middle;\n",
       "    }\n",
       "\n",
       "    .dataframe tbody tr th {\n",
       "        vertical-align: top;\n",
       "    }\n",
       "\n",
       "    .dataframe thead th {\n",
       "        text-align: right;\n",
       "    }\n",
       "</style>\n",
       "<table border=\"1\" class=\"dataframe\">\n",
       "  <thead>\n",
       "    <tr style=\"text-align: right;\">\n",
       "      <th></th>\n",
       "      <th>TV</th>\n",
       "      <th>Radio</th>\n",
       "      <th>Newspaper</th>\n",
       "      <th>Sales</th>\n",
       "    </tr>\n",
       "  </thead>\n",
       "  <tbody>\n",
       "    <tr>\n",
       "      <th>0</th>\n",
       "      <td>230.1</td>\n",
       "      <td>37.8</td>\n",
       "      <td>69.2</td>\n",
       "      <td>22.1</td>\n",
       "    </tr>\n",
       "    <tr>\n",
       "      <th>1</th>\n",
       "      <td>44.5</td>\n",
       "      <td>39.3</td>\n",
       "      <td>45.1</td>\n",
       "      <td>10.4</td>\n",
       "    </tr>\n",
       "    <tr>\n",
       "      <th>2</th>\n",
       "      <td>17.2</td>\n",
       "      <td>45.9</td>\n",
       "      <td>69.3</td>\n",
       "      <td>12.0</td>\n",
       "    </tr>\n",
       "    <tr>\n",
       "      <th>3</th>\n",
       "      <td>151.5</td>\n",
       "      <td>41.3</td>\n",
       "      <td>58.5</td>\n",
       "      <td>16.5</td>\n",
       "    </tr>\n",
       "    <tr>\n",
       "      <th>4</th>\n",
       "      <td>180.8</td>\n",
       "      <td>10.8</td>\n",
       "      <td>58.4</td>\n",
       "      <td>17.9</td>\n",
       "    </tr>\n",
       "  </tbody>\n",
       "</table>\n",
       "</div>"
      ],
      "text/plain": [
       "      TV  Radio  Newspaper  Sales\n",
       "0  230.1   37.8       69.2   22.1\n",
       "1   44.5   39.3       45.1   10.4\n",
       "2   17.2   45.9       69.3   12.0\n",
       "3  151.5   41.3       58.5   16.5\n",
       "4  180.8   10.8       58.4   17.9"
      ]
     },
     "execution_count": 57,
     "metadata": {},
     "output_type": "execute_result"
    }
   ],
   "source": [
    "AdDf=pd.read_csv('advertising.csv')\n",
    "AdDf.head()"
   ]
  },
  {
   "cell_type": "code",
   "execution_count": 58,
   "id": "6f9237b2",
   "metadata": {},
   "outputs": [],
   "source": [
    "## #Linear Regression model\n",
    "X=AdDf[['TV','Radio','Newspaper']].values\n",
    "y=AdDf['Sales'].values"
   ]
  },
  {
   "cell_type": "code",
   "execution_count": 59,
   "id": "32f9a071",
   "metadata": {},
   "outputs": [
    {
     "data": {
      "text/plain": [
       "LinearRegression()"
      ]
     },
     "execution_count": 59,
     "metadata": {},
     "output_type": "execute_result"
    }
   ],
   "source": [
    "Xtrain,Xtest,ytrain,ytest=train_test_split(X,y,test_size=0.25,random_state=0)\n",
    "ML_model=LinearRegression()\n",
    "ML_model.fit(Xtrain,ytrain)"
   ]
  },
  {
   "cell_type": "code",
   "execution_count": 60,
   "id": "2fefa243",
   "metadata": {},
   "outputs": [],
   "source": [
    "ypred=ML_model.predict(Xtest)"
   ]
  },
  {
   "cell_type": "code",
   "execution_count": 61,
   "id": "e0ff19d3",
   "metadata": {},
   "outputs": [
    {
     "name": "stdout",
     "output_type": "stream",
     "text": [
      "0.8718069474344207\n",
      "3.958353281475324\n",
      "1.3405402421444608\n"
     ]
    }
   ],
   "source": [
    "from sklearn.metrics import mean_squared_error,mean_absolute_error,r2_score\n",
    "MSE=mean_squared_error(ytest,ypred)\n",
    "MAE=mean_absolute_error(ytest,ypred)\n",
    "r2Score=r2_score(ytest,ypred)\n",
    "print(r2Score)\n",
    "print(MSE)\n",
    "print(MAE)"
   ]
  },
  {
   "cell_type": "markdown",
   "id": "0851e47b",
   "metadata": {},
   "source": [
    "## #Polynomial Regression"
   ]
  },
  {
   "cell_type": "code",
   "execution_count": 62,
   "id": "75ce8461",
   "metadata": {},
   "outputs": [],
   "source": [
    "poly_cover=PolynomialFeatures(degree=2,include_bias=False)\n",
    "poly_feature=poly_cover.fit_transform(X)\n",
    "X_train,X_test,y_train,y_test=train_test_split(poly_feature,y,test_size=0.25,random_state=0)\n",
    "ML_model=LinearRegression()\n",
    "ML_model.fit(X_train,y_train)\n",
    "y_pred = ML_model.predict(X_test)"
   ]
  },
  {
   "cell_type": "code",
   "execution_count": 63,
   "id": "2cb0aa66",
   "metadata": {},
   "outputs": [
    {
     "name": "stdout",
     "output_type": "stream",
     "text": [
      "0.9155779505258297\n",
      "2.606789446674599\n",
      "1.1980177182372629\n"
     ]
    }
   ],
   "source": [
    "from sklearn.metrics import mean_squared_error,mean_absolute_error,r2_score\n",
    "MSE_poly=mean_squared_error(y_test,y_pred)\n",
    "MAE_poly=mean_absolute_error(y_test,y_pred)\n",
    "r2Score_poly=r2_score(y_test,y_pred)\n",
    "print(r2Score_poly)\n",
    "print(MSE_poly)\n",
    "print(MAE_poly)"
   ]
  },
  {
   "cell_type": "markdown",
   "id": "1f00836d",
   "metadata": {},
   "source": [
    "## #Best Degree for best Model"
   ]
  },
  {
   "cell_type": "code",
   "execution_count": 64,
   "id": "19cdae25",
   "metadata": {},
   "outputs": [],
   "source": [
    "## #Linear Regression model\n",
    "X1=AdDf[['TV','Radio','Newspaper']].values\n",
    "y1=AdDf['Sales'].values"
   ]
  },
  {
   "cell_type": "code",
   "execution_count": 65,
   "id": "31878c52",
   "metadata": {},
   "outputs": [],
   "source": [
    "MSE1=[]\n",
    "MAE1=[]\n",
    "r2=[]\n",
    "for d in range(1,10):\n",
    "    poly_cover1 = PolynomialFeatures(degree=d,include_bias=False)\n",
    "    poly_feature1 = poly_cover1.fit_transform(X1)\n",
    "    X_train,X_test,y_train,y_test = train_test_split(poly_feature1,y,test_size=0.25,random_state=0)\n",
    "    ML_model1 = LinearRegression()\n",
    "    ML_model1.fit(X_train,y_train)\n",
    "    y_pred = ML_model1.predict(X_test)\n",
    "    MSE_poly = mean_squared_error(y_test,y_pred)\n",
    "    MAE_poly = mean_absolute_error(y_test,y_pred)\n",
    "    r2Score_poly = r2_score(y_test,y_pred)\n",
    "    MSE1.append(MSE_poly)\n",
    "    MAE1.append(MAE_poly)\n",
    "    r2.append(r2Score_poly)\n",
    "    \n"
   ]
  },
  {
   "cell_type": "code",
   "execution_count": 66,
   "id": "62b93e49",
   "metadata": {},
   "outputs": [
    {
     "data": {
      "text/plain": [
       "[3.958353281475324,\n",
       " 2.606789446674599,\n",
       " 3.413049712880718,\n",
       " 17.370635666881547,\n",
       " 41.2504948722069,\n",
       " 14791.84155458315,\n",
       " 105344922.73164397,\n",
       " 1375375686.8526626,\n",
       " 23018943354.073692]"
      ]
     },
     "execution_count": 66,
     "metadata": {},
     "output_type": "execute_result"
    }
   ],
   "source": [
    "MSE1"
   ]
  },
  {
   "cell_type": "code",
   "execution_count": 67,
   "id": "a1687e50",
   "metadata": {},
   "outputs": [
    {
     "data": {
      "text/plain": [
       "[1.3405402421444608,\n",
       " 1.1980177182372629,\n",
       " 1.3298541932391812,\n",
       " 1.9846966840201128,\n",
       " 2.2005911298392844,\n",
       " 20.101250452338082,\n",
       " 1683.8811437050035,\n",
       " 6010.760252264529,\n",
       " 30910.326447633604]"
      ]
     },
     "execution_count": 67,
     "metadata": {},
     "output_type": "execute_result"
    }
   ],
   "source": [
    "MAE1"
   ]
  },
  {
   "cell_type": "code",
   "execution_count": 68,
   "id": "afc19bb6",
   "metadata": {},
   "outputs": [
    {
     "data": {
      "text/plain": [
       "[0.8718069474344207,\n",
       " 0.9155779505258297,\n",
       " 0.8894668489293656,\n",
       " 0.43744414588681646,\n",
       " -0.3359158421398083,\n",
       " -478.04044614270987,\n",
       " -3411641.7354915766,\n",
       " -44542159.637165025,\n",
       " -745478839.7094982]"
      ]
     },
     "execution_count": 68,
     "metadata": {},
     "output_type": "execute_result"
    }
   ],
   "source": [
    "r2"
   ]
  },
  {
   "cell_type": "code",
   "execution_count": 69,
   "id": "46383677",
   "metadata": {},
   "outputs": [
    {
     "data": {
      "image/png": "[encoded data removed]",
      "text/plain": [
       "<Figure size 576x432 with 1 Axes>"
      ]
     },
     "metadata": {
      "needs_background": "light"
     },
     "output_type": "display_data"
    }
   ],
   "source": [
    "#plot the error and for degree\n",
    "plt.figure(figsize=(8,6))\n",
    "plt.plot(range(1,5),MSE1[:4],color='red',label=\"RMS\")\n",
    "plt.plot(range(1,5),MAE1[:4],color='green',label=\"MAE\")\n",
    "plt.plot(range(1,5),r2[:4],color='blue',label=\"r2_score\")\n",
    "plt.xlabel('degree',size=15)\n",
    "plt.ylabel('Error & score',size=15)\n",
    "plt.legend()\n",
    "plt.show()\n"
   ]
  },
  {
   "cell_type": "code",
   "execution_count": 70,
   "id": "a910c745",
   "metadata": {},
   "outputs": [],
   "source": [
    "#help(plt.plot)"
   ]
  },
  {
   "cell_type": "markdown",
   "id": "af309db7",
   "metadata": {},
   "source": [
    "## #Regulization technique for Bias and Variance Tread-Off(Ridge Regression,Lasso Regression,Elasticnet)"
   ]
  },
  {
   "cell_type": "code",
   "execution_count": 92,
   "id": "2644ca77",
   "metadata": {},
   "outputs": [],
   "source": [
    "#Regulization\n",
    "from sklearn.preprocessing import StandardScaler"
   ]
  },
  {
   "cell_type": "code",
   "execution_count": 93,
   "id": "cb315f29",
   "metadata": {},
   "outputs": [],
   "source": [
    "stdScalar = StandardScaler()"
   ]
  },
  {
   "cell_type": "code",
   "execution_count": 94,
   "id": "799b2f39",
   "metadata": {},
   "outputs": [],
   "source": [
    "stdScalar.fit(X_train)\n",
    "X_train=stdScalar.transform(X_train)"
   ]
  },
  {
   "cell_type": "code",
   "execution_count": 95,
   "id": "63c96e4f",
   "metadata": {},
   "outputs": [],
   "source": [
    "X_test=stdScalar.transform(X_test)"
   ]
  },
  {
   "cell_type": "code",
   "execution_count": 96,
   "id": "08ea3f34",
   "metadata": {},
   "outputs": [],
   "source": [
    "#Ridge Regression\n",
    "from sklearn.linear_model import Ridge\n",
    "reg_Ridge=Ridge(alpha=100)"
   ]
  },
  {
   "cell_type": "code",
   "execution_count": 97,
   "id": "57c6b941",
   "metadata": {},
   "outputs": [
    {
     "data": {
      "text/plain": [
       "Ridge(alpha=100)"
      ]
     },
     "execution_count": 97,
     "metadata": {},
     "output_type": "execute_result"
    }
   ],
   "source": [
    "reg_Ridge.fit(X_train,y_train)"
   ]
  },
  {
   "cell_type": "code",
   "execution_count": 98,
   "id": "fdf50807",
   "metadata": {},
   "outputs": [],
   "source": [
    "pred_ridge=reg_Ridge.predict(X_test)"
   ]
  },
  {
   "cell_type": "code",
   "execution_count": 99,
   "id": "aba1a431",
   "metadata": {},
   "outputs": [
    {
     "name": "stdout",
     "output_type": "stream",
     "text": [
      "MSE_ridge:-  6.591717380529975\n",
      "MAE_ridge:-  1.8920337603059525\n",
      "r2Score_ridge:-  0.7865242658824085\n"
     ]
    }
   ],
   "source": [
    "from sklearn.metrics import mean_squared_error,mean_absolute_error,r2_score\n",
    "MSE_ridge=mean_squared_error(y_test,pred_ridge)\n",
    "MAE_ridge=mean_absolute_error(y_test,pred_ridge)\n",
    "r2Score_ridge=r2_score(y_test,pred_ridge)\n",
    "print(\"MSE_ridge:- \",MSE_ridge)\n",
    "print(\"MAE_ridge:- \",MAE_ridge)\n",
    "print(\"r2Score_ridge:- \",r2Score_ridge)"
   ]
  },
  {
   "cell_type": "code",
   "execution_count": 101,
   "id": "92340b85",
   "metadata": {},
   "outputs": [],
   "source": [
    "## Cross-Validation using RidgeCV\n",
    "from sklearn.linear_model import RidgeCV\n"
   ]
  },
  {
   "cell_type": "code",
   "execution_count": 103,
   "id": "ac41755f",
   "metadata": {},
   "outputs": [],
   "source": [
    "ridge_cv_model=RidgeCV(alphas=(0.1,1.0,10,100.0))"
   ]
  },
  {
   "cell_type": "code",
   "execution_count": 104,
   "id": "25e8f7d6",
   "metadata": {},
   "outputs": [
    {
     "data": {
      "text/plain": [
       "RidgeCV(alphas=array([  0.1,   1. ,  10. , 100. ]))"
      ]
     },
     "execution_count": 104,
     "metadata": {},
     "output_type": "execute_result"
    }
   ],
   "source": [
    "ridge_cv_model.fit(X_train,y_train)"
   ]
  },
  {
   "cell_type": "code",
   "execution_count": 105,
   "id": "7cea2f2c",
   "metadata": {},
   "outputs": [
    {
     "data": {
      "text/plain": [
       "10.0"
      ]
     },
     "execution_count": 105,
     "metadata": {},
     "output_type": "execute_result"
    }
   ],
   "source": [
    "ridge_cv_model.alpha_"
   ]
  },
  {
   "cell_type": "code",
   "execution_count": 109,
   "id": "92c30532",
   "metadata": {},
   "outputs": [],
   "source": [
    "#from sklearn.metrics import SCORERS"
   ]
  },
  {
   "cell_type": "code",
   "execution_count": 110,
   "id": "91b6397f",
   "metadata": {},
   "outputs": [],
   "source": [
    "#SCORERS.keys()"
   ]
  },
  {
   "cell_type": "code",
   "execution_count": 120,
   "id": "7b0e3e3a",
   "metadata": {},
   "outputs": [],
   "source": [
    "test_predictions=ridge_cv_model.predict(X_test)\n",
    "MAE = mean_absolute_error(y_test,test_predictions)\n",
    "RMSE = np.sqrt(mean_squared_error(y_test,test_predictions))\n",
    "MSE=mean_squared_error(y_test,test_predictions)\n",
    "r2_Score=r2_score(y_test,test_predictions)"
   ]
  },
  {
   "cell_type": "code",
   "execution_count": 115,
   "id": "bbbe5628",
   "metadata": {},
   "outputs": [
    {
     "data": {
      "text/plain": [
       "1.6833075384818441"
      ]
     },
     "execution_count": 115,
     "metadata": {},
     "output_type": "execute_result"
    }
   ],
   "source": [
    "MAE"
   ]
  },
  {
   "cell_type": "code",
   "execution_count": 116,
   "id": "72548f14",
   "metadata": {},
   "outputs": [
    {
     "data": {
      "text/plain": [
       "2.690346470274831"
      ]
     },
     "execution_count": 116,
     "metadata": {},
     "output_type": "execute_result"
    }
   ],
   "source": [
    "RMSE"
   ]
  },
  {
   "cell_type": "code",
   "execution_count": 118,
   "id": "09f523fa",
   "metadata": {},
   "outputs": [
    {
     "data": {
      "text/plain": [
       "7.2379641301202415"
      ]
     },
     "execution_count": 118,
     "metadata": {},
     "output_type": "execute_result"
    }
   ],
   "source": [
    "MSE"
   ]
  },
  {
   "cell_type": "code",
   "execution_count": 121,
   "id": "4a472284",
   "metadata": {},
   "outputs": [
    {
     "data": {
      "text/plain": [
       "0.7655952740391936"
      ]
     },
     "execution_count": 121,
     "metadata": {},
     "output_type": "execute_result"
    }
   ],
   "source": [
    "r2_Score"
   ]
  },
  {
   "cell_type": "markdown",
   "id": "c2cdd7b7",
   "metadata": {},
   "source": [
    "## #LASSO:- Least Absolute Shrinkage and Selection Operator"
   ]
  },
  {
   "cell_type": "code",
   "execution_count": 125,
   "id": "4f2b9397",
   "metadata": {},
   "outputs": [],
   "source": [
    "from sklearn.linear_model import LassoCV\n",
    "lass_cv_model = LassoCV(eps=0.001,n_alphas=100,cv=5,max_iter=10000)\n",
    "lass_cv_model.fit(X_train,y_train)\n",
    "lass_cv_model.alpha_\n",
    "test_predict=lass_cv_model.predict(X_test)\n",
    "#test_predictions=ridge_cv_model.predict(X_test)\n",
    "Lasso_MAE = mean_absolute_error(y_test,test_predict)\n",
    "Lasso_RMSE = np.sqrt(mean_squared_error(y_test,test_predict))\n",
    "Lasso_MSE=mean_squared_error(y_test,test_predict)\n",
    "Lasso_r2_Score=r2_score(y_test,test_predict)"
   ]
  },
  {
   "cell_type": "code",
   "execution_count": 136,
   "id": "5a0c6927",
   "metadata": {},
   "outputs": [
    {
     "data": {
      "text/plain": [
       "1.2382104408233032"
      ]
     },
     "execution_count": 136,
     "metadata": {},
     "output_type": "execute_result"
    }
   ],
   "source": [
    "Lasso_MAE"
   ]
  },
  {
   "cell_type": "code",
   "execution_count": 137,
   "id": "c8583469",
   "metadata": {},
   "outputs": [
    {
     "data": {
      "text/plain": [
       "2.908470106341769"
      ]
     },
     "execution_count": 137,
     "metadata": {},
     "output_type": "execute_result"
    }
   ],
   "source": [
    "Lasso_MSE"
   ]
  },
  {
   "cell_type": "code",
   "execution_count": 138,
   "id": "08bb7b37",
   "metadata": {},
   "outputs": [
    {
     "data": {
      "text/plain": [
       "1.7054237321973003"
      ]
     },
     "execution_count": 138,
     "metadata": {},
     "output_type": "execute_result"
    }
   ],
   "source": [
    "Lasso_RMSE"
   ]
  },
  {
   "cell_type": "code",
   "execution_count": 139,
   "id": "5859f9db",
   "metadata": {},
   "outputs": [
    {
     "data": {
      "text/plain": [
       "0.9058078865844126"
      ]
     },
     "execution_count": 139,
     "metadata": {},
     "output_type": "execute_result"
    }
   ],
   "source": [
    "Lasso_r2_Score"
   ]
  },
  {
   "cell_type": "code",
   "execution_count": 140,
   "id": "3a5fda09",
   "metadata": {},
   "outputs": [
    {
     "data": {
      "text/plain": [
       "array([ 4.48170163,  0.3771976 , -0.00975208, -0.        ,  0.95591516,\n",
       "       -0.        ,  0.        ,  0.        ,  0.        , -0.        ,\n",
       "        0.        , -0.        ,  0.        , -0.        , -0.        ,\n",
       "        0.        , -0.        ,  0.        ,  0.        , -0.        ,\n",
       "        0.        , -0.        , -0.        , -0.        , -0.        ,\n",
       "        0.        , -0.        ,  0.        , -0.        ,  0.        ,\n",
       "       -0.        ,  0.        ,  0.04678336,  0.        , -0.60717158,\n",
       "        0.        , -0.        , -0.        ,  0.        , -0.        ,\n",
       "        0.        , -0.        ,  0.        , -0.        ,  0.        ,\n",
       "       -0.        , -0.        ,  0.        , -0.        ,  0.        ,\n",
       "       -0.        ,  0.        ,  0.        ,  0.        ,  0.        ,\n",
       "       -0.25407396,  0.        , -0.        ,  0.        ,  0.        ,\n",
       "       -0.        ,  0.        , -0.        ,  0.        , -0.        ,\n",
       "        0.        , -0.        , -0.        ,  0.        , -0.        ,\n",
       "        0.        , -0.        , -0.        , -0.        ,  0.        ,\n",
       "       -0.        ,  0.57551177, -0.        ,  0.        ,  0.        ,\n",
       "        0.        ,  0.        ,  0.        , -0.        ,  0.        ,\n",
       "       -0.        ,  0.        ,  0.        , -0.        ,  0.        ,\n",
       "        0.        ,  0.        , -0.        ,  0.        , -0.        ,\n",
       "        0.        ,  0.        , -0.        ,  0.        , -0.        ,\n",
       "       -0.        , -0.        , -0.        , -0.        ,  0.        ,\n",
       "       -0.        , -0.        , -0.        , -0.        , -0.        ,\n",
       "       -0.        ,  0.        , -0.        ,  0.        ,  0.        ,\n",
       "        0.        ,  0.        ,  0.        , -0.        , -0.        ,\n",
       "        0.        , -0.        ,  0.        ,  0.        , -0.        ,\n",
       "        0.        ,  0.        ,  0.        , -0.        ,  0.        ,\n",
       "        0.        ,  0.        ,  0.        , -0.        ,  0.        ,\n",
       "        0.        ,  0.        ,  0.        ,  0.        , -0.        ,\n",
       "        0.        , -0.        , -0.        , -0.        , -0.        ,\n",
       "       -0.        , -0.        ,  0.        , -0.        , -0.        ,\n",
       "       -0.        , -0.        , -0.        , -0.        , -0.        ,\n",
       "        0.        , -0.        ,  0.        ,  0.        ,  0.        ,\n",
       "        0.        ,  0.        ,  0.        , -0.        , -0.        ,\n",
       "        0.        , -0.        ,  0.        ,  0.        , -0.        ,\n",
       "        0.        ,  0.        ,  0.        , -0.        ,  0.        ,\n",
       "        0.        ,  0.        ,  0.        , -0.        ,  0.27975754,\n",
       "        0.        ,  0.        ,  0.        ,  0.        , -0.        ,\n",
       "        0.        ,  0.        ,  0.        ,  0.        ,  0.        ,\n",
       "       -0.        , -0.        ,  0.        , -0.        , -0.        ,\n",
       "       -0.        , -0.        , -0.        , -0.        , -0.        ,\n",
       "        0.        , -0.06433147, -0.        , -0.        , -0.        ,\n",
       "       -0.        , -0.        , -0.        , -0.        ,  0.        ,\n",
       "       -0.        ,  0.        ,  0.        ,  0.08039573,  0.        ,\n",
       "        0.        ,  0.        ,  0.        , -0.        ])"
      ]
     },
     "execution_count": 140,
     "metadata": {},
     "output_type": "execute_result"
    }
   ],
   "source": [
    "lass_cv_model.coef_"
   ]
  },
  {
   "cell_type": "markdown",
   "id": "240b0e75",
   "metadata": {},
   "source": [
    "## #ElasticNet Regression"
   ]
  },
  {
   "cell_type": "code",
   "execution_count": 158,
   "id": "34b5127f",
   "metadata": {},
   "outputs": [],
   "source": [
    "from sklearn.linear_model import ElasticNetCV\n",
    "elasticNet = ElasticNetCV(l1_ratio=[0.1,0.5,0.7,0.9,0.95,0.99,1],n_alphas=100,eps=0.001,max_iter=10000)"
   ]
  },
  {
   "cell_type": "code",
   "execution_count": 163,
   "id": "80f510d2",
   "metadata": {},
   "outputs": [
    {
     "data": {
      "text/plain": [
       "1.0"
      ]
     },
     "execution_count": 163,
     "metadata": {},
     "output_type": "execute_result"
    }
   ],
   "source": [
    "elasticNet.l1_ratio_"
   ]
  },
  {
   "cell_type": "code",
   "execution_count": 164,
   "id": "fcde01d5",
   "metadata": {},
   "outputs": [
    {
     "data": {
      "text/plain": [
       "ElasticNetCV(l1_ratio=[0.1, 0.5, 0.7, 0.9, 0.95, 0.99, 1], max_iter=10000)"
      ]
     },
     "execution_count": 164,
     "metadata": {},
     "output_type": "execute_result"
    }
   ],
   "source": [
    "elasticNet.fit(X_train,y_train)"
   ]
  },
  {
   "cell_type": "code",
   "execution_count": 167,
   "id": "8395fb35",
   "metadata": {},
   "outputs": [],
   "source": [
    "Electic_pred=elasticNet.predict(X_test)"
   ]
  },
  {
   "cell_type": "code",
   "execution_count": 166,
   "id": "0e27835f",
   "metadata": {},
   "outputs": [
    {
     "data": {
      "text/plain": [
       "0.02633007767726182"
      ]
     },
     "execution_count": 166,
     "metadata": {},
     "output_type": "execute_result"
    }
   ],
   "source": [
    "elasticNet.alpha_"
   ]
  },
  {
   "cell_type": "code",
   "execution_count": 168,
   "id": "15842e4d",
   "metadata": {},
   "outputs": [],
   "source": [
    "#test_predictions=ridge_cv_model.predict(X_test)\n",
    "Elastic_MAE = mean_absolute_error(y_test,Electic_pred)\n",
    "Elastic_RMSE = np.sqrt(mean_squared_error(y_test,Electic_pred))\n",
    "Elastic_MSE=mean_squared_error(y_test,Electic_pred)\n",
    "Elastic_r2_Score=r2_score(y_test,Electic_pred)"
   ]
  },
  {
   "cell_type": "code",
   "execution_count": 169,
   "id": "3e761149",
   "metadata": {},
   "outputs": [
    {
     "name": "stdout",
     "output_type": "stream",
     "text": [
      "Elastic_MAS:-  1.2382104408233032\n",
      "Elastic_RMSE:-  1.7054237321973003\n",
      "Elastic_MSE:-  2.908470106341769\n",
      "Elastic_r2_Score:-  0.9058078865844126\n"
     ]
    }
   ],
   "source": [
    "print(\"Elastic_MAS:- \",Elastic_MAE)\n",
    "print('Elastic_RMSE:- ',Elastic_RMSE)\n",
    "print('Elastic_MSE:- ',Elastic_MSE)\n",
    "print('Elastic_r2_Score:- ',Elastic_r2_Score)"
   ]
  },
  {
   "cell_type": "code",
   "execution_count": null,
   "id": "4a4b92e3",
   "metadata": {},
   "outputs": [],
   "source": []
  },
  {
   "cell_type": "code",
   "execution_count": null,
   "id": "5199b345",
   "metadata": {},
   "outputs": [],
   "source": []
  }
 ],
 "metadata": {
  "kernelspec": {
   "display_name": "Python 3",
   "language": "python",
   "name": "python3"
  },
  "language_info": {
   "codemirror_mode": {
    "name": "ipython",
    "version": 3
   },
   "file_extension": ".py",
   "mimetype": "text/x-python",
   "name": "python",
   "nbconvert_exporter": "python",
   "pygments_lexer": "ipython3",
   "version": "3.9.12"
  }
 },
 "nbformat": 4,
 "nbformat_minor": 5
}
