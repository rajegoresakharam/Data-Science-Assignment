{
 "cells": [
  {
   "cell_type": "markdown",
   "id": "6ed1abd2",
   "metadata": {},
   "source": [
    "# Part Two:  Feature Extraction with Scikit-Learn\n",
    "\n",
    "Let's explore the more realistic process of using sklearn to complete the tasks mentioned above!"
   ]
  },
  {
   "cell_type": "code",
   "execution_count": 1,
   "id": "68ad2a20",
   "metadata": {},
   "outputs": [],
   "source": [
    "text = ['this is a line',\n",
    "       'this is another line',\n",
    "       'its compltely diffrent line']"
   ]
  },
  {
   "cell_type": "markdown",
   "id": "66b02341",
   "metadata": {},
   "source": [
    "## CountVectorizer"
   ]
  },
  {
   "cell_type": "code",
   "execution_count": 2,
   "id": "56e4c311",
   "metadata": {},
   "outputs": [],
   "source": [
    "from sklearn.feature_extraction.text import CountVectorizer,TfidfVectorizer,TfidfTransformer"
   ]
  },
  {
   "cell_type": "code",
   "execution_count": 11,
   "id": "7cd9096b",
   "metadata": {},
   "outputs": [],
   "source": [
    "cv = CountVectorizer()"
   ]
  },
  {
   "cell_type": "code",
   "execution_count": 12,
   "id": "217e36e2",
   "metadata": {},
   "outputs": [],
   "source": [
    "sparse_txt = cv.fit_transform(text)"
   ]
  },
  {
   "cell_type": "code",
   "execution_count": 13,
   "id": "3541d6a7",
   "metadata": {},
   "outputs": [
    {
     "data": {
      "text/plain": [
       "matrix([[0, 0, 0, 1, 0, 1, 1],\n",
       "        [1, 0, 0, 1, 0, 1, 1],\n",
       "        [0, 1, 1, 0, 1, 1, 0]], dtype=int64)"
      ]
     },
     "execution_count": 13,
     "metadata": {},
     "output_type": "execute_result"
    }
   ],
   "source": [
    "sparse_txt.todense()"
   ]
  },
  {
   "cell_type": "code",
   "execution_count": 15,
   "id": "40503531",
   "metadata": {},
   "outputs": [
    {
     "data": {
      "text/plain": [
       "{'this': 6,\n",
       " 'is': 3,\n",
       " 'line': 5,\n",
       " 'another': 0,\n",
       " 'its': 4,\n",
       " 'compltely': 1,\n",
       " 'diffrent': 2}"
      ]
     },
     "execution_count": 15,
     "metadata": {},
     "output_type": "execute_result"
    }
   ],
   "source": [
    "cv.vocabulary_"
   ]
  },
  {
   "cell_type": "code",
   "execution_count": 16,
   "id": "57fc7d3c",
   "metadata": {},
   "outputs": [],
   "source": [
    "cv = CountVectorizer(stop_words='english')"
   ]
  },
  {
   "cell_type": "code",
   "execution_count": 19,
   "id": "c5982aca",
   "metadata": {},
   "outputs": [
    {
     "data": {
      "text/plain": [
       "matrix([[0, 0, 1],\n",
       "        [0, 0, 1],\n",
       "        [1, 1, 1]], dtype=int64)"
      ]
     },
     "execution_count": 19,
     "metadata": {},
     "output_type": "execute_result"
    }
   ],
   "source": [
    "cv.fit_transform(text).todense()"
   ]
  },
  {
   "cell_type": "code",
   "execution_count": 20,
   "id": "c39bf42e",
   "metadata": {},
   "outputs": [
    {
     "data": {
      "text/plain": [
       "{'line': 2, 'compltely': 0, 'diffrent': 1}"
      ]
     },
     "execution_count": 20,
     "metadata": {},
     "output_type": "execute_result"
    }
   ],
   "source": [
    "cv.vocabulary_"
   ]
  },
  {
   "cell_type": "markdown",
   "id": "0da12bd8",
   "metadata": {},
   "source": [
    "## TfidfTransformer\n",
    "\n",
    "TfidfVectorizer is used on sentences, while TfidfTransformer is used on an existing count matrix, such as one returned by CountVectorizer"
   ]
  },
  {
   "cell_type": "code",
   "execution_count": 30,
   "id": "546bf550",
   "metadata": {},
   "outputs": [],
   "source": [
    "tfid_transform = TfidfTransformer()"
   ]
  },
  {
   "cell_type": "code",
   "execution_count": 31,
   "id": "aeffe596",
   "metadata": {},
   "outputs": [],
   "source": [
    "cv = CountVectorizer()"
   ]
  },
  {
   "cell_type": "code",
   "execution_count": 32,
   "id": "08f8a1f1",
   "metadata": {},
   "outputs": [],
   "source": [
    "count = cv.fit_transform(text)"
   ]
  },
  {
   "cell_type": "code",
   "execution_count": 33,
   "id": "2aa9423f",
   "metadata": {},
   "outputs": [
    {
     "data": {
      "text/plain": [
       "<3x7 sparse matrix of type '<class 'numpy.int64'>'\n",
       "\twith 11 stored elements in Compressed Sparse Row format>"
      ]
     },
     "execution_count": 33,
     "metadata": {},
     "output_type": "execute_result"
    }
   ],
   "source": [
    "count"
   ]
  },
  {
   "cell_type": "code",
   "execution_count": 35,
   "id": "ee04db18",
   "metadata": {},
   "outputs": [],
   "source": [
    "tdid = tfid_transform.fit_transform(count)"
   ]
  },
  {
   "cell_type": "code",
   "execution_count": 36,
   "id": "66e50e74",
   "metadata": {},
   "outputs": [
    {
     "data": {
      "text/plain": [
       "matrix([[0.        , 0.        , 0.        , 0.61980538, 0.        ,\n",
       "         0.48133417, 0.61980538],\n",
       "        [0.63174505, 0.        , 0.        , 0.4804584 , 0.        ,\n",
       "         0.37311881, 0.4804584 ],\n",
       "        [0.        , 0.54645401, 0.54645401, 0.        , 0.54645401,\n",
       "         0.32274454, 0.        ]])"
      ]
     },
     "execution_count": 36,
     "metadata": {},
     "output_type": "execute_result"
    }
   ],
   "source": [
    "tdid.todense()"
   ]
  },
  {
   "cell_type": "markdown",
   "id": "90a987fd",
   "metadata": {},
   "source": [
    "## #pipeline"
   ]
  },
  {
   "cell_type": "code",
   "execution_count": 38,
   "id": "5100b9f6",
   "metadata": {},
   "outputs": [],
   "source": [
    "from sklearn.pipeline import Pipeline"
   ]
  },
  {
   "cell_type": "code",
   "execution_count": 43,
   "id": "0d3de9d4",
   "metadata": {},
   "outputs": [],
   "source": [
    "pipe = Pipeline([('cv',CountVectorizer()),('tfidf',TfidfTransformer())])"
   ]
  },
  {
   "cell_type": "code",
   "execution_count": 45,
   "id": "12e5b52d",
   "metadata": {},
   "outputs": [],
   "source": [
    "results = pipe.fit_transform(text)"
   ]
  },
  {
   "cell_type": "code",
   "execution_count": 46,
   "id": "31ae69f0",
   "metadata": {},
   "outputs": [
    {
     "data": {
      "text/plain": [
       "<3x7 sparse matrix of type '<class 'numpy.float64'>'\n",
       "\twith 11 stored elements in Compressed Sparse Row format>"
      ]
     },
     "execution_count": 46,
     "metadata": {},
     "output_type": "execute_result"
    }
   ],
   "source": [
    "results"
   ]
  },
  {
   "cell_type": "code",
   "execution_count": 47,
   "id": "f6d1e7be",
   "metadata": {},
   "outputs": [
    {
     "data": {
      "text/plain": [
       "matrix([[0.        , 0.        , 0.        , 0.61980538, 0.        ,\n",
       "         0.48133417, 0.61980538],\n",
       "        [0.63174505, 0.        , 0.        , 0.4804584 , 0.        ,\n",
       "         0.37311881, 0.4804584 ],\n",
       "        [0.        , 0.54645401, 0.54645401, 0.        , 0.54645401,\n",
       "         0.32274454, 0.        ]])"
      ]
     },
     "execution_count": 47,
     "metadata": {},
     "output_type": "execute_result"
    }
   ],
   "source": [
    "results.todense()"
   ]
  },
  {
   "cell_type": "markdown",
   "id": "d38bd6c4",
   "metadata": {},
   "source": [
    "## TfidfVectorizer\n",
    "all steps using one method"
   ]
  },
  {
   "cell_type": "code",
   "execution_count": 48,
   "id": "346848b4",
   "metadata": {},
   "outputs": [],
   "source": [
    "tfid_v  = TfidfVectorizer() "
   ]
  },
  {
   "cell_type": "code",
   "execution_count": 50,
   "id": "ea8e0baf",
   "metadata": {},
   "outputs": [],
   "source": [
    "result=tfid_v.fit_transform(text)"
   ]
  },
  {
   "cell_type": "code",
   "execution_count": 51,
   "id": "6d77f2dd",
   "metadata": {},
   "outputs": [
    {
     "data": {
      "text/plain": [
       "matrix([[0.        , 0.        , 0.        , 0.61980538, 0.        ,\n",
       "         0.48133417, 0.61980538],\n",
       "        [0.63174505, 0.        , 0.        , 0.4804584 , 0.        ,\n",
       "         0.37311881, 0.4804584 ],\n",
       "        [0.        , 0.54645401, 0.54645401, 0.        , 0.54645401,\n",
       "         0.32274454, 0.        ]])"
      ]
     },
     "execution_count": 51,
     "metadata": {},
     "output_type": "execute_result"
    }
   ],
   "source": [
    "result.todense()"
   ]
  },
  {
   "cell_type": "markdown",
   "id": "c4aea972",
   "metadata": {},
   "source": []
  },
  {
   "cell_type": "code",
   "execution_count": null,
   "id": "f8630385",
   "metadata": {},
   "outputs": [],
   "source": []
  }
 ],
 "metadata": {
  "kernelspec": {
   "display_name": "Python 3",
   "language": "python",
   "name": "python3"
  },
  "language_info": {
   "codemirror_mode": {
    "name": "ipython",
    "version": 3
   },
   "file_extension": ".py",
   "mimetype": "text/x-python",
   "name": "python",
   "nbconvert_exporter": "python",
   "pygments_lexer": "ipython3",
   "version": "3.9.12"
  }
 },
 "nbformat": 4,
 "nbformat_minor": 5
}
