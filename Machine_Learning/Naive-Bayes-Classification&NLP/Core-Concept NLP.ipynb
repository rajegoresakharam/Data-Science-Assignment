{
 "cells": [
  {
   "cell_type": "markdown",
   "id": "9a4c344a",
   "metadata": {},
   "source": [
    "# Feature Extraction"
   ]
  },
  {
   "cell_type": "code",
   "execution_count": 78,
   "id": "9cc9b682",
   "metadata": {},
   "outputs": [],
   "source": [
    "with open('textone.txt') as f:\n",
    "    txt1 = f.read().split()"
   ]
  },
  {
   "cell_type": "code",
   "execution_count": 79,
   "id": "11a75082",
   "metadata": {},
   "outputs": [],
   "source": [
    "words_one = set(txt1)"
   ]
  },
  {
   "cell_type": "code",
   "execution_count": 80,
   "id": "eb6a2cd6",
   "metadata": {},
   "outputs": [],
   "source": [
    "with open('texttwo.txt') as f:\n",
    "    txt2 = f.read().split()"
   ]
  },
  {
   "cell_type": "code",
   "execution_count": 81,
   "id": "916b4a6f",
   "metadata": {},
   "outputs": [],
   "source": [
    "words_two = set(txt2)"
   ]
  },
  {
   "cell_type": "code",
   "execution_count": 82,
   "id": "b8a6f25c",
   "metadata": {},
   "outputs": [],
   "source": [
    "words_comine = set()"
   ]
  },
  {
   "cell_type": "code",
   "execution_count": 83,
   "id": "8619861e",
   "metadata": {},
   "outputs": [],
   "source": [
    "words_comine.update(words_one)"
   ]
  },
  {
   "cell_type": "code",
   "execution_count": 84,
   "id": "8c0e9562",
   "metadata": {},
   "outputs": [
    {
     "data": {
      "text/plain": [
       "{'and', 'are', 'cute', 'dog', 'furry', 'gog', 'hoenst', 'is', 'so', 'this'}"
      ]
     },
     "execution_count": 84,
     "metadata": {},
     "output_type": "execute_result"
    }
   ],
   "source": [
    "words_comine"
   ]
  },
  {
   "cell_type": "code",
   "execution_count": 85,
   "id": "e3089d1f",
   "metadata": {},
   "outputs": [],
   "source": [
    "words_comine.update(words_two)"
   ]
  },
  {
   "cell_type": "code",
   "execution_count": 86,
   "id": "e1b8ec13",
   "metadata": {},
   "outputs": [
    {
     "data": {
      "text/plain": [
       "{'and',\n",
       " 'are',\n",
       " 'cute',\n",
       " 'danger',\n",
       " 'dog',\n",
       " 'furry',\n",
       " 'gog',\n",
       " 'good',\n",
       " 'hoenst',\n",
       " 'is',\n",
       " 'so',\n",
       " 'sometime',\n",
       " 'this'}"
      ]
     },
     "execution_count": 86,
     "metadata": {},
     "output_type": "execute_result"
    }
   ],
   "source": [
    "words_comine"
   ]
  },
  {
   "cell_type": "code",
   "execution_count": 87,
   "id": "56c4073c",
   "metadata": {},
   "outputs": [],
   "source": [
    "## add number to each word.\n",
    "word_dict = dict()"
   ]
  },
  {
   "cell_type": "code",
   "execution_count": 88,
   "id": "5392fdf6",
   "metadata": {},
   "outputs": [],
   "source": [
    "i=0\n",
    "for word in words_comine:\n",
    "    word_dict[word]=i\n",
    "    i +=1"
   ]
  },
  {
   "cell_type": "code",
   "execution_count": 89,
   "id": "4bd2346f",
   "metadata": {},
   "outputs": [
    {
     "data": {
      "text/plain": [
       "{'dog': 0,\n",
       " 'gog': 1,\n",
       " 'furry': 2,\n",
       " 'so': 3,\n",
       " 'are': 4,\n",
       " 'sometime': 5,\n",
       " 'is': 6,\n",
       " 'cute': 7,\n",
       " 'hoenst': 8,\n",
       " 'this': 9,\n",
       " 'danger': 10,\n",
       " 'good': 11,\n",
       " 'and': 12}"
      ]
     },
     "execution_count": 89,
     "metadata": {},
     "output_type": "execute_result"
    }
   ],
   "source": [
    "word_dict"
   ]
  },
  {
   "cell_type": "markdown",
   "id": "c395a741",
   "metadata": {},
   "source": [
    "## Bag of Words to Frequency Counts\n",
    "\n",
    "Now that we've encapsulated our \"entire language\" in a dictionary, let's perform *feature extraction* on each of our original documents:"
   ]
  },
  {
   "cell_type": "code",
   "execution_count": 108,
   "id": "684ce7a0",
   "metadata": {},
   "outputs": [],
   "source": [
    "one_freq = [0]* len(word_dict)\n",
    "two_freq = [0]* len(word_dict)\n",
    "all_words = ['']*len(word_dict)"
   ]
  },
  {
   "cell_type": "code",
   "execution_count": 109,
   "id": "69666012",
   "metadata": {},
   "outputs": [
    {
     "data": {
      "text/plain": [
       "[0, 0, 0, 0, 0, 0, 0, 0, 0, 0, 0, 0, 0]"
      ]
     },
     "execution_count": 109,
     "metadata": {},
     "output_type": "execute_result"
    }
   ],
   "source": [
    "one_freq"
   ]
  },
  {
   "cell_type": "code",
   "execution_count": 110,
   "id": "ba15035f",
   "metadata": {},
   "outputs": [
    {
     "data": {
      "text/plain": [
       "[0, 0, 0, 0, 0, 0, 0, 0, 0, 0, 0, 0, 0]"
      ]
     },
     "execution_count": 110,
     "metadata": {},
     "output_type": "execute_result"
    }
   ],
   "source": [
    "two_freq"
   ]
  },
  {
   "cell_type": "code",
   "execution_count": 111,
   "id": "8a0a24f7",
   "metadata": {},
   "outputs": [
    {
     "data": {
      "text/plain": [
       "['', '', '', '', '', '', '', '', '', '', '', '', '']"
      ]
     },
     "execution_count": 111,
     "metadata": {},
     "output_type": "execute_result"
    }
   ],
   "source": [
    "all_words"
   ]
  },
  {
   "cell_type": "code",
   "execution_count": 112,
   "id": "a3ca6095",
   "metadata": {},
   "outputs": [],
   "source": [
    "for words in word_dict:\n",
    "    word_ind = word_dict[words]\n",
    "    all_words[word_ind]=words"
   ]
  },
  {
   "cell_type": "code",
   "execution_count": 113,
   "id": "7d5deeef",
   "metadata": {},
   "outputs": [
    {
     "data": {
      "text/plain": [
       "['dog',\n",
       " 'gog',\n",
       " 'furry',\n",
       " 'so',\n",
       " 'are',\n",
       " 'sometime',\n",
       " 'is',\n",
       " 'cute',\n",
       " 'hoenst',\n",
       " 'this',\n",
       " 'danger',\n",
       " 'good',\n",
       " 'and']"
      ]
     },
     "execution_count": 113,
     "metadata": {},
     "output_type": "execute_result"
    }
   ],
   "source": [
    "all_words"
   ]
  },
  {
   "cell_type": "markdown",
   "id": "4d794a11",
   "metadata": {},
   "source": [
    "**Add in counts per word per doc:**"
   ]
  },
  {
   "cell_type": "code",
   "execution_count": 114,
   "id": "25a854ee",
   "metadata": {},
   "outputs": [],
   "source": [
    "with open('textone.txt') as f:\n",
    "    txt1 = f.read().lower().split()\n",
    "    \n",
    "for word in txt1:\n",
    "    word_index = word_dict[word]\n",
    "    one_freq[word_index] +=1"
   ]
  },
  {
   "cell_type": "code",
   "execution_count": 115,
   "id": "5afee4e8",
   "metadata": {},
   "outputs": [
    {
     "data": {
      "text/plain": [
       "[2, 1, 2, 1, 2, 0, 1, 1, 1, 1, 0, 0, 1]"
      ]
     },
     "execution_count": 115,
     "metadata": {},
     "output_type": "execute_result"
    }
   ],
   "source": [
    "one_freq"
   ]
  },
  {
   "cell_type": "code",
   "execution_count": 116,
   "id": "15a918cd",
   "metadata": {},
   "outputs": [],
   "source": [
    "with open('texttwo.txt') as f:\n",
    "    txt1 = f.read().lower().split()\n",
    "    \n",
    "for word in txt1:\n",
    "    word_index = word_dict[word]\n",
    "    two_freq[word_index] +=1"
   ]
  },
  {
   "cell_type": "code",
   "execution_count": 117,
   "id": "a6858234",
   "metadata": {},
   "outputs": [
    {
     "data": {
      "text/plain": [
       "[3, 0, 2, 0, 1, 2, 2, 0, 0, 0, 1, 2, 2]"
      ]
     },
     "execution_count": 117,
     "metadata": {},
     "output_type": "execute_result"
    }
   ],
   "source": [
    "two_freq"
   ]
  },
  {
   "cell_type": "code",
   "execution_count": 118,
   "id": "1a52dfb9",
   "metadata": {},
   "outputs": [],
   "source": [
    "import pandas as pd"
   ]
  },
  {
   "cell_type": "code",
   "execution_count": 119,
   "id": "ea92967f",
   "metadata": {},
   "outputs": [],
   "source": [
    "df = pd.DataFrame(data=[one_freq,two_freq],columns=all_words)"
   ]
  },
  {
   "cell_type": "code",
   "execution_count": 120,
   "id": "0810e5d0",
   "metadata": {},
   "outputs": [
    {
     "data": {
      "text/html": [
       "<div>\n",
       "<style scoped>\n",
       "    .dataframe tbody tr th:only-of-type {\n",
       "        vertical-align: middle;\n",
       "    }\n",
       "\n",
       "    .dataframe tbody tr th {\n",
       "        vertical-align: top;\n",
       "    }\n",
       "\n",
       "    .dataframe thead th {\n",
       "        text-align: right;\n",
       "    }\n",
       "</style>\n",
       "<table border=\"1\" class=\"dataframe\">\n",
       "  <thead>\n",
       "    <tr style=\"text-align: right;\">\n",
       "      <th></th>\n",
       "      <th>dog</th>\n",
       "      <th>gog</th>\n",
       "      <th>furry</th>\n",
       "      <th>so</th>\n",
       "      <th>are</th>\n",
       "      <th>sometime</th>\n",
       "      <th>is</th>\n",
       "      <th>cute</th>\n",
       "      <th>hoenst</th>\n",
       "      <th>this</th>\n",
       "      <th>danger</th>\n",
       "      <th>good</th>\n",
       "      <th>and</th>\n",
       "    </tr>\n",
       "  </thead>\n",
       "  <tbody>\n",
       "    <tr>\n",
       "      <th>0</th>\n",
       "      <td>2</td>\n",
       "      <td>1</td>\n",
       "      <td>2</td>\n",
       "      <td>1</td>\n",
       "      <td>2</td>\n",
       "      <td>0</td>\n",
       "      <td>1</td>\n",
       "      <td>1</td>\n",
       "      <td>1</td>\n",
       "      <td>1</td>\n",
       "      <td>0</td>\n",
       "      <td>0</td>\n",
       "      <td>1</td>\n",
       "    </tr>\n",
       "    <tr>\n",
       "      <th>1</th>\n",
       "      <td>3</td>\n",
       "      <td>0</td>\n",
       "      <td>2</td>\n",
       "      <td>0</td>\n",
       "      <td>1</td>\n",
       "      <td>2</td>\n",
       "      <td>2</td>\n",
       "      <td>0</td>\n",
       "      <td>0</td>\n",
       "      <td>0</td>\n",
       "      <td>1</td>\n",
       "      <td>2</td>\n",
       "      <td>2</td>\n",
       "    </tr>\n",
       "  </tbody>\n",
       "</table>\n",
       "</div>"
      ],
      "text/plain": [
       "   dog  gog  furry  so  are  sometime  is  cute  hoenst  this  danger  good  \\\n",
       "0    2    1      2   1    2         0   1     1       1     1       0     0   \n",
       "1    3    0      2   0    1         2   2     0       0     0       1     2   \n",
       "\n",
       "   and  \n",
       "0    1  \n",
       "1    2  "
      ]
     },
     "execution_count": 120,
     "metadata": {},
     "output_type": "execute_result"
    }
   ],
   "source": [
    "df"
   ]
  },
  {
   "cell_type": "code",
   "execution_count": null,
   "id": "4978c799",
   "metadata": {},
   "outputs": [],
   "source": []
  }
 ],
 "metadata": {
  "kernelspec": {
   "display_name": "Python 3",
   "language": "python",
   "name": "python3"
  },
  "language_info": {
   "codemirror_mode": {
    "name": "ipython",
    "version": 3
   },
   "file_extension": ".py",
   "mimetype": "text/x-python",
   "name": "python",
   "nbconvert_exporter": "python",
   "pygments_lexer": "ipython3",
   "version": "3.9.12"
  }
 },
 "nbformat": 4,
 "nbformat_minor": 5
}
