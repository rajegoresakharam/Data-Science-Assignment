{
 "cells": [
  {
   "cell_type": "code",
   "execution_count": 1,
   "id": "d04d14b2",
   "metadata": {},
   "outputs": [],
   "source": [
    "import numpy as np\n",
    "import pandas as pd\n",
    "import seaborn as sns\n",
    "import matplotlib.pyplot as plt"
   ]
  },
  {
   "cell_type": "code",
   "execution_count": 2,
   "id": "410e4830",
   "metadata": {},
   "outputs": [],
   "source": [
    "#!pip install seaborn"
   ]
  },
  {
   "cell_type": "code",
   "execution_count": 3,
   "id": "ab1d5ecf",
   "metadata": {},
   "outputs": [],
   "source": [
    "university=pd.read_csv('universities_data.csv')"
   ]
  },
  {
   "cell_type": "code",
   "execution_count": 4,
   "id": "f5f4a818",
   "metadata": {},
   "outputs": [],
   "source": [
    "colRename={\"Name\":\"University_name\",\"Applicants total\":'App_total',\n",
    "\"Admissions total\":'Admi_total',\n",
    "\"Enrolled total\":'Enroll_total',\n",
    "\"Number of students receiving an Associate's degree\":'NoStudRecAssDegree',\n",
    "\"Number of students receiving a Bachelor's degree\":'NoStudRecBachDegree',\n",
    "\"Number of students receiving a Master's degree\":'NoStudRecMasterDegree',\n",
    "\"Number of students receiving a Doctor's degree\":'NoStudRecDocterDegree',\n",
    "\"Number of students receiving a certificate of less than 1-year\":'NOStudfor1yrCerti',\n",
    "\"Number of students receiving a certificate of 1 but less than 4-years\":'NoOfStudLess4Certi',\n",
    "\"Number of students receiving a Postbaccalaureate or Post-master's certificate\":'NoStudPostMasterCerti',\n",
    "\"Percent admitted - total\":'PercentAdmitted-total',\n",
    "\"Admissions yield - total\":'AdmissionsYield-total',\n",
    "\"Tuition and fees, 2010-11\":'Tuition&fees-2010-11',\n",
    "\"Tuition and fees, 2011-12\":'Tuition&fees-2011-12',\n",
    "\"Tuition and fees, 2012-13\":'Tuition&fees-2012-13',\n",
    "\"Tuition and fees, 2013-14\":'Tuition&fees-2013-14',\n",
    "\"Total price for in-state students living on campus 2013-14\":'totalPriceInStateStud2013-14',\n",
    "\"Total price for out-of-state students living on campus 2013-14\":'totalPriceInStateStud2013-14',\n",
    "\"State abbreviation\":'State_abbreviation',\n",
    "\"Graduation rate - Bachelor degree within 4 years, total\":'Graduation%within4yrBachlor',\n",
    "\"Percent of freshmen receiving any financial aid\":'PFRecAnyFinancialAid',\n",
    "\"Percent of freshmen receiving student loan aid\":'StudLoan',\n",
    "\"Percent of freshmen receiving federal student loans\":'RecAnyFederalLoan',\n",
    "\"Percent of freshmen receiving other loan aid\":'AnyotherLoan',\n",
    "\"Total enrollment\":'TotalEnrollment'}"
   ]
  },
  {
   "cell_type": "code",
   "execution_count": 5,
   "id": "c0d79dc9",
   "metadata": {},
   "outputs": [],
   "source": [
    "col=['Name','App_total','Admissions total','Enrolled total',\n",
    "     \"Number of students receiving an Associate's degree\",\n",
    "\"Number of students receiving a Bachelor's degree\",\n",
    "\"Number of students receiving a Master's degree\",\n",
    "\"Number of students receiving a Doctor's degree\",\n",
    "\"Number of students receiving a certificate of less than 1-year\",\n",
    "\"Number of students receiving a certificate of 1 but less than 4-years\",\n",
    "\"Number of students receiving a Postbaccalaureate or Post-master's certificate\",\n",
    "     \"Percent admitted - total\",\n",
    "\"Admissions yield - total\",\n",
    "\"Tuition and fees, 2010-11\",\n",
    "\"Tuition and fees, 2011-12\",\n",
    "\"Tuition and fees, 2012-13\",\n",
    "\"Tuition and fees, 2013-14\",\n",
    "\"Total price for in-state students living on campus 2013-14\",\n",
    "\"Total price for out-of-state students living on campus 2013-14\",\n",
    "\"State abbreviation\",\n",
    "\"Graduation rate - Bachelor degree within 4 years, total\",\n",
    "\"Percent of freshmen receiving any financial aid\",\"Percent of freshmen receiving student loan aid\",\n",
    "\"Percent of freshmen receiving federal student loans\",\n",
    "\"Percent of freshmen receiving other loan aid\",\n",
    "\"Endowment assets (year end) per FTE enrollment (GASB)\",\n",
    "\"Endowment assets (year end) per FTE enrollment (FASB)\",\"Total enrollment\"]"
   ]
  },
  {
   "cell_type": "code",
   "execution_count": 6,
   "id": "7d26836d",
   "metadata": {},
   "outputs": [],
   "source": [
    "university.rename(columns=colRename,inplace=True)"
   ]
  },
  {
   "cell_type": "code",
   "execution_count": 7,
   "id": "77b1ba01",
   "metadata": {},
   "outputs": [
    {
     "name": "stdout",
     "output_type": "stream",
     "text": [
      "<class 'pandas.core.frame.DataFrame'>\n",
      "RangeIndex: 1534 entries, 0 to 1533\n",
      "Data columns (total 28 columns):\n",
      " #   Column                        Non-Null Count  Dtype  \n",
      "---  ------                        --------------  -----  \n",
      " 0   University_name               1534 non-null   object \n",
      " 1   App_total                     1377 non-null   float64\n",
      " 2   Admi_total                    1377 non-null   float64\n",
      " 3   Enroll_total                  1377 non-null   float64\n",
      " 4   NoStudRecAssDegree            1532 non-null   float64\n",
      " 5   NoStudRecBachDegree           1532 non-null   float64\n",
      " 6   NoStudRecMasterDegree         1532 non-null   float64\n",
      " 7   NoStudRecDocterDegree         1532 non-null   float64\n",
      " 8   NOStudfor1yrCerti             1532 non-null   float64\n",
      " 9   NoOfStudLess4Certi            1532 non-null   float64\n",
      " 10  NoStudPostMasterCerti         1532 non-null   float64\n",
      " 11  PercentAdmitted-total         1376 non-null   float64\n",
      " 12  AdmissionsYield-total         1376 non-null   float64\n",
      " 13  Tuition&fees-2010-11          1490 non-null   float64\n",
      " 14  Tuition&fees-2011-12          1490 non-null   float64\n",
      " 15  Tuition&fees-2012-13          1492 non-null   float64\n",
      " 16  Tuition&fees-2013-14          1497 non-null   float64\n",
      " 17  totalPriceInStateStud2013-14  1400 non-null   float64\n",
      " 18  totalPriceInStateStud2013-14  1400 non-null   float64\n",
      " 19  totalPriceInStateStud2013-14  1400 non-null   float64\n",
      " 20  totalPriceInStateStud2013-14  1400 non-null   float64\n",
      " 21  State_abbreviation            1534 non-null   object \n",
      " 22  Graduation%within4yrBachlor   1476 non-null   float64\n",
      " 23  PFRecAnyFinancialAid          1492 non-null   float64\n",
      " 24  StudLoan                      1492 non-null   float64\n",
      " 25  RecAnyFederalLoan             1492 non-null   float64\n",
      " 26  AnyotherLoan                  1492 non-null   float64\n",
      " 27  TotalEnrollment               1532 non-null   float64\n",
      "dtypes: float64(26), object(2)\n",
      "memory usage: 335.7+ KB\n"
     ]
    }
   ],
   "source": [
    "university[colRename.values()].info()"
   ]
  },
  {
   "cell_type": "code",
   "execution_count": 19,
   "id": "89985e96",
   "metadata": {},
   "outputs": [
    {
     "data": {
      "text/plain": [
       "App_total                       157\n",
       "Admi_total                      157\n",
       "Enroll_total                    157\n",
       "NoStudRecAssDegree                2\n",
       "NoStudRecBachDegree               2\n",
       "NoStudRecMasterDegree             2\n",
       "NoStudRecDocterDegree             2\n",
       "NOStudfor1yrCerti                 2\n",
       "NoOfStudLess4Certi                2\n",
       "NoStudPostMasterCerti             2\n",
       "PercentAdmitted-total           158\n",
       "AdmissionsYield-total           158\n",
       "Tuition&fees-2010-11             44\n",
       "Tuition&fees-2011-12             44\n",
       "Tuition&fees-2012-13             42\n",
       "Tuition&fees-2013-14             37\n",
       "totalPriceInStateStud2013-14    134\n",
       "totalPriceInStateStud2013-14    134\n",
       "totalPriceInStateStud2013-14    134\n",
       "totalPriceInStateStud2013-14    134\n",
       "Graduation%within4yrBachlor      58\n",
       "PFRecAnyFinancialAid             42\n",
       "StudLoan                         42\n",
       "RecAnyFederalLoan                42\n",
       "AnyotherLoan                     42\n",
       "TotalEnrollment                   2\n",
       "Name: 0, dtype: int64"
      ]
     },
     "execution_count": 19,
     "metadata": {},
     "output_type": "execute_result"
    }
   ],
   "source": [
    "df1=pd.DataFrame(university[colRename.values()].isnull().sum())\n",
    "df1[df1.values >1][0]"
   ]
  },
  {
   "cell_type": "code",
   "execution_count": null,
   "id": "34246dd5",
   "metadata": {},
   "outputs": [],
   "source": []
  },
  {
   "cell_type": "code",
   "execution_count": 23,
   "id": "ed391a60",
   "metadata": {},
   "outputs": [
    {
     "ename": "AttributeError",
     "evalue": "'DataFrame' object has no attribute 'key'",
     "output_type": "error",
     "traceback": [
      "\u001b[1;31m---------------------------------------------------------------------------\u001b[0m",
      "\u001b[1;31mAttributeError\u001b[0m                            Traceback (most recent call last)",
      "\u001b[1;32m<ipython-input-23-0fb63041ec3d>\u001b[0m in \u001b[0;36m<module>\u001b[1;34m\u001b[0m\n\u001b[0;32m      1\u001b[0m \u001b[0mplt\u001b[0m\u001b[1;33m.\u001b[0m\u001b[0mfigure\u001b[0m\u001b[1;33m(\u001b[0m\u001b[0mfigsize\u001b[0m\u001b[1;33m=\u001b[0m\u001b[1;33m(\u001b[0m\u001b[1;36m8\u001b[0m\u001b[1;33m,\u001b[0m\u001b[1;36m5\u001b[0m\u001b[1;33m)\u001b[0m\u001b[1;33m)\u001b[0m\u001b[1;33m\u001b[0m\u001b[0m\n\u001b[1;32m----> 2\u001b[1;33m \u001b[0msns\u001b[0m\u001b[1;33m.\u001b[0m\u001b[0mbarplot\u001b[0m\u001b[1;33m(\u001b[0m\u001b[0mx\u001b[0m\u001b[1;33m=\u001b[0m\u001b[0mdf1\u001b[0m\u001b[1;33m[\u001b[0m\u001b[0mdf1\u001b[0m\u001b[1;33m.\u001b[0m\u001b[0mvalues\u001b[0m \u001b[1;33m>\u001b[0m\u001b[1;36m1\u001b[0m\u001b[1;33m]\u001b[0m\u001b[1;33m[\u001b[0m\u001b[1;36m0\u001b[0m\u001b[1;33m]\u001b[0m\u001b[1;33m,\u001b[0m\u001b[0my\u001b[0m\u001b[1;33m=\u001b[0m\u001b[0mdf1\u001b[0m\u001b[1;33m.\u001b[0m\u001b[0mkey\u001b[0m\u001b[1;33m(\u001b[0m\u001b[1;33m)\u001b[0m\u001b[1;33m)\u001b[0m\u001b[1;33m\u001b[0m\u001b[0m\n\u001b[0m",
      "\u001b[1;32m~\\AppData\\Local\\Programs\\Python\\Python36\\lib\\site-packages\\pandas\\core\\generic.py\u001b[0m in \u001b[0;36m__getattr__\u001b[1;34m(self, name)\u001b[0m\n\u001b[0;32m   5139\u001b[0m             \u001b[1;32mif\u001b[0m \u001b[0mself\u001b[0m\u001b[1;33m.\u001b[0m\u001b[0m_info_axis\u001b[0m\u001b[1;33m.\u001b[0m\u001b[0m_can_hold_identifiers_and_holds_name\u001b[0m\u001b[1;33m(\u001b[0m\u001b[0mname\u001b[0m\u001b[1;33m)\u001b[0m\u001b[1;33m:\u001b[0m\u001b[1;33m\u001b[0m\u001b[0m\n\u001b[0;32m   5140\u001b[0m                 \u001b[1;32mreturn\u001b[0m \u001b[0mself\u001b[0m\u001b[1;33m[\u001b[0m\u001b[0mname\u001b[0m\u001b[1;33m]\u001b[0m\u001b[1;33m\u001b[0m\u001b[0m\n\u001b[1;32m-> 5141\u001b[1;33m             \u001b[1;32mreturn\u001b[0m \u001b[0mobject\u001b[0m\u001b[1;33m.\u001b[0m\u001b[0m__getattribute__\u001b[0m\u001b[1;33m(\u001b[0m\u001b[0mself\u001b[0m\u001b[1;33m,\u001b[0m \u001b[0mname\u001b[0m\u001b[1;33m)\u001b[0m\u001b[1;33m\u001b[0m\u001b[0m\n\u001b[0m\u001b[0;32m   5142\u001b[0m \u001b[1;33m\u001b[0m\u001b[0m\n\u001b[0;32m   5143\u001b[0m     \u001b[1;32mdef\u001b[0m \u001b[0m__setattr__\u001b[0m\u001b[1;33m(\u001b[0m\u001b[0mself\u001b[0m\u001b[1;33m,\u001b[0m \u001b[0mname\u001b[0m\u001b[1;33m:\u001b[0m \u001b[0mstr\u001b[0m\u001b[1;33m,\u001b[0m \u001b[0mvalue\u001b[0m\u001b[1;33m)\u001b[0m \u001b[1;33m->\u001b[0m \u001b[1;32mNone\u001b[0m\u001b[1;33m:\u001b[0m\u001b[1;33m\u001b[0m\u001b[0m\n",
      "\u001b[1;31mAttributeError\u001b[0m: 'DataFrame' object has no attribute 'key'"
     ]
    },
    {
     "data": {
      "text/plain": [
       "<Figure size 576x360 with 0 Axes>"
      ]
     },
     "metadata": {},
     "output_type": "display_data"
    }
   ],
   "source": [
    "plt.figure(figsize=(8,5))\n",
    "sns.barplot(x=df1[df1.values >1][0],y=df1.key())"
   ]
  },
  {
   "cell_type": "code",
   "execution_count": null,
   "id": "d1aeb081",
   "metadata": {},
   "outputs": [],
   "source": []
  },
  {
   "cell_type": "code",
   "execution_count": null,
   "id": "c835c298",
   "metadata": {},
   "outputs": [],
   "source": []
  },
  {
   "cell_type": "code",
   "execution_count": null,
   "id": "66c7b11e",
   "metadata": {},
   "outputs": [],
   "source": []
  },
  {
   "cell_type": "code",
   "execution_count": 10,
   "id": "443b0e20",
   "metadata": {},
   "outputs": [
    {
     "ename": "KeyError",
     "evalue": "'Name'",
     "output_type": "error",
     "traceback": [
      "\u001b[1;31m---------------------------------------------------------------------------\u001b[0m",
      "\u001b[1;31mKeyError\u001b[0m                                  Traceback (most recent call last)",
      "\u001b[1;32m~\\AppData\\Local\\Programs\\Python\\Python36\\lib\\site-packages\\pandas\\core\\indexes\\base.py\u001b[0m in \u001b[0;36mget_loc\u001b[1;34m(self, key, method, tolerance)\u001b[0m\n\u001b[0;32m   2897\u001b[0m             \u001b[1;32mtry\u001b[0m\u001b[1;33m:\u001b[0m\u001b[1;33m\u001b[0m\u001b[0m\n\u001b[1;32m-> 2898\u001b[1;33m                 \u001b[1;32mreturn\u001b[0m \u001b[0mself\u001b[0m\u001b[1;33m.\u001b[0m\u001b[0m_engine\u001b[0m\u001b[1;33m.\u001b[0m\u001b[0mget_loc\u001b[0m\u001b[1;33m(\u001b[0m\u001b[0mcasted_key\u001b[0m\u001b[1;33m)\u001b[0m\u001b[1;33m\u001b[0m\u001b[0m\n\u001b[0m\u001b[0;32m   2899\u001b[0m             \u001b[1;32mexcept\u001b[0m \u001b[0mKeyError\u001b[0m \u001b[1;32mas\u001b[0m \u001b[0merr\u001b[0m\u001b[1;33m:\u001b[0m\u001b[1;33m\u001b[0m\u001b[0m\n",
      "\u001b[1;32mpandas\\_libs\\index.pyx\u001b[0m in \u001b[0;36mpandas._libs.index.IndexEngine.get_loc\u001b[1;34m()\u001b[0m\n",
      "\u001b[1;32mpandas\\_libs\\index.pyx\u001b[0m in \u001b[0;36mpandas._libs.index.IndexEngine.get_loc\u001b[1;34m()\u001b[0m\n",
      "\u001b[1;32mpandas\\_libs\\index.pyx\u001b[0m in \u001b[0;36mpandas._libs.index.IndexEngine._get_loc_duplicates\u001b[1;34m()\u001b[0m\n",
      "\u001b[1;32mpandas\\_libs\\index.pyx\u001b[0m in \u001b[0;36mpandas._libs.index.IndexEngine._maybe_get_bool_indexer\u001b[1;34m()\u001b[0m\n",
      "\u001b[1;32mpandas\\_libs\\index.pyx\u001b[0m in \u001b[0;36mpandas._libs.index.IndexEngine._unpack_bool_indexer\u001b[1;34m()\u001b[0m\n",
      "\u001b[1;31mKeyError\u001b[0m: 'Name'",
      "\nThe above exception was the direct cause of the following exception:\n",
      "\u001b[1;31mKeyError\u001b[0m                                  Traceback (most recent call last)",
      "\u001b[1;32m<ipython-input-10-8dc3b5f11ade>\u001b[0m in \u001b[0;36m<module>\u001b[1;34m\u001b[0m\n\u001b[1;32m----> 1\u001b[1;33m \u001b[0muniversity\u001b[0m\u001b[1;33m[\u001b[0m\u001b[1;34m'Name'\u001b[0m\u001b[1;33m]\u001b[0m\u001b[1;33m.\u001b[0m\u001b[0mnunique\u001b[0m\u001b[1;33m(\u001b[0m\u001b[1;33m)\u001b[0m\u001b[1;33m\u001b[0m\u001b[0m\n\u001b[0m",
      "\u001b[1;32m~\\AppData\\Local\\Programs\\Python\\Python36\\lib\\site-packages\\pandas\\core\\frame.py\u001b[0m in \u001b[0;36m__getitem__\u001b[1;34m(self, key)\u001b[0m\n\u001b[0;32m   2904\u001b[0m             \u001b[1;32mif\u001b[0m \u001b[0mself\u001b[0m\u001b[1;33m.\u001b[0m\u001b[0mcolumns\u001b[0m\u001b[1;33m.\u001b[0m\u001b[0mnlevels\u001b[0m \u001b[1;33m>\u001b[0m \u001b[1;36m1\u001b[0m\u001b[1;33m:\u001b[0m\u001b[1;33m\u001b[0m\u001b[0m\n\u001b[0;32m   2905\u001b[0m                 \u001b[1;32mreturn\u001b[0m \u001b[0mself\u001b[0m\u001b[1;33m.\u001b[0m\u001b[0m_getitem_multilevel\u001b[0m\u001b[1;33m(\u001b[0m\u001b[0mkey\u001b[0m\u001b[1;33m)\u001b[0m\u001b[1;33m\u001b[0m\u001b[0m\n\u001b[1;32m-> 2906\u001b[1;33m             \u001b[0mindexer\u001b[0m \u001b[1;33m=\u001b[0m \u001b[0mself\u001b[0m\u001b[1;33m.\u001b[0m\u001b[0mcolumns\u001b[0m\u001b[1;33m.\u001b[0m\u001b[0mget_loc\u001b[0m\u001b[1;33m(\u001b[0m\u001b[0mkey\u001b[0m\u001b[1;33m)\u001b[0m\u001b[1;33m\u001b[0m\u001b[0m\n\u001b[0m\u001b[0;32m   2907\u001b[0m             \u001b[1;32mif\u001b[0m \u001b[0mis_integer\u001b[0m\u001b[1;33m(\u001b[0m\u001b[0mindexer\u001b[0m\u001b[1;33m)\u001b[0m\u001b[1;33m:\u001b[0m\u001b[1;33m\u001b[0m\u001b[0m\n\u001b[0;32m   2908\u001b[0m                 \u001b[0mindexer\u001b[0m \u001b[1;33m=\u001b[0m \u001b[1;33m[\u001b[0m\u001b[0mindexer\u001b[0m\u001b[1;33m]\u001b[0m\u001b[1;33m\u001b[0m\u001b[0m\n",
      "\u001b[1;32m~\\AppData\\Local\\Programs\\Python\\Python36\\lib\\site-packages\\pandas\\core\\indexes\\base.py\u001b[0m in \u001b[0;36mget_loc\u001b[1;34m(self, key, method, tolerance)\u001b[0m\n\u001b[0;32m   2898\u001b[0m                 \u001b[1;32mreturn\u001b[0m \u001b[0mself\u001b[0m\u001b[1;33m.\u001b[0m\u001b[0m_engine\u001b[0m\u001b[1;33m.\u001b[0m\u001b[0mget_loc\u001b[0m\u001b[1;33m(\u001b[0m\u001b[0mcasted_key\u001b[0m\u001b[1;33m)\u001b[0m\u001b[1;33m\u001b[0m\u001b[0m\n\u001b[0;32m   2899\u001b[0m             \u001b[1;32mexcept\u001b[0m \u001b[0mKeyError\u001b[0m \u001b[1;32mas\u001b[0m \u001b[0merr\u001b[0m\u001b[1;33m:\u001b[0m\u001b[1;33m\u001b[0m\u001b[0m\n\u001b[1;32m-> 2900\u001b[1;33m                 \u001b[1;32mraise\u001b[0m \u001b[0mKeyError\u001b[0m\u001b[1;33m(\u001b[0m\u001b[0mkey\u001b[0m\u001b[1;33m)\u001b[0m \u001b[1;32mfrom\u001b[0m \u001b[0merr\u001b[0m\u001b[1;33m\u001b[0m\u001b[0m\n\u001b[0m\u001b[0;32m   2901\u001b[0m \u001b[1;33m\u001b[0m\u001b[0m\n\u001b[0;32m   2902\u001b[0m         \u001b[1;32mif\u001b[0m \u001b[0mtolerance\u001b[0m \u001b[1;32mis\u001b[0m \u001b[1;32mnot\u001b[0m \u001b[1;32mNone\u001b[0m\u001b[1;33m:\u001b[0m\u001b[1;33m\u001b[0m\u001b[0m\n",
      "\u001b[1;31mKeyError\u001b[0m: 'Name'"
     ]
    }
   ],
   "source": [
    "university['Name'].nunique()"
   ]
  },
  {
   "cell_type": "code",
   "execution_count": null,
   "id": "222d1e16",
   "metadata": {},
   "outputs": [],
   "source": [
    " for i in university.columns:\n",
    "    print(i)"
   ]
  },
  {
   "cell_type": "code",
   "execution_count": null,
   "id": "8f8b08b1",
   "metadata": {},
   "outputs": [],
   "source": [
    "university.head()"
   ]
  },
  {
   "cell_type": "code",
   "execution_count": null,
   "id": "c83a434e",
   "metadata": {},
   "outputs": [],
   "source": []
  },
  {
   "cell_type": "code",
   "execution_count": null,
   "id": "2a505c13",
   "metadata": {},
   "outputs": [],
   "source": []
  },
  {
   "cell_type": "code",
   "execution_count": null,
   "id": "19e22086",
   "metadata": {},
   "outputs": [],
   "source": []
  },
  {
   "cell_type": "code",
   "execution_count": null,
   "id": "1b20b04f",
   "metadata": {},
   "outputs": [],
   "source": []
  },
  {
   "cell_type": "code",
   "execution_count": null,
   "id": "a5a3ce8b",
   "metadata": {},
   "outputs": [],
   "source": []
  },
  {
   "cell_type": "code",
   "execution_count": null,
   "id": "f83ebdfa",
   "metadata": {},
   "outputs": [],
   "source": []
  },
  {
   "cell_type": "code",
   "execution_count": null,
   "id": "05fe31b6",
   "metadata": {},
   "outputs": [],
   "source": []
  }
 ],
 "metadata": {
  "kernelspec": {
   "display_name": "Python 3.6.5 64-bit",
   "language": "python",
   "name": "python36564bit0a976c50425d4fadba2e480af7058a40"
  },
  "language_info": {
   "codemirror_mode": {
    "name": "ipython",
    "version": 3
   },
   "file_extension": ".py",
   "mimetype": "text/x-python",
   "name": "python",
   "nbconvert_exporter": "python",
   "pygments_lexer": "ipython3",
   "version": "3.6.5"
  }
 },
 "nbformat": 4,
 "nbformat_minor": 5
}
